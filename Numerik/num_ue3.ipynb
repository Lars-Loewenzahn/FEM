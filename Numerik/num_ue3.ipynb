{
 "cells": [
  {
   "cell_type": "markdown",
   "metadata": {},
   "source": [
    "Lösung zum Übungsblatt 3\n",
    "\n",
    "%%%%%%%%%%%%%%%%%%%%%%%%%%%%%%%\n",
    "\n",
    "% Namen der Gruppenmitglieder:\n",
    "\n",
    "% 1. Lars Dickmann\n",
    "\n",
    "% 2. ...\n",
    "\n",
    "% 3. ...\n",
    "\n",
    "%%%%%%%%%%%%%%%%%%%%%%%%%%%%%%%\n",
    "\n",
    "\n",
    "Python                   3.12.2\n",
    "\n",
    "sympy                    1.13.0\n",
    "\n",
    "scipy                    1.14.0\n",
    "\n",
    "numpy                    1.26.4\n"
   ]
  },
  {
   "cell_type": "code",
   "execution_count": 145,
   "metadata": {},
   "outputs": [],
   "source": [
    "import sympy as sp\n",
    "import scipy as scp\n",
    "import numpy as np"
   ]
  },
  {
   "cell_type": "code",
   "execution_count": null,
   "metadata": {},
   "outputs": [],
   "source": [
    "pip list"
   ]
  },
  {
   "cell_type": "markdown",
   "metadata": {},
   "source": [
    "Theorieaufgabe 1: \n",
    "Im Folgenden nutze ich sympy und Latex zum Darstellen der Mathematischen zusammenänge. Ich dennoch versuchen so zu arbeiten, als würde ich Handschriftlich mit Taschenrechner arbeiten um das Resultat nicht zu sehr zu verzerren."
   ]
  },
  {
   "cell_type": "markdown",
   "metadata": {},
   "source": [
    "1.1. Ermitteln Sie die Gleitkommadarstellungen der Dezimalzahlen 275, 0.1, 12.125 im Dualsystem mittels Division mit Rest und Multiplikation. Geben Sie anschließend die jeweiligen normalisierte Gleitkommadarstellung im Dualsystem an."
   ]
  },
  {
   "cell_type": "code",
   "execution_count": 147,
   "metadata": {},
   "outputs": [],
   "source": [
    "def display_as_gleitkommazahl(zahl):\n",
    "    print(f\"Im Folgenden wird die binäre Gleitkommazahl von der Dezimalzahl n = {zahl} dargestellt\")\n",
    "    print(\"Als erstes möchte ich die größte Potenz von 2 finden, die kleiner als die Zahl ist.\")\n",
    "    n = sp.symbols('n')\n",
    "    expr = sp.log(n)/sp.log(2)\n",
    "    answer = \" \" + str(expr) + \" = \" + str(expr.evalf(subs={n: zahl}))\n",
    "    print(answer)\n",
    "    exponent = expr.evalf(subs={n: zahl})\n",
    "    if exponent > 0:\n",
    "        exponent = int(exponent)\n",
    "    else:\n",
    "        exponent = int(exponent) - 1\n",
    "    shift = exponent\n",
    "    print(\"Somit ist 2^\" + str(int(expr.evalf(subs={n: zahl}))) + \" = \" + str(2**int(expr.evalf(subs={n: zahl}))) + \" < \" + str(zahl) + \".\")\n",
    "    \n",
    "    binary = \"\"\n",
    "    counter = 0\n",
    "\n",
    "    while(zahl > 0 and counter < 50):\n",
    "        binarstelle = int(zahl/2**exponent)\n",
    "        next_zahl = zahl % 2**exponent\n",
    "        binary = binary + str(binarstelle)\n",
    "        print(f\"{zahl:10} : 2^{exponent:<4} = {binarstelle} + Rest {next_zahl}\")\n",
    "        zahl = next_zahl\n",
    "        exponent = exponent - 1\n",
    "        counter = counter + 1\n",
    "\n",
    "        if exponent == -1:\n",
    "            binary = binary + \".\"\n",
    "\n",
    "    print(\"Somit ist die Binäre Zahl \" + binary)\n",
    "    print(\"Die Zahl wird nun normalisiert, indem der Punkt verschoben wird.\")\n",
    "    binary = binary.replace(\".\", \"\")\n",
    "    binary = binary[:1] + \".\" + binary[1:]\n",
    "    print(\"Die normalisierte Binärzahl ist \" + binary + \" *2^\" + str(shift))\n",
    "    return binary, shift\n",
    "\n",
    "def display_as_dezimal(binary, shift):\n",
    "    zahl = 0\n",
    "    binary = binary.replace(\".\", \"\")\n",
    "    for i, ziffer in enumerate(binary):\n",
    "        zahl = zahl + int(ziffer)*2**(shift - i)\n",
    "    print(\"Zum Testen mache ich die Rückwandlung in eine Dezimalzahl.\")\n",
    "    print(\"Die Binärzahl \" + str(binary[:1]) + \".\"+str(binary[1:]) + \" *2^\" + str(shift) + \" entspricht der Dezimalzahl \" + str(zahl))\n"
   ]
  },
  {
   "cell_type": "code",
   "execution_count": 148,
   "metadata": {},
   "outputs": [
    {
     "name": "stdout",
     "output_type": "stream",
     "text": [
      "Im Folgenden wird die binäre Gleitkommazahl von der Dezimalzahl n = 275 dargestellt\n",
      "Als erstes möchte ich die größte Potenz von 2 finden, die kleiner als die Zahl ist.\n",
      " log(n)/log(2) = 8.10328780841202\n",
      "Somit ist 2^8 = 256 < 275.\n",
      "       275 : 2^8    = 1 + Rest 19\n",
      "        19 : 2^7    = 0 + Rest 19\n",
      "        19 : 2^6    = 0 + Rest 19\n",
      "        19 : 2^5    = 0 + Rest 19\n",
      "        19 : 2^4    = 1 + Rest 3\n",
      "         3 : 2^3    = 0 + Rest 3\n",
      "         3 : 2^2    = 0 + Rest 3\n",
      "         3 : 2^1    = 1 + Rest 1\n",
      "         1 : 2^0    = 1 + Rest 0\n",
      "Somit ist die Binäre Zahl 100010011.\n",
      "Die Zahl wird nun normalisiert, indem der Punkt verschoben wird.\n",
      "Die normalisierte Binärzahl ist 1.00010011 *2^8\n",
      "Zum Testen mache ich die Rückwandlung in eine Dezimalzahl.\n",
      "Die Binärzahl 1.00010011 *2^8 entspricht der Dezimalzahl 275\n"
     ]
    }
   ],
   "source": [
    "res = display_as_gleitkommazahl(275)\n",
    "display_as_dezimal(res[0], res[1])"
   ]
  },
  {
   "cell_type": "code",
   "execution_count": 149,
   "metadata": {},
   "outputs": [
    {
     "name": "stdout",
     "output_type": "stream",
     "text": [
      "Im Folgenden wird die binäre Gleitkommazahl von der Dezimalzahl n = 0.1 dargestellt\n",
      "Als erstes möchte ich die größte Potenz von 2 finden, die kleiner als die Zahl ist.\n",
      " log(n)/log(2) = -3.32192809488736\n",
      "Somit ist 2^-3 = 0.125 < 0.1.\n",
      "       0.1 : 2^-4   = 1 + Rest 0.037500000000000006\n",
      "0.037500000000000006 : 2^-5   = 1 + Rest 0.0062500000000000056\n",
      "0.0062500000000000056 : 2^-6   = 0 + Rest 0.0062500000000000056\n",
      "0.0062500000000000056 : 2^-7   = 0 + Rest 0.0062500000000000056\n",
      "0.0062500000000000056 : 2^-8   = 1 + Rest 0.0023437500000000056\n",
      "0.0023437500000000056 : 2^-9   = 1 + Rest 0.00039062500000000555\n",
      "0.00039062500000000555 : 2^-10  = 0 + Rest 0.00039062500000000555\n",
      "0.00039062500000000555 : 2^-11  = 0 + Rest 0.00039062500000000555\n",
      "0.00039062500000000555 : 2^-12  = 1 + Rest 0.00014648437500000555\n",
      "0.00014648437500000555 : 2^-13  = 1 + Rest 2.441406250000555e-05\n",
      "2.441406250000555e-05 : 2^-14  = 0 + Rest 2.441406250000555e-05\n",
      "2.441406250000555e-05 : 2^-15  = 0 + Rest 2.441406250000555e-05\n",
      "2.441406250000555e-05 : 2^-16  = 1 + Rest 9.155273437505551e-06\n",
      "9.155273437505551e-06 : 2^-17  = 1 + Rest 1.5258789062555511e-06\n",
      "1.5258789062555511e-06 : 2^-18  = 0 + Rest 1.5258789062555511e-06\n",
      "1.5258789062555511e-06 : 2^-19  = 0 + Rest 1.5258789062555511e-06\n",
      "1.5258789062555511e-06 : 2^-20  = 1 + Rest 5.722045898493011e-07\n",
      "5.722045898493011e-07 : 2^-21  = 1 + Rest 9.536743164617612e-08\n",
      "9.536743164617612e-08 : 2^-22  = 0 + Rest 9.536743164617612e-08\n",
      "9.536743164617612e-08 : 2^-23  = 0 + Rest 9.536743164617612e-08\n",
      "9.536743164617612e-08 : 2^-24  = 1 + Rest 3.576278687078549e-08\n",
      "3.576278687078549e-08 : 2^-25  = 1 + Rest 5.960464483090178e-09\n",
      "5.960464483090178e-09 : 2^-26  = 0 + Rest 5.960464483090178e-09\n",
      "5.960464483090178e-09 : 2^-27  = 0 + Rest 5.960464483090178e-09\n",
      "5.960464483090178e-09 : 2^-28  = 1 + Rest 2.2351741846282636e-09\n",
      "2.2351741846282636e-09 : 2^-29  = 1 + Rest 3.7252903539730653e-10\n",
      "3.7252903539730653e-10 : 2^-30  = 0 + Rest 3.7252903539730653e-10\n",
      "3.7252903539730653e-10 : 2^-31  = 0 + Rest 3.7252903539730653e-10\n",
      "3.7252903539730653e-10 : 2^-32  = 1 + Rest 1.396983917434369e-10\n",
      "1.396983917434369e-10 : 2^-33  = 1 + Rest 2.3283069916502086e-11\n",
      "2.3283069916502086e-11 : 2^-34  = 0 + Rest 2.3283069916502086e-11\n",
      "2.3283069916502086e-11 : 2^-35  = 0 + Rest 2.3283069916502086e-11\n",
      "2.3283069916502086e-11 : 2^-36  = 1 + Rest 8.731154688135234e-12\n",
      "8.731154688135234e-12 : 2^-37  = 1 + Rest 1.4551970739518083e-12\n",
      "1.4551970739518083e-12 : 2^-38  = 0 + Rest 1.4551970739518083e-12\n",
      "1.4551970739518083e-12 : 2^-39  = 0 + Rest 1.4551970739518083e-12\n",
      "1.4551970739518083e-12 : 2^-40  = 1 + Rest 5.457023721788801e-13\n",
      "5.457023721788801e-13 : 2^-41  = 1 + Rest 9.095502129241595e-14\n",
      "9.095502129241595e-14 : 2^-42  = 0 + Rest 9.095502129241595e-14\n",
      "9.095502129241595e-14 : 2^-43  = 0 + Rest 9.095502129241595e-14\n",
      "9.095502129241595e-14 : 2^-44  = 1 + Rest 3.4111602431607935e-14\n",
      "3.4111602431607935e-14 : 2^-45  = 1 + Rest 5.689893001203927e-15\n",
      "5.689893001203927e-15 : 2^-46  = 0 + Rest 5.689893001203927e-15\n",
      "5.689893001203927e-15 : 2^-47  = 0 + Rest 5.689893001203927e-15\n",
      "5.689893001203927e-15 : 2^-48  = 1 + Rest 2.1371793224034263e-15\n",
      "2.1371793224034263e-15 : 2^-49  = 1 + Rest 3.608224830031759e-16\n",
      "3.608224830031759e-16 : 2^-50  = 0 + Rest 3.608224830031759e-16\n",
      "3.608224830031759e-16 : 2^-51  = 0 + Rest 3.608224830031759e-16\n",
      "3.608224830031759e-16 : 2^-52  = 1 + Rest 1.3877787807814457e-16\n",
      "1.3877787807814457e-16 : 2^-53  = 1 + Rest 2.7755575615628914e-17\n",
      "Somit ist die Binäre Zahl 11001100110011001100110011001100110011001100110011\n",
      "Die Zahl wird nun normalisiert, indem der Punkt verschoben wird.\n",
      "Die normalisierte Binärzahl ist 1.1001100110011001100110011001100110011001100110011 *2^-4\n",
      "Zum Testen mache ich die Rückwandlung in eine Dezimalzahl.\n",
      "Die Binärzahl 1.1001100110011001100110011001100110011001100110011 *2^-4 entspricht der Dezimalzahl 0.09999999999999998\n"
     ]
    }
   ],
   "source": [
    "res = display_as_gleitkommazahl(0.1)\n",
    "display_as_dezimal(res[0], res[1])\n",
    "# In dieser Zahl ist die Mantisse periodisch, daher wird die Mantisse abgekürzt."
   ]
  },
  {
   "cell_type": "code",
   "execution_count": 150,
   "metadata": {},
   "outputs": [
    {
     "name": "stdout",
     "output_type": "stream",
     "text": [
      "Im Folgenden wird die binäre Gleitkommazahl von der Dezimalzahl n = 12.125 dargestellt\n",
      "Als erstes möchte ich die größte Potenz von 2 finden, die kleiner als die Zahl ist.\n",
      " log(n)/log(2) = 3.59991284218713\n",
      "Somit ist 2^3 = 8 < 12.125.\n",
      "    12.125 : 2^3    = 1 + Rest 4.125\n",
      "     4.125 : 2^2    = 1 + Rest 0.125\n",
      "     0.125 : 2^1    = 0 + Rest 0.125\n",
      "     0.125 : 2^0    = 0 + Rest 0.125\n",
      "     0.125 : 2^-1   = 0 + Rest 0.125\n",
      "     0.125 : 2^-2   = 0 + Rest 0.125\n",
      "     0.125 : 2^-3   = 1 + Rest 0.0\n",
      "Somit ist die Binäre Zahl 1100.001\n",
      "Die Zahl wird nun normalisiert, indem der Punkt verschoben wird.\n",
      "Die normalisierte Binärzahl ist 1.100001 *2^3\n",
      "Zum Testen mache ich die Rückwandlung in eine Dezimalzahl.\n",
      "Die Binärzahl 1.100001 *2^3 entspricht der Dezimalzahl 12.125\n"
     ]
    }
   ],
   "source": [
    "res = display_as_gleitkommazahl(12.125)\n",
    "display_as_dezimal(res[0], res[1])"
   ]
  },
  {
   "cell_type": "markdown",
   "metadata": {},
   "source": [
    "1.2. Ermitteln Sie die kleinste positive darstellbare Zahl $x_{\\min }$ und die größte darstellbare Zahl $x_{\\text {max }}$ in $\\mathbb{M}(2,5,2)$.\n"
   ]
  },
  {
   "cell_type": "code",
   "execution_count": 151,
   "metadata": {},
   "outputs": [],
   "source": [
    "def min_and_max_float(b, e, m):\n",
    "    print(f\"Im Folgenden wird die kleinste und die größte darstellbare Zahl für b = {b}, e = {e} und m = {m} berechnet.\")\n",
    "    print(f\"Dazu möchte ich zunächst den Bias berechnen. Der Bias ist die verschiebung der Wertes des Exponenten, um negative Exponenten darstellen zu können.\")\n",
    "    bias = b**(e-1) - 1\n",
    "    print(f\"Der Bias ist b^(e-1) - 1 = \" + str(b) + \"^(\" + str(e) + \"-1) - 1 = \" + str(bias))\n",
    "    expontent = b**(e) - 1\n",
    "    print(f\"Der Exponent kann Werte von 0 bis \" + str(expontent) + \" annehmen.\")\n",
    "    print(f\"Mit den Abziehen des Bias kann der Exponent Werte von -\" + str(bias) + \" bis \" + str(expontent - bias) + \" annehmen.\")\n",
    "    print(f\"Die Mantisse kann Werte von 0 bis \" + str(b**(m) - 1) + \" annehmen.\")\n",
    "    print(f\"Die kleinste darstellbare Zahl ist 1 * b^(-\" + str(bias) + \") * b^0 = \" + str(b**(0 - bias)))\n",
    "    print(f\"Der größte Wert in M ist \" + str(b**(m) - 1) + \"*\" + str(b) + \"^\" + str(expontent - bias) + \" = \" + str((b**(m) - 1)*b**(expontent - bias)))\n",
    "\n"
   ]
  },
  {
   "cell_type": "code",
   "execution_count": 152,
   "metadata": {},
   "outputs": [
    {
     "name": "stdout",
     "output_type": "stream",
     "text": [
      "Im Folgenden wird die kleinste und die größte darstellbare Zahl für b = 2, e = 5 und m = 2 berechnet.\n",
      "Dazu möchte ich zunächst den Bias berechnen. Der Bias ist die verschiebung der Wertes des Exponenten, um negative Exponenten darstellen zu können.\n",
      "Der Bias ist b^(e-1) - 1 = 2^(5-1) - 1 = 15\n",
      "Der Exponent kann Werte von 0 bis 31 annehmen.\n",
      "Mit den Abziehen des Bias kann der Exponent Werte von -15 bis 16 annehmen.\n",
      "Die Mantisse kann Werte von 0 bis 3 annehmen.\n",
      "Die kleinste darstellbare Zahl ist 1 * b^(-15) * b^0 = 3.0517578125e-05\n",
      "Der größte Wert in M ist 3*2^16 = 196608\n"
     ]
    }
   ],
   "source": [
    "min_and_max_float(2, 5, 2)"
   ]
  },
  {
   "cell_type": "markdown",
   "metadata": {},
   "source": [
    "1.3. \n",
    "Entscheiden Sie, welche der Zahlen aus 1 . in $\\mathbb{M}(2,5,2)$ gerundet werden können, sodass das Ergebnis rechnerunabhängig ist und geben Sie die Rundung an."
   ]
  },
  {
   "cell_type": "markdown",
   "metadata": {},
   "source": [
    "Im Folgenden ist der  Kern der Algorythmus zur Umwandlung in eine Binärzahl. Zuvor ist der größte Exponent ermittelt worden,\n",
    "der eine Potenz von 2 erzeugt, die immernoch kleiner ist, als die Zahl die umgewandelt wird."
   ]
  },
  {
   "cell_type": "code",
   "execution_count": 153,
   "metadata": {},
   "outputs": [],
   "source": [
    "# while(zahl > 0 and counter < 50):\n",
    "#       binarstelle = int(zahl/2**exponent)\n",
    "#        next_zahl = zahl % 2**exponent\n",
    "#        binary = binary + str(binarstelle)"
   ]
  },
  {
   "cell_type": "markdown",
   "metadata": {},
   "source": [
    "Da für ein Mantisse der Länge 2 nur 4 Werte dargestellt werden können, kann nur ein Wert ohne Rundung dargestellt werden, der aus ganzzahligen Vielfachen des Viertels von der kleinsten Potenz der Basis besteht.  "
   ]
  },
  {
   "cell_type": "code",
   "execution_count": 154,
   "metadata": {},
   "outputs": [],
   "source": [
    "def naechste_rundung(zahl):\n",
    "    print(f\"Im Folgenden wird die Rundung einer Dezimalzahl n = {zahl} ermittelt wenn diese in M(2,5,2) abgebildet wird.\")\n",
    "    print(\"Als erstes möchte ich die größte Potenz von 2 finden, die kleiner als die Zahl ist.\")\n",
    "    n = sp.symbols('n')\n",
    "    expr = sp.log(n)/sp.log(2)\n",
    "    answer = \" \" + str(expr) + \" = \" + str(expr.evalf(subs={n: zahl}))\n",
    "    print(answer)\n",
    "    exponent = expr.evalf(subs={n: zahl})\n",
    "    if exponent > 0:\n",
    "        exponent = int(exponent)\n",
    "    else:\n",
    "        exponent = int(exponent) - 1\n",
    "    shift = exponent\n",
    "    print(\"Somit ist 2^\" + str(int(expr.evalf(subs={n: zahl}))) + \" = \" + str(2**int(expr.evalf(subs={n: zahl}))) + \" < \" + str(zahl) + \".\")\n",
    "    print(\"Die darstellbaren Zahlen in direkter Nachbarschaft sind:\")\n",
    "    options = []\n",
    "    index_of_closest = 0\n",
    "    div = 2**exponent\n",
    "    for i in range(0, 4):\n",
    "        options.append(2**exponent + 2**exponent/4*i)\n",
    "        print(f\"n_{i} = {2**exponent} + {2**exponent} : {4} * {i} = {options[i]}\")\n",
    "        if abs(options[i] - zahl) < abs(options[index_of_closest] - zahl):\n",
    "            index_of_closest = i\n",
    "    print(f\"Die Zahl {options[index_of_closest]} ist die nächste darstellbare Zahl.\")"
   ]
  },
  {
   "cell_type": "code",
   "execution_count": 155,
   "metadata": {},
   "outputs": [
    {
     "name": "stdout",
     "output_type": "stream",
     "text": [
      "Im Folgenden wird die Rundung einer Dezimalzahl n = 275 ermittelt wenn diese in M(2,5,2) abgebildet wird.\n",
      "Als erstes möchte ich die größte Potenz von 2 finden, die kleiner als die Zahl ist.\n",
      " log(n)/log(2) = 8.10328780841202\n",
      "Somit ist 2^8 = 256 < 275.\n",
      "Die darstellbaren Zahlen in direkter Nachbarschaft sind:\n",
      "n_0 = 256 + 256 : 4 * 0 = 256.0\n",
      "n_1 = 256 + 256 : 4 * 1 = 320.0\n",
      "n_2 = 256 + 256 : 4 * 2 = 384.0\n",
      "n_3 = 256 + 256 : 4 * 3 = 448.0\n",
      "Die Zahl 256.0 ist die nächste darstellbare Zahl.\n"
     ]
    }
   ],
   "source": [
    "naechste_rundung(275)\n"
   ]
  },
  {
   "cell_type": "code",
   "execution_count": 156,
   "metadata": {},
   "outputs": [
    {
     "name": "stdout",
     "output_type": "stream",
     "text": [
      "Im Folgenden wird die Rundung einer Dezimalzahl n = 0.1 ermittelt wenn diese in M(2,5,2) abgebildet wird.\n",
      "Als erstes möchte ich die größte Potenz von 2 finden, die kleiner als die Zahl ist.\n",
      " log(n)/log(2) = -3.32192809488736\n",
      "Somit ist 2^-3 = 0.125 < 0.1.\n",
      "Die darstellbaren Zahlen in direkter Nachbarschaft sind:\n",
      "n_0 = 0.0625 + 0.0625 : 4 * 0 = 0.0625\n",
      "n_1 = 0.0625 + 0.0625 : 4 * 1 = 0.078125\n",
      "n_2 = 0.0625 + 0.0625 : 4 * 2 = 0.09375\n",
      "n_3 = 0.0625 + 0.0625 : 4 * 3 = 0.109375\n",
      "Die Zahl 0.09375 ist die nächste darstellbare Zahl.\n"
     ]
    }
   ],
   "source": [
    "naechste_rundung(0.1)"
   ]
  },
  {
   "cell_type": "code",
   "execution_count": 157,
   "metadata": {},
   "outputs": [
    {
     "name": "stdout",
     "output_type": "stream",
     "text": [
      "Im Folgenden wird die Rundung einer Dezimalzahl n = 12.125 ermittelt wenn diese in M(2,5,2) abgebildet wird.\n",
      "Als erstes möchte ich die größte Potenz von 2 finden, die kleiner als die Zahl ist.\n",
      " log(n)/log(2) = 3.59991284218713\n",
      "Somit ist 2^3 = 8 < 12.125.\n",
      "Die darstellbaren Zahlen in direkter Nachbarschaft sind:\n",
      "n_0 = 8 + 8 : 4 * 0 = 8.0\n",
      "n_1 = 8 + 8 : 4 * 1 = 10.0\n",
      "n_2 = 8 + 8 : 4 * 2 = 12.0\n",
      "n_3 = 8 + 8 : 4 * 3 = 14.0\n",
      "Die Zahl 12.0 ist die nächste darstellbare Zahl.\n"
     ]
    }
   ],
   "source": [
    "naechste_rundung(12.125)"
   ]
  },
  {
   "cell_type": "markdown",
   "metadata": {},
   "source": [
    "Ich stelle somit fest, dass sich keine der Zahlen rechnerunabhängig darstellen lässt. "
   ]
  },
  {
   "cell_type": "markdown",
   "metadata": {},
   "source": [
    "Theorieaufgabe 2 (2 Punkte): Bei exakter Arithmetik gilt für das arithmetische Mittel $\\bar{x}=\\frac{x_1+x_2}{2}$ zweier reeller Zahlen $x_1$ und $x_2$ die Ungleichung\n",
    "\n",
    "$$\n",
    "\\min \\left\\{x_1, x_2\\right\\} \\leqslant \\bar{x} \\leqslant \\max \\left\\{x_1, x_2\\right\\} .\n",
    "$$\n",
    "\n",
    "\n",
    "Für Gleitpunktzahlen und das gemäß $x=g l\\left(g l\\left(x_1+x_2\\right) / 2\\right)$ berechnete Mittel gilt die Ungleichung (1) im Allgemeinen nicht. Finden Sie Gleitpunktzahlen $x_1, x_2 \\in \\mathbb{M}(10,2,3)$ derart, dass (1) verletzt ist."
   ]
  },
  {
   "cell_type": "markdown",
   "metadata": {},
   "source": [
    "Um die Aussage zu untersuchen, baue ich eine einfache Funktion, die die umwandlung in eine Gleitkommezahl  gemäß $\\mathbb{M}(10,2,3)$ darstellt. "
   ]
  },
  {
   "cell_type": "code",
   "execution_count": 235,
   "metadata": {},
   "outputs": [],
   "source": [
    "def gl(value):\n",
    "    if value == 0:\n",
    "        return 0\n",
    "    else:\n",
    "        return np.round(value, 3 - int(np.floor(np.log10(abs(value)))) - 1)"
   ]
  },
  {
   "cell_type": "markdown",
   "metadata": {},
   "source": [
    "Eine Funktion die den Algorythmus des arithmetischen Mittels der Aufgabenstellung darstellt. "
   ]
  },
  {
   "cell_type": "code",
   "execution_count": null,
   "metadata": {},
   "outputs": [],
   "source": [
    "def arith_mean(x1, x2):\n",
    "    return gl(gl((x1 + x2)) / 2)"
   ]
  },
  {
   "cell_type": "markdown",
   "metadata": {},
   "source": [
    "Und eine Funktion um Zahlen zu erzeugen, die in dem Raum liegen, der hier gefordert wird. "
   ]
  },
  {
   "cell_type": "code",
   "execution_count": 201,
   "metadata": {},
   "outputs": [],
   "source": [
    "from random import randint, random\n",
    "def gen_number():\n",
    "    e = randint(0, 3)\n",
    "    number = random() * 10**e\n",
    "    number = gl(number)\n",
    "    return number\n"
   ]
  },
  {
   "cell_type": "markdown",
   "metadata": {},
   "source": [
    "Und schließlich ein Code der nach Ausnahmen zu dieser Regel sucht. "
   ]
  },
  {
   "cell_type": "code",
   "execution_count": 203,
   "metadata": {},
   "outputs": [
    {
     "name": "stdout",
     "output_type": "stream",
     "text": [
      "x1: 0.578            a: 0.58             x2:0.579          \n",
      "x1: 52.6             a: 52.5             x2:52.7           \n",
      "x1: 0.518            a: 0.52             x2:0.519          \n",
      "x1: 5.42             a: 5.4              x2:5.41           \n",
      "x1: 7.11             a: 7.1              x2:7.14           \n",
      "x1: 0.683            a: 0.685            x2:0.683          \n",
      "x1: 8.58             a: 8.6              x2:8.58           \n",
      "x1: 67.6             a: 67.5             x2:67.6           \n",
      "x1: 0.514            a: 0.51             x2:0.511          \n",
      "x1: 0.901            a: 0.905            x2:0.904          \n",
      "x1: 8.72             a: 8.75             x2:8.74           \n",
      "x1: 0.634            a: 0.635            x2:0.631          \n",
      "x1: 56.4             a: 56.5             x2:56.3           \n",
      "x1: 68.2             a: 68.5             x2:68.4           \n",
      "x1: 0.832            a: 0.83             x2:0.831          \n",
      "x1: 0.767            a: 0.77             x2:0.769          \n",
      "x1: 0.948            a: 0.95             x2:0.947          \n",
      "x1: 0.994            a: 0.995            x2:0.994          \n",
      "x1: 586.0            a: 585.0            x2:586.0          \n",
      "x1: 0.674            a: 0.675            x2:0.674          \n",
      "x1: 57.2             a: 57.0             x2:57.1           \n",
      "x1: 0.934            a: 0.935            x2:0.932          \n",
      "x1: 864.0            a: 860.0            x2:861.0          \n",
      "x1: 60.2             a: 60.5             x2:60.4           \n",
      "x1: 82.8             a: 83.0             x2:82.8           \n",
      "x1: 0.676            a: 0.675            x2:0.676          \n",
      "x1: 52.4             a: 52.5             x2:52.3           \n",
      "x1: 821.0            a: 820.0            x2:822.0          \n",
      "x1: 0.931            a: 0.935            x2:0.934          \n",
      "x1: 87.6             a: 87.5             x2:87.8           \n",
      "x1: 75.4             a: 75.0             x2:75.1           \n",
      "x1: 0.769            a: 0.77             x2:0.768          \n",
      "x1: 83.9             a: 84.0             x2:83.7           \n",
      "x1: 8.79             a: 8.8              x2:8.78           \n",
      "x1: 7.67             a: 7.65             x2:7.66           \n",
      "x1: 0.634            a: 0.635            x2:0.631          \n",
      "x1: 702.0            a: 700.0            x2:703.0          \n",
      "x1: 0.779            a: 0.78             x2:0.777          \n",
      "x1: 8.34             a: 8.35             x2:8.33           \n",
      "x1: 0.998            a: 1.0              x2:0.998          \n",
      "x1: 5.04             a: 5.05             x2:5.04           \n",
      "x1: 6.63             a: 6.65             x2:6.64           \n",
      "x1: 7.52             a: 7.55             x2:7.54           \n",
      "x1: 501.0            a: 500.0            x2:503.0          \n",
      "x1: 684.0            a: 685.0            x2:683.0          \n",
      "x1: 70.6             a: 70.5             x2:70.7           \n",
      "x1: 99.2             a: 99.0             x2:99.3           \n",
      "x1: 86.4             a: 86.0             x2:86.1           \n",
      "x1: 0.536            a: 0.535            x2:0.537          \n",
      "x1: 0.881            a: 0.88             x2:0.883          \n",
      "x1: 8.18             a: 8.2              x2:8.17           \n",
      "x1: 85.6             a: 85.5             x2:85.7           \n",
      "x1: 768.0            a: 765.0            x2:766.0          \n",
      "x1: 928.0            a: 925.0            x2:926.0          \n",
      "x1: 986.0            a: 985.0            x2:986.0          \n",
      "x1: 0.804            a: 0.805            x2:0.802          \n",
      "x1: 0.661            a: 0.66             x2:0.663          \n",
      "x1: 73.6             a: 74.0             x2:73.9           \n",
      "x1: 72.7             a: 72.5             x2:72.6           \n",
      "x1: 79.7             a: 80.0             x2:79.9           \n",
      "x1: 0.709            a: 0.71             x2:0.709          \n",
      "x1: 80.2             a: 80.0             x2:80.2           \n",
      "x1: 86.3             a: 86.5             x2:86.4           \n",
      "x1: 8.47             a: 8.5              x2:8.48           \n",
      "x1: 84.3             a: 84.0             x2:84.1           \n",
      "x1: 0.681            a: 0.68             x2:0.683          \n",
      "x1: 72.7             a: 72.5             x2:72.7           \n",
      "x1: 786.0            a: 785.0            x2:787.0          \n",
      "x1: 5.06             a: 5.05             x2:5.07           \n",
      "x1: 5.47             a: 5.5              x2:5.49           \n",
      "x1: 549.0            a: 550.0            x2:546.0          \n",
      "x1: 5.92             a: 5.9              x2:5.92           \n",
      "x1: 88.1             a: 88.0             x2:88.1           \n",
      "x1: 6.33             a: 6.35             x2:6.34           \n",
      "x1: 56.3             a: 56.0             x2:56.2           \n",
      "x1: 0.663            a: 0.665            x2:0.663          \n",
      "x1: 0.639            a: 0.635            x2:0.636          \n",
      "x1: 50.1             a: 50.0             x2:50.3           \n",
      "x1: 7.53             a: 7.55             x2:7.54           \n",
      "x1: 0.528            a: 0.53             x2:0.529          \n",
      "x1: 59.9             a: 60.0             x2:59.8           \n",
      "x1: 0.718            a: 0.715            x2:0.716          \n",
      "x1: 581.0            a: 580.0            x2:582.0          \n",
      "x1: 7.31             a: 7.3              x2:7.31           \n",
      "x1: 6.72             a: 6.7              x2:6.71           \n",
      "x1: 91.6             a: 91.5             x2:91.6           \n",
      "x1: 0.832            a: 0.835            x2:0.834          \n",
      "x1: 504.0            a: 505.0            x2:503.0          \n",
      "x1: 0.964            a: 0.965            x2:0.963          \n",
      "x1: 8.96             a: 8.95             x2:8.97           \n",
      "x1: 7.26             a: 7.25             x2:7.27           \n",
      "x1: 0.696            a: 0.7              x2:0.699          \n",
      "x1: 733.0            a: 735.0            x2:733.0          \n",
      "x1: 54.7             a: 55.0             x2:54.9           \n",
      "x1: 6.27             a: 6.3              x2:6.29           \n",
      "x1: 5.27             a: 5.3              x2:5.28           \n",
      "x1: 544.0            a: 545.0            x2:543.0          \n",
      "x1: 7.83             a: 7.8              x2:7.81           \n",
      "x1: 80.3             a: 80.0             x2:80.1           \n",
      "x1: 879.0            a: 880.0            x2:878.0          \n"
     ]
    }
   ],
   "source": [
    "violators = []\n",
    "while len(violators) < 100:\n",
    "    x1 = gen_number()\n",
    "    x2 = gen_number()\n",
    "    a = arith_mean(x1, x2)\n",
    "    if not (min(x1, x2) <= a and a <= max(x1, x2)):\n",
    "        violator = (x1, x2, a)\n",
    "        print(f\"x1: {x1:<15}  a: {a:<15}  x2:{x2:<15}\")\n",
    "        violators.append(violator)"
   ]
  },
  {
   "cell_type": "markdown",
   "metadata": {},
   "source": [
    "Nun, nachdem ich die Aussage der Aufgabenstellung gründlich untersucht habe, komme ich zu dem Schluss, dass die Summe durch einen Übertrag eine Form erreicht, die sich nur mit 4 geltenden Ziffern richtig darstellen lassen würde. Die Funktion gl() löscht dann die 4te Stelle. Nach der Divison mit 2 bleibt die Abweichung erhalten, was auch nicht durch eine Angleichung an drei geltende Ziffern wieder ausgeglichen wird."
   ]
  },
  {
   "cell_type": "markdown",
   "metadata": {},
   "source": [
    "Theorieaufgabe 3 (3 Punkte): Zur Berechnung der Summe $\\sum_{i=1}^n x_i$ wird folgender Algorithmus vorgeschlagen:\n",
    "\n",
    "$S \\leftarrow 0, D \\leftarrow 0$\n",
    "\n",
    "for $i \\leftarrow 1$ to $n$ do\n",
    "\n",
    "$\\quad S_{\\text {alt }} \\leftarrow S$\n",
    "\n",
    "$\\quad S \\leftarrow S+x_i$\n",
    "\n",
    "$\\quad D \\leftarrow D+\\left(x_i-\\left(S-S_{\\text {alt }}\\right)\\right)$\n",
    "\n",
    "end for\n",
    "\n",
    "$S \\leftarrow S+D$\n",
    "\n",
    "\n",
    "\n",
    "Warum ist dieser Algorithmus der einfachen Summation\n",
    "\n",
    "$$\n",
    "g l\\left(x_n+g l\\left(x_{n-1}+g l\\left(\\cdots+g l\\left(x_2+x_1\\right)\\right)\\right)\\right)\n",
    "$$\n",
    "\n",
    "überlegen? Konstruieren Sie ein Beispiel."
   ]
  },
  {
   "cell_type": "markdown",
   "metadata": {},
   "source": [
    "Als erstes arbeite ich daran den Algorythmus zu verstehen, der hier gegeben wurde. "
   ]
  },
  {
   "cell_type": "code",
   "execution_count": null,
   "metadata": {},
   "outputs": [],
   "source": [
    "S = 0, D = 0\n",
    "for i in range(len(X)):\n",
    "    S_alt = S\n",
    "    S = S + X[i]\n",
    "    S = D + (X[i] - (S - S_alt))\n",
    "S = S + D"
   ]
  },
  {
   "cell_type": "markdown",
   "metadata": {},
   "source": [
    "Meine Interpretation des Algorythmus ist, das S die Summe darstellt und D eine Fehlerkorrektur und X eine Liste mit Zahlen, die Addiert werden sollen. Der Prozess ist auch als Kahansumme bekannt. "
   ]
  },
  {
   "cell_type": "code",
   "execution_count": 237,
   "metadata": {},
   "outputs": [],
   "source": [
    "def kahan_sum(X):\n",
    "    S, D = 0, 0\n",
    "    for i in range(len(X)):\n",
    "        S_alt = S\n",
    "        S = gl(S + X[i])\n",
    "        D = gl(D + gl(X[i] - gl(S - S_alt)))\n",
    "    S = gl(S + D)\n",
    "    return S"
   ]
  },
  {
   "cell_type": "code",
   "execution_count": 238,
   "metadata": {},
   "outputs": [
    {
     "name": "stdout",
     "output_type": "stream",
     "text": [
      "[9.59, 0.289, 0.799, 95.9, 4.75, 939.0, 278.0, 98.8, 0.172, 6.56]\n"
     ]
    }
   ],
   "source": [
    "X = []\n",
    "for i in range(10):\n",
    "    X.append(gen_number())\n",
    "print(X)"
   ]
  },
  {
   "cell_type": "code",
   "execution_count": 240,
   "metadata": {},
   "outputs": [],
   "source": [
    "def einfache_summe(X):\n",
    "    summe = gl(X[0] + X[1])\n",
    "    for i in range(2, len(X)):\n",
    "        summe = gl(summe + X[i])\n",
    "    return summe"
   ]
  },
  {
   "cell_type": "code",
   "execution_count": 251,
   "metadata": {},
   "outputs": [
    {
     "data": {
      "text/plain": [
       "(20.0, 2.0, 18.0)"
      ]
     },
     "execution_count": 251,
     "metadata": {},
     "output_type": "execute_result"
    }
   ],
   "source": [
    "def compare(X):\n",
    "    k = kahan_sum(X)\n",
    "    e = einfache_summe(X)\n",
    "    s = np.sum(X)\n",
    "    # print(\"Kahan Summe:    \" , k)\n",
    "    # print(\"Einfache Summe: \" , e)\n",
    "    # print(\"Echte Summe:    \" , s)\n",
    "    div_k_e = abs(k-e)\n",
    "    div_k_s = abs(k-s)\n",
    "    div_e_s = abs(e-s)\n",
    "    return div_k_e, div_k_s, div_e_s\n",
    "compare(X)"
   ]
  },
  {
   "cell_type": "markdown",
   "metadata": {},
   "source": [
    "Meine Vermutung ist, dass die Abweichung maximiert wird, wenn besonders viele Überträge beim Summieren auftreten."
   ]
  },
  {
   "cell_type": "code",
   "execution_count": 245,
   "metadata": {},
   "outputs": [],
   "source": [
    "X1 = []\n",
    "for i in range(10):\n",
    "    X1.append(0.555)\n",
    "X2 = []\n",
    "for i in range(10):\n",
    "    X2.append(0.999)\n",
    "X3 = []\n",
    "for i in range(5):\n",
    "    X3.append(0.9)\n",
    "    X3.append(200)"
   ]
  },
  {
   "cell_type": "code",
   "execution_count": 246,
   "metadata": {},
   "outputs": [
    {
     "name": "stdout",
     "output_type": "stream",
     "text": [
      "Kahan Summe:     5.55\n",
      "Einfache Summe:  5.56\n",
      "Echte Summe:     5.55\n",
      "Kahan Summe:     9.99\n",
      "Einfache Summe:  10.0\n",
      "Echte Summe:     9.99\n",
      "Kahan Summe:     1000.0\n",
      "Einfache Summe:  1000.0\n",
      "Echte Summe:     1004.5\n"
     ]
    }
   ],
   "source": [
    "compare(X1)\n",
    "compare(X2)\n",
    "compare(X3)"
   ]
  },
  {
   "cell_type": "markdown",
   "metadata": {},
   "source": [
    "Bei Überträgen ist die Kahan Summe der einfachen Addition überlegen. Werden abwechseln kleine und große Zahlen addiert, liegen beide Methoden daneben. \n",
    "Nun werde ich verschiedene Zahlen durchiteriren um heraus zu finden, wann der Effekt am Stärksten ist."
   ]
  },
  {
   "cell_type": "code",
   "execution_count": 255,
   "metadata": {},
   "outputs": [],
   "source": [
    "Xs = []\n",
    "for i in range(10000):\n",
    "    X = []\n",
    "    r1 = gen_number()\n",
    "    r2 = gen_number()\n",
    "    for i in range(5):\n",
    "        X.append(r1)\n",
    "        X.append(r2)\n",
    "    Xs.append(X)"
   ]
  },
  {
   "cell_type": "code",
   "execution_count": 256,
   "metadata": {},
   "outputs": [],
   "source": [
    "k_e, k_s, e_s = 0, 0, 0\n",
    "X_max_k_s = []\n",
    "X_max_e_s = []\n",
    "X_max_k_e = []\n",
    "for X in Xs:\n",
    "    (div_k_e, div_k_s, div_e_s) = compare(X)\n",
    "    if div_k_e > k_e:\n",
    "        k_e = div_k_e\n",
    "        X_max_k_e.append(X)\n",
    "    if div_k_s > k_s:\n",
    "        k_s = div_k_s\n",
    "        X_max_k_s.append(X)\n",
    "    if div_e_s > e_s:\n",
    "        e_s = div_e_s\n",
    "        X_max_e_s.append(X)"
   ]
  },
  {
   "cell_type": "code",
   "execution_count": 257,
   "metadata": {},
   "outputs": [
    {
     "name": "stdout",
     "output_type": "stream",
     "text": [
      " Vergleich von Kahan Summe und einfacher Summe\n",
      "[825.0, 0.821, 825.0, 0.821, 825.0, 0.821, 825.0, 0.821, 825.0, 0.821]\n",
      "(10.0, 0.8950000000004366, 9.104999999999563)\n",
      " \n",
      "[697.0, 5.31, 697.0, 5.31, 697.0, 5.31, 697.0, 5.31, 697.0, 5.31]\n",
      "(30.0, 1.5499999999997272, 28.450000000000273)\n",
      " \n",
      "[705.0, 85.8, 705.0, 85.8, 705.0, 85.8, 705.0, 85.8, 705.0, 85.8]\n",
      "(40.0, 4.0, 36.0)\n",
      " \n",
      " Vergleich von einfacher Summe und echter Summe\n",
      "[825.0, 0.821, 825.0, 0.821, 825.0, 0.821, 825.0, 0.821, 825.0, 0.821]\n",
      "(10.0, 0.8950000000004366, 9.104999999999563)\n",
      " \n",
      "[697.0, 5.31, 697.0, 5.31, 697.0, 5.31, 697.0, 5.31, 697.0, 5.31]\n",
      "(30.0, 1.5499999999997272, 28.450000000000273)\n",
      " \n",
      "[285.0, 506.0, 285.0, 506.0, 285.0, 506.0, 285.0, 506.0, 285.0, 506.0]\n",
      "(30.0, 5.0, 35.0)\n",
      " \n",
      "[705.0, 85.8, 705.0, 85.8, 705.0, 85.8, 705.0, 85.8, 705.0, 85.8]\n",
      "(40.0, 4.0, 36.0)\n",
      " \n",
      "[705.0, 5.26, 705.0, 5.26, 705.0, 5.26, 705.0, 5.26, 705.0, 5.26]\n",
      "(40.0, 1.300000000000182, 38.69999999999982)\n",
      " \n",
      " Vergleich von Kahan Summe und echter Summe\n",
      "[825.0, 0.821, 825.0, 0.821, 825.0, 0.821, 825.0, 0.821, 825.0, 0.821]\n",
      "(10.0, 0.8950000000004366, 9.104999999999563)\n",
      " \n",
      "[200.0, 0.763, 200.0, 0.763, 200.0, 0.763, 200.0, 0.763, 200.0, 0.763]\n",
      "(0.0, 3.8150000000000546, 3.8150000000000546)\n",
      " \n",
      "[158.0, 311.0, 158.0, 311.0, 158.0, 311.0, 158.0, 311.0, 158.0, 311.0]\n",
      "(10.0, 5.0, 5.0)\n",
      " \n",
      "[8.99, 546.0, 8.99, 546.0, 8.99, 546.0, 8.99, 546.0, 8.99, 546.0]\n",
      "(10.0, 5.050000000000182, 15.050000000000182)\n",
      " \n",
      "[8.79, 1000.0, 8.79, 1000.0, 8.79, 1000.0, 8.79, 1000.0, 8.79, 1000.0]\n",
      "(0.0, 6.050000000000182, 6.050000000000182)\n",
      " \n"
     ]
    }
   ],
   "source": [
    "print(\" Vergleich von Kahan Summe und einfacher Summe\")\n",
    "for X in X_max_k_e:\n",
    "    print(X)\n",
    "    print(compare(X))\n",
    "    print(\" \")\n",
    "\n",
    "print(\" Vergleich von einfacher Summe und echter Summe\")\n",
    "for X in X_max_e_s:\n",
    "    print(X)\n",
    "    print(compare(X))\n",
    "    print(\" \")\n",
    "\n",
    "print(\" Vergleich von Kahan Summe und echter Summe\")\n",
    "for X in X_max_k_s:\n",
    "    print(X)\n",
    "    print(compare(X))\n",
    "    print(\" \")"
   ]
  },
  {
   "cell_type": "markdown",
   "metadata": {},
   "source": [
    "Tatsächlich zeigt sich, dass der Übertrag an der 5 den größten Effekt hat. Der Fehler durch den Übertrag verstärkt sich in absoluten Zahlen bei größeren Absoluten Zahlen. "
   ]
  },
  {
   "cell_type": "markdown",
   "metadata": {},
   "source": [
    "Programmieraufgabe 1 (6 Punkte): Schreiben Sie MATLAB- oder Python-Programme\n",
    "\n",
    "$$\n",
    "\\mathrm{e}=\\operatorname{meps}(), \\mathrm{m}=\\operatorname{minimum}(), \\mathrm{m}=\\operatorname{maximum}(),\n",
    "$$\n",
    "\n",
    "die die Maschinengenauigkeit eps, die kleinste darstellbare positive Zahl xmin bzw. die größte darstellbare Zahl xmax berechnen. Dabei ist eps als die kleinste Zahl definiert für die $1 \\oplus \\mathrm{eps}>1$ gilt. In den Programmen soll nur benutzt werden, dass intern eine Gleitkommadarstellung basierend auf dem Dualsystem verwendet wird. Vergleichen Sie ihre Ergebnisse mit denen der entsprechenden MATLAB-Funktionen (eps, realmin, realmax), bzw. die NumPy-Funktionen (finfo(float).eps, finfo(float).tiny, finfo(float).max). Interpretieren Sie die Unterschiede. Schreiben Sie einen entsprechenden Kommentar in Ihr Programm."
   ]
  },
  {
   "cell_type": "code",
   "execution_count": 275,
   "metadata": {},
   "outputs": [
    {
     "name": "stdout",
     "output_type": "stream",
     "text": [
      "1.1102230246251565e-16\n"
     ]
    }
   ],
   "source": [
    "def find_eps():\n",
    "    eps = 1\n",
    "    while 1 + eps > 1:\n",
    "        eps = eps/2\n",
    "    return eps\n",
    "eps = find_eps()\n",
    "print(eps)"
   ]
  },
  {
   "cell_type": "code",
   "execution_count": 276,
   "metadata": {},
   "outputs": [
    {
     "name": "stdout",
     "output_type": "stream",
     "text": [
      "5e-324\n"
     ]
    }
   ],
   "source": [
    "def find_min():\n",
    "    min = 1\n",
    "    while min / 2.0 > 0:\n",
    "        min /= 2.0\n",
    "    return min\n",
    "min = find_min()\n",
    "print(min)"
   ]
  },
  {
   "cell_type": "code",
   "execution_count": 277,
   "metadata": {},
   "outputs": [
    {
     "name": "stdout",
     "output_type": "stream",
     "text": [
      "8.98846567431158e+307\n"
     ]
    }
   ],
   "source": [
    "def find_max():\n",
    "    max = 1.0\n",
    "    old_max = 1.0\n",
    "    while not np.isinf(max):\n",
    "        old_max = max\n",
    "        max *= 2.0\n",
    "    return old_max\n",
    "max = find_max()\n",
    "print(max)"
   ]
  },
  {
   "cell_type": "code",
   "execution_count": 278,
   "metadata": {},
   "outputs": [],
   "source": [
    "eps_numpy = np.finfo(float).eps\n",
    "min_numpy = np.finfo(float).tiny\n",
    "max_numpy = np.finfo(float).max"
   ]
  },
  {
   "cell_type": "code",
   "execution_count": 283,
   "metadata": {},
   "outputs": [
    {
     "name": "stdout",
     "output_type": "stream",
     "text": [
      "Maschinengenauigkeit (eps)         -        Berechnet:   1.1102230246251565e-16, NumPy: 2.220446049250313e-16\n",
      "Kleinste darstellbare positive Zahl (min) - Berechnet:                   5e-324, NumPy: 2.2250738585072014e-308\n",
      "Größte darstellbare Zahl (max)       -      Berechnet:    8.98846567431158e+307, NumPy: 1.7976931348623157e+308\n"
     ]
    },
    {
     "ename": "",
     "evalue": "",
     "output_type": "error",
     "traceback": [
      "\u001b[1;31mThe Kernel crashed while executing code in the current cell or a previous cell. \n",
      "\u001b[1;31mPlease review the code in the cell(s) to identify a possible cause of the failure. \n",
      "\u001b[1;31mClick <a href='https://aka.ms/vscodeJupyterKernelCrash'>here</a> for more info. \n",
      "\u001b[1;31mView Jupyter <a href='command:jupyter.viewOutput'>log</a> for further details."
     ]
    }
   ],
   "source": [
    "print(f\"Maschinengenauigkeit (eps)         -        Berechnet: {eps:24}, NumPy: {eps_numpy:20}\")\n",
    "print(f\"Kleinste darstellbare positive Zahl (min) - Berechnet: {min:24}, NumPy: {min_numpy:20}\")\n",
    "print(f\"Größte darstellbare Zahl (max)       -      Berechnet: {max:24}, NumPy: {max_numpy:20}\")"
   ]
  },
  {
   "cell_type": "markdown",
   "metadata": {},
   "source": [
    "Programmieraufgabe 2 (3 Punkte): Modifizieren Sie die Funktion expeuler, die Sie letzte Woche implementiert haben, sodass alle Variablen mit 32 bits anstatt 64 bits dargestellt werden. Dafür können Sie die MATLAB-Funktion single(.) oder die NumPy-Funktion np.float32(.) benutzen. Benennen Sie die neue Funktion z.B. expeuler_single.\n",
    "Lösen Sie das Anfangswertproblem $\\dot{y}(t)=-\\tan (t) y(t), y(0)=1$ im Intervall [0,3] mittels expeuler_single und erstellen Sie 2 Plots analog zur Abbildung des Beispieles 3.13 aus der Vorlesung (oder äquivalent Abbildung 3.9 aus dem Buch). Benutzen Sie dafür 7 verschiedene Anzahlen von Schritten $N$, die zwischen 101 und 107 logarithmisch gleichverteilt sind, d.h. $N$ wird mit $N=$ logspace $(1,7,7$ ) definiert (in Python ist die logspace-Funktion Teil vom NumPyPackage). Eine richtige Version der Funktion expeuler von letzter Woche finden Sie auf der ISIS-Seite des Kurses.\n",
    "\n",
    "\n"
   ]
  },
  {
   "cell_type": "markdown",
   "metadata": {},
   "source": [
    "Bevor ich mit dieser Aufgabe anfangen kann, muss ich erstmal meine Versäumnisse der letzten zwei Wochen aufholen."
   ]
  },
  {
   "cell_type": "code",
   "execution_count": null,
   "metadata": {},
   "outputs": [],
   "source": [
    "def expeuler(fun,t0,u0,N,a):\n",
    "    \"\"\"\"\"\n",
    "    Implementation of the explicit euler scheme\n",
    "    \n",
    "    Input:\n",
    "    fun ... function computing the right hand side dy = fun(t,y)\n",
    "    t0  ... lower interal border  t0 <= t <= t+a\n",
    "    u0  ... initial value u0 = y(t0)\n",
    "    N   ... number of iterations\n",
    "    a   ... positiv number for the length of the interval\n",
    "    \n",
    "    Output \n",
    "    t   ... time steps [t_0,t_1, ..., t_N]\n",
    "    h   ... stepwidth\n",
    "    u   ... numerical solution [u_0, u_1, ..., u_N]\n",
    "    \"\"\"\"\"\n",
    "    h = a / N\n",
    "    u = np.zeros([np.size(u0),N+1])\n",
    "    t = np.zeros(N+1)\n",
    "    t[0] = t0\n",
    "    u[:,0]=u0\n",
    "    for i in range(N):\n",
    "        u[:,i+1] = u[:,i] + h*fun(t[i],u[:,i]) \n",
    "        t[i+1] = t[i] + h\n",
    "    return t, h, u\n",
    "\n",
    "import numpy as np\n",
    "import matplotlib.pyplot as plt\n",
    "\n",
    "# Modifizierte Version von expeuler, die mit 32-Bit Genauigkeit arbeitet\n",
    "def expeuler_single(fun, t0, u0, N, a):\n",
    "    \"\"\"\"\n",
    "    Implementation des expliziten Euler-Verfahrens mit 32-Bit Genauigkeit\n",
    "    \n",
    "    Input:\n",
    "    fun ... Funktion, die die rechte Seite der ODE dy = fun(t,y) berechnet\n",
    "    t0  ... Anfangszeitpunkt t0 ≤ t ≤ t + a\n",
    "    u0  ... Anfangswert u0 = y(t0)\n",
    "    N   ... Anzahl der Schritte\n",
    "    a   ... positive Zahl für die Länge des Intervalls\n",
    "    \n",
    "    Output \n",
    "    t   ... Zeitpunkte [t_0,t_1, ..., t_N]\n",
    "    h   ... Schrittweite\n",
    "    u   ... numerische Lösung [u_0, u_1, ..., u_N]\n",
    "    \"\"\"\n",
    "    h = np.float32(a / N)\n",
    "    u = np.zeros([np.size(u0), N + 1], dtype=np.float32)\n",
    "    t = np.zeros(N + 1, dtype=np.float32)\n",
    "    t[0] = np.float32(t0)\n",
    "    u[:, 0] = np.float32(u0)\n",
    "    \n",
    "    for i in range(N):\n",
    "        u[:, i + 1] = u[:, i] + h * fun(t[i], u[:, i])\n",
    "        t[i + 1] = t[i] + h\n",
    "    \n",
    "    return t, h, u\n",
    "\n",
    "# Definition des Anfangswertproblems: dy/dt = -tan(t) * y, y(0) = 1\n",
    "def ode_function(t, y):\n",
    "    return -np.tan(t) * y\n",
    "\n",
    "# Intervall und Anfangsbedingung festlegen\n",
    "t0 = 0\n",
    "y0 = np.array([1], dtype=np.float32)\n",
    "a = 3\n",
    "\n",
    "# Werte für N logarithmisch zwischen 101 und 107 verteilt\n",
    "N_values = np.logspace(1, 7, num=7, base=10, dtype=int)\n",
    "\n",
    "# Plot der Ergebnisse\n",
    "plt.figure(figsize=(12, 6))\n",
    "\n",
    "for N in N_values:\n",
    "    t, h, u = expeuler_single(ode_function, t0, y0, N, a)\n",
    "    plt.plot(t, u[0], label=f'N = {N}')\n",
    "\n",
    "plt.xlabel('t')\n",
    "plt.ylabel('y(t)')\n",
    "plt.title('Lösung des Anfangswertproblems mit dem expliziten Euler-Verfahren')\n",
    "plt.legend()\n",
    "plt.grid(True)\n",
    "plt.show()\n"
   ]
  }
 ],
 "metadata": {
  "kernelspec": {
   "display_name": "Python 3",
   "language": "python",
   "name": "python3"
  },
  "language_info": {
   "codemirror_mode": {
    "name": "ipython",
    "version": 3
   },
   "file_extension": ".py",
   "mimetype": "text/x-python",
   "name": "python",
   "nbconvert_exporter": "python",
   "pygments_lexer": "ipython3",
   "version": "3.12.2"
  }
 },
 "nbformat": 4,
 "nbformat_minor": 2
}
