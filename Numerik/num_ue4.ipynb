{
 "cells": [
  {
   "cell_type": "markdown",
   "metadata": {},
   "source": [
    "# Numerische Mathematik I\n",
    "## (Übungsblatt 4) "
   ]
  },
  {
   "cell_type": "markdown",
   "metadata": {},
   "source": [
    "**Theorieaufgabe 1** (10 Punkte): Für ein numerisches Problem beschrieben durch die Punktauswertung einer Funktion $F: D \\subset \\mathbb{R}^n \\rightarrow W \\subset \\mathbb{R}^m$ definieren wir die absoluten und relativen Konditionszahlen in Bezug auf die Eingabe $x \\in D$\n",
    "\n",
    "$$\n",
    "\\begin{aligned}\n",
    "\\kappa_{\\mathrm{abs}}(x) & :=\\limsup _{\\varepsilon \\rightarrow 0} \\sup _{0<\\|\\Delta x\\| \\leqslant \\varepsilon} \\frac{\\|F(x+\\Delta x)-F(x)\\|}{\\|\\Delta x\\|}, \\\\\n",
    "\\kappa_{\\mathrm{rel}}(x) & :=\\limsup _{\\varepsilon \\rightarrow 0} \\sup _{0<\\|\\Delta x\\| \\leqslant \\varepsilon} \\frac{\\|F(x+\\Delta x)-F(x)\\|}{\\|\\Delta x\\|} \\cdot \\frac{\\|x\\|}{\\|F(x)\\|} .\n",
    "\\end{aligned}\n",
    "$$\n",
    "\n",
    "\n",
    "Ein Problem heißt schlecht konditioniert (in $x$ ), falls $\\kappa^{\\mathrm{rel}}(x) \\gg 1$ und ansonsten gut konditioniert. Für eine $x$ unabhängige Aussage zur Kondition eines Problems betrachtet man $\\sup _{x \\in D} \\kappa_{\\text {rel }}(x)$.\n",
    "1. Interpretieren Sie die absolute und relative Konditionszahl im Hinblick auf die Verstärkung von absoluten und relativen Fehlern des Eingangs.\n",
    "2. Angenommen man kann $F$ in Teilprobleme $\\varphi: \\tilde{D} \\rightarrow \\mathbb{R}^m$ und $\\psi: D \\rightarrow \\tilde{D}$ mit $\\tilde{D} \\subset \\mathbb{R}^k$ und stetigem $\\psi$ zerlegen gemäß $F=\\varphi \\circ \\psi$, so hat jedes Teilproblem seine eigene Konditionszahl. Schätzen Sie die absoluten und relativen Konditionszahlen von $F$ in Abhängigkeit der Konditionszahlen von $\\varphi$ und $\\psi$ ab.\n",
    "3. Berechnen Sie die absoluten und relativen Konditionszahlen für\n",
    "(a) $F_1(x)=x^a$ für $x>0$ und festes $a>0$.\n",
    "(b) $F_2(x)=b^x$ für $x \\in \\mathbb{R}$ und festes $b>0$.\n",
    "(c) $F_3(x)=\\ln (x)$ für $x>0$.\n",
    "\n",
    "Für welche Werte $x$ ist die Kondition jeweils absolut oder relativ gesehen schlecht?\n",
    "4. Zeigen Sie für $F: \\mathbb{R} \\rightarrow \\mathbb{R}$ gegeben durch $F(x)=\\left(x^x\\right)^{\\left(x^x\\right)}$ die Abschätzung\n",
    "\n",
    "$$\n",
    "\\sup _{x \\in[0,1]} \\kappa_{\\text {rel }}(x) \\leqslant 1\n",
    "$$\n",
    "\n",
    "\n",
    "Hinweis: Überlegen Sie für 3. und 4., wie die absolute und relative Konditionszahl für eine differnzierbare Funktion $F$ aussehen."
   ]
  },
  {
   "cell_type": "markdown",
   "metadata": {},
   "source": [
    "Lösung zum Übungsblatt 4\n",
    "\n",
    "%%%%%%%%%%%%%%%%%%%%%%%%%%%%%%%\n",
    "\n",
    "% Namen der Gruppenmitglieder:\n",
    "\n",
    "% 1. Lars Dickmann\n",
    "\n",
    "% 2. ...\n",
    "\n",
    "% 3. ...\n",
    "\n",
    "%%%%%%%%%%%%%%%%%%%%%%%%%%%%%%%\n",
    "\n",
    "\n",
    "Python                   3.13.0\n",
    "\n",
    "sympy                    1.13.3\n",
    "\n",
    "scipy                    1.14.1\n",
    "\n",
    "numpy                    2.1.3\n"
   ]
  },
  {
   "cell_type": "code",
   "execution_count": 17,
   "metadata": {},
   "outputs": [
    {
     "name": "stdout",
     "output_type": "stream",
     "text": [
      "Requirement already satisfied: sympy in c:\\users\\lars-\\appdata\\local\\programs\\python\\python313\\lib\\site-packages (1.13.3)\n",
      "Requirement already satisfied: mpmath<1.4,>=1.1.0 in c:\\users\\lars-\\appdata\\local\\programs\\python\\python313\\lib\\site-packages (from sympy) (1.3.0)\n",
      "Note: you may need to restart the kernel to use updated packages.\n"
     ]
    },
    {
     "name": "stderr",
     "output_type": "stream",
     "text": [
      "\n",
      "[notice] A new release of pip is available: 24.2 -> 24.3.1\n",
      "[notice] To update, run: python.exe -m pip install --upgrade pip\n"
     ]
    }
   ],
   "source": [
    "pip install sympy\n"
   ]
  },
  {
   "cell_type": "code",
   "execution_count": 18,
   "metadata": {},
   "outputs": [
    {
     "name": "stdout",
     "output_type": "stream",
     "text": [
      "Requirement already satisfied: numpy in c:\\users\\lars-\\appdata\\local\\programs\\python\\python313\\lib\\site-packages (2.1.3)\n",
      "Note: you may need to restart the kernel to use updated packages.\n"
     ]
    },
    {
     "name": "stderr",
     "output_type": "stream",
     "text": [
      "\n",
      "[notice] A new release of pip is available: 24.2 -> 24.3.1\n",
      "[notice] To update, run: python.exe -m pip install --upgrade pip\n"
     ]
    }
   ],
   "source": [
    "pip install numpy"
   ]
  },
  {
   "cell_type": "code",
   "execution_count": 19,
   "metadata": {},
   "outputs": [
    {
     "name": "stdout",
     "output_type": "stream",
     "text": [
      "Requirement already satisfied: scipy in c:\\users\\lars-\\appdata\\local\\programs\\python\\python313\\lib\\site-packages (1.14.1)Note: you may need to restart the kernel to use updated packages.\n",
      "\n",
      "Requirement already satisfied: numpy<2.3,>=1.23.5 in c:\\users\\lars-\\appdata\\local\\programs\\python\\python313\\lib\\site-packages (from scipy) (2.1.3)\n"
     ]
    },
    {
     "name": "stderr",
     "output_type": "stream",
     "text": [
      "\n",
      "[notice] A new release of pip is available: 24.2 -> 24.3.1\n",
      "[notice] To update, run: python.exe -m pip install --upgrade pip\n"
     ]
    }
   ],
   "source": [
    "pip install scipy"
   ]
  },
  {
   "cell_type": "code",
   "execution_count": 20,
   "metadata": {},
   "outputs": [
    {
     "name": "stdout",
     "output_type": "stream",
     "text": [
      "Package           Version\n",
      "----------------- -----------\n",
      "asttokens         2.4.1\n",
      "colorama          0.4.6\n",
      "comm              0.2.2\n",
      "debugpy           1.8.8\n",
      "decorator         5.1.1\n",
      "executing         2.1.0\n",
      "ipykernel         6.29.5\n",
      "ipython           8.29.0\n",
      "jedi              0.19.2\n",
      "jupyter_client    8.6.3\n",
      "jupyter_core      5.7.2\n",
      "matplotlib-inline 0.1.7\n",
      "mpmath            1.3.0\n",
      "nest-asyncio      1.6.0\n",
      "numpy             2.1.3\n",
      "packaging         24.2\n",
      "parso             0.8.4\n",
      "pip               24.2\n",
      "platformdirs      4.3.6\n",
      "prompt_toolkit    3.0.48\n",
      "psutil            6.1.0\n",
      "pure_eval         0.2.3\n",
      "Pygments          2.18.0\n",
      "python-dateutil   2.9.0.post0\n",
      "pywin32           308\n",
      "pyzmq             26.2.0\n",
      "scipy             1.14.1\n",
      "six               1.16.0\n",
      "stack-data        0.6.3\n",
      "sympy             1.13.3\n",
      "tornado           6.4.1\n",
      "traitlets         5.14.3\n",
      "wcwidth           0.2.13\n",
      "Note: you may need to restart the kernel to use updated packages.\n"
     ]
    }
   ],
   "source": [
    "pip list"
   ]
  },
  {
   "cell_type": "code",
   "execution_count": 21,
   "metadata": {},
   "outputs": [],
   "source": [
    "import sympy as sp\n",
    "import scipy as scp\n",
    "import numpy as np"
   ]
  },
  {
   "cell_type": "markdown",
   "metadata": {},
   "source": [
    "#### 1.1.\n",
    "\n",
    "Eine Konditionszahlen ein Problems gibt an, wie sensibel die Lösung auf die Veränderungen der Eingabedaten reagiert. \n",
    "\n",
    "Eine hohe Konditionszahl bedeutet, dass kleine Änderungen der Eingaben zu großen Änderungen der Lösung führen können. Bei hohen Konditionszahlen kann das Problem numerisch instabil sein. \n",
    "\n",
    "\n",
    "Der Fehler ist der Unterschied, zwischen der angenäherten und der exakten Zahl:\n",
    "\n",
    "$$\\text { Fehler }=\\left|x_{\\text {exakt }}-x_{\\text {approx }}\\right|$$\n",
    "\n",
    "Der Fehler kann auch relativ betrachtet werden. \n",
    "\n",
    "$$ \\text { Relativer Fehler }=\\frac{\\left|x_{\\text {exakt }}-x_{\\text {approx }}\\right|}{\\left|x_{\\text {exakt }}\\right|} $$\n",
    "\n",
    "Die Konditionszahl ist eine Annäherung für den Fehler der Lösung des Problems in Verhältnis zum Fehler der Eingangsgröße. $$\\frac{|\\Delta f|}{|f(x)|} \\approx \\kappa(x) \\cdot \\frac{|\\Delta x|}{|x|}$$"
   ]
  },
  {
   "cell_type": "markdown",
   "metadata": {},
   "source": [
    "### 1.2. \n",
    "\n",
    "#### Relativ\n",
    "\n",
    "Das sich das Problem $F$ als Komposition der Probleme $\\varphi$ und $\\psi$ darstellen lässt, \n",
    "stelle ich die folgende Mutmaßung auf: \n",
    "\n",
    "$$  \\kappa_{\\varphi, rel} \\approx \\frac{|\\Delta \\varphi| \\cdot |x|}{|\\varphi(x)| \\cdot |\\Delta x|} $$\n",
    "\n",
    "$$  \\kappa_{\\psi, rel} \\approx \\frac{|\\Delta \\psi| \\cdot |x|}{|\\psi(x)| \\cdot |\\Delta x|} $$\n",
    "\n",
    "so folgt das: \n",
    "\n",
    "$$ \\frac{|\\Delta \\psi|}{|\\psi(x)|} \\approx \\kappa_{\\psi, rel}(x) \\cdot \\frac{|\\Delta x|}{|x|} $$\n",
    "\n",
    "$$ \\frac{|\\Delta \\varphi|}{|\\varphi(\\psi)|} \\approx \\kappa_{\\varphi, rel}(\\psi) \\cdot \\frac{|\\Delta \\psi|}{|\\psi|} $$\n",
    "\n",
    "Nun kann  $\\frac{|\\Delta \\psi|}{|\\psi(x)|}$ in $\\frac{|\\Delta \\varphi|}{|\\varphi(\\psi)|}$ eingesetzt werden:\n",
    "\n",
    "\n",
    "$$ \\frac{|\\Delta \\varphi(\\psi((x)))|}{|\\varphi(\\psi((x)))|} \\approx \\kappa_{\\varphi, rel}(\\psi) \\cdot\\kappa_{\\psi, rel}(x) \\cdot \\frac{|\\Delta x|}{|x|} $$\n",
    "\n",
    "Da wir hier die Komposition wieder sehen: lässt sich aussagen:\n",
    "$$\n",
    "\\frac{|\\Delta f|}{|f(x)|} \\approx \\kappa(x) \\cdot \\frac{|\\Delta x|}{|x| } \\approx \\kappa_{\\varphi, rel}(\\psi) \\cdot\\kappa_{\\psi, rel}(x) \\cdot \\frac{|\\Delta x|}{|x|}\n",
    "$$\n",
    "\n",
    "Damit finde ist die Lösung: \n",
    "$$ \\kappa_{rel}(x)  \\approx \\kappa_{\\varphi, rel}(\\psi) \\cdot\\kappa_{\\psi, rel}(x) $$"
   ]
  },
  {
   "cell_type": "markdown",
   "metadata": {},
   "source": [
    "#### Absolut\n",
    "\n",
    "Die Änderung in der Ausgabe von $F$ ist $|\\Delta F|$, welche durch die Änderung von $|\\Delta \\varphi|$ beschrieben wird, die wiederum von $|\\Delta \\psi|$ abhängt. Das bedeutet:\n",
    "\n",
    "$$\n",
    "|\\Delta F|=|\\Delta \\varphi| \\quad \\text { und } \\quad|\\Delta \\varphi|=\\kappa_{\\varphi, \\text { abs }}(\\psi(x)) \\cdot|\\Delta \\psi|\n",
    "$$\n",
    "\n",
    "\n",
    "Setzen wir nun die absolute Änderung $|\\Delta \\psi|$ in Bezug auf $|\\Delta x|$ ein:\n",
    "\n",
    "$$\n",
    "|\\Delta \\psi|=\\kappa_{\\psi, \\mathrm{abs}}(x) \\cdot|\\Delta x|\n",
    "$$\n",
    "\n",
    "\n",
    "Dann ergibt sich für die Änderung von $|\\Delta F|$ :\n",
    "\n",
    "$$\n",
    "|\\Delta F|=\\kappa_{\\varphi, \\mathrm{abs}}(\\psi(x)) \\cdot \\kappa_{\\psi, \\mathrm{abs}}(x) \\cdot|\\Delta x|\n",
    "$$\n",
    "\n",
    "\n",
    "Die absolute Konditionszahl $\\kappa_{\\text {abs }}$ des gesamten Problems $F$ ist also gegeben durch:\n",
    "\n",
    "$$\n",
    "\\kappa_{\\mathrm{abs}}(x) \\approx \\kappa_{\\varphi, \\mathrm{abs}}(\\psi(x)) \\cdot \\kappa_{\\psi, \\mathrm{abs}}(x)\n",
    "$$\n"
   ]
  },
  {
   "cell_type": "markdown",
   "metadata": {},
   "source": [
    "### 1.3.\n",
    "\n",
    "**(a)**  $F_1(x)=x^a \\text { für } x>0 \\text { und festes } a>0 \\text {. }$\n",
    "\n",
    "$$\n",
    "\\kappa_{\\mathrm{abs}}(x):=\\limsup _{\\varepsilon \\rightarrow 0} \\sup _{0<\\|\\Delta x\\| \\leqslant \\varepsilon} \\frac{\\|F_1(x+\\Delta x)-F_1(x)\\|}{\\|\\Delta x\\|} \\cdot \\frac{\\|x\\|}{\\|F_1(x)\\|} = \\limsup _{\\varepsilon \\rightarrow 0} \\sup _{0<\\|\\Delta x\\| \\leqslant \\varepsilon} \\frac{\\|(x+\\Delta x)^a -(x^a)\\|}{\\|\\Delta x\\|}  \n",
    "$$\n",
    "\n",
    "$$\n",
    " =    \\limsup _{\\varepsilon \\rightarrow 0} \\sup _{0<\\|\\Delta x\\| \\leqslant \\varepsilon} \\frac{\\|\\sum_{k=0}^a\\binom{a}{k} x^{a-k} (\\Delta x)^k -(x^a)\\|}{\\|\\Delta x\\|} \n",
    "\n",
    "  =    \\limsup _{\\varepsilon \\rightarrow 0} \\sup _{0<\\|\\Delta x\\| \\leqslant \\varepsilon} \\frac{\\|\\sum_{k=1}^a\\binom{a}{k} x^{a-k} (\\Delta x)^k\\|}{\\|\\Delta x\\|}  \n",
    "$$\n",
    "\n",
    "$$\n",
    "  =    \\limsup _{\\varepsilon \\rightarrow 0} \\sup _{0<\\|\\Delta x\\| \\leqslant \\varepsilon} \\|\\sum_{k=1}^a\\binom{a}{k} x^{a-k} (\\Delta x)^{k-1}\\|  \n",
    "$$\n",
    "\n",
    "Nur für den Fall, dass $k=1$ ist, so kommt in der Gleichung was anderes raus, als 0.\n",
    "\n",
    "$$\n",
    "  =    \\limsup _{\\varepsilon \\rightarrow 0} \\sup _{0<\\|\\Delta x\\| \\leqslant \\varepsilon} \\| \\binom{a}{1} x^{a-1} (\\Delta x)^{1-1}\\|  \n",
    "$$\n",
    "\n",
    "$$\n",
    "  =  \\limsup _{\\varepsilon \\rightarrow 0} \\sup _{0<\\|\\Delta x\\| \\leqslant \\varepsilon} \\| a x^{a-1} \\|  \n",
    "$$\n",
    "\n",
    "somit ist die Funktion nicht mehr von den Grenzwertausdrücken abhängig.\n",
    "$$ \\kappa_{\\mathrm{abs}}(x):=  \\| a x^{a-1} \\|  $$\n",
    "\n",
    "Somit gilt für die absolute Kondionalszahl:\n",
    "$$ \\kappa_{\\mathrm{rel}}(x):=  \\| a x^{a-1} \\| \\cdot \\frac{\\|x\\|}{\\|(x)^a\\|} = a $$\n",
    "\n",
    "\n",
    "Schlecht Konditioniert:\n",
    "\n",
    "absolut:\n",
    "$$ \\kappa_{\\mathrm{abs}}(x):=  \\| a x^{a-1} \\|  > 1 \\Rightarrow x > \\frac{1}{a}^{\\frac{1}{a-1}} $$\n",
    "\n",
    "relativ:\n",
    "Unabhängig von x. \n",
    "\n",
    "\n"
   ]
  },
  {
   "cell_type": "markdown",
   "metadata": {},
   "source": [
    "$\\text { (b) } F_2(x)=b^x \\text { für } x \\in \\mathbb{R} \\text { und festes } b>0 \\text {. }$\n",
    "\n",
    "Nach der vorrangegangen Aufgabe ist es offensichtlich, wie sehr die Konditionalzahl der Ableitung ähnelt. \n",
    "\n",
    "Somit gilt hier:\n",
    "$$ \\kappa_{\\mathrm{abs}}(x):=  \\| \\ln(b) \\cdot b^{x} \\|  $$\n",
    "\n",
    "und\n",
    "\n",
    "$$ \\kappa_{\\mathrm{rel}}(x):=  \\| \\ln(b) \\cdot b^{x} \\| \\cdot \\frac{\\|x\\|}{\\|b^x\\|}  =  \\| \\ln(b) \\cdot x\\| $$\n",
    "\n",
    "Schlecht Konditioniert:\n",
    "\n",
    "absolut:\n",
    "für ein ausreichend großes x wird immer eine schlechte Kondition eintreten. \n",
    "\n",
    "relativ:\n",
    "für ein ausreichend großes x wird immer eine schlechte Kondition eintreten. \n",
    " \n"
   ]
  },
  {
   "cell_type": "markdown",
   "metadata": {},
   "source": [
    "$ \\text { (c) } F_3(x)=\\ln (x) \\text { für } x>0 \\text {. } $ \n",
    "\n",
    "Argumentation wie zuvor: \n",
    "\n",
    "$ \\kappa_{abs} = \\frac{1}{x}$\n",
    "\n",
    "$ \\kappa_{rel} = \\frac{1}{x}  \\cdot \\frac{\\|x\\|}{\\| \\ln(x) \\|}  =   \\frac{1}{ \\ln(x) }$\n",
    "\n",
    "Schlecht Konditioniert:\n",
    "\n",
    "absolut:\n",
    "$|x| < 1$\n",
    "\n",
    "relativ:\n",
    " $x < e $\n"
   ]
  },
  {
   "cell_type": "markdown",
   "metadata": {},
   "source": [
    "### 1.4"
   ]
  },
  {
   "cell_type": "markdown",
   "metadata": {},
   "source": [
    "$ F(x)=\\left(x^x\\right)^{\\left(x^x\\right)} $\n",
    "\n",
    "$ F(0) = 0 $\n",
    "\n",
    "$ F(1)= 1 $\n",
    "\n",
    "Da die Absolute Veränderung im gegebenen Raum für $x \\in [0,1]$ ist $\\Delta F \\leq 1$. Dieser Wert kann somit auch nicht von der Konditionalzahl überschritten werden.\n"
   ]
  },
  {
   "cell_type": "markdown",
   "metadata": {},
   "source": [
    "**Theorieaufgabe 2** (6 Punkte):\n",
    "\n",
    "\n",
    "\n",
    "\n",
    " Für Vektoren $x=\\left[\\begin{array}{c}x_1 \\\\ \\vdots \\\\ x_n\\end{array}\\right] \\in \\mathbb{R}^n$ und $y=\\left[\\begin{array}{c}y_1 \\\\ \\vdots \\\\ y_n\\end{array}\\right] \\in \\mathbb{R}^n$ wird das Skalarprodukt $\\langle x, y\\rangle$ mittels rekursiver Rechenvorschrift\n",
    "\n",
    "$$\n",
    "\\langle x, y\\rangle:=x_n y_n+\\left\\langle x^{n-1}, y^{n-1}\\right\\rangle\n",
    "$$\n",
    "\n",
    "berechnet, wobei\n",
    "\n",
    "$$\n",
    "x^{n-1}:=\\left[\\begin{array}{c}\n",
    "x_1 \\\\\n",
    "\\vdots \\\\\n",
    "x_{n-1}\n",
    "\\end{array}\\right] \\quad \\text { und } \\quad y^{n-1}:=\\left[\\begin{array}{c}\n",
    "y_1 \\\\\n",
    "\\vdots \\\\\n",
    "y_{n-1}\n",
    "\\end{array}\\right] .\n",
    "$$\n",
    "\n",
    "\n",
    "Das Ergebnis der rundungsfehlerbehaftete Realisierung des Skalarpodukts nach (1) bezeichnen wir mit $\\langle x, y\\rangle_{g l}$. Führen Sie eine Rückwärtsanalyse durch, um $\\tilde{x}=\\left[\\begin{array}{c}\\tilde{x}_1 \\\\ \\vdots \\\\ \\tilde{x}_n\\end{array}\\right] \\in \\mathbb{R}^n$ zu finden, sodass\n",
    "\n",
    "$$\n",
    "\\langle x, y\\rangle_{g l}=\\langle\\tilde{x}, y\\rangle .\n",
    "$$\n",
    "\n",
    "\n",
    "Ist der durch (1) definierte Algorithmus stabil im Sinne der Rückwärtsanalyse?"
   ]
  },
  {
   "cell_type": "markdown",
   "metadata": {},
   "source": [
    "### Lösung 2.0.\n",
    "\n",
    "Stabilität im Sinne der Rückwärtsanalyse bedeutet, dass ein Algorithmus so arbeitet, dass sein berechnetes Ergebnis mit einer leicht gestörten Eingabe exakt übereinstimmen würde.\n",
    "\n",
    "Ja. Dieser Algorythmus ist stabil im Sinne der Rückwartsanalyse, solange die Werte von $\\tilde{x}$ folgende gleicheung erfüllen: \n",
    " $$\\| \\tilde{x_n} - x_n \\| \\leq \\mathrm{eps} $$\n",
    "\n",
    "Dabei ist eps als die kleinste Zahl definiert für die $1 \\oplus \\mathrm{eps}>1$ gilt.\n"
   ]
  },
  {
   "cell_type": "markdown",
   "metadata": {},
   "source": [
    "**Programmieraufgabe 1 (4 Punkte):**\n",
    "\n",
    "\n",
    " Die Lösung der quadratischen Gleichung $x^2+2 p x+q=0$ für gegebenes $p$ und $q$ kann auf folgende Weisen bestimmt werden\n",
    "a) $x_1=-p-\\sqrt{p^2-q}, x_2=-p+\\sqrt{p^2-q}$\n",
    "(p-q Formel)\n",
    "b) $x_1=-p-\\sqrt{p^2-q}, x_2=\\frac{q}{x_1}$\n",
    "(Vieta'scher Wurzelsatz)\n",
    "Implementieren Sie MATLAB oder Python Funktionen pq und vieta mit Eingabeparametern p, q welche die jeweilige Methode zur Berechnung der Lösungen x1, x2 der quatratischen Gleichung nutzt und diese ausgeben. Dabei sollen alle elementaren Rechenoperationen, sowie das Wurzelziehen Schritt für Schritt mit einfacher Genauigkeit, d.h. bit 32 bits statt 64 bits, ausgeführt werden. Nutzen Sie dazu die MATLAB-Funktion single(.) oder die NumPyFunktion np.float32(.).\n",
    "Vergleichen Sie die numerischen Lösungen beider Methoden angewandt auf die quadratische Gleichung $x^2+0.2 x+10^{-8}=0$. Welche Methode würden Sie bevorzugen? Begründen Sie Ihre Entscheidung."
   ]
  },
  {
   "cell_type": "code",
   "execution_count": 22,
   "metadata": {},
   "outputs": [],
   "source": [
    "def get_x1(p, q):\n",
    "    x1 = np.float32(-p/2 + np.sqrt((p/2)**2 - q))\n",
    "    return x1"
   ]
  },
  {
   "cell_type": "code",
   "execution_count": 23,
   "metadata": {},
   "outputs": [],
   "source": [
    "def p_q_formel(p, q):\n",
    "    x1 = get_x1(p, q)\n",
    "    x2 = np.float32(-p/2 - np.sqrt((p/2)**2 - q))\n",
    "    return x1, x2"
   ]
  },
  {
   "cell_type": "code",
   "execution_count": 24,
   "metadata": {},
   "outputs": [],
   "source": [
    "def vieta(p, q):\n",
    "    x1 = get_x1(p, q)\n",
    "    x2 = np.float32(q/x1)\n",
    "    return x1, x2"
   ]
  },
  {
   "cell_type": "code",
   "execution_count": 25,
   "metadata": {},
   "outputs": [
    {
     "name": "stdout",
     "output_type": "stream",
     "text": [
      "(np.float32(-5.000001e-08), np.float32(-0.19999994))\n",
      "(np.float32(-5.000001e-08), np.float32(-0.19999996))\n",
      "[-1.99999950e-01 -5.00000125e-08]\n"
     ]
    }
   ],
   "source": [
    "p = 0.2\n",
    "q = 10**-8\n",
    "print(p_q_formel(p, q))\n",
    "print(vieta(p, q))\n",
    "print(np.roots([1,p,q]))"
   ]
  },
  {
   "cell_type": "markdown",
   "metadata": {},
   "source": [
    "Zwar zeigen beide Methoden eine Abweichung von der erwarteten Lösung, dennoch würde ich immer die PQ-Formel vorziehen, da der Satz von Vieta zu Fehlerfortpflanzung einlädt. "
   ]
  }
 ],
 "metadata": {
  "kernelspec": {
   "display_name": "Python 3",
   "language": "python",
   "name": "python3"
  },
  "language_info": {
   "codemirror_mode": {
    "name": "ipython",
    "version": 3
   },
   "file_extension": ".py",
   "mimetype": "text/x-python",
   "name": "python",
   "nbconvert_exporter": "python",
   "pygments_lexer": "ipython3",
   "version": "3.13.0"
  }
 },
 "nbformat": 4,
 "nbformat_minor": 2
}
