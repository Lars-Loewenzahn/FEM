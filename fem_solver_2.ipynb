{
 "cells": [
  {
   "cell_type": "markdown",
   "metadata": {},
   "source": [
    "Hier möchte einen Solver schreiben, der einen Verformungsfall einer  ebenen Platte betrachtet. \n",
    "Hierbei orientiere ich mich an dem folgenden Tutorial:\n",
    "https://www.youtube.com/watch?v=1j_HdsVkglk&list=PLDatYNwS3wZ_b9xVZOb2K9zUTDOp0gY0T"
   ]
  },
  {
   "cell_type": "code",
   "execution_count": 6,
   "metadata": {},
   "outputs": [],
   "source": [
    "import numpy as np\n",
    "import math\n",
    "from matplotlib import pyplot as plt"
   ]
  },
  {
   "cell_type": "code",
   "execution_count": 8,
   "metadata": {},
   "outputs": [],
   "source": [
    "def shape(xi):\n",
    "    \"\"\"\n",
    "    Berechnet die Formfunktionen für ein quadratisches Element an den gegebenen natürlichen Koordinaten.\n",
    "\n",
    "    Args:\n",
    "        xi (tuple): Ein Tupel der natürlichen Koordinaten (xi, eta).\n",
    "\n",
    "    Returns:\n",
    "        numpy.ndarray: Ein Array der Formfunktionen an den gegebenen natürlichen Koordinaten.\n",
    "    \"\"\"\n",
    "    x,y = tuple(xi)\n",
    "    print(tuple(xi))\n",
    "    N = [\n",
    "        (1.0-x)*(1.0-y),\n",
    "        (1.0+x)*(1.0-y), \n",
    "        (1.0+x)*(1.0+y), \n",
    "        (1.0-x)*(1.0+y)\n",
    "        ]\n",
    "    return 0.25*np.array(N)"
   ]
  },
  {
   "cell_type": "code",
   "execution_count": null,
   "metadata": {},
   "outputs": [],
   "source": [
    "shape((0,0))    "
   ]
  }
 ],
 "metadata": {
  "kernelspec": {
   "display_name": "Python 3",
   "language": "python",
   "name": "python3"
  },
  "language_info": {
   "codemirror_mode": {
    "name": "ipython",
    "version": 3
   },
   "file_extension": ".py",
   "mimetype": "text/x-python",
   "name": "python",
   "nbconvert_exporter": "python",
   "pygments_lexer": "ipython3",
   "version": "3.12.2"
  }
 },
 "nbformat": 4,
 "nbformat_minor": 2
}
