{
 "cells": [
  {
   "cell_type": "code",
   "execution_count": 3,
   "metadata": {},
   "outputs": [],
   "source": [
    "import numpy as np\n",
    "import matplotlib.pyplot as plt\n",
    "from scipy.integrate import odeint"
   ]
  },
  {
   "cell_type": "markdown",
   "metadata": {},
   "source": [
    "The sky diving problem\n",
    "\n",
    "$$\n",
    "\\begin{gathered}\n",
    "\\frac{d v_x}{d t}=-\\frac{b}{m} \\sqrt{v_x^2+v_y^2} \\cdot v_x \\\\\n",
    "\\frac{d v_y}{d t}=-g-\\frac{b}{m} \\sqrt{v_x^2+v_y^2} \\cdot v_y\n",
    "\\end{gathered}\n",
    "$$\n",
    "\n",
    "$\\vec{S}=\\left(v_x, v_y\\right)$. To solve ODEs in python,\n",
    "1. define function that takes in $t$ and $\\vec{S}$ and returns $d \\vec{S} / d t$"
   ]
  },
  {
   "cell_type": "code",
   "execution_count": null,
   "metadata": {},
   "outputs": [],
   "source": [
    "# dSdt ist der die Abl der Strecke und somit die geschwindigkeit\n",
    "# die geschwindigkeit kann ich als integral der beschleunigung darstellen\n",
    "dvxdt = lambda vx, vy: -b*vx*(vx**2+vy**2)**0.5/m\n",
    "dvydt = lambda vx, vy: -g-b*vy*(vx**2+vy**2)**0.5/m\n",
    "dSdt = (vx**2+vy**2)**0.5\n",
    "#### FALSCH! S ist nicht die  Strecke sondern ein System."
   ]
  },
  {
   "cell_type": "code",
   "execution_count": 6,
   "metadata": {},
   "outputs": [],
   "source": [
    "def dSdt(S, t, g, m, b0):\n",
    "    vx = S[0]\n",
    "    vy = S[1]\n",
    "    return [\n",
    "           -b/m *np.sqrt(vx**2+vy**2) * vx,\n",
    "        -g -b/m *np.sqrt(vx**2+vy**2) * vy\n",
    "    ]"
   ]
  },
  {
   "cell_type": "markdown",
   "metadata": {},
   "source": [
    "2. Supply the function and initial conditions to the ODE solver. Provide the times at which you want the solution"
   ]
  },
  {
   "cell_type": "code",
   "execution_count": 8,
   "metadata": {},
   "outputs": [],
   "source": [
    "t = np.linspace(0, 20, 100)\n",
    "m = 80\n",
    "g = 9.81\n",
    "vt = -55 # m/s Termianlgeschwindigkeit\n",
    "b = m*g/vt**2 # Errechnung des Wiederstandbeiwertes mittels der Termianlgeschwindigkeit\n",
    "v0x, v0y = 50, 0\n",
    "sol = odeint(dSdt, y0 =[v0x, v0y], t=t, args=(g, m, b))"
   ]
  },
  {
   "cell_type": "code",
   "execution_count": 9,
   "metadata": {},
   "outputs": [
    {
     "data": {
      "text/plain": [
       "array([[ 50.        ,   0.        ],\n",
       "       [ 48.4136722 ,  -1.9503758 ],\n",
       "       [ 46.92251143,  -3.84158835],\n",
       "       [ 45.51576815,  -5.67850589],\n",
       "       [ 44.18400832,  -7.46515092],\n",
       "       [ 42.91893325,  -9.20481567],\n",
       "       [ 41.71323236, -10.90016142],\n",
       "       [ 40.56046274, -12.55330491],\n",
       "       [ 39.45494809, -14.16589541],\n",
       "       [ 38.39169442, -15.73918379],\n",
       "       [ 37.36631783, -17.27408526],\n",
       "       [ 36.37498198, -18.77123662],\n",
       "       [ 35.41434295, -20.23104872],\n",
       "       [ 34.48149978, -21.65375419],\n",
       "       [ 33.57394977, -23.03945071],\n",
       "       [ 32.68954736, -24.38813984],\n",
       "       [ 31.8264662 , -25.69976151],\n",
       "       [ 30.98316393, -26.97422406],\n",
       "       [ 30.15834945, -28.21143014],\n",
       "       [ 29.35095247, -29.4112985 ],\n",
       "       [ 28.5600955 , -30.57378167],\n",
       "       [ 27.7850677 , -31.69888042],\n",
       "       [ 27.02530123, -32.7866543 ],\n",
       "       [ 26.28034944, -33.83722972],\n",
       "       [ 25.54986731, -34.85080487],\n",
       "       [ 24.83359377, -35.82765237],\n",
       "       [ 24.13133591, -36.76812017],\n",
       "       [ 23.44295508, -37.67263011],\n",
       "       [ 22.76835458, -38.54167577],\n",
       "       [ 22.10746905, -39.37581863],\n",
       "       [ 21.46025527, -40.17568347],\n",
       "       [ 20.82668423, -40.94195341],\n",
       "       [ 20.20673478, -41.67536372],\n",
       "       [ 19.60038775, -42.37669643],\n",
       "       [ 19.00762165, -43.04677423],\n",
       "       [ 18.42840911, -43.68645359],\n",
       "       [ 17.86271391, -44.2966196 ],\n",
       "       [ 17.31048892, -44.87817944],\n",
       "       [ 16.77167449, -45.43205726],\n",
       "       [ 16.24619742, -45.95918862],\n",
       "       [ 15.73397035, -46.46051565],\n",
       "       [ 15.23489149, -46.9369824 ],\n",
       "       [ 14.7488447 , -47.38953063],\n",
       "       [ 14.27569979, -47.81909601],\n",
       "       [ 13.81531303, -48.22660462],\n",
       "       [ 13.36752783, -48.61296997],\n",
       "       [ 12.93217551, -48.97909021],\n",
       "       [ 12.50907618, -49.32584589],\n",
       "       [ 12.09803963, -49.65409794],\n",
       "       [ 11.69886642, -49.96468588],\n",
       "       [ 11.31134881, -50.25842647],\n",
       "       [ 10.93527168, -50.53611272],\n",
       "       [ 10.57041361, -50.79851282],\n",
       "       [ 10.2165478 , -51.04636966],\n",
       "       [  9.87344295, -51.2804003 ],\n",
       "       [  9.54086422, -51.5012957 ],\n",
       "       [  9.21857399, -51.70972075],\n",
       "       [  8.9063327 , -51.90631418],\n",
       "       [  8.60389957, -52.09168885],\n",
       "       [  8.31103331, -52.26643199],\n",
       "       [  8.02749271, -52.43110564],\n",
       "       [  7.75303729, -52.58624708],\n",
       "       [  7.48742779, -52.73236938],\n",
       "       [  7.23042667, -52.86996204],\n",
       "       [  6.98179855, -52.99949159],\n",
       "       [  6.74131061, -53.1214023 ],\n",
       "       [  6.50873292, -53.23611686],\n",
       "       [  6.2838388 , -53.34403716],\n",
       "       [  6.06640503, -53.44554497],\n",
       "       [  5.85621212, -53.54100273],\n",
       "       [  5.65304454, -53.63075432],\n",
       "       [  5.45669082, -53.71512573],\n",
       "       [  5.26694377, -53.79442591],\n",
       "       [  5.08360055, -53.86894741],\n",
       "       [  4.90646277, -53.93896716],\n",
       "       [  4.73533657, -54.00474713],\n",
       "       [  4.57003269, -54.06653507],\n",
       "       [  4.41036645, -54.12456512],\n",
       "       [  4.2561578 , -54.17905852],\n",
       "       [  4.10723135, -54.23022419],\n",
       "       [  3.96341627, -54.27825937],\n",
       "       [  3.82454637, -54.32335019],\n",
       "       [  3.69045998, -54.36567224],\n",
       "       [  3.56099996, -54.40539111],\n",
       "       [  3.43601362, -54.44266293],\n",
       "       [  3.31535266, -54.47763484],\n",
       "       [  3.19887312, -54.51044547],\n",
       "       [  3.08643531, -54.54122541],\n",
       "       [  2.9779037 , -54.57009767],\n",
       "       [  2.87314687, -54.59717801],\n",
       "       [  2.77203744, -54.62257544],\n",
       "       [  2.67445195, -54.64639253],\n",
       "       [  2.58027079, -54.66872577],\n",
       "       [  2.48937811, -54.68966596],\n",
       "       [  2.40166173, -54.70929846],\n",
       "       [  2.31701306, -54.72770358],\n",
       "       [  2.23532698, -54.74495678],\n",
       "       [  2.15650178, -54.76112902],\n",
       "       [  2.08043904, -54.77628698],\n",
       "       [  2.00704359, -54.79049334]])"
      ]
     },
     "execution_count": 9,
     "metadata": {},
     "output_type": "execute_result"
    }
   ],
   "source": [
    "sol"
   ]
  },
  {
   "cell_type": "code",
   "execution_count": 10,
   "metadata": {},
   "outputs": [],
   "source": [
    "vx = sol.T[0]\n",
    "vy = sol.T[1]"
   ]
  },
  {
   "cell_type": "code",
   "execution_count": 11,
   "metadata": {},
   "outputs": [
    {
     "data": {
      "text/plain": [
       "[<matplotlib.lines.Line2D at 0x26c7f37c7d0>]"
      ]
     },
     "execution_count": 11,
     "metadata": {},
     "output_type": "execute_result"
    },
    {
     "data": {
      "image/png": "[encoded data removed]",
      "text/plain": [
       "<Figure size 640x480 with 1 Axes>"
      ]
     },
     "metadata": {},
     "output_type": "display_data"
    }
   ],
   "source": [
    "plt.plot(t, vx)"
   ]
  },
  {
   "cell_type": "markdown",
   "metadata": {},
   "source": [
    "How long until one reaches terminal velocity?"
   ]
  },
  {
   "cell_type": "code",
   "execution_count": 16,
   "metadata": {},
   "outputs": [
    {
     "name": "stdout",
     "output_type": "stream",
     "text": [
      "17.171717171717173\n"
     ]
    }
   ],
   "source": [
    "dif = np.abs(vy - vt)\n",
    "for i, vel in enumerate(dif):\n",
    "    if vel < 0.01*np.abs(vt):\n",
    "        print(t[i])\n",
    "        break"
   ]
  },
  {
   "cell_type": "code",
   "execution_count": 19,
   "metadata": {},
   "outputs": [
    {
     "data": {
      "text/plain": [
       "array([17.17171717, 17.37373737, 17.57575758, 17.77777778, 17.97979798,\n",
       "       18.18181818, 18.38383838, 18.58585859, 18.78787879, 18.98989899,\n",
       "       19.19191919, 19.39393939, 19.5959596 , 19.7979798 , 20.        ])"
      ]
     },
     "execution_count": 19,
     "metadata": {},
     "output_type": "execute_result"
    }
   ],
   "source": [
    "i = np.abs(vy - vt) < 0.01*np.abs(vt)\t# conditionale zuordnung\n",
    "t[i]"
   ]
  }
 ],
 "metadata": {
  "kernelspec": {
   "display_name": "Python 3",
   "language": "python",
   "name": "python3"
  },
  "language_info": {
   "codemirror_mode": {
    "name": "ipython",
    "version": 3
   },
   "file_extension": ".py",
   "mimetype": "text/x-python",
   "name": "python",
   "nbconvert_exporter": "python",
   "pygments_lexer": "ipython3",
   "version": "3.13.2"
  }
 },
 "nbformat": 4,
 "nbformat_minor": 2
}
