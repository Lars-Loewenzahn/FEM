{
 "cells": [
  {
   "cell_type": "markdown",
   "metadata": {},
   "source": [
    "Lösung zum Übungsblatt 3\n",
    "\n",
    "%%%%%%%%%%%%%%%%%%%%%%%%%%%%%%%\n",
    "% Namen der Gruppenmitglieder:\n",
    "% 1. Lars Dickmann\n",
    "% 2. ...\n",
    "% 3. ...\n",
    "%%%%%%%%%%%%%%%%%%%%%%%%%%%%%%%\n",
    "\n",
    "Python                   3.12.2\n",
    "sympy                    1.13.0\n",
    "scipy                    1.14.0\n",
    "numpy                    1.26.4"
   ]
  },
  {
   "cell_type": "code",
   "execution_count": 52,
   "metadata": {},
   "outputs": [],
   "source": [
    "import sympy as sp\n",
    "import scipy as scp\n",
    "import numpy as np"
   ]
  },
  {
   "cell_type": "code",
   "execution_count": 53,
   "metadata": {},
   "outputs": [
    {
     "name": "stdout",
     "output_type": "stream",
     "text": [
      "Package                  Version\n",
      "------------------------ -----------\n",
      "aiohttp                  3.9.5\n",
      "aiosignal                1.3.1\n",
      "annotated-types          0.7.0\n",
      "anyio                    4.4.0\n",
      "asttokens                2.4.1\n",
      "attrs                    23.2.0\n",
      "certifi                  2024.7.4\n",
      "charset-normalizer       3.3.2\n",
      "colorama                 0.4.6\n",
      "comm                     0.2.2\n",
      "contourpy                1.2.1\n",
      "cycler                   0.12.1\n",
      "dataclasses-json         0.6.7\n",
      "debugpy                  1.8.2\n",
      "decorator                5.1.1\n",
      "distro                   1.9.0\n",
      "executing                2.0.1\n",
      "fonttools                4.53.1\n",
      "frozenlist               1.4.1\n",
      "greenlet                 3.0.3\n",
      "h11                      0.14.0\n",
      "httpcore                 0.16.3\n",
      "httpx                    0.23.3\n",
      "idna                     3.7\n",
      "ipykernel                6.29.5\n",
      "ipython                  8.26.0\n",
      "jedi                     0.19.1\n",
      "jsonpatch                1.33\n",
      "jsonpointer              3.0.0\n",
      "jupyter_client           8.6.2\n",
      "jupyter_core             5.7.2\n",
      "kiwisolver               1.4.5\n",
      "langchain                0.2.7\n",
      "langchain-community      0.2.7\n",
      "langchain-core           0.2.13\n",
      "langchain-text-splitters 0.2.2\n",
      "langsmith                0.1.85\n",
      "marshmallow              3.21.3\n",
      "matplotlib               3.9.1\n",
      "matplotlib-inline        0.1.7\n",
      "mpmath                   1.3.0\n",
      "multidict                6.0.5\n",
      "mypy-extensions          1.0.0\n",
      "nest-asyncio             1.6.0\n",
      "numpy                    1.26.4\n",
      "openai                   0.28.0\n",
      "orjson                   3.10.6\n",
      "packaging                24.1\n",
      "pandas                   2.2.2\n",
      "parso                    0.8.4\n",
      "pillow                   10.4.0\n",
      "pip                      24.0\n",
      "platformdirs             4.2.2\n",
      "prompt_toolkit           3.0.47\n",
      "psutil                   6.0.0\n",
      "pure-eval                0.2.2\n",
      "pydantic                 2.8.2\n",
      "pydantic_core            2.20.1\n",
      "Pygments                 2.18.0\n",
      "pyparsing                3.1.2\n",
      "python-dateutil          2.9.0.post0\n",
      "python-dotenv            1.0.1\n",
      "python-telegram-bot      20.0\n",
      "pytz                     2024.1\n",
      "pywin32                  306\n",
      "PyYAML                   6.0.1\n",
      "pyzmq                    26.0.3\n",
      "requests                 2.32.3\n",
      "rfc3986                  1.5.0\n",
      "scipy                    1.14.0\n",
      "six                      1.16.0\n",
      "sniffio                  1.3.1\n",
      "SQLAlchemy               2.0.31\n",
      "stack-data               0.6.3\n",
      "sympy                    1.13.0\n",
      "tenacity                 8.5.0\n",
      "tornado                  6.4.1\n",
      "tqdm                     4.66.4\n",
      "traitlets                5.14.3\n",
      "typing_extensions        4.12.2\n",
      "typing-inspect           0.9.0\n",
      "tzdata                   2024.1\n",
      "urllib3                  2.2.2\n",
      "wcwidth                  0.2.13\n",
      "yarl                     1.9.4\n",
      "Note: you may need to restart the kernel to use updated packages.\n"
     ]
    },
    {
     "name": "stderr",
     "output_type": "stream",
     "text": [
      "\n",
      "[notice] A new release of pip is available: 24.0 -> 24.3.1\n",
      "[notice] To update, run: python.exe -m pip install --upgrade pip\n"
     ]
    }
   ],
   "source": [
    "pip list"
   ]
  },
  {
   "cell_type": "markdown",
   "metadata": {},
   "source": [
    "Theorieaufgabe 1: \n",
    "Im Folgenden nutze ich sympy und Latex zum Darstellen der Mathematischen zusammenänge. Ich dennoch versuchen so zu arbeiten, als würde ich Handschriftlich mit Taschenrechner arbeiten um das Resultat nicht zu sehr zu verzerren."
   ]
  },
  {
   "cell_type": "markdown",
   "metadata": {},
   "source": [
    "1.1. Darstellung von Zahlen als Gleitkommazahl."
   ]
  },
  {
   "cell_type": "code",
   "execution_count": 54,
   "metadata": {},
   "outputs": [],
   "source": [
    "def display_as_gleitkommazahl(zahl):\n",
    "    print(f\"Im Folgenden wird die binäre Gleitkommazahl von der Dezimalzahl n = {zahl} dargestellt\")\n",
    "    print(\"Als erstes möchte ich die größte Potenz von 2 finden, die kleiner als die Zahl ist.\")\n",
    "    n = sp.symbols('n')\n",
    "    expr = sp.log(n)/sp.log(2)\n",
    "    answer = \" \" + str(expr) + \" = \" + str(expr.evalf(subs={n: zahl}))\n",
    "    print(answer)\n",
    "    exponent = int(expr.evalf(subs={n: zahl}))\n",
    "    print(\"Somit ist 2^\" + str(int(expr.evalf(subs={n: zahl}))) + \" = \" + str(2**int(expr.evalf(subs={n: zahl}))) + \" < \" + str(zahl) + \".\")\n",
    "    binary = \"\"\n",
    "    while(zahl > 0):\n",
    "        binarstelle = int(zahl/2**exponent)\n",
    "        next_zahl = zahl % 2**exponent\n",
    "        binary = binary + str(binarstelle)\n",
    "        print(f\"{zahl:10} : 2^{exponent:<4} = {binarstelle} + Rest {next_zahl}\")\n",
    "        zahl = next_zahl\n",
    "        exponent = exponent - 1\n",
    "        if exponent == -1:\n",
    "            binary = binary + \".\"\n",
    "    print(\"Somit ist die Binäre Zahl \" + binary)\n",
    "    shift = binary.find(\".\") - 1\n",
    "    print(\"Die Zahl wird nun normalisiert, indem der Punkt verschoben wird.\")\n",
    "    binary = binary.replace(\".\", \"\")\n",
    "    binary = binary[:1] + \".\" + binary[1:]\n",
    "    print(\"Die normalisierte Binärzahl ist \" + binary + \" *2^\" + str(shift))\n",
    "    return binary, shift\n",
    "\n",
    "def display_as_dezimal(binary, shift):\n",
    "    zahl = 0\n",
    "    binary.replace(\".\", \"\")\n",
    "    for i, ziffer in enumerate(binary):\n",
    "        zahl = zahl + int(ziffer)*2**(shift - i)\n",
    "    print(\"Zum Testen mache ich die Rückwandlung in eine Dezimalzahl.\")\n",
    "    print(\"Die Binärzahl \" + str(binary)+ \" *2^\" + str(shift) + \" entspricht der Dezimalzahl \" + str(zahl))\n"
   ]
  },
  {
   "cell_type": "code",
   "execution_count": 55,
   "metadata": {},
   "outputs": [
    {
     "name": "stdout",
     "output_type": "stream",
     "text": [
      "Im Folgenden wird die binäre Gleitkommazahl von der Dezimalzahl n = 275 dargestellt\n",
      "Als erstes möchte ich die größte Potenz von 2 finden, die kleiner als die Zahl ist.\n",
      " log(n)/log(2) = 8.10328780841202\n",
      "Somit ist 2^8 = 256 < 275.\n",
      "       275 : 2^8    = 1 + Rest 19\n",
      "        19 : 2^7    = 0 + Rest 19\n",
      "        19 : 2^6    = 0 + Rest 19\n",
      "        19 : 2^5    = 0 + Rest 19\n",
      "        19 : 2^4    = 1 + Rest 3\n",
      "         3 : 2^3    = 0 + Rest 3\n",
      "         3 : 2^2    = 0 + Rest 3\n",
      "         3 : 2^1    = 1 + Rest 1\n",
      "         1 : 2^0    = 1 + Rest 0\n",
      "Somit ist die Binäre Zahl 100010011.\n",
      "Die Zahl wird nun normalisiert, indem der Punkt verschoben wird.\n",
      "Die normalisierte Binärzahl ist 1.00010011 *2^8\n",
      "Zum Testen mache ich die Rückwandlung in eine Dezimalzahl.\n",
      "Die Binärzahl 1.00010011 *2^8 entspricht der Dezimalzahl 265.5\n"
     ]
    }
   ],
   "source": [
    "res = display_as_gleitkommazahl(275)\n",
    "display_as_dezimal(res[0], res[1])"
   ]
  },
  {
   "cell_type": "code",
   "execution_count": 56,
   "metadata": {},
   "outputs": [
    {
     "name": "stdout",
     "output_type": "stream",
     "text": [
      "Im Folgenden wird die binäre Gleitkommazahl von der Dezimalzahl n = 0.1 dargestellt\n",
      "Als erstes möchte ich die größte Potenz von 2 finden, die kleiner als die Zahl ist.\n",
      " log(n)/log(2) = -3.32192809488736\n",
      "Somit ist 2^-3 = 0.125 < 0.1.\n",
      "       0.1 : 2^-3   = 0 + Rest 0.1\n",
      "       0.1 : 2^-4   = 1 + Rest 0.037500000000000006\n",
      "0.037500000000000006 : 2^-5   = 1 + Rest 0.0062500000000000056\n",
      "0.0062500000000000056 : 2^-6   = 0 + Rest 0.0062500000000000056\n",
      "0.0062500000000000056 : 2^-7   = 0 + Rest 0.0062500000000000056\n",
      "0.0062500000000000056 : 2^-8   = 1 + Rest 0.0023437500000000056\n",
      "0.0023437500000000056 : 2^-9   = 1 + Rest 0.00039062500000000555\n",
      "0.00039062500000000555 : 2^-10  = 0 + Rest 0.00039062500000000555\n",
      "0.00039062500000000555 : 2^-11  = 0 + Rest 0.00039062500000000555\n",
      "0.00039062500000000555 : 2^-12  = 1 + Rest 0.00014648437500000555\n",
      "0.00014648437500000555 : 2^-13  = 1 + Rest 2.441406250000555e-05\n",
      "2.441406250000555e-05 : 2^-14  = 0 + Rest 2.441406250000555e-05\n",
      "2.441406250000555e-05 : 2^-15  = 0 + Rest 2.441406250000555e-05\n",
      "2.441406250000555e-05 : 2^-16  = 1 + Rest 9.155273437505551e-06\n",
      "9.155273437505551e-06 : 2^-17  = 1 + Rest 1.5258789062555511e-06\n",
      "1.5258789062555511e-06 : 2^-18  = 0 + Rest 1.5258789062555511e-06\n",
      "1.5258789062555511e-06 : 2^-19  = 0 + Rest 1.5258789062555511e-06\n",
      "1.5258789062555511e-06 : 2^-20  = 1 + Rest 5.722045898493011e-07\n",
      "5.722045898493011e-07 : 2^-21  = 1 + Rest 9.536743164617612e-08\n",
      "9.536743164617612e-08 : 2^-22  = 0 + Rest 9.536743164617612e-08\n",
      "9.536743164617612e-08 : 2^-23  = 0 + Rest 9.536743164617612e-08\n",
      "9.536743164617612e-08 : 2^-24  = 1 + Rest 3.576278687078549e-08\n",
      "3.576278687078549e-08 : 2^-25  = 1 + Rest 5.960464483090178e-09\n",
      "5.960464483090178e-09 : 2^-26  = 0 + Rest 5.960464483090178e-09\n",
      "5.960464483090178e-09 : 2^-27  = 0 + Rest 5.960464483090178e-09\n",
      "5.960464483090178e-09 : 2^-28  = 1 + Rest 2.2351741846282636e-09\n",
      "2.2351741846282636e-09 : 2^-29  = 1 + Rest 3.7252903539730653e-10\n",
      "3.7252903539730653e-10 : 2^-30  = 0 + Rest 3.7252903539730653e-10\n",
      "3.7252903539730653e-10 : 2^-31  = 0 + Rest 3.7252903539730653e-10\n",
      "3.7252903539730653e-10 : 2^-32  = 1 + Rest 1.396983917434369e-10\n",
      "1.396983917434369e-10 : 2^-33  = 1 + Rest 2.3283069916502086e-11\n",
      "2.3283069916502086e-11 : 2^-34  = 0 + Rest 2.3283069916502086e-11\n",
      "2.3283069916502086e-11 : 2^-35  = 0 + Rest 2.3283069916502086e-11\n",
      "2.3283069916502086e-11 : 2^-36  = 1 + Rest 8.731154688135234e-12\n",
      "8.731154688135234e-12 : 2^-37  = 1 + Rest 1.4551970739518083e-12\n",
      "1.4551970739518083e-12 : 2^-38  = 0 + Rest 1.4551970739518083e-12\n",
      "1.4551970739518083e-12 : 2^-39  = 0 + Rest 1.4551970739518083e-12\n",
      "1.4551970739518083e-12 : 2^-40  = 1 + Rest 5.457023721788801e-13\n",
      "5.457023721788801e-13 : 2^-41  = 1 + Rest 9.095502129241595e-14\n",
      "9.095502129241595e-14 : 2^-42  = 0 + Rest 9.095502129241595e-14\n",
      "9.095502129241595e-14 : 2^-43  = 0 + Rest 9.095502129241595e-14\n",
      "9.095502129241595e-14 : 2^-44  = 1 + Rest 3.4111602431607935e-14\n",
      "3.4111602431607935e-14 : 2^-45  = 1 + Rest 5.689893001203927e-15\n",
      "5.689893001203927e-15 : 2^-46  = 0 + Rest 5.689893001203927e-15\n",
      "5.689893001203927e-15 : 2^-47  = 0 + Rest 5.689893001203927e-15\n",
      "5.689893001203927e-15 : 2^-48  = 1 + Rest 2.1371793224034263e-15\n",
      "2.1371793224034263e-15 : 2^-49  = 1 + Rest 3.608224830031759e-16\n",
      "3.608224830031759e-16 : 2^-50  = 0 + Rest 3.608224830031759e-16\n",
      "3.608224830031759e-16 : 2^-51  = 0 + Rest 3.608224830031759e-16\n",
      "3.608224830031759e-16 : 2^-52  = 1 + Rest 1.3877787807814457e-16\n",
      "1.3877787807814457e-16 : 2^-53  = 1 + Rest 2.7755575615628914e-17\n",
      "2.7755575615628914e-17 : 2^-54  = 0 + Rest 2.7755575615628914e-17\n",
      "2.7755575615628914e-17 : 2^-55  = 1 + Rest 0.0\n",
      "Somit ist die Binäre Zahl 01100110011001100110011001100110011001100110011001101\n",
      "Die Zahl wird nun normalisiert, indem der Punkt verschoben wird.\n",
      "Die normalisierte Binärzahl ist 0.1100110011001100110011001100110011001100110011001101 *2^-2\n",
      "Zum Testen mache ich die Rückwandlung in eine Dezimalzahl.\n",
      "Die Binärzahl 0.1100110011001100110011001100110011001100110011001101 *2^-2 entspricht der Dezimalzahl 0.1\n"
     ]
    }
   ],
   "source": [
    "res = display_as_gleitkommazahl(0.1)\n",
    "display_as_dezimal(res[0], res[1])"
   ]
  },
  {
   "cell_type": "code",
   "execution_count": 57,
   "metadata": {},
   "outputs": [
    {
     "name": "stdout",
     "output_type": "stream",
     "text": [
      "Im Folgenden wird die binäre Gleitkommazahl von der Dezimalzahl n = 12.125 dargestellt\n",
      "Als erstes möchte ich die größte Potenz von 2 finden, die kleiner als die Zahl ist.\n",
      " log(n)/log(2) = 3.59991284218713\n",
      "Somit ist 2^3 = 8 < 12.125.\n",
      "    12.125 : 2^3    = 1 + Rest 4.125\n",
      "     4.125 : 2^2    = 1 + Rest 0.125\n",
      "     0.125 : 2^1    = 0 + Rest 0.125\n",
      "     0.125 : 2^0    = 0 + Rest 0.125\n",
      "     0.125 : 2^-1   = 0 + Rest 0.125\n",
      "     0.125 : 2^-2   = 0 + Rest 0.125\n",
      "     0.125 : 2^-3   = 1 + Rest 0.0\n",
      "Somit ist die Binäre Zahl 1100.001\n",
      "Die Zahl wird nun normalisiert, indem der Punkt verschoben wird.\n",
      "Die normalisierte Binärzahl ist 1.100001 *2^3\n",
      "Zum Testen mache ich die Rückwandlung in eine Dezimalzahl.\n",
      "Die Binärzahl 1.100001 *2^3 entspricht der Dezimalzahl 10.0625\n"
     ]
    }
   ],
   "source": [
    "res = display_as_gleitkommazahl(12.125)\n",
    "display_as_dezimal(res[0], res[1])"
   ]
  },
  {
   "cell_type": "code",
   "execution_count": 58,
   "metadata": {},
   "outputs": [
    {
     "name": "stdout",
     "output_type": "stream",
     "text": [
      "log(x)\n",
      "2.30258509299405\n"
     ]
    }
   ],
   "source": []
  },
  {
   "cell_type": "code",
   "execution_count": 59,
   "metadata": {},
   "outputs": [
    {
     "name": "stdout",
     "output_type": "stream",
     "text": [
      "0\n"
     ]
    }
   ],
   "source": []
  }
 ],
 "metadata": {
  "kernelspec": {
   "display_name": "Python 3",
   "language": "python",
   "name": "python3"
  },
  "language_info": {
   "codemirror_mode": {
    "name": "ipython",
    "version": 3
   },
   "file_extension": ".py",
   "mimetype": "text/x-python",
   "name": "python",
   "nbconvert_exporter": "python",
   "pygments_lexer": "ipython3",
   "version": "3.12.2"
  }
 },
 "nbformat": 4,
 "nbformat_minor": 2
}
