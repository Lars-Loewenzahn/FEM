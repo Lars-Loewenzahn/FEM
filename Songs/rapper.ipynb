{
 "cells": [
  {
   "cell_type": "code",
   "execution_count": 2,
   "id": "b53d95f6",
   "metadata": {},
   "outputs": [
    {
     "ename": "ModuleNotFoundError",
     "evalue": "No module named 'wordfreq'",
     "output_type": "error",
     "traceback": [
      "\u001b[31m---------------------------------------------------------------------------\u001b[39m",
      "\u001b[31mModuleNotFoundError\u001b[39m                       Traceback (most recent call last)",
      "\u001b[36mCell\u001b[39m\u001b[36m \u001b[39m\u001b[32mIn[2]\u001b[39m\u001b[32m, line 2\u001b[39m\n\u001b[32m      1\u001b[39m \u001b[38;5;28;01mimport\u001b[39;00m\u001b[38;5;250m \u001b[39m\u001b[34;01mpandas\u001b[39;00m\u001b[38;5;250m \u001b[39m\u001b[38;5;28;01mas\u001b[39;00m\u001b[38;5;250m \u001b[39m\u001b[34;01mpd\u001b[39;00m\n\u001b[32m----> \u001b[39m\u001b[32m2\u001b[39m \u001b[38;5;28;01mfrom\u001b[39;00m\u001b[38;5;250m \u001b[39m\u001b[34;01mwordfreq\u001b[39;00m\u001b[38;5;250m \u001b[39m\u001b[38;5;28;01mimport\u001b[39;00m top_n_list\n\u001b[32m      3\u001b[39m \u001b[38;5;28;01mimport\u001b[39;00m\u001b[38;5;250m \u001b[39m\u001b[34;01mpyphen\u001b[39;00m\n\u001b[32m      4\u001b[39m \u001b[38;5;28;01mimport\u001b[39;00m\u001b[38;5;250m \u001b[39m\u001b[34;01mdifflib\u001b[39;00m\n",
      "\u001b[31mModuleNotFoundError\u001b[39m: No module named 'wordfreq'"
     ]
    }
   ],
   "source": [
    "import pandas as pd\n",
    "from wordfreq import top_n_list\n",
    "import pyphen\n",
    "import difflib\n",
    "import pronouncing\n",
    "import string\n",
    "from itertools import zip_longest\n"
   ]
  },
  {
   "cell_type": "code",
   "execution_count": null,
   "id": "40f9416d",
   "metadata": {},
   "outputs": [
    {
     "name": "stdout",
     "output_type": "stream",
     "text": [
      "(500000, 3)\n"
     ]
    }
   ],
   "source": [
    "\n",
    "def load_german_words(n=500_000):\n",
    "    # Lade die ersten n deutschen Wörter\n",
    "    words = top_n_list('de', n=n)[:n]\n",
    "    # Silbentrennung\n",
    "    dic = pyphen.Pyphen(lang='de')\n",
    "    syllables = [dic.inserted(w).split('-') for w in words]\n",
    "    syllable_counts = [len(s) for s in syllables]\n",
    "    # DataFrame: Wort, Silbenliste, Silbenanzahl\n",
    "    df = pd.DataFrame({\n",
    "        'word': words,\n",
    "        'syllables': syllables,\n",
    "        'syllable_count': syllable_counts\n",
    "    })\n",
    "    return df\n",
    "\n",
    "# Initiales DataFrame erstellen\n",
    "df = load_german_words()\n",
    "\n",
    "def add_column(func):\n",
    "    \"\"\"\n",
    "    Fügt dem globalen DataFrame df eine neue Spalte hinzu.\n",
    "    func: Funktion, die auf jedes Wort (df['word']) angewendet wird.\n",
    "    \"\"\"\n",
    "    global df\n",
    "    new_col = df['word'].apply(func)\n",
    "    df[new_col.name if hasattr(new_col, 'name') and new_col.name else 'new_col'] = new_col\n",
    "    return df\n",
    "\n",
    "# Beispiel: Neue Spalte mit Großschreibung\n",
    "# df = add_column(lambda w: w.upper())\n",
    "print(df.shape)  # (500000, 4)"
   ]
  },
  {
   "cell_type": "code",
   "execution_count": null,
   "id": "d936aea3",
   "metadata": {},
   "outputs": [],
   "source": [
    "path = \"words_pandas\"\n",
    "\n",
    "def load_dataframe(path):\n",
    "    \"\"\"\n",
    "    Lädt das DataFrame von path.csv zurück.\n",
    "    \"\"\"\n",
    "    return pd.read_csv(path + '.csv')\n",
    "\n",
    "df = load_dataframe(path)"
   ]
  },
  {
   "cell_type": "code",
   "execution_count": null,
   "id": "6be7d60b",
   "metadata": {},
   "outputs": [],
   "source": [
    "path = \"words_pandas\"\n",
    "df.to_csv(path + \".csv\", index=False)"
   ]
  },
  {
   "cell_type": "code",
   "execution_count": null,
   "id": "7344069b",
   "metadata": {},
   "outputs": [
    {
     "name": "stdout",
     "output_type": "stream",
     "text": [
      "0.8\n"
     ]
    }
   ],
   "source": [
    "def rhyme_score(syl1: str, syl2: str) -> float:\n",
    "    \"\"\"\n",
    "    Berechnet einen Rhyme-Score (0.0–1.0) zweier Silben,\n",
    "    basierend auf ihrer Suffix-Ähnlichkeit.\n",
    "    Je mehr gleiche Endungen, desto höher der Score.\n",
    "    \"\"\"\n",
    "    # Umkehrung, damit Suffixe zu Präfixen werden\n",
    "    rev1, rev2 = syl1[::-1], syl2[::-1]\n",
    "    matcher = difflib.SequenceMatcher(None, rev1, rev2)\n",
    "    return matcher.ratio()\n",
    "\n",
    "ryhme = rhyme_score(\"raus\",\"rausch\")\n",
    "print(ryhme)"
   ]
  },
  {
   "cell_type": "code",
   "execution_count": null,
   "id": "e76751c9",
   "metadata": {},
   "outputs": [
    {
     "name": "stdout",
     "output_type": "stream",
     "text": [
      "10\n",
      "0100\n"
     ]
    }
   ],
   "source": [
    "def get_stress_pattern_en(w):\n",
    "    # z.B. [\"1010\"] für \"analysis\"\n",
    "    patterns = pronouncing.stresses_for_word(w.lower())\n",
    "    return patterns[0] if patterns else None\n",
    "\n",
    "print(get_stress_pattern_en(\"Geister\"))  # \"1010\" → Betonung auf Silbe 1 und 3\n",
    "print(get_stress_pattern_en(\"paralysis\"))"
   ]
  },
  {
   "cell_type": "code",
   "execution_count": null,
   "id": "9cdf6f61",
   "metadata": {},
   "outputs": [
    {
     "ename": "RuntimeError",
     "evalue": "espeak not installed on your system",
     "output_type": "error",
     "traceback": [
      "\u001b[31m---------------------------------------------------------------------------\u001b[39m",
      "\u001b[31mRuntimeError\u001b[39m                              Traceback (most recent call last)",
      "\u001b[36mCell\u001b[39m\u001b[36m \u001b[39m\u001b[32mIn[7]\u001b[39m\u001b[32m, line 13\u001b[39m\n\u001b[32m     10\u001b[39m     \u001b[38;5;66;03m# z.B. \"aˈna.lyː.zə\"\u001b[39;00m\n\u001b[32m     11\u001b[39m     \u001b[38;5;28;01mreturn\u001b[39;00m ipa\n\u001b[32m---> \u001b[39m\u001b[32m13\u001b[39m \u001b[38;5;28mprint\u001b[39m(\u001b[43mget_stress_pattern_de\u001b[49m\u001b[43m(\u001b[49m\u001b[33;43m\"\u001b[39;49m\u001b[33;43mAnalyse\u001b[39;49m\u001b[33;43m\"\u001b[39;49m\u001b[43m)\u001b[49m)  \u001b[38;5;66;03m# z.B. aˈna.lyː.zə\u001b[39;00m\n\u001b[32m     14\u001b[39m \u001b[38;5;28mprint\u001b[39m(get_stress_pattern_de(\u001b[33m\"\u001b[39m\u001b[33mDeine Mama riecht nach Fisch\u001b[39m\u001b[33m\"\u001b[39m))\n",
      "\u001b[36mCell\u001b[39m\u001b[36m \u001b[39m\u001b[32mIn[7]\u001b[39m\u001b[32m, line 5\u001b[39m, in \u001b[36mget_stress_pattern_de\u001b[39m\u001b[34m(word)\u001b[39m\n\u001b[32m      3\u001b[39m \u001b[38;5;28;01mdef\u001b[39;00m\u001b[38;5;250m \u001b[39m\u001b[34mget_stress_pattern_de\u001b[39m(word):\n\u001b[32m      4\u001b[39m     \u001b[38;5;66;03m# liefert IPA mit primären Stress‐Markern ˈ\u001b[39;00m\n\u001b[32m----> \u001b[39m\u001b[32m5\u001b[39m     ipa = \u001b[43mphonemize\u001b[49m\u001b[43m(\u001b[49m\u001b[43mword\u001b[49m\u001b[43m,\u001b[49m\n\u001b[32m      6\u001b[39m \u001b[43m                    \u001b[49m\u001b[43mlanguage\u001b[49m\u001b[43m=\u001b[49m\u001b[33;43m'\u001b[39;49m\u001b[33;43mde\u001b[39;49m\u001b[33;43m'\u001b[39;49m\u001b[43m,\u001b[49m\n\u001b[32m      7\u001b[39m \u001b[43m                    \u001b[49m\u001b[43mbackend\u001b[49m\u001b[43m=\u001b[49m\u001b[33;43m'\u001b[39;49m\u001b[33;43mespeak\u001b[39;49m\u001b[33;43m'\u001b[39;49m\u001b[43m,\u001b[49m\n\u001b[32m      8\u001b[39m \u001b[43m                    \u001b[49m\u001b[43mwith_stress\u001b[49m\u001b[43m=\u001b[49m\u001b[38;5;28;43;01mTrue\u001b[39;49;00m\u001b[43m,\u001b[49m\n\u001b[32m      9\u001b[39m \u001b[43m                    \u001b[49m\u001b[43mstrip\u001b[49m\u001b[43m=\u001b[49m\u001b[38;5;28;43;01mTrue\u001b[39;49;00m\u001b[43m)\u001b[49m\n\u001b[32m     10\u001b[39m     \u001b[38;5;66;03m# z.B. \"aˈna.lyː.zə\"\u001b[39;00m\n\u001b[32m     11\u001b[39m     \u001b[38;5;28;01mreturn\u001b[39;00m ipa\n",
      "\u001b[36mFile \u001b[39m\u001b[32mc:\\Users\\Lars\\Documents\\GitHub\\Automated Rapper\\venv\\Lib\\site-packages\\phonemizer\\phonemize.py:206\u001b[39m, in \u001b[36mphonemize\u001b[39m\u001b[34m(text, language, backend, separator, strip, prepend_text, preserve_empty_lines, preserve_punctuation, punctuation_marks, with_stress, tie, language_switch, words_mismatch, njobs, logger)\u001b[39m\n\u001b[32m    204\u001b[39m \u001b[38;5;66;03m# initialize the phonemization backend\u001b[39;00m\n\u001b[32m    205\u001b[39m \u001b[38;5;28;01mif\u001b[39;00m backend == \u001b[33m'\u001b[39m\u001b[33mespeak\u001b[39m\u001b[33m'\u001b[39m:\n\u001b[32m--> \u001b[39m\u001b[32m206\u001b[39m     phonemizer = \u001b[43mBACKENDS\u001b[49m\u001b[43m[\u001b[49m\u001b[43mbackend\u001b[49m\u001b[43m]\u001b[49m\u001b[43m(\u001b[49m\n\u001b[32m    207\u001b[39m \u001b[43m        \u001b[49m\u001b[43mlanguage\u001b[49m\u001b[43m,\u001b[49m\n\u001b[32m    208\u001b[39m \u001b[43m        \u001b[49m\u001b[43mpunctuation_marks\u001b[49m\u001b[43m=\u001b[49m\u001b[43mpunctuation_marks\u001b[49m\u001b[43m,\u001b[49m\n\u001b[32m    209\u001b[39m \u001b[43m        \u001b[49m\u001b[43mpreserve_punctuation\u001b[49m\u001b[43m=\u001b[49m\u001b[43mpreserve_punctuation\u001b[49m\u001b[43m,\u001b[49m\n\u001b[32m    210\u001b[39m \u001b[43m        \u001b[49m\u001b[43mwith_stress\u001b[49m\u001b[43m=\u001b[49m\u001b[43mwith_stress\u001b[49m\u001b[43m,\u001b[49m\n\u001b[32m    211\u001b[39m \u001b[43m        \u001b[49m\u001b[43mtie\u001b[49m\u001b[43m=\u001b[49m\u001b[43mtie\u001b[49m\u001b[43m,\u001b[49m\n\u001b[32m    212\u001b[39m \u001b[43m        \u001b[49m\u001b[43mlanguage_switch\u001b[49m\u001b[43m=\u001b[49m\u001b[43mlanguage_switch\u001b[49m\u001b[43m,\u001b[49m\n\u001b[32m    213\u001b[39m \u001b[43m        \u001b[49m\u001b[43mwords_mismatch\u001b[49m\u001b[43m=\u001b[49m\u001b[43mwords_mismatch\u001b[49m\u001b[43m,\u001b[49m\n\u001b[32m    214\u001b[39m \u001b[43m        \u001b[49m\u001b[43mlogger\u001b[49m\u001b[43m=\u001b[49m\u001b[43mlogger\u001b[49m\u001b[43m)\u001b[49m\n\u001b[32m    215\u001b[39m \u001b[38;5;28;01melif\u001b[39;00m backend == \u001b[33m'\u001b[39m\u001b[33mespeak-mbrola\u001b[39m\u001b[33m'\u001b[39m:\n\u001b[32m    216\u001b[39m     phonemizer = BACKENDS[backend](\n\u001b[32m    217\u001b[39m         language,\n\u001b[32m    218\u001b[39m         logger=logger)\n",
      "\u001b[36mFile \u001b[39m\u001b[32mc:\\Users\\Lars\\Documents\\GitHub\\Automated Rapper\\venv\\Lib\\site-packages\\phonemizer\\backend\\espeak\\espeak.py:45\u001b[39m, in \u001b[36mEspeakBackend.__init__\u001b[39m\u001b[34m(self, language, punctuation_marks, preserve_punctuation, with_stress, tie, language_switch, words_mismatch, logger)\u001b[39m\n\u001b[32m     37\u001b[39m \u001b[38;5;28;01mdef\u001b[39;00m\u001b[38;5;250m \u001b[39m\u001b[34m__init__\u001b[39m(\u001b[38;5;28mself\u001b[39m, language: \u001b[38;5;28mstr\u001b[39m,\n\u001b[32m     38\u001b[39m              punctuation_marks: Optional[Union[\u001b[38;5;28mstr\u001b[39m, Pattern]] = \u001b[38;5;28;01mNone\u001b[39;00m,\n\u001b[32m     39\u001b[39m              preserve_punctuation: \u001b[38;5;28mbool\u001b[39m = \u001b[38;5;28;01mFalse\u001b[39;00m,\n\u001b[32m   (...)\u001b[39m\u001b[32m     43\u001b[39m              words_mismatch: WordMismatch = \u001b[33m'\u001b[39m\u001b[33mignore\u001b[39m\u001b[33m'\u001b[39m,\n\u001b[32m     44\u001b[39m              logger: Optional[Logger] = \u001b[38;5;28;01mNone\u001b[39;00m):\n\u001b[32m---> \u001b[39m\u001b[32m45\u001b[39m     \u001b[38;5;28;43msuper\u001b[39;49m\u001b[43m(\u001b[49m\u001b[43m)\u001b[49m\u001b[43m.\u001b[49m\u001b[34;43m__init__\u001b[39;49m\u001b[43m(\u001b[49m\n\u001b[32m     46\u001b[39m \u001b[43m        \u001b[49m\u001b[43mlanguage\u001b[49m\u001b[43m,\u001b[49m\u001b[43m \u001b[49m\u001b[43mpunctuation_marks\u001b[49m\u001b[43m=\u001b[49m\u001b[43mpunctuation_marks\u001b[49m\u001b[43m,\u001b[49m\n\u001b[32m     47\u001b[39m \u001b[43m        \u001b[49m\u001b[43mpreserve_punctuation\u001b[49m\u001b[43m=\u001b[49m\u001b[43mpreserve_punctuation\u001b[49m\u001b[43m,\u001b[49m\u001b[43m \u001b[49m\u001b[43mlogger\u001b[49m\u001b[43m=\u001b[49m\u001b[43mlogger\u001b[49m\u001b[43m)\u001b[49m\n\u001b[32m     49\u001b[39m     \u001b[38;5;28mself\u001b[39m._espeak.set_voice(language)\n\u001b[32m     50\u001b[39m     \u001b[38;5;28mself\u001b[39m._with_stress = with_stress\n",
      "\u001b[36mFile \u001b[39m\u001b[32mc:\\Users\\Lars\\Documents\\GitHub\\Automated Rapper\\venv\\Lib\\site-packages\\phonemizer\\backend\\espeak\\base.py:39\u001b[39m, in \u001b[36mBaseEspeakBackend.__init__\u001b[39m\u001b[34m(self, language, punctuation_marks, preserve_punctuation, logger)\u001b[39m\n\u001b[32m     35\u001b[39m \u001b[38;5;28;01mdef\u001b[39;00m\u001b[38;5;250m \u001b[39m\u001b[34m__init__\u001b[39m(\u001b[38;5;28mself\u001b[39m, language: \u001b[38;5;28mstr\u001b[39m,\n\u001b[32m     36\u001b[39m              punctuation_marks: Optional[Union[\u001b[38;5;28mstr\u001b[39m, Pattern]] = \u001b[38;5;28;01mNone\u001b[39;00m,\n\u001b[32m     37\u001b[39m              preserve_punctuation: \u001b[38;5;28mbool\u001b[39m = \u001b[38;5;28;01mFalse\u001b[39;00m,\n\u001b[32m     38\u001b[39m              logger: Optional[Logger] = \u001b[38;5;28;01mNone\u001b[39;00m):\n\u001b[32m---> \u001b[39m\u001b[32m39\u001b[39m     \u001b[38;5;28;43msuper\u001b[39;49m\u001b[43m(\u001b[49m\u001b[43m)\u001b[49m\u001b[43m.\u001b[49m\u001b[34;43m__init__\u001b[39;49m\u001b[43m(\u001b[49m\n\u001b[32m     40\u001b[39m \u001b[43m        \u001b[49m\u001b[43mlanguage\u001b[49m\u001b[43m,\u001b[49m\n\u001b[32m     41\u001b[39m \u001b[43m        \u001b[49m\u001b[43mpunctuation_marks\u001b[49m\u001b[43m=\u001b[49m\u001b[43mpunctuation_marks\u001b[49m\u001b[43m,\u001b[49m\n\u001b[32m     42\u001b[39m \u001b[43m        \u001b[49m\u001b[43mpreserve_punctuation\u001b[49m\u001b[43m=\u001b[49m\u001b[43mpreserve_punctuation\u001b[49m\u001b[43m,\u001b[49m\n\u001b[32m     43\u001b[39m \u001b[43m        \u001b[49m\u001b[43mlogger\u001b[49m\u001b[43m=\u001b[49m\u001b[43mlogger\u001b[49m\u001b[43m)\u001b[49m\n\u001b[32m     45\u001b[39m     \u001b[38;5;28mself\u001b[39m._espeak = EspeakWrapper()\n\u001b[32m     46\u001b[39m     \u001b[38;5;28mself\u001b[39m.logger.debug(\u001b[33m'\u001b[39m\u001b[33mloaded \u001b[39m\u001b[38;5;132;01m%s\u001b[39;00m\u001b[33m'\u001b[39m, \u001b[38;5;28mself\u001b[39m._espeak.library_path)\n",
      "\u001b[36mFile \u001b[39m\u001b[32mc:\\Users\\Lars\\Documents\\GitHub\\Automated Rapper\\venv\\Lib\\site-packages\\phonemizer\\backend\\base.py:77\u001b[39m, in \u001b[36mBaseBackend.__init__\u001b[39m\u001b[34m(self, language, punctuation_marks, preserve_punctuation, logger)\u001b[39m\n\u001b[32m     75\u001b[39m \u001b[38;5;66;03m# ensure the backend is installed on the system\u001b[39;00m\n\u001b[32m     76\u001b[39m \u001b[38;5;28;01mif\u001b[39;00m \u001b[38;5;129;01mnot\u001b[39;00m \u001b[38;5;28mself\u001b[39m.is_available():\n\u001b[32m---> \u001b[39m\u001b[32m77\u001b[39m     \u001b[38;5;28;01mraise\u001b[39;00m \u001b[38;5;167;01mRuntimeError\u001b[39;00m(  \u001b[38;5;66;03m# pragma: nocover\u001b[39;00m\n\u001b[32m     78\u001b[39m         \u001b[33m'\u001b[39m\u001b[38;5;132;01m{}\u001b[39;00m\u001b[33m not installed on your system\u001b[39m\u001b[33m'\u001b[39m.format(\u001b[38;5;28mself\u001b[39m.name()))\n\u001b[32m     80\u001b[39m \u001b[38;5;28mself\u001b[39m._logger = logger\n\u001b[32m     81\u001b[39m \u001b[38;5;28mself\u001b[39m._logger.info(\n\u001b[32m     82\u001b[39m     \u001b[33m'\u001b[39m\u001b[33minitializing backend \u001b[39m\u001b[38;5;132;01m%s\u001b[39;00m\u001b[33m-\u001b[39m\u001b[38;5;132;01m%s\u001b[39;00m\u001b[33m'\u001b[39m,\n\u001b[32m     83\u001b[39m     \u001b[38;5;28mself\u001b[39m.name(), \u001b[33m'\u001b[39m\u001b[33m.\u001b[39m\u001b[33m'\u001b[39m.join(\u001b[38;5;28mstr\u001b[39m(v) \u001b[38;5;28;01mfor\u001b[39;00m v \u001b[38;5;129;01min\u001b[39;00m \u001b[38;5;28mself\u001b[39m.version()))\n",
      "\u001b[31mRuntimeError\u001b[39m: espeak not installed on your system"
     ]
    }
   ],
   "source": [
    "from phonemizer import phonemize\n",
    "\n",
    "def get_stress_pattern_de(word):\n",
    "    # liefert IPA mit primären Stress‐Markern ˈ\n",
    "    ipa = phonemize(word,\n",
    "                    language='de',\n",
    "                    backend='espeak',\n",
    "                    with_stress=True,\n",
    "                    strip=True)\n",
    "    # z.B. \"aˈna.lyː.zə\"\n",
    "    return ipa\n",
    "\n",
    "print(get_stress_pattern_de(\"Analyse\"))  # z.B. aˈna.lyː.zə\n",
    "print(get_stress_pattern_de(\"Deine Mama riecht nach Fisch\"))"
   ]
  },
  {
   "cell_type": "code",
   "execution_count": null,
   "id": "6cb22a35",
   "metadata": {},
   "outputs": [
    {
     "data": {
      "text/plain": [
       "['__author__',\n",
       " '__builtins__',\n",
       " '__cached__',\n",
       " '__doc__',\n",
       " '__email__',\n",
       " '__file__',\n",
       " '__loader__',\n",
       " '__name__',\n",
       " '__package__',\n",
       " '__path__',\n",
       " '__spec__',\n",
       " '__version__',\n",
       " '__warningregistry__',\n",
       " 'cmudict',\n",
       " 'collections',\n",
       " 'init_cmu',\n",
       " 'lookup',\n",
       " 'parse_cmu',\n",
       " 'phones_for_word',\n",
       " 'print_function',\n",
       " 'pronunciations',\n",
       " 're',\n",
       " 'resource_stream',\n",
       " 'rhyme_lookup',\n",
       " 'rhymes',\n",
       " 'rhyming_part',\n",
       " 'search',\n",
       " 'search_stresses',\n",
       " 'stresses',\n",
       " 'stresses_for_word',\n",
       " 'syllable_count']"
      ]
     },
     "execution_count": 22,
     "metadata": {},
     "output_type": "execute_result"
    }
   ],
   "source": [
    "dir(pronouncing)"
   ]
  },
  {
   "cell_type": "code",
   "execution_count": null,
   "id": "de79de10",
   "metadata": {},
   "outputs": [
    {
     "name": "stdout",
     "output_type": "stream",
     "text": [
      "['dau', 'er']\n"
     ]
    }
   ],
   "source": [
    "import pyphen\n",
    "\n",
    "dic = pyphen.Pyphen(lang='de')\n",
    "\n",
    "def get_syllables(word: str) -> list[str]:\n",
    "    # z.B. \"dauer\" → \"dau-er\"\n",
    "    return dic.inserted(word).split('-')\n",
    "\n",
    "print(get_syllables(\"dauer\"))   # ['dau', 'er']\n"
   ]
  },
  {
   "cell_type": "code",
   "execution_count": null,
   "id": "1bdf2eed",
   "metadata": {},
   "outputs": [
    {
     "name": "stdout",
     "output_type": "stream",
     "text": [
      "Collecting pyphen\n",
      "  Using cached pyphen-0.17.2-py3-none-any.whl.metadata (3.2 kB)\n",
      "Using cached pyphen-0.17.2-py3-none-any.whl (2.1 MB)\n",
      "Installing collected packages: pyphen\n",
      "Successfully installed pyphen-0.17.2\n",
      "Note: you may need to restart the kernel to use updated packages.\n"
     ]
    },
    {
     "name": "stderr",
     "output_type": "stream",
     "text": [
      "\n",
      "[notice] A new release of pip is available: 25.0.1 -> 25.1.1\n",
      "[notice] To update, run: python.exe -m pip install --upgrade pip\n"
     ]
    }
   ],
   "source": [
    "pip install pyphen"
   ]
  },
  {
   "cell_type": "code",
   "execution_count": 5,
   "id": "62ec275a",
   "metadata": {},
   "outputs": [
    {
     "name": "stdout",
     "output_type": "stream",
     "text": [
      "[' ', ' ', ' ', 'ich', 'ha', 'be', 'hun', 'ger', ' ', ' ', ' ', ' ', 'ich', 'will', 'es', 'sen']\n",
      "['sol', 'len', 'sich', 'mal', 'be', 'neh', 'men', 'als', 'volks', 'ver', 'het', 'zend', 'zu', 'wer', 'ten', 'ist']\n"
     ]
    }
   ],
   "source": [
    "import pyphen\n",
    "import string\n",
    "\n",
    "# Initialize the Pyphen hyphenator for German\n",
    "dic = pyphen.Pyphen(lang='de')\n",
    "\n",
    "def split_to_syls(line: str) -> list[str]:\n",
    "    \"\"\"\n",
    "    Splits a line marked with '*' at the 8th syllable into a fixed window:\n",
    "      – 7 syllables before the star (padded with \" \")\n",
    "      – the starred syllable\n",
    "      – 8 syllables after the star (padded with \" \")\n",
    "    Prints any word that Pyphen cannot hyphenate (no '-' inserted).\n",
    "    \"\"\"\n",
    "    # Remove punctuation except '*'\n",
    "    symbols = string.punctuation.replace('*', '')\n",
    "    symbols += \"„“-–\"\n",
    "    line_clean = line.translate(str.maketrans('', '', symbols))\n",
    "\n",
    "    # Check for star marker\n",
    "    if '*' not in line_clean:\n",
    "        #print(\"Keine Stern-Markierung gefunden.\")\n",
    "        words = line_clean.strip().lower().split()\n",
    "        syls = []\n",
    "        \n",
    "        for w in words:\n",
    "            hyph = dic.inserted(w)\n",
    "            #if '-' not in hyph:\n",
    "                #print(f\"Wort nicht getrennte Silben: {w}\")\n",
    "            syls.extend(hyph.split('-'))\n",
    "        #print(syls)\n",
    "        ans = []\n",
    "        #print(len(syls))\n",
    "        for i in range(16):\n",
    "            # print(len(syls) - 15  + i)\n",
    "            if  -1 < len(syls) - 16  + i:\n",
    "                ans.append(syls[len(syls) - 16  + i])\n",
    "            else:\n",
    "                ans.append(\" \")\n",
    "        return ans\n",
    "\n",
    "    before, after = line_clean.split('*', 1)\n",
    "    words_pre  = before.strip().lower().split()\n",
    "    words_post = after.strip().lower().split()\n",
    "\n",
    "    # Collect syllables before the star\n",
    "    syls_pre = []\n",
    "    for w in words_pre:\n",
    "        hyph = dic.inserted(w)\n",
    "        #if '-' not in hyph:\n",
    "            #print(f\"Wort nicht getrennte Silben: {w}\")\n",
    "        syls_pre.extend(hyph.split('-'))\n",
    "\n",
    "    # Collect syllables after the star\n",
    "    syls_post = []\n",
    "    for w in words_post:\n",
    "        hyph = dic.inserted(w)\n",
    "        #if '-' not in hyph:\n",
    "            #print(f\"Wort nicht getrennte Silben: {w}\")\n",
    "        syls_post.extend(hyph.split('-'))\n",
    "\n",
    "    # Starred syllable is the first of post\n",
    "    star_syl = syls_post[0] if syls_post else \"\"\n",
    "    rest_post = syls_post[1:] if len(syls_post) > 1 else []\n",
    "\n",
    "    # Build pre-window of last 7 syllables, padded left\n",
    "    pre_window = syls_pre[-7:]\n",
    "    pre_pad = [\" \"] * (7 - len(pre_window)) + pre_window\n",
    "\n",
    "    # Build post-window of first 8 syllables, padded left from end\n",
    "    post_window = rest_post[:8]\n",
    "    post_pad = [\" \"] * (8 - len(post_window)) + post_window\n",
    "\n",
    "    return pre_pad + [star_syl] + post_pad\n",
    "\n",
    "# Tests\n",
    "#print(split_to_syls(\"Ich habe Hun*ger\"))\n",
    "print(split_to_syls(\"Ich habe Hun*ger. Ich will essen\"))\n",
    "print(split_to_syls(\"auf dem der Satz „die sollen sich mal benehmen“ als volksverhetzend zu werten ist.\"))\n"
   ]
  },
  {
   "cell_type": "code",
   "execution_count": null,
   "id": "f6f41c75",
   "metadata": {},
   "outputs": [
    {
     "name": "stdout",
     "output_type": "stream",
     "text": [
      "!\"#$%&'()+,-./:;<=>?@[\\]^_`{|}~\n",
      "mir geht nicht die kohle aus *bin dauerhaft im mode rausch\n",
      "['mir', 'geht', 'nicht', 'die', 'koh', 'le', 'aus', 'dau', 'e', 'r', 'haft', 'im', 'mo', 'de', 'rausch']\n",
      "!\"#$%&'()+,-./:;<=>?@[\\]^_`{|}~\n",
      "ja ich bin immer obenauf *und ihr holt nur die drogen raus\n",
      "['ja', 'ich', 'bin', 'im', 'mer', 'oben', 'auf', 'ihr', 'holt', 'nur', 'die', 'dro', 'gen', 'raus']\n"
     ]
    }
   ],
   "source": [
    "def split_to_syls_old(line):\n",
    "    symbols = string.punctuation\n",
    "    symbols = symbols.replace(\"*\", \"\")\n",
    "    # print(symbols)\n",
    "    for symbol in symbols:\n",
    "        line = line.replace(symbol, \"\")\n",
    "    # line = line.translate(str.maketrans('', '', symbols))\n",
    "    print(line.lower())\n",
    "    words = line.lower().split(\" \")\n",
    "    l_syls = []\n",
    "    # Optional: schnelleres Lookup durch Index\n",
    "    syl_dict = df.set_index('word')['syllables'].to_dict()\n",
    "    for w in words:\n",
    "        if w in syl_dict:\n",
    "            l_syls.extend(syl_dict[w])\n",
    "        # Optional: sonst das Wort selbst anhängen oder überspringen\n",
    "        # else:\n",
    "        #     l_syls.append(w)\n",
    "    return l_syls\n",
    "print(split_to_syls(\"Mir geht nicht die Kohle aus. *Bin dauerhaft im Mode Rausch.\"))\n",
    "print(split_to_syls(\"Ja ich bin immer obenauf *und ihr holt nur die Drogen raus.\"))"
   ]
  },
  {
   "cell_type": "code",
   "execution_count": null,
   "id": "85d542c8",
   "metadata": {},
   "outputs": [
    {
     "data": {
      "text/plain": [
       "0.4918154761904762"
      ]
     },
     "execution_count": 159,
     "metadata": {},
     "output_type": "execute_result"
    }
   ],
   "source": [
    "def lines_rhymescore(l1, l2):\n",
    "    \"\"\"\n",
    "    Berechnet den mittleren Rhyme-Score, indem die Silben\n",
    "    von hinten nach vorne verglichen werden.\n",
    "    \"\"\"\n",
    "    l1_syls = split_to_syls(l1)\n",
    "    l2_syls = split_to_syls(l2)\n",
    "    if len(l2_syls) != 16:\n",
    "        factor = 0.5\n",
    "    else:\n",
    "        factor = 1\n",
    "    # reverse both lists and zip, fehlende mit \"\" füllen\n",
    "    pairs = zip_longest(reversed(l1_syls),\n",
    "                        reversed(l2_syls),\n",
    "                        fillvalue=\"\")\n",
    "\n",
    "    scores = [rhyme_score(s1, s2) for s1, s2 in pairs]\n",
    "    scores = scores[::-1]\n",
    "    scores[-3] *= 2\n",
    "    scores[-2] *= 3\n",
    "    scores[-1] *= 4\n",
    "    scores[-8] *= 3\n",
    "    # print(scores)\n",
    "    return factor*sum(scores) / len(scores) if scores else 0.0\n",
    "lines_rhymescore(\"Mir geht nicht die Kohle aus. *Bin dauerhaft im Mode Rausch.\", \"Ja ich bin immer obenauf *und ihr holt nur die Drogen raus.\")"
   ]
  },
  {
   "cell_type": "code",
   "execution_count": null,
   "id": "e9bab647",
   "metadata": {},
   "outputs": [
    {
     "name": "stdout",
     "output_type": "stream",
     "text": [
      "0.37569444444444444\n",
      "0.4262896825396825\n",
      "0.33154761904761904\n"
     ]
    }
   ],
   "source": [
    "zeilen = [\n",
    "    \"Die Nacht entfaltet sanfte Macht!\",\n",
    "    \"Der Mond hat still die Welt entfacht?\",\n",
    "    \"Die Sehnsucht lächelnd leise lacht.\",\n",
    "    \"Und Ruh' auf müde Seelen sacht,\"\n",
    "]\n",
    "for i in range(len(zeilen)-1):\n",
    "    print(lines_rhymescore(zeilen[i],zeilen[i+1]))"
   ]
  },
  {
   "cell_type": "code",
   "execution_count": null,
   "id": "15d3f681",
   "metadata": {},
   "outputs": [],
   "source": [
    "api_key = \"sk-proj-1UjM1KbantB6u7DWKKyOT3BlbkFJD88rUr7F3L3WY4urarTc\""
   ]
  },
  {
   "cell_type": "code",
   "execution_count": null,
   "id": "fa701814",
   "metadata": {},
   "outputs": [],
   "source": [
    "import re\n",
    "class ResultParser:\n",
    "    def __init__(self):\n",
    "        self.expressions = [\n",
    "            r\"<json>([\\s\\S]*?)<\\/json>\",\n",
    "            r\"```json\\s*([\\s\\S]*?)\\s*```\",\n",
    "            r\"(\\{[\\s\\S]*?\\})\",\n",
    "            r\"(\\[[\\s\\S]*?\\])\",\n",
    "        ]\n",
    "\n",
    "    def parse(self, result, key=None):\n",
    "        raw = result.get(\"raw\", result)\n",
    "        last_exception = None\n",
    "\n",
    "        for expression in self.expressions:\n",
    "            match = re.search(expression, raw, re.DOTALL | re.IGNORECASE)\n",
    "            if not match:\n",
    "                continue\n",
    "            json_candidate = match.group(1).strip()\n",
    "            try:\n",
    "                res = self._eval_candidate(json_candidate)\n",
    "                if isinstance(res, (dict, list)):\n",
    "                    return res\n",
    "            except Exception as exc:\n",
    "                last_exception = exc\n",
    "\n",
    "        print(\"Parsing failed\", last_exception)\n",
    "        return {}\n",
    "\n",
    "    def _eval_candidate(self, candidate):\n",
    "        safe = (\n",
    "            candidate.replace(\"null\", \"None\")\n",
    "            .replace(\"true\", \"True\")\n",
    "            .replace(\"false\", \"False\")\n",
    "        )\n",
    "        return eval(safe)"
   ]
  },
  {
   "cell_type": "code",
   "execution_count": null,
   "id": "da994bd9",
   "metadata": {},
   "outputs": [],
   "source": [
    "import openai\n",
    "import json\n",
    "from typing import List\n",
    "\n",
    "\n",
    "class RhymeAIManager:\n",
    "    \"\"\"Manages an LLM to return twenty lines that each continue a given seed line by rhyming.\"\"\"\n",
    "\n",
    "    _SCHEMA_EXAMPLE = {\n",
    "        \"lines\": [\n",
    "            f\"Fortsetzung der Zeile {i+1}\" for i in range(10)\n",
    "        ]\n",
    "    }\n",
    "\n",
    "    def __init__(self):\n",
    "        self.api_key = \"sk-proj-1UjM1KbantB6u7DWKKyOT3BlbkFJD88rUr7F3L3WY4urarTc\"        \n",
    "        openai.api_key = self.api_key\n",
    "        self.parser = ResultParser()\n",
    "\n",
    "    def _chat(self, messages: List[dict]) -> str:\n",
    "        \"\"\"Wrapper around OpenAI SDK, returns assistant's text.\"\"\"\n",
    "        client_class = getattr(openai, \"OpenAI\", None)\n",
    "        try:\n",
    "            if client_class:\n",
    "                client = openai.OpenAI(api_key=self.api_key)\n",
    "                res = client.chat.completions.create(\n",
    "                    model=\"gpt-4o-mini\",\n",
    "                    messages=messages,\n",
    "                    temperature=0.7\n",
    "                )\n",
    "                return res.choices[0].message.content  # type: ignore[attr-defined]\n",
    "            res = openai.ChatCompletion.create(\n",
    "                model=\"gpt-4o-mini\",\n",
    "                messages=messages,\n",
    "                temperature=0.7\n",
    "            )\n",
    "            return res[\"choices\"][0][\"message\"][\"content\"]  # type: ignore[index]\n",
    "        except Exception as exc:\n",
    "            print(\"OpenAI chat error: %s\", exc)\n",
    "            raise\n",
    "\n",
    "    def get_rhymes(self, seed_line: str, context: str) -> List[str]:\n",
    "        \"\"\"\n",
    "        Return exactly twenty lines.\n",
    "        Each line must be a direct continuation of `seed_line`, rhyme with it,\n",
    "        and fit the song context.\n",
    "        \"\"\"\n",
    "        prompt = self._build_prompt(seed_line, context)\n",
    "        l = len(seed_line)\n",
    "        filler = \"\"\"\n",
    "        Du bist ein kreativer Songwriter. Jede Zeile soll *ausschließlich* die vorgegebene Zeile fortsetzen,\n",
    "        inhaltlich zum Songkontext passen, sich reimen und exakt 16 Silben haben. Markiere den Anfang der achten Silbe mit einen '*'\n",
    "        Z.B.: \n",
    "        'Mir geht nicht die Kohle aus. *Bin dauerhaft im Mode Rausch.'\n",
    "        'Ja ich bin immer obenauf *und ihr holt nur die Drogen raus.'\n",
    "           \"\"\"\n",
    "        messages = [\n",
    "            {\"role\": \"system\", \"content\": (\n",
    "                filler\n",
    "            )},\n",
    "            {\"role\": \"user\", \"content\": prompt}\n",
    "        ]\n",
    "\n",
    "        try:\n",
    "            raw = self._chat(messages)\n",
    "            parsed = self.parser.parse({\"raw\": raw}) or {}\n",
    "            lines = parsed.get(\"lines\")\n",
    "            #if isinstance(lines, list) and len(lines) >= 20:\n",
    "            return lines\n",
    "            # print(\"Parser returned invalid lines, falling back to empty list.\")\n",
    "        except Exception:\n",
    "            print(\"Failed to get rhymes, returning empty list.\")\n",
    "        return []\n",
    "\n",
    "    def _build_prompt(self, seed_line: str, context: str) -> str:\n",
    "        \"\"\"\n",
    "        Constructs the user prompt: includes song context and seed line.\n",
    "        Informs model to output exactly 20 lines as JSON.\n",
    "        \"\"\"\n",
    "        lines = [\n",
    "            f\"Song-Kontext:\\n{context.strip()}\\n\",\n",
    "            f\"Seed-Zeile:\\n\\\"{seed_line.strip()}\\\"\\n\",\n",
    "            \"\"\"Erstelle genau 10 Zeilen, die jeweils direkt an die Seed-Zeile anschließen und sich reimen. \n",
    "            Jede Zeile soll exakt 16 Silben haben. Markiere den Anfang der achten Silbe mit einen '*'.\n",
    "            Achte darauf, dass sich die achte und die letzen Silben reimen.\n",
    "        Z.B.: \n",
    "        'Mir geht nicht die Kohle aus. *Bin dauerhaft im Mode Rausch.'\n",
    "        'Ja ich bin immer obenauf *und ihr holt nur die Drogen raus.'\n",
    "           \"\"\"\n",
    "        ]\n",
    "        lines.append(\n",
    "            \"Gib die Ausgabe als gültiges JSON im Format:\\n\" +\n",
    "            json.dumps(self._SCHEMA_EXAMPLE, ensure_ascii=False, indent=2)\n",
    "        )\n",
    "        return \"\\n\".join(lines)\n",
    "\n",
    "rhymer = RhymeAIManager()"
   ]
  },
  {
   "cell_type": "code",
   "execution_count": null,
   "id": "3a5d735c",
   "metadata": {},
   "outputs": [
    {
     "name": "stdout",
     "output_type": "stream",
     "text": [
      "['Ich bin der Star im Rampenlicht. *Mein Style ist das Highlight.', 'Geld fließt in meine Taschen rein. *Mein Erfolg ist nicht klein.', \"Designer-Kleidung, teure Schuh'. *Ich leb' im Luxus, im Nu.\", 'Mein Lifestyle ist exquisit. *Von oben bis unten fit.', 'Fahre teure Autos, bin cool. *Mein Leben ist wie im Pool.', \"Partys, Champagner und viel Glanz. *Leb' das Leben im Tanz.\", 'Im Club, VIP, immer dabei. *Mein Leben ist purer Mai.', \"Meine Reime sind immer fresh. *Flow so gut, wie es es wär' frisch.\", 'Bühnenlicht strahlt so hell. *Mein Rap klingt wie ne Glockenquelle.', 'Publikum feiert, tanzt und lacht. *Mein Sound hat die Macht.', 'Texte aus tiefster Seele hier. *Meine Worte wie ein Tier.', 'Rappen ist mein Lebenselixier. *Meine Stimme wie ein Meteor.', 'Im Studio, Tag und Nacht. *Mein Sound, der die Welt umfacht.', \"Im Takt der Musik, ich schwing'. *Mein Herz für den Rap klingt.\", \"Mit Leidenschaft im Herz *Rap' ich, bis es schmerzt.\", 'Mein Flow ist wie ein wildes Pferd. *Ungezähmt, ungehört.', 'Mein Beat erobert die Massen. *Meine Worte sind wie Phasen.', 'Immer wieder neue Ideen *für Songs, die die Welt sehen.', 'Meine Stimme ist die Melodie *für die Welt, voll Harmonie.', \"Durch meine Texte berühr' ich. *Meine Worte wie Musik.\"]\n"
     ]
    }
   ],
   "source": [
    "test_lines = rhymer.get_rhymes(\"Mir geht nicht die Kohle aus. *Bin dauerhaft im Mode Rausch.\", \"Hab Spaß beim Rappen\")\n",
    "print(test_lines)"
   ]
  },
  {
   "cell_type": "code",
   "execution_count": null,
   "id": "b50a7796",
   "metadata": {},
   "outputs": [],
   "source": [
    "def sort_rhymes_by_score(base, lines):\n",
    "    scores = []\n",
    "    for line in lines:\n",
    "        # print(line)\n",
    "        score = lines_rhymescore(base, line)\n",
    "        scores.append(score)\n",
    "    n = len(scores)\n",
    "    for i in range(n):\n",
    "        # Finde das kleinste Element in lst[i:]\n",
    "        min_idx = i\n",
    "        for j in range(i+1, n):\n",
    "            if scores[j] < scores[min_idx]:\n",
    "                min_idx = j\n",
    "        # Tausche lst[i] und lst[min_idx]\n",
    "        scores[i], scores[min_idx] = scores[min_idx], scores[i]\n",
    "        lines[i], lines[min_idx] = lines[min_idx], lines[i]\n",
    "    return lines"
   ]
  },
  {
   "cell_type": "code",
   "execution_count": null,
   "id": "748cf0ae",
   "metadata": {},
   "outputs": [
    {
     "name": "stdout",
     "output_type": "stream",
     "text": [
      "          ein      sam      keit     ein      ta       bu      | ich     |          rap      pe       und      die      welt     ist     | frei    | \n",
      " cham     pa       gner     nicht    nur      ma       lz      | mein    |          le       ben      ist      wie      ein      stru    | del     | \n",
      " im       mer      wei      ter      im       mer      stil    | ich     |                   bleib    stark    wie      ein      ru      | del     | \n",
      "          mein     le       ben      ist      ein      lauf    | kei     | ne       zeit     für      ne       pau      se       bru     | der     | \n",
      " kei      ne       pau      se       nur      ge       fühl    | mei     |          ne       wor      te       sind     wie      na      | deln    | \n",
      " ein      zig      ar       tig      mein     pro      fil     | ich     | rap      pe       oh       ne       je       zu       ha      | dern    | \n",
      "          im       mer      fresh    im       mer      laut    | mein    |                   style    ist      der      hit      im      | bau     | \n",
      "                   geld     fließt   wie      ein      fluss   | ich     |                   geb      aus      als      wär      ich     | schlau  | \n",
      " vi       plis     te       ho       he       stu      fe      | im      | ram      pen      licht    ich      geh      nie      un      | ter     | \n",
      " rap      ist      le       ben      rap      ist      stoff   | ich     |          rap      pe       und      ich      geh      nach    | haus    | \n",
      "          in       den      clubs    im       mer      drauf   | fei     |                   er       ab       bis      ich      schlapp | steh    | \n",
      "          trend    set      ter      voll     ver      traut   | im      |          mer      vor      ne       nie      ein      lu      | der     | \n",
      "          teu      re       snea     ker      am       fuß     | ich     |          bleib    im       mer      fa       r        ben     | froh    | \n",
      "          le       be       schnell  le       be       laut    | mei     |          ne       träu     me       sind     mein     fu      | der     | \n",
      " auf      der      büh      ne       dem      par      kett    | mein    |                            flow     fließt   wie      der     | mai     | \n",
      " al       les      echt     nichts   ein      fa       ke      | mei     |                   ne       stim     me       wie      ein     | schrei  | \n",
      "          im       mer      dran     im       mer      top     | mei     |          ne       raps     sind     ein      gu       ter     | schmaus | \n",
      "                   hab      die      welt     am       zopf    | kei     |                   ne       gren     zen      ich      geh     | raus    | \n",
      " show     ti       me       ich      geb      nen      klaps   | mein    |                   er       folg     ist      wie      ein     | fluss   | \n",
      " si       g        ner      von      kopf     bis      fuß     | mei     |                   ne       out      fits     sind     ne      | schau   | \n"
     ]
    }
   ],
   "source": [
    "base = \"Mir geht nicht die Kohle aus. *Bin dauerhaft im Mode Rausch.\"\n",
    "sorted_lines = sort_rhymes_by_score(base, test_lines)\n",
    "for line in sorted_lines:\n",
    "    print_line(line)"
   ]
  },
  {
   "cell_type": "code",
   "execution_count": null,
   "id": "760cf156",
   "metadata": {},
   "outputs": [
    {
     "name": "stdout",
     "output_type": "stream",
     "text": [
      " lass     uns      flie     gen      hoch     hin      aus     | die     |          nacht    ge       hört     nur      uns      kein    | maus    | \n",
      " he       ben      glä      ser      sto      ßen      an      | das     |          le       ben      ist      ein      gro      ßer     | plan    | \n",
      " mit      mir      ver      lier     den      ver      stand   | das     |          le       ben      ist      ein      bun      ter     | strand  | \n",
      " frei     heit     schmeckt nach     aben     teu      er      | in      | je       dem      mo       ment     da       brennt   das     | feu     | \n",
      " die      ser      stadt    da       zählt    der      stil    | wir     |          le       ben      wild     das      ist      kein    | spiel   | \n",
      " ty       bis      die      lich     ter      blit     zen     | um      | mich     dreht    sich     al       les      mei      ne      | hits    | \n",
      " le       be       je       den      tag      im       glanz   | ver     |          lier     nie      mei      nen      le       bens    | kranz   | \n",
      " pul      sie      ren      und      ich      tan      ze      | mit     |          je       dem      schritt  da       fühl     ichs    | ganz    | \n",
      " nacht    ist      jung     die      stim     mung     hoch    | wir     | fei      ern      bis      der      mor      gen      bricht  | ein     | \n",
      " die      welt     dreht    sich     nur      für      mich    | ich     | ge       ni       e        ße       je       den      au      | gen     | \n"
     ]
    }
   ],
   "source": [
    "def get_sorted_rhymes(base, context):\n",
    "    lines = rhymer.get_rhymes(base, context)\n",
    "    sorted_lines = sort_rhymes_by_score(base, lines)\n",
    "    return sorted_lines\n",
    "\n",
    "for line in get_sorted_rhymes(\"Mir geht nicht die Kohle aus. *Bin dauerhaft im Mode Rausch.\", \" \")[::-1]:\n",
    "    print_line(line)"
   ]
  },
  {
   "cell_type": "code",
   "execution_count": null,
   "id": "846c4014",
   "metadata": {},
   "outputs": [],
   "source": [
    "def print_line(line):\n",
    "    highlights = {7, 15}\n",
    "    for i, syl in enumerate(split_to_syls(line)):\n",
    "        if i in highlights:\n",
    "            pre = \"|\"\n",
    "            post = \"|\"\n",
    "        else:\n",
    "            pre = \"\"\n",
    "            post = \"\"\n",
    "        print(pre, f\"{syl:8.8}\", end=post)\n",
    "    print(\" \")"
   ]
  },
  {
   "cell_type": "code",
   "execution_count": null,
   "id": "9ebd1d5f",
   "metadata": {},
   "outputs": [],
   "source": [
    "test_lines = get_sorted_rhymes(\"Mir geht nicht die Kohle aus. *Bin dauerhaft im Mode Rausch.\", \"Hab einfach Spaß beim Rappen\")[::-1]"
   ]
  },
  {
   "cell_type": "code",
   "execution_count": null,
   "id": "4f41ce76",
   "metadata": {},
   "outputs": [
    {
     "name": "stdout",
     "output_type": "stream",
     "text": [
      " si       g        ner      von      kopf     bis      fuß     | mei     |                   ne       out      fits     sind     ne      | schau   | \n",
      " show     ti       me       ich      geb      nen      klaps   | mein    |                   er       folg     ist      wie      ein     | fluss   | \n",
      "                   hab      die      welt     am       zopf    | kei     |                   ne       gren     zen      ich      geh     | raus    | \n",
      "          im       mer      dran     im       mer      top     | mei     |          ne       raps     sind     ein      gu       ter     | schmaus | \n",
      " al       les      echt     nichts   ein      fa       ke      | mei     |                   ne       stim     me       wie      ein     | schrei  | \n",
      " auf      der      büh      ne       dem      par      kett    | mein    |                            flow     fließt   wie      der     | mai     | \n",
      "          le       be       schnell  le       be       laut    | mei     |          ne       träu     me       sind     mein     fu      | der     | \n",
      "          teu      re       snea     ker      am       fuß     | ich     |          bleib    im       mer      fa       r        ben     | froh    | \n",
      "          trend    set      ter      voll     ver      traut   | im      |          mer      vor      ne       nie      ein      lu      | der     | \n",
      "          in       den      clubs    im       mer      drauf   | fei     |                   er       ab       bis      ich      schlapp | steh    | \n",
      " rap      ist      le       ben      rap      ist      stoff   | ich     |          rap      pe       und      ich      geh      nach    | haus    | \n",
      " vi       plis     te       ho       he       stu      fe      | im      | ram      pen      licht    ich      geh      nie      un      | ter     | \n",
      "                   geld     fließt   wie      ein      fluss   | ich     |                   geb      aus      als      wär      ich     | schlau  | \n",
      "          im       mer      fresh    im       mer      laut    | mein    |                   style    ist      der      hit      im      | bau     | \n",
      " ein      zig      ar       tig      mein     pro      fil     | ich     | rap      pe       oh       ne       je       zu       ha      | dern    | \n",
      " kei      ne       pau      se       nur      ge       fühl    | mei     |          ne       wor      te       sind     wie      na      | deln    | \n",
      "          mein     le       ben      ist      ein      lauf    | kei     | ne       zeit     für      ne       pau      se       bru     | der     | \n",
      " im       mer      wei      ter      im       mer      stil    | ich     |                   bleib    stark    wie      ein      ru      | del     | \n",
      " cham     pa       gner     nicht    nur      ma       lz      | mein    |          le       ben      ist      wie      ein      stru    | del     | \n",
      "          ein      sam      keit     ein      ta       bu      | ich     |          rap      pe       und      die      welt     ist     | frei    | \n"
     ]
    }
   ],
   "source": [
    "for line in test_lines:\n",
    "    print_line(line)"
   ]
  },
  {
   "cell_type": "code",
   "execution_count": null,
   "id": "43fa7fd0",
   "metadata": {},
   "outputs": [
    {
     "name": "stdout",
     "output_type": "stream",
     "text": [
      "['Mode ist mehr als nur Kleidung, es ist Kunst und Leidenschaft.', \"Fashionista, Trendsetter, ich leb' den Mode-Traum aus.\", \"Geld ist keine Frage, wenn's um Fashion geht, bin ich bereit.\", 'Schuhe, Shirts und Accessoires, mein Style ist immer chick.', \"Mit meinem Style begeistere ich, zieh' alle Blicke auf mich raus.\", \"Auch wenn's teuer ist, es ist mir wert, das ist meine Welt.\", 'In meinem Kleiderschrank nur das Beste, Qualität ist mir wichtig.', 'Einzigartig und individuell, niemand kann mit mir sich messen.', 'Hab einfach Spaß beim Rappen, das ist meine Fashion-Mission.', 'Auf dem Laufsteg meines Lebens, jede Show ein großer Applaus.', 'Designerlabels, Luxus pur, ich investiere in die Zeit.', \"Ob Paris, Mailand oder New York, überall bin ich zu Haus'.\", 'Ich bin der Star auf jeder Party, strahle heller als der Mond.', 'Immer fresh, immer stylisch, hab den neuesten Trend im Blick.', \"Trendbewusst und immer up to date, ich bleib' am Puls der Zeit.\", 'Streetwear, High Fashion, ich mixe alles wild zusammen.', 'Pailletten, Glitzer, Leder, ich liebe alles, was auffällt.', 'Von Kopf bis Fuß perfekt gestylt, mein Outfit ist richtig.', 'Mein Look ist ein Statement, zeigt meine Persönlichkeit.', 'Mit meinem Fashion-Game bin ich immer ganz weit vorne, ungeschont.']\n"
     ]
    }
   ],
   "source": [
    "print(test_lines)"
   ]
  },
  {
   "cell_type": "code",
   "execution_count": 6,
   "id": "d29ac12b",
   "metadata": {},
   "outputs": [
    {
     "data": {
      "text/plain": [
       "'                                                        |        |        sie     heißt   li      sa      wun     der     |schön   |'"
      ]
     },
     "execution_count": 6,
     "metadata": {},
     "output_type": "execute_result"
    }
   ],
   "source": [
    "def get_line(line):\n",
    "    highlights = {7, 15}\n",
    "    new_line = \"\"\n",
    "    syls = split_to_syls(line)\n",
    "    #print(syls)\n",
    "    for i, syl in enumerate(syls):\n",
    "        if i in highlights:\n",
    "            pre = \"|\"\n",
    "            post = \"|\"\n",
    "        else:\n",
    "            pre = \"\"\n",
    "            post = \"\"\n",
    "        new_line += pre + f\"{syl:8.8}\" + post\n",
    "    return new_line\n",
    "\n",
    "line = \"Sie heißt Lisa, wunderschön\"\n",
    "get_line(line)"
   ]
  },
  {
   "cell_type": "code",
   "execution_count": 29,
   "id": "47a77956",
   "metadata": {},
   "outputs": [],
   "source": [
    "with open(\"die_hoffnung.txt\", \"r\", encoding='utf-8') as f:\n",
    "    lines = f.readlines()\n",
    "total = 0\n",
    "new_lines = []\n",
    "for line in lines:\n",
    "    total += len(line)\n",
    "    if line[0] == \"[\":\n",
    "        new_lines.append(line)\n",
    "        continue\n",
    "    if line == \"\" or line == \"\\n\":\n",
    "        new_lines.append(line)\n",
    "        continue\n",
    "    new_line = get_line(line) + \"\\n\"\n",
    "    # print(new_line)\n",
    "    new_lines.append(new_line)\n",
    "\n",
    "\n",
    "with open(\"song_anaysied.txt\", \"w\", encoding='utf-8') as f:\n",
    "    intro = [f\"Zeichen: {total}\\n\"]\n",
    "    f.writelines(intro)\n",
    "    f.writelines(new_lines)\n",
    "\n",
    "output_lines = []\n",
    "for line in lines:\n",
    "    output_lines.append(line.replace(\"*\", \"\"))\n",
    "\n",
    "with open(\"song_output.txt\", \"w\", encoding='utf-8') as f:\n",
    "    f.writelines(output_lines)\n",
    "\n"
   ]
  }
 ],
 "metadata": {
  "kernelspec": {
   "display_name": ".venv",
   "language": "python",
   "name": "python3"
  },
  "language_info": {
   "codemirror_mode": {
    "name": "ipython",
    "version": 3
   },
   "file_extension": ".py",
   "mimetype": "text/x-python",
   "name": "python",
   "nbconvert_exporter": "python",
   "pygments_lexer": "ipython3",
   "version": "3.13.5"
  }
 },
 "nbformat": 4,
 "nbformat_minor": 5
}
