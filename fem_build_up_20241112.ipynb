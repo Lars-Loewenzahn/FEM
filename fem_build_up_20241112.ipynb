{
 "cells": [
  {
   "cell_type": "markdown",
   "metadata": {},
   "source": [
    "# Globale Verfromungsfunktion als Ansatz"
   ]
  },
  {
   "cell_type": "markdown",
   "metadata": {},
   "source": [
    "Um eine analytische Lösung eines Verformungs oder Spannungsproblemes stellt eine Frage nach einer infiniten Dimensionalen Lösung dar. Dies ist üblicher Weise mit Computern nicht machbar, da wir jeder Zahlenwert im Computer aus einer Finiten Anzahl nachkommastellen besteht und nur eine Finite Anzahl an  Werten gespeichert werden kann. Um also eine Beschreibung der Verformung zu finden, nehmen wir nicht an, dass die Funktion unbekannt ist, sondern, dass die an einer Finitien Anzahl an Punkten unbekannt ist. Wir nennen diese Punkte Knoten. Zwischen den Knoten befinden sich die Elemente. Die Anzahl der Elemente ist endlich und die größe eines jeden Elementes ist endlich.  So kommen wir zu dem Namen es Methode: Finite Elemente Methode oder Methode der endlichen Elemente. "
   ]
  },
  {
   "cell_type": "markdown",
   "metadata": {},
   "source": [
    "Wir nehmen an, dass zwischen den Knoten, die Verformung durch recht simple, vordefinierte Funktionen beschreiben werden kann.  Meisten sind die diese Funktionen linear. Polynome sind aber auch möglich. Wir verwenden nun lineare Funktionen.\n"
   ]
  },
  {
   "cell_type": "markdown",
   "metadata": {},
   "source": [
    "Da die Funktionen linear sind, brauchen wir nur wissen, welchen Wert die Funktionen in den Knoten annehmen, um eine Näherung für die Werte zwischen den Knoten zu finden. Diesen Vorgang nennen wir Diskretisierung. Und die Abweichung durch die Näherung, Diskretieriesungsfehler. Je höher die Anzahl der Knoten, desto kleiner die Abweichung. Es liegt eine Konvergenz vor. \n"
   ]
  },
  {
   "cell_type": "markdown",
   "metadata": {},
   "source": [
    "Diskretiesierung verstehen:\n",
    "Nehmen wir an, wir haben einen System mit 5 Knoten für die wir jeweils eine Verformungsfunktion $N_i$ definieren. Dabei ist die Verformungsfunktion am Knoten selbst 1 und bei allen anderen Knoten 0.  "
   ]
  },
  {
   "cell_type": "markdown",
   "metadata": {},
   "source": [
    "$N_0(x)= \\begin{cases}1-5 x & \\text { for } 0 \\leq x<0.2 \\\\ 0 & \\text { elsewhere }\\end{cases}$"
   ]
  },
  {
   "cell_type": "markdown",
   "metadata": {},
   "source": [
    "$N_1(x)= \\begin{cases}5 x & \\text { for } 0 \\leq x<0.2 \\\\ 2-5 x & \\text { for } 0.2 \\leq x<0.4 \\\\ 0 & \\text { elsewhere }\\end{cases}$"
   ]
  },
  {
   "cell_type": "markdown",
   "metadata": {},
   "source": [
    "$N_2(x)= \\begin{cases}-1+5 x & \\text { for } 0.2 \\leq x<0.4 \\\\ 3-5 x & \\text { for } 0.4 \\leq x<0.6 \\\\ 0 & \\text { elsewhere }\\end{cases}$"
   ]
  },
  {
   "cell_type": "markdown",
   "metadata": {},
   "source": [
    "$N_3(x)= \\begin{cases}-2+5 x & \\text { for } 0.4 \\leq x<0.6 \\\\ 4-5 x & \\text { for } 0.6 \\leq x<0.8 \\\\ 0 & \\text { elsewhere }\\end{cases}$"
   ]
  },
  {
   "cell_type": "markdown",
   "metadata": {},
   "source": [
    "$N_4(x)= \\begin{cases}-3+5 x & \\text { for } 0.6 \\leq x<0.8 \\\\ 4-5 x & \\text { for } 0.8 \\leq x<1 \\\\ 0 & \\text { elsewhere }\\end{cases}$"
   ]
  },
  {
   "cell_type": "markdown",
   "metadata": {},
   "source": [
    "$N_5(x)= \\begin{cases}-4+5 x & \\text { for } 0.8 \\leq x<1 \\\\ 0 & \\text { elsewhere }\\end{cases}$"
   ]
  },
  {
   "cell_type": "markdown",
   "metadata": {},
   "source": [
    "Nun nehmen wir an, dass unsere Verformungsfunktion aus den Funktioen an den Knoten mittels einer Summe mit Gewichtung der Summanten ausgerechnet werden kann.\n",
    "\n",
    " $u(x)=\\sum_{i=0}^5 u_i N_i(x)$ "
   ]
  },
  {
   "cell_type": "markdown",
   "metadata": {},
   "source": [
    "Nun kann durch einen richtige Auswahl der Gewichtungen $u_i$ eine Vielzahl verschiedener Formgebungen erreicht erwerden. \n"
   ]
  },
  {
   "cell_type": "markdown",
   "metadata": {},
   "source": [
    "### Starke Formulierung\n",
    "\n",
    "Wenn wir nun die die Werte für $u_i$ finden wollen, würde man normalerweise $u(x)$ durch eine Ansatzfunktion ersetzen und schließlich lösen. Hier ergibt sich jedoch ein Problem. Die Werte für $u_i$ sind alles samt Konstanten die mit einer einer linearen Funktion multipliziert wurden sind. So ergibt sich  beim Ableiten, dass  $u´(x)$ eine Reihe von Konstanten ist. Und $u''(x) = 0$.  \n",
    "\n",
    "Da hier Starke Bedingunen auf die Lösungsfunktion gesetzt werden, und diese dadurch unlösbar wird, nennen wir es die Starke Formulierung. "
   ]
  },
  {
   "cell_type": "markdown",
   "metadata": {},
   "source": [
    "### Schwache Formulierung\n",
    "\n",
    "Given $f(x)$, find $u(x)$ such that \n",
    "\n",
    "$\\int_0^1 u^{\\prime}(x) v^{\\prime}(x) \\mathrm{d} x=-\\int_0^1 f(x) v(x) \\mathrm{d} x$\n",
    "\n",
    "\n",
    "for all $v(x)$ with $v(0)=0$ \n",
    "\n",
    "\n",
    "\n",
    "$u(0)=0$\n",
    "\n",
    "Hier wurden beide Seiten mit einer Testfunktion multipliziert. Da in der Schwachen Form nur die ersten Ableitung vorkommen, kann der Finite Element Ansatz in die Schwache Form eingesetzt werden. \n"
   ]
  },
  {
   "cell_type": "markdown",
   "metadata": {},
   "source": [
    "Schwache Formulierung:\n",
    "\n",
    "$\\int_0^1 v^{\\prime}(x) u^{\\prime}(x) \\mathrm{d} x=-\\int_0^1 v(x) f(x) \\mathrm{d} x$\n",
    "\n",
    "Finiter Ansatz:\n",
    "\n",
    "$u(x)=\\sum_{i=0}^5 u_i N_i(x) $\n",
    "\n",
    "Ableitung des Finiten Ansatz:\n",
    "\n",
    "$u^{\\prime}(x)=\\sum_{i=0}^5 u_i N_i^{\\prime}(x)$\n",
    "\n",
    "Hier ist die Testfunktion. Auch die Testfunktion muss diskretiesiert werden, um es einfacher zu machen sie zu berechnen. Es ist üblich für $v(x)$ die gleich Form wie für $u(x)$ zu verwenden.\n",
    "\n",
    "$v(x)=\\sum_{i=0}^5 v_i N_i(x)$ \n",
    "\n",
    "Ableitung der Testfunktion:\n",
    "\n",
    "$v^{\\prime}(x)=\\sum_{i=0}^5 v_i N_i^{\\prime}(x)$\n",
    "\n"
   ]
  },
  {
   "cell_type": "markdown",
   "metadata": {},
   "source": [
    "Bevor wir einsetzen, ändern wir die Notation zu Vektoren. \n",
    "\n",
    "$\\mathbf{U}=\\left[\\begin{array}{l}u_0 \\\\ u_1 \\\\ u_2 \\\\ u_3 \\\\ u_4 \\\\ u_5\\end{array}\\right], \\mathbf{V}=\\left[\\begin{array}{l}v_0 \\\\ v_1 \\\\ v_2 \\\\ v_3 \\\\ v_4 \\\\ v_5\\end{array}\\right], \\mathbf{N}(x)=\\left[\\begin{array}{l}N_0(x) \\\\ N_1(x) \\\\ N_2(x) \\\\ N_3(x) \\\\ N_4(x) \\\\ N_5(x)\\end{array}\\right], \\mathbf{N}^{\\prime}(x)=\\left[\\begin{array}{l}N_0^{\\prime}(x) \\\\ N_1^{\\prime}(x) \\\\ N_2^{\\prime}(x) \\\\ N_3^{\\prime}(x) \\\\ N_4^{\\prime}(x) \\\\ N_5^{\\prime}(x)\\end{array}\\right]$"
   ]
  },
  {
   "cell_type": "markdown",
   "metadata": {},
   "source": [
    "Die Vektoren können wir in die urspürngliichen ausdrücke einsetzen. \n",
    "\n",
    "$u(x)  =\\sum_{i=0}^5 u_i N_i(x)=\\mathbf{N}^T(x) \\mathbf{U}$ \n",
    "\n",
    "\n",
    "\n",
    "$u^{\\prime}(x)  =\\sum_{i=0}^5 u_i N_i^{\\prime}(x)=\\mathbf{N}^{\\prime T}(x) \\mathbf{U} $\n",
    "\n",
    "\n",
    "\n",
    "$v(x)  =\\sum_{i=0}^5 v_i N_i(x)=\\mathbf{V}^T \\mathbf{N}(x) $ \n",
    "\n",
    "\n",
    "\n",
    "$ v^{\\prime}(x)  =\\sum_{i=0}^5 v_i N_i^{\\prime}(x)=\\mathbf{V}^T \\mathbf{N}^{\\prime}(x)$"
   ]
  },
  {
   "cell_type": "markdown",
   "metadata": {},
   "source": [
    "Diese Ausdrücke setzen wir nun in die Schwache Formulierungen: "
   ]
  },
  {
   "cell_type": "markdown",
   "metadata": {},
   "source": [
    "$\\int_0^1 v^{\\prime}(x) u^{\\prime}(x) \\mathrm{d} x=-\\int_0^1 v(x) f(x) \\mathrm{d} x $\n",
    "\n",
    "$ \\int_0^1 \\mathbf{V}^T \\mathbf{N}^{\\prime}(x) u^{\\prime}(x) \\mathbf{ d} x=-\\int_0^1 f(x) \\mathbf{V}^T \\mathbf{N}(x) \\mathrm{d} x $\n",
    "\n",
    "$ \\int_0^1 \\mathbf{V}^T \\mathbf{N}^{\\prime}(x) \\mathbf{N}^{\\prime T}(x) \\mathbf{U d} x=-\\int_0^1 f(x) \\mathbf{V}^T \\mathbf{N}(x) \\mathrm{d} x $\n",
    "\n",
    "$ \\mathbf{V}^T \\underbrace{\\int_0^1 \\mathbf{N}^{\\prime}(x) \\mathbf{N}^{\\prime T}(x) \\mathrm{d} x \\mathbf{U}}_{\\mathbf{K}}=\\mathbf{V}^T \\underbrace{\\int_0^1-f(x) \\mathbf{N}(x) \\mathrm{d} x}_{\\mathbf{F}}$"
   ]
  },
  {
   "cell_type": "markdown",
   "metadata": {},
   "source": [
    "Das gibt uns den vereinfachten Ausdruck:\n",
    "\n",
    "$\\mathbf{V}^T \\mathbf{K U}=\\mathbf{V}^T \\mathbf{F}$"
   ]
  },
  {
   "cell_type": "markdown",
   "metadata": {},
   "source": [
    "Wenn wir diesen Ausdruck wieder ausformulieren erhalten wir: \n",
    "\n",
    "$\\left[\\begin{array}{l}v_0 \\\\ v_1 \\\\ v_2 \\\\ v_3 \\\\ v_4 \\\\ v_5\\end{array}\\right]^T\\left[\\begin{array}{llllll}K_{00} & K_{01} & K_{02} & K_{03} & K_{04} & K_{05} \\\\ K_{10} & K_{11} & K_{12} & K_{13} & K_{14} & K_{15} \\\\ K_{20} & K_{21} & K_{22} & K_{23} & K_{24} & K_{25} \\\\ K_{30} & K_{31} & K_{32} & K_{33} & K_{34} & K_{35} \\\\ K_{40} & K_{41} & K_{42} & K_{43} & K_{44} & K_{45} \\\\ K_{50} & K_{51} & K_{52} & K_{53} & K_{54} & K_{55}\\end{array}\\right]\\left[\\begin{array}{c}u_0 \\\\ u_1 \\\\ u_2 \\\\ u_3 \\\\ u_4 \\\\ u_5\\end{array}\\right]=\\left[\\begin{array}{c}v_0 \\\\ v_1 \\\\ v_2 \\\\ v_3 \\\\ v_4 \\\\ v_5\\end{array}\\right]^T\\left[\\begin{array}{l}F_0 \\\\ F_1 \\\\ F_2 \\\\ F_3 \\\\ F_4 \\\\ F_5\\end{array}\\right]$\n"
   ]
  },
  {
   "cell_type": "markdown",
   "metadata": {},
   "source": [
    "Da gilt $v(0) = 0$ und $u(0) = 0$ vereinfacht sich der Ausdruck zu: "
   ]
  },
  {
   "cell_type": "markdown",
   "metadata": {},
   "source": [
    "$\\left[\\begin{array}{l}v_1 \\\\ v_2 \\\\ v_3 \\\\ v_4 \\\\ v_5\\end{array}\\right]^T\\left[\\begin{array}{lllll}K_{11} & K_{12} & K_{13} & K_{14} & K_{15} \\\\ K_{21} & K_{22} & K_{23} & K_{24} & K_{25} \\\\ K_{31} & K_{32} & K_{33} & K_{34} & K_{35} \\\\ K_{41} & K_{42} & K_{43} & K_{44} & K_{45} \\\\ K_{51} & K_{52} & K_{53} & K_{54} & K_{55}\\end{array}\\right]\\left[\\begin{array}{l}u_1 \\\\ u_2 \\\\ u_3 \\\\ u_4 \\\\ u_5\\end{array}\\right]=\\left[\\begin{array}{l}v_1 \\\\ v_2 \\\\ v_3 \\\\ v_4 \\\\ v_5\\end{array}\\right]^T\\left[\\begin{array}{l}F_1 \\\\ F_2 \\\\ F_3 \\\\ F_4 \\\\ F_5\\end{array}\\right]$"
   ]
  },
  {
   "cell_type": "markdown",
   "metadata": {},
   "source": [
    "Diese Gleichung kann nur erfüllt sein wenn gilt: "
   ]
  },
  {
   "cell_type": "markdown",
   "metadata": {},
   "source": [
    "$\\left[\\begin{array}{lllll}K_{11} & K_{12} & K_{13} & K_{14} & K_{15} \\\\ K_{21} & K_{22} & K_{23} & K_{24} & K_{25} \\\\ K_{31} & K_{32} & K_{33} & K_{34} & K_{35} \\\\ K_{41} & K_{42} & K_{43} & K_{44} & K_{45} \\\\ K_{51} & K_{52} & K_{53} & K_{54} & K_{55}\\end{array}\\right]\\left[\\begin{array}{l}u_1 \\\\ u_2 \\\\ u_3 \\\\ u_4 \\\\ u_5\\end{array}\\right]=\\left[\\begin{array}{l}F_1 \\\\ F_2 \\\\ F_3 \\\\ F_4 \\\\ F_5\\end{array}\\right]$"
   ]
  },
  {
   "cell_type": "markdown",
   "metadata": {},
   "source": [
    "Wir haben hier also ein System entdeckt, mit welchen wir $u_i$ errechnen können. "
   ]
  },
  {
   "cell_type": "markdown",
   "metadata": {},
   "source": [
    "Nun betrachten wir die Ausdrücke $F$ und $K$, die wir gerade einfach angenommen haben. \n",
    "\n",
    "\n",
    "$\\mathbf{K} =\\int_0^1 \\mathbf{N}^{\\prime}(x) \\mathbf{N}^{\\prime T}(x) \\mathrm{d} x$\n",
    "\n",
    "$ \\mathbf{F} =\\int_0^1-f(x) \\mathbf{N}(x) \\mathrm{d} x $"
   ]
  },
  {
   "cell_type": "markdown",
   "metadata": {},
   "source": [
    "Zuerst $K$:\n",
    "\n",
    "$\\mathbf{K}=\\int_0^1 \\mathbf{N}^{\\prime}(x) \\mathbf{N}^{\\prime T}(x) \\mathrm{d} x$\n",
    "\n",
    "\n",
    "$K_{i j}=\\int_0^1 N_i^{\\prime}(x) N_j^{\\prime}(x) \\mathrm{d} x$\n",
    "\n",
    "Beispielhaft werde ich hier die Komponete $K_{01}$ ausrechnen.\n",
    "\n",
    "\n",
    "$N_0(x)= \\begin{cases}1-5 x & \\text { for } 0 \\leq x<0.2 \\\\ 0 & \\text { elsewhere }\\end{cases}$\n",
    "\n",
    "\n",
    "$N_0^{\\prime}(x)= \\begin{cases}-5 & \\text { for } 0 \\leq x<0.2 \\\\ 0 & \\text { elsewhere }\\end{cases}$\n",
    "\n",
    "\n",
    "$N_1(x)= \\begin{cases}5 x & \\text { for } 0 \\leq x<0.2 \\\\ 2-5 x & \\text { for } 0.2 \\leq x<0.4 \\\\ 0 & \\text { elsewhere }\\end{cases}$\n",
    "\n",
    "\n",
    "$N_1^{\\prime}(x)= \\begin{cases}5 & \\text { for } 0 \\leq x<0.2 \\\\ -5 & \\text { for } 0.2 \\leq x<0.4 \\\\ 0 & \\text { elsewhere }\\end{cases}$\n",
    "\n",
    "$K_{01}=\\int_0^1 N_0^{\\prime}(x) N_1^{\\prime}(x) \\mathrm{d} x =\\int_0^{0.2} N_0^{\\prime}(x) N_1^{\\prime}(x) \\mathrm{d} x+\\int_{0.2}^{0.4} N_0^{\\prime}(x) N_1^{\\prime}(x) \\mathrm{d} x+\\int_{0.4}^1 N_0^{\\prime}(x) N_1^{\\prime}(x) \\mathrm{d} x$\n",
    "\n",
    "$=\\int_0^{0.2}(-5) \\cdot 5 \\mathrm{~d} x+\\int_{0.2}^{0.4} 0 \\cdot(-5) \\mathrm{d} x+\\int_{0.4}^1 0 \\cdot 0 \\mathrm{~d} x=-5$"
   ]
  },
  {
   "cell_type": "markdown",
   "metadata": {},
   "source": [
    "Nach dem Ausrechnenen aller anderen Komponenten ergibt sich: \n",
    "\n",
    "$\\mathbf{K}=\\left[\\begin{array}{cccccc}5 & -5 & 0 & 0 & 0 & 0 \\\\ -5 & 10 & -5 & 0 & 0 & 0 \\\\ 0 & -5 & 10 & -5 & 0 & 0 \\\\ 0 & 0 & -5 & 10 & -5 & 0 \\\\ 0 & 0 & 0 & -5 & 10 & -5 \\\\ 0 & 0 & 0 & 0 & -5 & 5\\end{array}\\right]$"
   ]
  },
  {
   "cell_type": "markdown",
   "metadata": {},
   "source": [
    "Wie man sehen kann, ist die Matrix Symmetrisch und nicht vollständig gefüllt. "
   ]
  },
  {
   "cell_type": "markdown",
   "metadata": {},
   "source": [
    "Nun $F$:\n",
    "\n",
    "$\\mathbf{F}=\\int_0^1-f(x) \\mathrm{N}(x) \\mathrm{d} x$\n",
    "\n",
    "\n",
    "$F_i=\\int_0^1-f(x) N_i(x) \\mathrm{d} x$\n",
    "\n",
    "\n",
    "Wie nehmen an das $f(x)$ konstant ist: \n",
    "\n",
    "$ f(x)=\\bar{f}$\n",
    "\n",
    "\n",
    "Ich möchte als Beispiel das Element $F_0$ ausrechnen.\n",
    "\n",
    "$F_0 = \\int^1_0 -f(x)N_0 (x) \\mathrm{d} x = - \\bar{f} \\int^1_0 N_0 (x) \\mathrm{d} x = - \\bar{f} \\int^1_0 \\begin{cases}1-5 x & \\text { for } 0 \\leq x<0.2 \\\\ 0 & \\text { elsewhere }\\end{cases}  \\mathrm{d} x  $ \n",
    "\n",
    "$ = - \\bar{f} \\int^{0.2}_0 1-5 x \\mathrm{d} x =  - \\bar{f}  |^{0.2}_0 x-2.5x^2  = - \\bar{f} ((0.2-2.5*0.2^2)-(0))  = -0.1 \\bar{f} $"
   ]
  },
  {
   "cell_type": "markdown",
   "metadata": {},
   "source": [
    "Wenn ich diesen Prozess für die anderen Elemente mache erhalte ich: \n",
    "\n",
    "$\\mathbf{F}=-\\bar{f}\\left[\\begin{array}{c}0.1 \\\\ 0.2 \\\\ 0.2 \\\\ 0.2 \\\\ 0.2 \\\\ 0.1\\end{array}\\right]$"
   ]
  },
  {
   "cell_type": "markdown",
   "metadata": {},
   "source": [
    "Damit haben wir das lineare Gleichungssystem um $u(x)$ zu finden. \n",
    "\n",
    "$\\left[\\begin{array}{ccccc}10 & -5 & 0 & 0 & 0 \\\\ -5 & 10 & -5 & 0 & 0 \\\\ 0 & -5 & 10 & -5 & 0 \\\\ 0 & 0 & -5 & 10 & -5 \\\\ 0 & 0 & 0 & -5 & 5\\end{array}\\right]\\left[\\begin{array}{l}u_1 \\\\ u_2 \\\\ u_3 \\\\ u_4 \\\\ u_5\\end{array}\\right]=-\\bar{f}\\left[\\begin{array}{c}0.2 \\\\ 0.2 \\\\ 0.2 \\\\ 0.2 \\\\ 0.1\\end{array}\\right]$\n",
    "\n"
   ]
  },
  {
   "cell_type": "markdown",
   "metadata": {},
   "source": [
    "# Elementbasierter Verformungsansatz\n",
    "\n",
    "Wir nennen die Elemente $ \\Omega _1 \\Omega _2 \\Omega _3 \\Omega _4 \\Omega _5$\n",
    "\n",
    "$u^e(x)=\\sum_{j=0}^1 u_j^e N_j^e(x)=\\left[\\begin{array}{l}N_0^e(x) \\\\ N_1^e(x)\\end{array}\\right]^T\\left[\\begin{array}{l}u_0^e \\\\ u_1^e\\end{array}\\right]=\\mathbf{N}^{e T}(x) \\mathbf{U}^e$\n",
    "\n",
    "$v^e(x)=\\sum_{j=0}^1 v_j^e N_j^e(x)=\\left[\\begin{array}{l}N_0^e(x) \\\\ N_1^e(x)\\end{array}\\right]^T\\left[\\begin{array}{c}v_0^e \\\\ v_1^e\\end{array}\\right]=\\mathbf{V}^{e T} \\mathbf{N}^e(x)$\n",
    "\n",
    "\n",
    "Wir benutzen wieder die Schwache Formulierung:\n",
    "\n",
    "$\\int_0^1 v^{\\prime}(x) u^{\\prime}(x) \\mathrm{d} x=-\\int_0^1 v(x) f(x) \\mathrm{d} x$\n",
    "\n",
    "\n",
    "Und tielen diese auf Teilbereiche auf um die Elementweise Funktion einsetzen zu können. \n",
    "\n",
    "$\\sum_{e=1}^5 \\int_{\\Omega_e} v^{e^{\\prime}}(x) u^{e^{\\prime}}(x) \\mathrm{d} x=-\\sum_{e=1}^5 \\int_{\\Omega_e} v^e(x) f(x) \\mathrm{d} x$\n",
    "\n",
    "Nun ich $u^e_i(x)$ und   $v^e_i(x)$ ein:\n",
    "\n",
    "$\\sum_{e=1}^5 \\int_{\\Omega_e} \\mathbf{V}^{e T} \\mathbf{N}^{e \\prime}(x) \\mathbf{N}^{e / T}(x) \\mathbf{U}^e \\mathrm{~d} x=-\\sum_{e=1}^5 \\int_{\\Omega_e} f(x) \\mathbf{V}^{e T} \\mathbf{N}^e(x) \\mathrm{d} x$\n",
    "\n",
    "Und ziehe die unabhängigen Größen aus Integral: \n",
    "\n",
    "$\\sum_{e=1}^5 \\mathbf{V}^{e T} \\int_{\\Omega_e} \\mathbf{N}^{e \\prime}(x) \\mathbf{N}^{e T T}(x) \\mathrm{d} x \\mathbf{U}^e=\\sum_{e=1}^5 \\mathbf{V}^{e T} \\int_{\\Omega_e}-f(x) \\mathbf{N}^e(x) \\mathrm{d} x$\n",
    "\n",
    "\n",
    "Nun kann wieder Steifigkeitsmatrix und Kräftematrix erkennen:\n",
    "\n",
    "$\\sum_{e=1}^5 \\mathbf{V}^{e T} \\underbrace{\\int_{\\Omega_e} \\mathbf{N}^{e \\prime}(x) \\mathbf{N}^{e r T}(x) \\mathrm{d} x \\mathbf{U}^e}_{\\mathbf{K}^e}=\\sum_{e=1}^5 \\mathbf{V}^{e T} \\underbrace{\\int_{\\Omega_e}-f(x) \\mathbf{N}^e(x) \\mathrm{d} x}_{\\mathbf{F}^e}$\n",
    "\n",
    "Und wir erhalten einen ähnlichen Ansatz wie zuvor:\n",
    "\n",
    "$\\sum_{e=1}^5 \\mathbf{V}^{e T} \\mathbf{K}^e \\mathbf{U}^e=\\sum_{e=1}^5 \\mathbf{V}^{e T} \\mathbf{F}^e$\n",
    "\n",
    "Mit \n",
    "\n",
    "$\\mathbf{K}^e=\\int_{\\Omega_e} \\mathbf{N}^{e \\prime}(x) \\mathbf{N}^{e / T}(x) \\mathrm{d} x$\n",
    "\n",
    "kann ich nun die Elementmatrix für jedes Element ausrechnen. \n",
    "Das sieht dann so aus: \n",
    "\n",
    "$\\mathbf{K}^1=\\left[\\begin{array}{cc}5 & -5 \\\\ -5 & 5\\end{array}\\right], \\quad \\mathbf{K}^2=\\left[\\begin{array}{cc}5 & -5 \\\\ -5 & 5\\end{array}\\right], \\quad \\mathbf{K}^3=\\left[\\begin{array}{cc}5 & -5 \\\\ -5 & 5\\end{array}\\right], \\quad \\mathbf{K}^4=\\left[\\begin{array}{cc}5 & -5 \\\\ -5 & 5\\end{array}\\right], \\quad \\mathbf{K}^5=\\left[\\begin{array}{cc}5 & -5 \\\\ -5 & 5\\end{array}\\right]$\n",
    "\n",
    "Mit \n",
    "\n",
    "$\\mathbf{F}^e=\\int_{\\Omega_e}-f(x) \\mathbf{N}^e(x) \\mathrm{d} x$\n",
    "\n",
    "folgt:\n",
    "\n",
    "$\\mathbf{F}^1=-\\bar{f}\\left[\\begin{array}{l}0.1 \\\\ 0.1\\end{array}\\right], \\quad \\mathbf{F}^2=-\\bar{f}\\left[\\begin{array}{c}0.1 \\\\ 0.1\\end{array}\\right], \\mathbf{F}^3=-\\bar{f}\\left[\\begin{array}{l}0.1 \\\\ 0.1\\end{array}\\right], \\quad \\mathbf{F}^4=-\\bar{f}\\left[\\begin{array}{l}0.1 \\\\ 0.1\\end{array}\\right], \\quad \\mathbf{F}^5=-\\bar{f}\\left[\\begin{array}{l}0.1 \\\\ 0.1\\end{array}\\right]$\n",
    "\n",
    "Wenn ich alles diese Ergebnis zusammensetze ergibt sich: \n",
    "\n",
    "$\\sum_{e=1}^5 \\mathbf{V}^{e T} \\mathbf{K}^e \\mathbf{U}^e$\n",
    "\n",
    "$=\\left[\\begin{array}{c}v_0^1 \\\\ v_1^1\\end{array}\\right]^T\\left[\\begin{array}{cc}5 & -5 \\\\ -5 & 5\\end{array}\\right]\\left[\\begin{array}{l}u_0^1 \\\\ u_1^1\\end{array}\\right]+\\left[\\begin{array}{l}v_0^2 \\\\ v_1^2\\end{array}\\right]^T\\left[\\begin{array}{cc}5 & -5 \\\\ -5 & 5\\end{array}\\right]\\left[\\begin{array}{l}u_0^2 \\\\ u_1^2\\end{array}\\right]+ \\left[\\begin{array}{c}v_0^3 \\\\ v_1^3\\end{array}\\right]^T\\left[\\begin{array}{cc}5 & -5 \\\\ -5 & 5\\end{array}\\right]\\left[\\begin{array}{l}u_0^3 \\\\ u_1^3\\end{array}\\right]+\\left[\\begin{array}{l}v_0^4 \\\\ v_1^4\\end{array}\\right]^T\\left[\\begin{array}{cc}5 & -5 \\\\ -5 & 5\\end{array}\\right]\\left[\\begin{array}{l}u_0^4 \\\\ u_1^4\\end{array}\\right]+\\left[\\begin{array}{l}v_0^5 \\\\ v_1^5\\end{array}\\right]^T\\left[\\begin{array}{cc}5 & -5 \\\\ -5 & 5\\end{array}\\right]\\left[\\begin{array}{l}u_0^5 \\\\ u_1^5\\end{array}\\right]$\n",
    "\n",
    "\n",
    "$=\\left[\\begin{array}{l}v_0 \\\\ v_1\\end{array}\\right]^T\\left[\\begin{array}{cc}5 & -5 \\\\ -5 & 5\\end{array}\\right]\\left[\\begin{array}{l}u_0 \\\\ u_1\\end{array}\\right]+\\left[\\begin{array}{l}v_1 \\\\ v_2\\end{array}\\right]^T\\left[\\begin{array}{cc}5 & -5 \\\\ -5 & 5\\end{array}\\right]\\left[\\begin{array}{l}u_1 \\\\ u_2\\end{array}\\right] + \\left[\\begin{array}{l}v_2 \\\\ v_3\\end{array}\\right]^T\\left[\\begin{array}{cc}5 & -5 \\\\ -5 & 5\\end{array}\\right]\\left[\\begin{array}{l}u_2 \\\\ u_3\\end{array}\\right]+\\left[\\begin{array}{l}v_3 \\\\ v_4\\end{array}\\right]^T\\left[\\begin{array}{cc}5 & -5 \\\\ -5 & 5\\end{array}\\right]\\left[\\begin{array}{l}u_3 \\\\ u_4\\end{array}\\right]+\\left[\\begin{array}{l}v_4 \\\\ v_5\\end{array}\\right]^T\\left[\\begin{array}{cc}5 & -5 \\\\ -5 & 5\\end{array}\\right]\\left[\\begin{array}{l}u_4 \\\\ u_5\\end{array}\\right]$\n",
    "\n",
    "\n",
    "\n",
    "$=\\left[\\begin{array}{l}v_0 \\\\ v_1 \\\\ v_2 \\\\ v_3 \\\\ v_4 \\\\ v_5\\end{array}\\right]^T\\left[\\begin{array}{cccccc}5 & -5 & 0 & 0 & 0 & 0 \\\\ -5 & 5+5 & -5 & 0 & 0 & 0 \\\\ 0 & -5 & 5+5 & -5 & 0 & 0 \\\\ 0 & 0 & -5 & 5+5 & -5 & 0 \\\\ 0 & 0 & 0 & -5 & 5+5 & -5 \\\\ 0 & 0 & 0 & 0 & -5 & 5\\end{array}\\right]\\left[\\begin{array}{l}u_0 \\\\ u_1 \\\\ u_2 \\\\ u_3 \\\\ u_4 \\\\ u_5\\end{array}\\right]$\n",
    "\n",
    "\n",
    "$=\\mathrm{V}^T \\mathbf{K U}$"
   ]
  },
  {
   "cell_type": "code",
   "execution_count": 1,
   "metadata": {},
   "outputs": [
    {
     "ename": "SyntaxError",
     "evalue": "invalid decimal literal (1111053342.py, line 1)",
     "output_type": "error",
     "traceback": [
      "\u001b[1;36m  Cell \u001b[1;32mIn[1], line 1\u001b[1;36m\u001b[0m\n\u001b[1;33m    https://www.youtube.com/watch?v=1wSE6iQiScg&t=1821s\u001b[0m\n\u001b[1;37m                                    ^\u001b[0m\n\u001b[1;31mSyntaxError\u001b[0m\u001b[1;31m:\u001b[0m invalid decimal literal\n"
     ]
    }
   ],
   "source": [
    "https://www.youtube.com/watch?v=1wSE6iQiScg&t=1821s\n",
    "\n",
    "Minute 30\n"
   ]
  },
  {
   "cell_type": "markdown",
   "metadata": {},
   "source": []
  },
  {
   "cell_type": "markdown",
   "metadata": {},
   "source": []
  }
 ],
 "metadata": {
  "kernelspec": {
   "display_name": "Python 3",
   "language": "python",
   "name": "python3"
  },
  "language_info": {
   "codemirror_mode": {
    "name": "ipython",
    "version": 3
   },
   "file_extension": ".py",
   "mimetype": "text/x-python",
   "name": "python",
   "nbconvert_exporter": "python",
   "pygments_lexer": "ipython3",
   "version": "3.12.2"
  }
 },
 "nbformat": 4,
 "nbformat_minor": 2
}
