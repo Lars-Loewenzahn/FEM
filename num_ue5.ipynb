   "points = [(1, 2), (2, 3), (3, 5)]  # Example points\n",
    "\n",
    "# Calculate the Lagrange interpolation polynomial\n",
    "lagrange_poly = interpolate(points, x)\n",
    "\n",
    "# Simplify and expand the polynomial for better readability\n",
    "lagrange_poly_simplified = simplify(expand(lagrange_poly))\n",
    "\n",
    "# Print the polynomial\n",
    "print(f'Lagrange Interpolation Polynomial: {lagrange_poly_simplified}')\n"
   ]
  },
  {
   "cell_type": "markdown",
   "id": "d27564d8",
   "metadata": {},
   "source": [
    "## 1.1\n",
    "\n",
    "Beweis mittels Induktion: \n",
    "\n",
    "Angenommen n = 2, so gilt \n",
    "\n",
    "$x_0 , x_1 , x_2$\n",
    "\n",
    "für das Lagrange-Interpolationspolynom mit i = 0:\n",
    "\n",
    "$ L_0 = \\frac{x-x_1}{x_0-x_1}\\cdot \\frac{x-x_2}{x_0-x_2} = \\frac{\\left(x-x_1\\right)\\left(x-x_2\\right)}{\\left(x_0-x_1\\right)\\left(x_0-x_2\\right)}$\n",
    "\n",
    "mit i = 1:\n",
    "\n",
    "$ L_1 = \\frac{x-x_0}{x_1-x_0}\\cdot \\frac{x-x_2}{x_1-x_2} = \\frac{\\left(x-x_0\\right)\\left(x-x_2\\right)}{\\left(x_1-x_0\\right)\\left(x_1-x_2\\right)}$\n",
    "\n",
    "mit i = 2:\n",
    "\n",
    "$ L_2 = \\frac{x-x_0}{x_2-x_0}\\cdot \\frac{x-x_1}{x_2-x_1} = \\frac{\\left(x-x_0\\right)\\left(x-x_1\\right)}{\\left(x_2-x_0\\right)\\left(x_2-x_1\\right)}$\n",
    "\n",
    "Wir sehen, dass jedes Interpolationpolynom für n = 2 den Grad 2 hat. Somit ist der Induktionsanfang bewiesen.\n",
    "Da alle Interpolationspolynom den den gleichen Grad haben werde ich im folgenden nur den erste und den letzten Fall betrachten."
   ]
  },
  {
   "cell_type": "markdown",
   "id": "26c7b5d8",
   "metadata": {},
   "source": [
    "Für ein beliebiges $n \\in \\mathbb{N}$ gilt:\n",
    "\n",
    "$$L_0(x):=\\prod_{\\substack{j=0 \\\\ j \\neq 0}}^n \\frac{x-x_j}{x_0-x_j} $$\n",
    "\n",
    "und:\n",
    "\n",
    "$$L_n(x):=\\prod_{\\substack{j=0 \\\\ j \\neq n}}^n \\frac{x-x_j}{x_n-x_j} $$\n",
    "\n",
    "Dies stellt unsere Annahme dar."
   ]
  },
  {
   "cell_type": "markdown",
   "id": "eaba0dfc",
   "metadata": {},
   "source": [
    "Für ein beliebiges $n \\in \\mathbb{N}$ gilt:\n",
    "\n",
    "Betrachtung des untereren Randfalles (beachte $j=0$ und $j \\neq 0$):\n",
    "\n",
    "$$L_0(x):=\\prod_{\\substack{j=0 \\\\ j \\neq 0}}^{n+1} \\frac{x-x_j}{x_0-x_j} =\\prod_{j=1}^{n+1} \\frac{x-x_j}{x_0-x_j}$$\n",
    "\n",
    "Hier kann die Annahme ausgeklammert werden:\n",
    "\n",
    "$$        \\prod_{j=1}^{n+1} \\frac{x-x_j}{x_0-x_j} = \\prod_{j=1}^{n} \\frac{x-x_j}{x_0-x_j} \\cdot \\frac{x-x_{n+1}}{x_0-x_{n+1}} $$\n",
    "\n",
    "\n",
    "Daraus folgt, dass:\n",
    "\n",
    "Betrachtung des oberen Randfalles:\n",
    "\n",
    "$$L_{n+1}(x):=\\prod_{\\substack{j=0 \\\\ j \\neq n+1}}^{n+1} \\frac{x-x_j}{x_{n+1}-x_j}=\\prod_{j=0}^{n} \\frac{x-x_j}{x_{n+1}-x_j}$$\n",
    "\n",
    "%% \\cdot \\prod_{\\substack{j=0 \\\\ j \\neq i}}$$\n",
    "\n",
    "An dieser Stelle versagt mein Ansatz. "
   ]
  },
  {
   "cell_type": "markdown",
   "id": "75656117",
   "metadata": {},
   "source": [
    "## 1.1.\n",
    "\n",
    "Der neue Ansatz zur Lösung besteht darin sich die Begriffe der Aufgabenstellung noch einmal genau zu betrachten. \n",
    "\n",
    "$\\Pi_n(\\mathbb{R})$ ist der Raum der Polynome vom Grad $\\leq \\boldsymbol{n}$, die Koeffizienten aus $\\mathbb{R}$ (den reellen Zahlen) haben. \n",
    "\n",
    "Ein Polynom in $\\Pi_n(\\mathbb{R})$ hat die Form: $P(x)=a_0+a_1 x+a_2 x^2+\\cdots+a_n x^n,$\n",
    "wobei $a_0, a_1, \\ldots, a_n \\in \\mathbb{R}$ sind.\n",
    "\n",
    "Der Raum $\\Pi_n(\\mathbb{R})$ hat die Dimension $n+1$, da ein Polynom mit Grad $\\leq n$ durch $n+1$ Koeffizienten eindeutig beschrieben wird."
   ]
  },
  {
   "cell_type": "markdown",
   "id": "6bcfb0a1",
   "metadata": {},
   "source": [
    "Eine Basis ist eine Menge von Vektoren (hier Polynome), die zwei Eigenschaften erfüllen:\n",
    "1. Sie sind linear unabhängig.\n",
    "2. Sie spannen den gesamten Raum auf (d. h. jedes Element des Raums kann als Linearkombination der Basisvektoren dargestellt werden)."
   ]
  },
  {
   "cell_type": "markdown",
   "id": "c75eb44d",
   "metadata": {},
   "source": [
    "Um hier also die Basis der Polynome auf $\\mathbb{R}$ darzustellen müssen die Vektoren $a$ mit den Elementen $a_0, a_1,... a_n$ voneinander Linear Unabhängig sein. "
   ]
  },
  {
   "cell_type": "markdown",
   "id": "5b4563c7",
   "metadata": {},
   "source": [
    "Die Menge der Polynome {$L_1, L_2, ... L_3$} ist das Linear unabhängig wenn die folgende Gleichung erfüllt ist:\n",
    "\n",
    "$$c_0 L_0(x)+c_1 L_1(x)+\\cdots+c_n L_n(x)=0$$\n",
    "\n",
    "und $\\forall c_i = 0$"
   ]
  },
  {
   "cell_type": "markdown",
   "id": "678e4cc2",
   "metadata": {},
   "source": [
    "Wenn das Lagrange-Polynom an der Stelle seiner seiner Entwicklung betrachtet wird ergibt sich das Folgende: \n",
    "\n",
    "$$L_i(x_i):=\\prod_{\\substack{j=0 \\\\ j \\neq i}}^n \\frac{x_i-x_j}{x_i-x_j} = \\prod_{\\substack{j=0 \\\\ j \\neq i}}^n 1 = 1$$\n",
    "\n",
    "Wir des aber an der Stelle eines anderen x_k betrachtet so bildet sich in einem der Faktoren der Ausdrck $x_k - x_j$ welcher natürlich gleich 0 ist in dem Fall, dass $k = j$ ist:\n",
    "\n",
    "\n",
    "$$ L_i(x_k):=\\prod_{\\substack{j=0 \\\\ j \\neq i}}^n \\frac{x_k-x_j}{x_i-x_j}  = 0$$\n"
   ]
  },
  {
   "cell_type": "markdown",
   "id": "377f0f95",
   "metadata": {},
   "source": [
    "c_0 L_0(x)+c_1 L_1(x)+\\cdots+c_n L_n(x)=0 ."
   ]
  },
  {
   "cell_type": "markdown",
   "id": "b88f784b",
   "metadata": {},
   "source": [
    "So kommen wir zu einem Ausdruck durch ein Korneckerdelta. \n",
    "\n",
    "$$ L_i\\left(x_j\\right)=\\delta_{i j} = \\begin{cases}1, & \\text { wenn } i=j, \\\\\n",
    "0, & \\text { wenn } i \\neq j .\\end{cases} $$\n"
   ]
  },
  {
   "cell_type": "markdown",
   "id": "10a4c81d",
   "metadata": {},
   "source": [
    "In der Aussage vom Beginn, welche unabhängig sein sollte können wir nun $x = x_i$  mit $\\in {{1,2,...,n }}$ betrachten und erhalten:\n",
    "$$c_0 L_0(x)+c_1 L_1(x)+\\cdots+c_n L_n(x)=0$$\n",
    "\n",
    "$$c_0 L_0(x_0)+c_1 L_1(x_1)+\\cdots+c_n L_n(x_n)=0$$\n",
    "\n",
    "jedes $L_i$ kann nun durch 1 ersetzt werden: \n",
    "\n",
    "$c_0 + c_1 + \\cdots + c_n = 0$\n",
    "\n",
    "Was der Bedingung für die Unabhängigkeit entspricht."
   ]
  },
  {
   "cell_type": "markdown",
   "id": "826fb088",
   "metadata": {},
   "source": [
    "Um nun zu zeigen, dass diese einen Basis für $\\Pi_n ( \\mathbb{N})$ darstellt, zeigen wir, dass sich alle Funktionen dieser Form darstellen lassen.\n",
    "\n",
    "$$P(x)=a_0+a_1 x+a_2 x^2+\\cdots+a_n x^n$$"
   ]
  },
  {
   "cell_type": "markdown",
   "id": "f8806b36",
   "metadata": {},
   "source": [
    "$$P(x)=\\sum_{i=0}^n c_i L_i(x)$$"
   ]
  },
  {
   "cell_type": "code",
   "execution_count": null,
   "id": "8cefd0db",
   "metadata": {},
   "outputs": [],
   "source": []
  },
  {
   "cell_type": "markdown",
   "id": "c49b0b95",
   "metadata": {},
   "source": []
  },
  {
   "cell_type": "markdown",
   "id": "8f01efd5",
   "metadata": {},
   "source": []
  }
 ],
 "metadata": {
  "kernelspec": {
   "display_name": "venv",
   "language": "python",
   "name": "python3"
  },
  "language_info": {
   "codemirror_mode": {
    "name": "ipython",
    "version": 3
   },
   "file_extension": ".py",
   "mimetype": "text/x-python",
   "name": "python",
   "nbconvert_exporter": "python",
   "pygments_lexer": "ipython3",
   "version": "3.13.0"
  }
 },
 "nbformat": 4,
 "nbformat_minor": 5
}
