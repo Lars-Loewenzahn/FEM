{
 "cells": [
  {
   "cell_type": "code",
   "execution_count": 28,
   "metadata": {},
   "outputs": [],
   "source": [
    "import numpy as np"
   ]
  },
  {
   "cell_type": "code",
   "execution_count": 29,
   "metadata": {},
   "outputs": [],
   "source": [
    "def trapez(f, a, b, n):\n",
    "    h = (b - a) / n\n",
    "    s = f(a) + f(b)  # Start mit den äußeren Punkten\n",
    "    for i in range(1, n):  # Summiere die inneren Punkte\n",
    "        x_i = a + i * h\n",
    "        s += 2 * f(x_i)  # Funktionswerte der inneren Punkte verdoppeln\n",
    "    return (h / 2) * s"
   ]
  },
  {
   "cell_type": "code",
   "execution_count": 30,
   "metadata": {},
   "outputs": [],
   "source": [
    "def simpson(f, a, b, n):\n",
    "    h = (b - a) / n\n",
    "    summe = 0\n",
    "    x = [a]\n",
    "    for i in range(1, n+1):\n",
    "        x_im1 = x[-1]\n",
    "        x_i = a + h * i\n",
    "        x.append(x_i)\n",
    "        summe +=  f(x_im1) + 4 * f((x_im1 + x_i) / 2) + f(x_i)\n",
    "    Q = h / 6 * summe\n",
    "    return Q"
   ]
  },
  {
   "cell_type": "code",
   "execution_count": 31,
   "metadata": {},
   "outputs": [],
   "source": [
    "def mittelpunkt(f, a, b, n):\n",
    "    h = (b - a) / n\n",
    "    s = 0\n",
    "    for i in range(0, n):\n",
    "        x_i = a + i* h\n",
    "        s += f(x_i + h/2)\n",
    "    return h*s"
   ]
  },
  {
   "cell_type": "code",
   "execution_count": 32,
   "metadata": {},
   "outputs": [],
   "source": [
    "def f_1(x):\n",
    "    return 3*x +1"
   ]
  },
  {
   "cell_type": "code",
   "execution_count": 33,
   "metadata": {},
   "outputs": [],
   "source": [
    "def f_2(x):\n",
    "    return x**2"
   ]
  },
  {
   "cell_type": "code",
   "execution_count": 34,
   "metadata": {},
   "outputs": [],
   "source": [
    "def f_3(x):\n",
    "    return 2*x**3 + 3*x"
   ]
  },
  {
   "cell_type": "code",
   "execution_count": 35,
   "metadata": {},
   "outputs": [],
   "source": [
    "def f_4(x):\n",
    "    return x**4 + x -1"
   ]
  },
  {
   "cell_type": "code",
   "execution_count": 36,
   "metadata": {},
   "outputs": [],
   "source": [
    "f_n = [f_1, f_2, f_3, f_4]"
   ]
  },
  {
   "cell_type": "code",
   "execution_count": 38,
   "metadata": {},
   "outputs": [
    {
     "name": "stdout",
     "output_type": "stream",
     "text": [
      "    f_1 mit Trapezregel:    2.5\n",
      "   f_1 mit Simpsonregel:    2.5\n",
      " f_1 mit Mittelpunktregel:  2.4999999999999996\n",
      "     f_1 mit Analysis:      2.5\n",
      "    f_2 mit Trapezregel:    0.33673469387755095\n",
      "   f_2 mit Simpsonregel:    0.3333333333333333\n",
      " f_2 mit Mittelpunktregel:  0.3316326530612244\n",
      "     f_2 mit Analysis:      0.3333333333333333\n",
      "    f_3 mit Trapezregel:    2.0102040816326525\n",
      "   f_3 mit Simpsonregel:    2.0\n",
      " f_3 mit Mittelpunktregel:  1.994897959183673\n",
      "     f_3 mit Analysis:      2.0\n",
      "    f_4 mit Trapezregel:    -0.2932111620158267\n",
      "   f_4 mit Simpsonregel:    -0.29999652922393455\n",
      " f_4 mit Mittelpunktregel:  -0.3033892128279885\n",
      "     f_4 mit Analysis:      -0.3\n"
     ]
    }
   ],
   "source": [
    "a = 0\n",
    "b = 1\n",
    "n = 7\n",
    "print(\"f_1 mit Trapezregel:\".center(27), trapez(f_1, a, b, n))\n",
    "print(\"f_1 mit Simpsonregel:\".center(27), simpson(f_1, a, b, n))\n",
    "print(\"f_1 mit Mittelpunktregel:\".center(27),mittelpunkt(f_1, a, b, n))\n",
    "print(\"f_1 mit Analysis:\".center(27),\"2.5\")\n",
    "print(\"f_2 mit Trapezregel:\".center(27), trapez(f_2, a, b, n))\n",
    "print(\"f_2 mit Simpsonregel:\".center(27), simpson(f_2, a, b, n))\n",
    "print(\"f_2 mit Mittelpunktregel:\".center(27),mittelpunkt(f_2, a, b, n))\n",
    "print(\"f_2 mit Analysis:\".center(27),\"0.3333333333333333\")\n",
    "print(\"f_3 mit Trapezregel:\".center(27),trapez(f_3, a, b, n))\n",
    "print(\"f_3 mit Simpsonregel:\".center(27),simpson(f_3, a, b, n))\n",
    "print(\"f_3 mit Mittelpunktregel:\".center(27), mittelpunkt(f_3, a, b, n))\n",
    "print(\"f_3 mit Analysis:\".center(27),\"2.0\")\n",
    "print(\"f_4 mit Trapezregel:\".center(27),trapez(f_4, a, b, n))\n",
    "print(\"f_4 mit Simpsonregel:\".center(27),simpson(f_4, a, b, n))\n",
    "print(\"f_4 mit Mittelpunktregel:\".center(27),mittelpunkt(f_4, a, b, n))\n",
    "print(\"f_4 mit Analysis:\".center(27),\"-0.3\")\n"
   ]
  },
  {
   "cell_type": "markdown",
   "metadata": {},
   "source": [
    "Interpretation der Ergebnisse:\n",
    "Die Trapezregel kann eine Funktion des ersten Grades exakt approximieren, die Simpsonregel jedoch des zweiten Grades. Die Mittelpunktregel ist jedoch nicht exakt, da bei 7 Stützstellen diese bereits einen Rundungsfehler enthalten. \n",
    "Die Analysis ist die exakte Integration der Funktion.\n",
    "Die Trapezregel überschätzt und die Mittelpunktsregel unterschätzt."
   ]
  },
  {
   "cell_type": "markdown",
   "metadata": {},
   "source": []
  }
 ],
 "metadata": {
  "kernelspec": {
   "display_name": "VENV",
   "language": "python",
   "name": "python3"
  },
  "language_info": {
   "codemirror_mode": {
    "name": "ipython",
    "version": 3
   },
   "file_extension": ".py",
   "mimetype": "text/x-python",
   "name": "python",
   "nbconvert_exporter": "python",
   "pygments_lexer": "ipython3",
   "version": "3.13.0"
  }
 },
 "nbformat": 4,
 "nbformat_minor": 2
}
