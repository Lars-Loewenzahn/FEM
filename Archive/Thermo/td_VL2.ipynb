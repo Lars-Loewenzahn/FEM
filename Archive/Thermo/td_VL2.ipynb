{
 "cells": [
  {
   "cell_type": "markdown",
   "metadata": {},
   "source": [
    "## Aufgabe 2.1\n",
    "\n",
    "\n",
    "Wir betrachten die Edelgase Helium (Molmasse $4 \\mathrm{~g} / \\mathrm{mol}$ ) und Argon (Molmasse $40 \\mathrm{~g} / \\mathrm{mol}$ ). Für beide Gase nutzen wir das Idealgas-Modell.\n",
    "\n",
    "\n",
    "a) Berechnen Sie die molare innere Energie von Helium und Argon bei den beiden Temperaturen $T_1=300 \\mathrm{~K}$ und $T_2=400 \\mathrm{~K}$.\n",
    "\n",
    "b) Wie groß ist die spezifische innere Energie $u$ in den genannten Fällen?\n",
    "\n",
    "c) Wie groß ist jeweils die mittlere Geschwindigkeit der Teilchen?\n",
    "\n",
    "\n",
    "Hinweis: $R_{\\mathrm{m}}=8.314472 \\mathrm{~J} /(\\mathrm{mol} \\mathrm{K}), N_{\\mathrm{A}}=6.0225 \\cdot 10^{23}$ Teilchen $/ \\mathrm{mol}$"
   ]
  },
  {
   "cell_type": "markdown",
   "metadata": {},
   "source": [
    "### a) molare innere Energie"
   ]
  },
  {
   "cell_type": "code",
   "execution_count": 10,
   "metadata": {},
   "outputs": [
    {
     "name": "stdout",
     "output_type": "stream",
     "text": [
      "U_single =  3740.15124 J/mol\n",
      "U_single =  4986.86832 J/mol\n"
     ]
    }
   ],
   "source": [
    "R = 8.3114472\n",
    "C_v_single = 1.5*R\n",
    "C_v_double = 2.5*R\n",
    "T_1 = 300\n",
    "T_2 = 400\n",
    "\n",
    "U_single_1 = C_v_single*T_1\n",
    "print(\"U_single = \", U_single_1, \"J/mol\")\n",
    "U_single_2 = C_v_single*T_2\n",
    "print(\"U_single = \", U_single_2, \"J/mol\")"
   ]
  },
  {
   "cell_type": "markdown",
   "metadata": {},
   "source": [
    "### b) spezifische innere Energie"
   ]
  },
  {
   "cell_type": "code",
   "execution_count": 12,
   "metadata": {},
   "outputs": [
    {
     "name": "stdout",
     "output_type": "stream",
     "text": [
      "u_helium_1 =  934.4299633088675 J/g\n",
      "u_helium_2 =  1245.9066177451566 J/g\n",
      "u_argron_1 =  93.62549414238511 J/g\n",
      "u_argron_2 =  124.83399218984678 J/g\n"
     ]
    }
   ],
   "source": [
    "M_helium = 4.002602 # g/mol\n",
    "u_helium_1 = U_single_1/M_helium\n",
    "u_helium_2 = U_single_2/M_helium\n",
    "M_argon = 39.948 # g/mol\n",
    "u_argon_1 = U_single_1/M_argon\n",
    "u_argon_2 = U_single_2/M_argon\n",
    "print(\"u_helium_1 = \", u_helium_1, \"J/g\")\n",
    "print(\"u_helium_2 = \", u_helium_2, \"J/g\")\n",
    "print(\"u_argron_1 = \", u_argon_1, \"J/g\")\n",
    "print(\"u_argron_2 = \", u_argon_2, \"J/g\")"
   ]
  },
  {
   "cell_type": "markdown",
   "metadata": {},
   "source": [
    "### c) Teilchengeschwindigkeit"
   ]
  },
  {
   "cell_type": "code",
   "execution_count": 16,
   "metadata": {},
   "outputs": [
    {
     "name": "stdout",
     "output_type": "stream",
     "text": [
      "v_helium =  1367.0625174503668 m/s\n",
      "v_helium =  1578.5478248980335 m/s\n",
      "v_argon =  432.7250724013692 m/s\n",
      "v_argon =  499.6678740720615 m/s\n"
     ]
    }
   ],
   "source": [
    "npmol = 6.02214076e23\n",
    "E_teilchen_1 = U_single_1/npmol\n",
    "E_teilchen_2 = U_single_2/npmol\n",
    "# print(\"E_teilchen = \", E_teilchen_1, \"J\")\n",
    "m_helium = M_helium/(npmol*1000) # Masse eines Helium-Atoms in kg\n",
    "m_argon = M_argon/(npmol*1000) # Masse eines Argon-Atoms in kg\n",
    "v_helium_1 = (2*E_teilchen_1/m_helium)**0.5\n",
    "v_argon_1 = (2*E_teilchen_1/m_argon)**0.5\n",
    "v_helium_2 = (2*E_teilchen_2/m_helium)**0.5\n",
    "v_argon_2 = (2*E_teilchen_2/m_argon)**0.5\n",
    "print(\"v_helium = \", v_helium_1, \"m/s\")\n",
    "print(\"v_helium = \", v_helium_2, \"m/s\")\n",
    "print(\"v_argon = \", v_argon_1, \"m/s\")\n",
    "print(\"v_argon = \", v_argon_2, \"m/s\")"
   ]
  },
  {
   "cell_type": "markdown",
   "metadata": {},
   "source": []
  }
 ],
 "metadata": {
  "kernelspec": {
   "display_name": "Python 3",
   "language": "python",
   "name": "python3"
  },
  "language_info": {
   "codemirror_mode": {
    "name": "ipython",
    "version": 3
   },
   "file_extension": ".py",
   "mimetype": "text/x-python",
   "name": "python",
   "nbconvert_exporter": "python",
   "pygments_lexer": "ipython3",
   "version": "3.12.2"
  }
 },
 "nbformat": 4,
 "nbformat_minor": 2
}
