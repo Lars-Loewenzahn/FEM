{
 "cells": [
  {
   "cell_type": "markdown",
   "metadata": {},
   "source": [
    "## Aufgabe 1.1\n",
    "\n",
    "a) Definieren Sie den Begriff Zustandsgröße. Geben Sie zwei Beispiele.\n",
    "\n",
    "b) Die Zustandsgleichung des idealen Gases lautet $p=\\frac{R T}{v}$. Zeigen Sie, dass bei der Bildung der gemischten Ableitungen von $p$ (nach dem spezifischen Volumen $v$ und der Temperatur $T$ ) die Reihenfolge der Ableitung egal ist (Satz von Schwarz).\n",
    "\n",
    "c) Definieren Sie den Begriff Prozessgröße. Geben Sie zwei Beispiele."
   ]
  },
  {
   "cell_type": "markdown",
   "metadata": {},
   "source": [
    "a) Eine Zustandgröße ist wegunabhängig und beschreiben den Zustand eines Systems. Masse, Druck und Temperatur sind gute Beispiele"
   ]
  },
  {
   "cell_type": "markdown",
   "metadata": {},
   "source": [
    "b) \n",
    "\n",
    "$\\frac{\\partial p}{\\partial v} = - \\frac{RT}{v^2}$\n",
    "\n",
    "$\\frac{\\partial p}{\\partial v \\partial T} = - \\frac{R}{v^2}$\n",
    "\n",
    "$\\frac{\\partial p}{\\partial T} = \\frac{R}{v}$\n",
    "\n",
    "$\\frac{\\partial p}{\\partial T \\partial v} = - \\frac{R}{v^2}$\n"
   ]
  },
  {
   "cell_type": "markdown",
   "metadata": {},
   "source": [
    "c) Die Prozessgröße beschreibt die Veränderung eines Systems während des Prozess. \n",
    "\n",
    "Wärme Q und Arbeit W sind gute Beispiele. "
   ]
  },
  {
   "cell_type": "markdown",
   "metadata": {},
   "source": [
    "## Aufgabe 1.2\n",
    "\n",
    "Definieren Sie folgende Begriffe:\n",
    "\n",
    "a) intensive Größe\n",
    "\n",
    "b) extensive Größe\n",
    "\n",
    "c) bezogene Größe\n",
    "\n",
    "Geben Sie jeweils zwei Beispiele."
   ]
  },
  {
   "cell_type": "markdown",
   "metadata": {},
   "source": [
    "a) intensive Größen hängen nicht von der Größe und der Masse eines Systems ab.  Sie bleiben erhalten auch wenn das System geteilt wird. \n",
    "\n",
    "\n",
    "Dichte, \n",
    "\n",
    "spezifischer Widerstand\n",
    "\n",
    "Druck\n",
    "\n",
    "Temperatur"
   ]
  },
  {
   "cell_type": "markdown",
   "metadata": {},
   "source": [
    "b) eine extensive Größe hängt von der Größe und der Masse eines Systems ab. Sie verändert sich wenn das System geteilt wird.\n",
    "\n",
    "Masse\n",
    "\n",
    "Volumen\n",
    "\n",
    "Energie"
   ]
  },
  {
   "cell_type": "markdown",
   "metadata": {},
   "source": [
    "c) Ist der Quotient aus zwei Extensive Größen um eine intensive Größe zu berechnen. \n",
    "\n",
    "Molare Energie\n",
    "\n",
    "Flächenpressung\n",
    "\n",
    "Konzentration\n",
    "\n",
    "Dichte\n",
    "\n",
    "Spezifische Wärme"
   ]
  },
  {
   "cell_type": "markdown",
   "metadata": {},
   "source": [
    "## Aufgabe 1.3\n",
    "\n",
    "Ein Behälter (A) mit dem Volumen $V=4 \\mathrm{dm}^3$ ist gefüllt mit 0.5 g Helium (Molmasse $4 \\mathrm{~g} / \\mathrm{mol}$ ). Ein weiterer Behälter (B) mit dem selben Volumen ist gefüllt mit 3.62 g Luft (Molmasse $28.96 \\mathrm{~g} / \\mathrm{mol}$ ).\n",
    "\n",
    "a) Berechnen Sie die Dichte $\\rho_{\\mathrm{He}}$ des Heliums und die Dichte $\\rho_{\\mathrm{L}}$ der Luft.\n",
    "\n",
    "b) Berechnen Sie die molare Dichte $\\rho_{\\mathrm{m}, \\mathrm{He}}$ des Heliums und die molare Dichte $\\rho_{\\mathrm{m}, \n",
    "\\mathrm{L}}$ der Luft. Was fällt Ihnen auf?\n"
   ]
  },
  {
   "cell_type": "code",
   "execution_count": 7,
   "metadata": {},
   "outputs": [],
   "source": [
    "V = 4 # dm^3\n",
    "# V = V*0.001 # m^3\n",
    "\n",
    "m_He = 0.5 # g\n",
    "M_He = 4.002602 # g/mol\n",
    "m_L = 3.62 # g\n",
    "M_L = 28.96 # g/mol"
   ]
  },
  {
   "cell_type": "code",
   "execution_count": 8,
   "metadata": {},
   "outputs": [
    {
     "name": "stdout",
     "output_type": "stream",
     "text": [
      "0.000125 0.0009050000000000001\n"
     ]
    }
   ],
   "source": [
    "rho_He = m_He*0.001/V\n",
    "rho_L = m_L*0.001/V\n",
    "print(rho_He, rho_L)"
   ]
  },
  {
   "cell_type": "code",
   "execution_count": 9,
   "metadata": {},
   "outputs": [
    {
     "name": "stdout",
     "output_type": "stream",
     "text": [
      "3.122968508984905e-05 3.125e-05\n"
     ]
    }
   ],
   "source": [
    "rho_m_He = rho_He/M_He\n",
    "rho_m_L = rho_L/M_L\n",
    "print(rho_m_He, rho_m_L)"
   ]
  },
  {
   "cell_type": "markdown",
   "metadata": {},
   "source": [
    "a) \n",
    "\n",
    "Dichte: $\\rho_{\\mathrm{He}} = \\frac{m}{V} = \\frac{0.5}{4} = 0.000125 \\mathrm{g} / \\mathrm{dm}^3$\n",
    "\n",
    "Dichte: $\\rho_{\\mathrm{Luft}} = \\frac{m}{V} = 0.000905 \\mathrm{g} / \\mathrm{dm}^3$"
   ]
  },
  {
   "cell_type": "markdown",
   "metadata": {},
   "source": [
    "b) \n",
    "\n",
    "\n",
    "molare Dichte: $\\rho_{\\mathrm{m}, \\mathrm{He}} = \\frac{\\rho}{M} = \\frac{0.000125}{4} = 0.00003123 \\mathrm{mol} / \\mathrm{m^3}$\n",
    "\n",
    "molare Dichte: $\\rho_{\\mathrm{m}, \\mathrm{Luft}} = \\frac{\\rho}{M} = \\frac{0.0009005}{28.96} = 0.00003125 \\mathrm{mol} / \\mathrm{m^3}$\n",
    "\n",
    "Die Zahlenwerte sind etwa gleich."
   ]
  },
  {
   "cell_type": "markdown",
   "metadata": {},
   "source": [
    "## Aufgabe 1.4\n",
    "\n",
    "\n",
    "Geben Sie jeweils ein Beispiel für ein offenes, geschlossenes und abgeschlossenes System und skizzieren dies. Zeichnen Sie zudem eine sinnvolle Systemgrenze und die Masse- und Energieflüsse über die Systemgrenze in die jeweiligen Skizzen ein."
   ]
  },
  {
   "cell_type": "markdown",
   "metadata": {},
   "source": [
    "Ein offenes System kann Masse und Energie mit der Umgebung austauschen. Z.b. ein Topf mit Kochendem Wasser. \n",
    "\n",
    "\n",
    "Ein geschlossenes System kann Energie aber keine Masse mit der Umgebung austauschen. Z.B. Thermoskanne. \n",
    "\n",
    "\n",
    "Ein abgeschlossenes System kann weder Masse noch Energie mit der Umgebung austauschen. "
   ]
  },
  {
   "cell_type": "code",
   "execution_count": 11,
   "metadata": {},
   "outputs": [
    {
     "data": {
      "image/png": "[encoded data removed]",
      "text/plain": [
       "<Figure size 500x400 with 1 Axes>"
      ]
     },
     "metadata": {},
     "output_type": "display_data"
    },
    {
     "data": {
      "image/png": "[encoded data removed]",
      "text/plain": [
       "<Figure size 500x400 with 1 Axes>"
      ]
     },
     "metadata": {},
     "output_type": "display_data"
    },
    {
     "data": {
      "image/png": "[encoded data removed]",
      "text/plain": [
       "<Figure size 500x400 with 1 Axes>"
      ]
     },
     "metadata": {},
     "output_type": "display_data"
    }
   ],
   "source": [
    "import matplotlib.pyplot as plt\n",
    "\n",
    "# Skizze für offenes System (Kochender Topf)\n",
    "fig, ax = plt.subplots(figsize=(5, 4))\n",
    "ax.set_xlim(0, 10)\n",
    "ax.set_ylim(0, 10)\n",
    "ax.set_xticks([])\n",
    "ax.set_yticks([])\n",
    "ax.set_title(\"Offenes System: Kochender Topf\")\n",
    "\n",
    "# Topf zeichnen\n",
    "ax.add_patch(plt.Rectangle((3, 3), 4, 3, fill=False, edgecolor='black', lw=2))\n",
    "ax.plot([3, 7], [6, 6], color='black', lw=2)  # Deckel (nicht komplett geschlossen)\n",
    "\n",
    "# Energiefluss (Wärme vom Herd)\n",
    "ax.arrow(5, 2, 0, 1, head_width=0.3, head_length=0.3, fc='red', ec='red', lw=2)\n",
    "ax.text(5.3, 2.5, \"Wärme\", color='red')\n",
    "\n",
    "# Massefluss (Dampf entweicht)\n",
    "ax.arrow(6, 6.2, 0.5, 1, head_width=0.3, head_length=0.3, fc='blue', ec='blue', lw=2)\n",
    "ax.text(6.7, 7, \"Dampf\", color='blue')\n",
    "\n",
    "plt.show()\n",
    "\n",
    "# Skizze für geschlossenes System (Versiegelte Wärmflasche)\n",
    "fig, ax = plt.subplots(figsize=(5, 4))\n",
    "ax.set_xlim(0, 10)\n",
    "ax.set_ylim(0, 10)\n",
    "ax.set_xticks([])\n",
    "ax.set_yticks([])\n",
    "ax.set_title(\"Geschlossenes System: Wärmflasche\")\n",
    "\n",
    "# Wärmflasche zeichnen\n",
    "ax.add_patch(plt.Rectangle((3, 3), 4, 3, fill=False, edgecolor='black', lw=2))\n",
    "\n",
    "# Energiefluss (Wärmeleitung)\n",
    "ax.arrow(7, 4.5, 1.5, 0, head_width=0.3, head_length=0.3, fc='red', ec='red', lw=2)\n",
    "ax.text(8, 4.8, \"Wärme\", color='red')\n",
    "\n",
    "plt.show()\n",
    "\n",
    "# Skizze für abgeschlossenes System (Thermosbehälter)\n",
    "fig, ax = plt.subplots(figsize=(5, 4))\n",
    "ax.set_xlim(0, 10)\n",
    "ax.set_ylim(0, 10)\n",
    "ax.set_xticks([])\n",
    "ax.set_yticks([])\n",
    "ax.set_title(\"Abgeschlossenes System: Thermosbehälter\")\n",
    "\n",
    "# Thermosbehälter zeichnen\n",
    "ax.add_patch(plt.Rectangle((3, 3), 4, 3, fill=False, edgecolor='black', lw=2, linestyle='dashed'))\n",
    "\n",
    "# Kein Energie- oder Massefluss\n",
    "ax.text(5, 5, \"Kein Austausch\", color='gray', ha='center')\n",
    "\n",
    "plt.show()\n"
   ]
  },
  {
   "cell_type": "markdown",
   "metadata": {},
   "source": [
    "## Aufgabe 1.5\n",
    "\n",
    "Während Ihres Thermodynamik-Praktikums bricht im Versuchslabor ein Feuer aus. Nachdem Sie sich vor dem Inferno in Sicherheit gebracht haben, treffen die ersten Einsatzkräfte ein. Die Besatzung des Tanklöschfahrzeuges ( $V_{\\mathrm{T}}=2500 \\ell$ ) beginnt umgehend mit den Löscharbeiten. Das eingesetzte Strahlrohr fördert einen Volumenstrom von $\\dot{V}_1=$ $120 \\ell / \\mathrm{min}$.\n",
    "\n",
    "a) Skizzieren Sie das zu bilanzierende System mit allen auftretenden Strömen."
   ]
  },
  {
   "cell_type": "code",
   "execution_count": 21,
   "metadata": {},
   "outputs": [
    {
     "name": "stderr",
     "output_type": "stream",
     "text": [
      "<>:16: SyntaxWarning: invalid escape sequence '\\d'\n",
      "<>:16: SyntaxWarning: invalid escape sequence '\\d'\n",
      "C:\\Users\\Lars\\AppData\\Local\\Temp\\ipykernel_13756\\797942284.py:16: SyntaxWarning: invalid escape sequence '\\d'\n",
      "  ax.text(8, 4.8, \"$\\dot{V}_1$\", color='red')\n"
     ]
    },
    {
     "data": {
      "image/png": "[encoded data removed]",
      "text/plain": [
       "<Figure size 500x400 with 1 Axes>"
      ]
     },
     "metadata": {},
     "output_type": "display_data"
    }
   ],
   "source": [
    "import matplotlib.pyplot as plt\n",
    "\n",
    "# Skizze für geschlossenes System (Versiegelte Wärmflasche)\n",
    "fig, ax = plt.subplots(figsize=(5, 4))\n",
    "ax.set_xlim(0, 10)\n",
    "ax.set_ylim(0, 10)\n",
    "ax.set_xticks([])\n",
    "ax.set_yticks([])\n",
    "ax.set_title(\"Löschfarzeug\")\n",
    "\n",
    "# Wärmflasche zeichnen\n",
    "ax.add_patch(plt.Rectangle((3, 3), 4, 3, fill=False, edgecolor='black', lw=2))\n",
    "\n",
    "# Energiefluss (Wärmeleitung)\n",
    "ax.arrow(7, 4.5, 1.5, 0, head_width=0.3, head_length=0.3, fc='red', ec='red', lw=2)\n",
    "ax.text(8, 4.8, \"$\\dot{V}_1$\", color='red')\n",
    "\n",
    "# Kein Energie- oder Massefluss\n",
    "ax.text(5, 5, \"$V_t$\", color='gray', ha='center')\n",
    "\n",
    "plt.show()"
   ]
  },
  {
   "cell_type": "markdown",
   "metadata": {},
   "source": [
    "b) Stellen Sie eine Massenbilanz für das System auf. Handelt es sich um ein stationäres oder ein instationäres System?"
   ]
  },
  {
   "cell_type": "markdown",
   "metadata": {},
   "source": [
    "Massenbilanz:\n",
    "\n",
    "$\\frac{d m}{d t} = 0 - \\dot{V}_1 \\cdot \\rho_{\\mathrm{Wassser}}  = -120 \\frac{kg}{min} -2 \\frac{kg}{s}$\n",
    "\n",
    "Das System ist nicht Stationär da $\\frac{d m}{d t} \\neq 0$"
   ]
  },
  {
   "cell_type": "markdown",
   "metadata": {},
   "source": [
    "\n",
    "c) Wie lange kann das eingesetzte Strahlrohr mit dem im Tank befindlichen Wasser versorgt werden?\n"
   ]
  },
  {
   "cell_type": "code",
   "execution_count": 17,
   "metadata": {},
   "outputs": [
    {
     "name": "stdout",
     "output_type": "stream",
     "text": [
      "20.833333333333332\n"
     ]
    }
   ],
   "source": [
    "t = 2500/120 \n",
    "print(t)"
   ]
  },
  {
   "cell_type": "markdown",
   "metadata": {},
   "source": [
    "Nach 10 Minuten hat sich das Feuer auf ein angrenzendes Büro ausgebreitet. Zur Brandbekämpfung soll deshalb ein zweites Strahlrohr mit einem Durchfluss von $\\dot{V}_2=400 \\ell / \\mathrm{min}$ eingesetzt werden, welches ebenfalls an den Tank des Löschfahrzeugs angeschlossen wird. Gleichzeitig wird dem Wassertank über eine Versorgungsleitung Löschwasser zugeführt.\n",
    "\n",
    "d) Erweitern Sie die Systemskizze um die neu auftretenden Ströme."
   ]
  },
  {
   "cell_type": "code",
   "execution_count": 33,
   "metadata": {},
   "outputs": [
    {
     "name": "stderr",
     "output_type": "stream",
     "text": [
      "<>:16: SyntaxWarning: invalid escape sequence '\\d'\n",
      "<>:19: SyntaxWarning: invalid escape sequence '\\d'\n",
      "<>:22: SyntaxWarning: invalid escape sequence '\\d'\n",
      "<>:16: SyntaxWarning: invalid escape sequence '\\d'\n",
      "<>:19: SyntaxWarning: invalid escape sequence '\\d'\n",
      "<>:22: SyntaxWarning: invalid escape sequence '\\d'\n",
      "C:\\Users\\Lars\\AppData\\Local\\Temp\\ipykernel_13756\\2788389447.py:16: SyntaxWarning: invalid escape sequence '\\d'\n",
      "  ax.text(8, 5.3, \"$\\dot{V}_1$\", color='red')\n",
      "C:\\Users\\Lars\\AppData\\Local\\Temp\\ipykernel_13756\\2788389447.py:19: SyntaxWarning: invalid escape sequence '\\d'\n",
      "  ax.text(8, 3.8, \"$\\dot{V}_2$\", color='red')\n",
      "C:\\Users\\Lars\\AppData\\Local\\Temp\\ipykernel_13756\\2788389447.py:22: SyntaxWarning: invalid escape sequence '\\d'\n",
      "  ax.text(2, 4.3, \"$\\dot{V}_3$\", color='red')\n"
     ]
    },
    {
     "data": {
      "image/png": "[encoded data removed]",
      "text/plain": [
       "<Figure size 500x400 with 1 Axes>"
      ]
     },
     "metadata": {},
     "output_type": "display_data"
    }
   ],
   "source": [
    "import matplotlib.pyplot as plt\n",
    "\n",
    "# Skizze für geschlossenes System (Versiegelte Wärmflasche)\n",
    "fig, ax = plt.subplots(figsize=(5, 4))\n",
    "ax.set_xlim(0, 10)\n",
    "ax.set_ylim(0, 10)\n",
    "ax.set_xticks([])\n",
    "ax.set_yticks([])\n",
    "ax.set_title(\"Löschfarzeug\")\n",
    "\n",
    "# Wärmflasche zeichnen\n",
    "ax.add_patch(plt.Rectangle((3, 3), 4, 3, fill=False, edgecolor='black', lw=2))\n",
    "\n",
    "# Energiefluss (Wärmeleitung)\n",
    "ax.arrow(7, 5, 1.5, 0, head_width=0.3, head_length=0.3, fc='red', ec='red', lw=2)\n",
    "ax.text(8, 5.3, \"$\\dot{V}_1$\", color='red')\n",
    "\n",
    "ax.arrow(7, 3.5, 1.5, 0, head_width=0.3, head_length=0.3, fc='red', ec='red', lw=2)\n",
    "ax.text(8, 3.8, \"$\\dot{V}_2$\", color='red')\n",
    "\n",
    "ax.arrow(1, 4, 1.5, 0, head_width=0.3, head_length=0.3, fc='red', ec='red', lw=2)\n",
    "ax.text(2, 4.3, \"$\\dot{V}_3$\", color='red')\n",
    "\n",
    "# Kein Energie- oder Massefluss\n",
    "ax.text(5, 5, \"$V_t$\", color='gray', ha='center')\n",
    "\n",
    "plt.show()"
   ]
  },
  {
   "cell_type": "markdown",
   "metadata": {},
   "source": [
    "e) Wie groß muss der Volumenstrom des zugeführten Löschwassers sein, damit die Wassermasse im Tank konstant bleibt?"
   ]
  },
  {
   "cell_type": "code",
   "execution_count": 35,
   "metadata": {},
   "outputs": [
    {
     "name": "stdout",
     "output_type": "stream",
     "text": [
      "520\n"
     ]
    }
   ],
   "source": [
    "V = 400 + 120\n",
    "print(V)"
   ]
  },
  {
   "cell_type": "markdown",
   "metadata": {},
   "source": [
    "Um die Löschwirkung zu erhöhen, wird dem Löschwasser des größeren Strahlrohrs ( $\\dot{V}_2=$ $400 \\ell / \\mathrm{min}$ ) über eine Mischapparatur ein Schaummittel $\\left(\\rho_{\\text {Zusatz }}=1200 \\mathrm{~kg} / \\mathrm{m}^3\\right) \\mathrm{im}$ Volumenverhältnis 3 zu 100 zugesetzt. Das Gemisch wird im Strahlrohr mit Luft aufgeschäumt. Der so gebildete Schaum besitzt eine Dichte von $\\rho_{\\mathrm{S}}=250 \\mathrm{~kg} / \\mathrm{m}^3$.\n",
    "\n",
    "f) Welches Schaum-Volumen lässt sich durch die Zugabe von 20 Litern Schaummittel bilden?"
   ]
  },
  {
   "cell_type": "code",
   "execution_count": 36,
   "metadata": {},
   "outputs": [
    {
     "name": "stdout",
     "output_type": "stream",
     "text": [
      "2762.6666666666665\n"
     ]
    }
   ],
   "source": [
    "V_z = 20\n",
    "V_w = V_z * 100 / 3\n",
    "\n",
    "m = V_w*1000 + V_z*1200\n",
    "V_l = m/250\n",
    "print(V_l)"
   ]
  },
  {
   "cell_type": "markdown",
   "metadata": {},
   "source": [
    "Hinweise:\n",
    "\n",
    "- Sämtliche Massenströme sind zeitlich konstant.\n",
    "\n",
    "- Die Masse der eingeschäumten Luft kann vernachlässigt werden.\n",
    "\n",
    "- Die Dichte von Wasser beträgt: $\\rho_{\\mathrm{W}}=997 \\mathrm{~kg} / \\mathrm{m}^3$"
   ]
  }
 ],
 "metadata": {
  "kernelspec": {
   "display_name": "Python 3",
   "language": "python",
   "name": "python3"
  },
  "language_info": {
   "codemirror_mode": {
    "name": "ipython",
    "version": 3
   },
   "file_extension": ".py",
   "mimetype": "text/x-python",
   "name": "python",
   "nbconvert_exporter": "python",
   "pygments_lexer": "ipython3",
   "version": "3.13.3"
  }
 },
 "nbformat": 4,
 "nbformat_minor": 2
}
