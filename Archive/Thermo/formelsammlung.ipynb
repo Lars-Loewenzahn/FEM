{
 "cells": [
  {
   "cell_type": "markdown",
   "metadata": {},
   "source": [
    "# Thermodynamische Formelsammlung\n",
    "\n",
    "## 1. Erster Hauptsatz der Thermodynamik\n",
    "\\[ \\Delta U = Q - W \\]\n",
    "- \\(\\Delta U\\): Änderung der inneren Energie\n",
    "- \\(Q\\): Zugeführte Wärme\n",
    "- \\(W\\): Geleistete Arbeit\n",
    "\n",
    "## 2. Zweiter Hauptsatz der Thermodynamik\n",
    "\\[ \\Delta S \\geq \\frac{Q}{T} \\]\n",
    "- \\(\\Delta S\\): Änderung der Entropie\n",
    "- \\(T\\): Temperatur in Kelvin\n",
    "\n",
    "## 3. Ideale Gasgleichung\n",
    "\\[ PV = nRT \\]\n",
    "- \\(P\\): Druck\n",
    "- \\(V\\): Volumen\n",
    "- \\(n\\): Stoffmenge in Mol\n",
    "- \\(R\\): Universelle Gaskonstante\n",
    "- \\(T\\): Temperatur in Kelvin\n",
    "\n",
    "## 4. Enthalpie\n",
    "\\[ H = U + PV \\]\n",
    "- \\(H\\): Enthalpie\n",
    "- \\(U\\): Innere Energie\n",
    "- \\(P\\): Druck\n",
    "- \\(V\\): Volumen\n",
    "\n",
    "## 5. Gibbs'sche freie Energie\n",
    "\\[ G = H - TS \\]\n",
    "- \\(G\\): Gibbs'sche freie Energie\n",
    "- \\(H\\): Enthalpie\n",
    "- \\(T\\): Temperatur in Kelvin\n",
    "- \\(S\\): Entropie\n",
    "\n",
    "## 6. Helmholtz freie Energie\n",
    "\\[ F = U - TS \\]\n",
    "- \\(F\\): Helmholtz freie Energie\n",
    "- \\(U\\): Innere Energie\n",
    "- \\(T\\): Temperatur in Kelvin\n",
    "- \\(S\\): Entropie\n"
   ]
  },
  {
   "cell_type": "markdown",
   "metadata": {},
   "source": []
  }
 ],
 "metadata": {
  "language_info": {
   "name": "python"
  }
 },
 "nbformat": 4,
 "nbformat_minor": 2
}
