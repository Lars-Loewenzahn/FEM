{
 "cells": [
  {
   "cell_type": "markdown",
   "metadata": {},
   "source": [
    "## Aufgabe 7.1\n",
    "\n",
    "In einem Wasserbad wird $m_A=1 \\mathrm{~kg}$ heißes Wasser $\\left(T_{1, A}=370 \\mathrm{~K}\\right)$ mit $m_B=4 \\mathrm{~kg}$ kaltem Wasser ( $T_{1, B}=280 \\mathrm{~K}$ ) abgekühlt. Am Ende des Prozesses herrscht in beiden Wassermengen die gleiche Temperatur $T_2=298 \\mathrm{~K}$. Die Wärmekapazität des Wassers beträgt $c=4190 \\mathrm{~J} /(\\mathrm{kg} \\mathrm{K})$. Das Wasserbad ist nach außen hin adiabat. Temperaturbedingte Volumenänderungen des Wassers sind zu vernachlässigen\n",
    "\n",
    "\n",
    "a) Wie viel Wärme wurde übertragen?"
   ]
  },
  {
   "cell_type": "code",
   "execution_count": 5,
   "metadata": {},
   "outputs": [
    {
     "name": "stdout",
     "output_type": "stream",
     "text": [
      "-301680\n"
     ]
    }
   ],
   "source": [
    "T_1 = 370\n",
    "T_2 = 298\n",
    "delta_T = T_2 - T_1\n",
    "m_1 = 1\n",
    "m_2 = 4\n",
    "c = 4190\n",
    "Q = m_1*c*delta_T\n",
    "print(Q)"
   ]
  },
  {
   "cell_type": "markdown",
   "metadata": {},
   "source": [
    "b) Wie viel Entropie wurde bei dem Vorgang erzeugt?"
   ]
  },
  {
   "cell_type": "code",
   "execution_count": 6,
   "metadata": {},
   "outputs": [
    {
     "data": {
      "text/plain": [
       "4190.0"
      ]
     },
     "execution_count": 6,
     "metadata": {},
     "output_type": "execute_result"
    }
   ],
   "source": [
    "delta_S = Q/delta_T\n",
    "delta_S"
   ]
  },
  {
   "cell_type": "markdown",
   "metadata": {},
   "source": [
    "c) Was würde (rechnerisch) passieren, wenn oben beschriebener Prozess rückwärts ablaufen würde?"
   ]
  },
  {
   "cell_type": "markdown",
   "metadata": {},
   "source": [
    "Entropie wäre negativ. Nicht möglich."
   ]
  },
  {
   "cell_type": "markdown",
   "metadata": {},
   "source": [
    "## Aufgabe 7.2\n",
    "\n",
    "\n",
    "Ein Probenbehälter mit dem Volumen $V_{\\mathrm{A}}=1 \\mathrm{dm}^3$ ist mit Methan gefüllt ( $p_1=0.24 \\mathrm{MPa}$, $\\left.T_1=20^{\\circ} \\mathrm{C}\\right)$.\n",
    "Nun soll das Gas auf zwei Behälter verteilt werden. Dazu wird ein evakuierter Behälter mit dem Volumen $V_{\\mathrm{B}}=0.5 \\mathrm{dm}^3$ mit dem ersten verbunden und das Ventil geöffnet. Dieser Vorgang verläuft adiabat.\n",
    "Zur Vereinfachung stellen wir uns vor, dass überall im Methan der gleiche Druck/Temperatur herrscht, d.h. das System Gas expandiert gegen ein Vakuum.\n",
    "\n",
    "Hinweise:\n",
    "Methan soll als ideales Gas mit $R=0.5197 \\mathrm{~kJ} /(\\mathrm{kg} \\mathrm{K})$ und $c_v=1.559 \\mathrm{~kJ} /(\\mathrm{kg} \\mathrm{K})$ betrachtet werden. Das Volumen des Verbindungsrohrs ist zu vernachlässigen.\n",
    "\n",
    "a) Wie viel Masse an Gas wird umgefüllt?"
   ]
  },
  {
   "cell_type": "code",
   "execution_count": 12,
   "metadata": {},
   "outputs": [
    {
     "name": "stdout",
     "output_type": "stream",
     "text": [
      "0.0015753194181649622\n",
      "0.000525106472721654\n"
     ]
    }
   ],
   "source": [
    "R  = 0.5197\n",
    "c_v = 1.559\n",
    "V_A = 0.001\n",
    "V_B = 0.0005\n",
    "V_R = V_A + V_B\n",
    "p_A = 0.24*10**3 # kPa\n",
    "T_A = 273.15 + 20\n",
    "m = p_A*V_A/(R*T_A)\n",
    "print(m)\n",
    "print(m/3)"
   ]
  },
  {
   "cell_type": "markdown",
   "metadata": {},
   "source": [
    "b) Welche Temperatur liegt nach dem Umfüllen vor?"
   ]
  },
  {
   "cell_type": "code",
   "execution_count": null,
   "metadata": {},
   "outputs": [],
   "source": [
    "# Die Temperatur bleibt konstant."
   ]
  },
  {
   "cell_type": "markdown",
   "metadata": {},
   "source": [
    "c) Wie groß ist die Entropieänderung des Gases beim Umfüllvorgang?"
   ]
  },
  {
   "cell_type": "code",
   "execution_count": 14,
   "metadata": {},
   "outputs": [
    {
     "name": "stdout",
     "output_type": "stream",
     "text": [
      "0.0003319516491419392\n"
     ]
    }
   ],
   "source": [
    "import math \n",
    "delta_S = m*R*math.log(V_R/V_A)\n",
    "print(delta_S)"
   ]
  },
  {
   "cell_type": "markdown",
   "metadata": {},
   "source": [
    "## Aufgabe 7.3\n",
    "\n",
    "\n",
    "Zwei Luftströme mit $\\dot{m}_{\\mathrm{A}}=0.1 \\mathrm{~kg} / \\mathrm{s}$ und $\\dot{m}_{\\mathrm{B}}=0.3 \\mathrm{~kg} / \\mathrm{s}$ mit dem gleichen Druck von $p_1=0.1 \\mathrm{MPa}$ aber verschiedenen Temperaturen $T_{\\mathrm{A}}=300 \\mathrm{~K}$ und $T_{\\mathrm{B}}=400 \\mathrm{~K}$ werden in einem Rohr isobar vermischt. Das Rohr ist nach auken adiabatisch isoliert.\n",
    "\n",
    "Hinweise:\n",
    "Luft soll als ideales Gas mit $R=0.287 \\mathrm{~kJ} /(\\mathrm{kg} \\mathrm{K})$ und $c_v=0.718 \\mathrm{~kJ} /(\\mathrm{kg} \\mathrm{K})$ betrachtet werden.\n",
    "\n",
    "a) Welche Mischungstemperatur $T_2$ stellt sich ein?\n"
   ]
  },
  {
   "cell_type": "code",
   "execution_count": 15,
   "metadata": {},
   "outputs": [
    {
     "name": "stdout",
     "output_type": "stream",
     "text": [
      "375.0\n"
     ]
    }
   ],
   "source": [
    "dm_A = 0.1\n",
    "dm_B = 0.3\n",
    "T_A = 300\n",
    "T_B = 400\n",
    "T_2 = (dm_A*T_A + dm_B*T_B)/(dm_A + dm_B)\n",
    "print(T_2)"
   ]
  },
  {
   "cell_type": "markdown",
   "metadata": {},
   "source": [
    "b) Wie groß ist die irreversible Zunahme der spezifischen Entropie nach der vollständigen Vermischung?"
   ]
  },
  {
   "cell_type": "code",
   "execution_count": 21,
   "metadata": {},
   "outputs": [
    {
     "name": "stdout",
     "output_type": "stream",
     "text": [
      "0.22425926907078078\n",
      "-0.06486121374325902\n",
      "0.0029675627841003714\n",
      "0.0074189069602509285\n"
     ]
    }
   ],
   "source": [
    "c = 0.718\n",
    "R = 0.287\n",
    "ds_A = math.log(T_2/T_A)*(c+R)\n",
    "print(ds_A)\n",
    "ds_B = math.log(T_2/T_B)*(c+R)\n",
    "print(ds_B)\n",
    "delta_S = (dm_A*ds_A + dm_B*ds_B)\n",
    "print(delta_S)\n",
    "print(delta_S/(dm_A + dm_B))"
   ]
  }
 ],
 "metadata": {
  "kernelspec": {
   "display_name": "Python 3",
   "language": "python",
   "name": "python3"
  },
  "language_info": {
   "codemirror_mode": {
    "name": "ipython",
    "version": 3
   },
   "file_extension": ".py",
   "mimetype": "text/x-python",
   "name": "python",
   "nbconvert_exporter": "python",
   "pygments_lexer": "ipython3",
   "version": "3.13.3"
  }
 },
 "nbformat": 4,
 "nbformat_minor": 2
}
