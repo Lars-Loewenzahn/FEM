{
 "cells": [
  {
   "cell_type": "code",
   "execution_count": 6,
   "id": "d01cc68a",
   "metadata": {},
   "outputs": [],
   "source": [
    "i = [9,8,7,6,5,4,3,2,1]\n",
    "j = list()"
   ]
  },
  {
   "cell_type": "code",
   "execution_count": 19,
   "id": "8eafb492",
   "metadata": {},
   "outputs": [
    {
     "name": "stdout",
     "output_type": "stream",
     "text": [
      "1:  [9, 8, 7, 6, 5, 4, 3, 2, 1]\n",
      "2:  9\n",
      "3:  8\n",
      "4:  [8, 7, 6]\n",
      "5:  [5, 4, 3, 2, 1]\n",
      "6:  [9, 8, 7]\n",
      "7:  1\n",
      "8:  [4, 3, 2, 1]\n"
     ]
    }
   ],
   "source": [
    "print(\"1: \", i)\n",
    "print(\"2: \", i[0])\n",
    "print(\"3: \", i[1])\n",
    "print(\"4: \", i[1:4])\n",
    "print(\"5: \", i[4::])\n",
    "print(\"6: \", i[:3])\n",
    "print(\"7: \", i[-1])\n",
    "print(\"8: \", i[-4::])"
   ]
  },
  {
   "cell_type": "code",
   "execution_count": 33,
   "id": "13f8c818",
   "metadata": {},
   "outputs": [],
   "source": [
    "schueler = [\"Anna\",\"Bob\",\"Cholie\",\"Dennis\",\"Elke\",\"Felix\",\"Gustav\",\"Hanna\",\"Inge\"]"
   ]
  },
  {
   "cell_type": "code",
   "execution_count": 34,
   "id": "49a2c506",
   "metadata": {},
   "outputs": [
    {
     "name": "stdout",
     "output_type": "stream",
     "text": [
      "['Anna', 'Bob', 'Cholie', 'Dennis', 'Elke', 'Felix', 'Gustav', 'Hanna', 'Inge', 'Johannes']\n"
     ]
    }
   ],
   "source": [
    "schueler.append(\"Johannes\")\n",
    "print(schueler)"
   ]
  },
  {
   "cell_type": "code",
   "execution_count": 35,
   "id": "cda0cf67",
   "metadata": {},
   "outputs": [
    {
     "name": "stdout",
     "output_type": "stream",
     "text": [
      "['Anna', 'Bob', 'Calle', 'Dennis', 'Elke', 'Felix', 'Gustav', 'Hanna', 'Inge', 'Johannes']\n"
     ]
    }
   ],
   "source": [
    "schueler[2] = \"Calle\"\n",
    "print(schueler)"
   ]
  },
  {
   "cell_type": "code",
   "execution_count": 36,
   "id": "f422963b",
   "metadata": {},
   "outputs": [
    {
     "name": "stdout",
     "output_type": "stream",
     "text": [
      "['Anna', 'Bob', 'Calle', 'Charlie', 'Dennis', 'Elke', 'Felix', 'Gustav', 'Hanna', 'Inge', 'Johannes']\n"
     ]
    }
   ],
   "source": [
    "schueler.insert(3, \"Charlie\")\n",
    "print(schueler)"
   ]
  },
  {
   "cell_type": "code",
   "execution_count": 38,
   "id": "0a71d921",
   "metadata": {},
   "outputs": [
    {
     "name": "stdout",
     "output_type": "stream",
     "text": [
      "['Anna', 'Bob', 'Calle', 'Charlie', 'Dennis', 'Elke', 'Felix', 'Gustav', 'Hanna', 'Inge', 'Johannes', 'Karl', 'Leonie', 'Mark']\n"
     ]
    }
   ],
   "source": [
    "schueler_2 = [\"Karl\", \"Leonie\", \"Mark\"]\n",
    "schueler.extend(schueler_2)\n",
    "print(schueler)"
   ]
  },
  {
   "cell_type": "code",
   "execution_count": 45,
   "id": "cc532c22",
   "metadata": {},
   "outputs": [
    {
     "name": "stdout",
     "output_type": "stream",
     "text": [
      "['Anna', 'Bob', 'Calle', 'Dennis', 'Elke', 'Felix', 'Gustav', 'Hanna', 'Inge', 'Johannes', 'Karl', 'Leonie', 'Mark']\n"
     ]
    }
   ],
   "source": [
    "schueler.remove(\"Charlie\")\n",
    "print(schueler)"
   ]
  },
  {
   "cell_type": "code",
   "execution_count": 46,
   "id": "5fdf7557",
   "metadata": {},
   "outputs": [
    {
     "name": "stdout",
     "output_type": "stream",
     "text": [
      "['Bob', 'Calle', 'Dennis', 'Elke', 'Felix', 'Gustav', 'Hanna', 'Inge', 'Johannes', 'Karl', 'Leonie', 'Mark']\n"
     ]
    }
   ],
   "source": [
    "schueler.pop(0)\n",
    "print(schueler)"
   ]
  },
  {
   "cell_type": "code",
   "execution_count": 47,
   "id": "9504e71b",
   "metadata": {},
   "outputs": [],
   "source": [
    "schueler.clear()"
   ]
  },
  {
   "cell_type": "code",
   "execution_count": 52,
   "id": "6d192a85",
   "metadata": {},
   "outputs": [
    {
     "name": "stdout",
     "output_type": "stream",
     "text": [
      "['Johannes', 'Karl', 'Bob', 'Gustav', 'Hanna', 'Inge', 'Johannes', 'Karl', 'Leonie', 'Dennis', 'Elke', 'Felix', 'Calle', 'Mark']\n"
     ]
    }
   ],
   "source": [
    "mixed_schueler = ['Johannes', 'Karl', 'Bob',  'Gustav', 'Hanna', 'Inge', 'Johannes', 'Karl', 'Leonie', 'Dennis', 'Elke', 'Felix','Calle', 'Mark']\n",
    "print(mixed_schueler)"
   ]
  },
  {
   "cell_type": "code",
   "execution_count": 53,
   "id": "67d1cb51",
   "metadata": {},
   "outputs": [
    {
     "name": "stdout",
     "output_type": "stream",
     "text": [
      "['Mark', 'Calle', 'Felix', 'Elke', 'Dennis', 'Leonie', 'Karl', 'Johannes', 'Inge', 'Hanna', 'Gustav', 'Bob', 'Karl', 'Johannes']\n"
     ]
    }
   ],
   "source": [
    "mixed_schueler.reverse()\n",
    "print(mixed_schueler)"
   ]
  },
  {
   "cell_type": "code",
   "execution_count": null,
   "id": "4f3bc9cd",
   "metadata": {},
   "outputs": [
    {
     "name": "stdout",
     "output_type": "stream",
     "text": [
      "['Bob', 'Calle', 'Dennis', 'Elke', 'Felix', 'Gustav', 'Hanna', 'Inge', 'Johannes', 'Johannes', 'Karl', 'Karl', 'Leonie', 'Mark']\n"
     ]
    }
   ],
   "source": [
    "mixed_schueler.sort()\n",
    "print(mixed_schueler)"
   ]
  },
  {
   "cell_type": "code",
   "execution_count": 54,
   "id": "52e3440b",
   "metadata": {},
   "outputs": [
    {
     "name": "stdout",
     "output_type": "stream",
     "text": [
      "['Mark', 'Leonie', 'Karl', 'Karl', 'Johannes', 'Johannes', 'Inge', 'Hanna', 'Gustav', 'Felix', 'Elke', 'Dennis', 'Calle', 'Bob']\n"
     ]
    }
   ],
   "source": [
    "mixed_schueler.sort(reverse = True)\n",
    "print(mixed_schueler)"
   ]
  },
  {
   "cell_type": "code",
   "execution_count": 55,
   "id": "b96fb976",
   "metadata": {},
   "outputs": [
    {
     "name": "stdout",
     "output_type": "stream",
     "text": [
      "['O', 'b', 'e', 'r', 'd', 'o', 'n', 'a', 'u', 'd', 'a', 'm', 'p', 'f', 's', 'c', 'h', 'i', 'f', 'f', 'f', 'a', 'h', 'r', 't', 's', 'k', 'a', 'p', 'i', 't', 'ä', 'n', 's', 'm', 'ü', 't', 'z', 'e', 'n', 'p', 'r', 'o', 'd', 'u', 'z', 'e', 'n', 't']\n"
     ]
    }
   ],
   "source": [
    "buchstaben = list(\"Oberdonaudampfschifffahrtskapitänsmützenproduzent\")\n",
    "print(buchstaben)"
   ]
  },
  {
   "cell_type": "code",
   "execution_count": 56,
   "id": "aa8dbc04",
   "metadata": {},
   "outputs": [
    {
     "name": "stdout",
     "output_type": "stream",
     "text": [
      "[0, 1, 2, 3, 4, 5, 6, 7, 8, 9]\n"
     ]
    }
   ],
   "source": [
    "l1 = list(range(10))\n",
    "print(l1)"
   ]
  },
  {
   "cell_type": "code",
   "execution_count": 57,
   "id": "7cf97564",
   "metadata": {},
   "outputs": [
    {
     "name": "stdout",
     "output_type": "stream",
     "text": [
      "O\n",
      "b\n",
      "e\n",
      "r\n",
      "d\n",
      "o\n",
      "n\n",
      "a\n",
      "u\n",
      "d\n",
      "a\n",
      "m\n",
      "p\n",
      "f\n",
      "s\n",
      "c\n",
      "h\n",
      "i\n",
      "f\n",
      "f\n",
      "f\n",
      "a\n",
      "h\n",
      "r\n",
      "t\n",
      "s\n",
      "k\n",
      "a\n",
      "p\n",
      "i\n",
      "t\n",
      "ä\n",
      "n\n",
      "s\n",
      "m\n",
      "ü\n",
      "t\n",
      "z\n",
      "e\n",
      "n\n",
      "p\n",
      "r\n",
      "o\n",
      "d\n",
      "u\n",
      "z\n",
      "e\n",
      "n\n",
      "t\n"
     ]
    }
   ],
   "source": [
    "for buchstabe in buchstaben:\n",
    "    print(buchstabe)"
   ]
  },
  {
   "cell_type": "code",
   "execution_count": 60,
   "id": "5760212c",
   "metadata": {},
   "outputs": [
    {
     "name": "stdout",
     "output_type": "stream",
     "text": [
      "Mark hat seine Hausaufgaben nicht gemacht!\n",
      "Leonie hat seine Hausaufgaben nicht gemacht!\n",
      "Karl hat seine Hausaufgaben nicht gemacht!\n",
      "Karl hat seine Hausaufgaben nicht gemacht!\n",
      "Johannes hat seine Hausaufgaben nicht gemacht!\n",
      "Johannes hat seine Hausaufgaben nicht gemacht!\n",
      "Inge hat seine Hausaufgaben nicht gemacht!\n",
      "Hanna hat seine Hausaufgaben nicht gemacht!\n",
      "Gustav hat seine Hausaufgaben nicht gemacht!\n",
      "Felix hat seine Hausaufgaben nicht gemacht!\n",
      "Elke hat seine Hausaufgaben nicht gemacht!\n",
      "Dennis hat seine Hausaufgaben nicht gemacht!\n",
      "Calle hat seine Hausaufgaben nicht gemacht!\n",
      "Bob hat seine Hausaufgaben nicht gemacht!\n"
     ]
    }
   ],
   "source": [
    "for student in mixed_schueler:\n",
    "    print(student, \"hat seine Hausaufgaben nicht gemacht!\")"
   ]
  },
  {
   "cell_type": "code",
   "execution_count": null,
   "id": "83da359b",
   "metadata": {},
   "outputs": [
    {
     "name": "stdout",
     "output_type": "stream",
     "text": [
      "[81, 64, 49, 36, 25, 16, 9, 4, 1]\n"
     ]
    }
   ],
   "source": [
    "i_ = [9,8,7,6,5,4,3,2,1]\n",
    "j = []\n",
    "for i in i_:\n",
    "    j.append(i**2)\n",
    "print(j)"
   ]
  },
  {
   "cell_type": "code",
   "execution_count": 63,
   "id": "118b1bad",
   "metadata": {},
   "outputs": [
    {
     "name": "stdout",
     "output_type": "stream",
     "text": [
      "[81, 64, 49, 36, 25, 16]\n"
     ]
    }
   ],
   "source": [
    "j = [i**2 for i in i_ if i > 3]\n",
    "print(j)"
   ]
  },
  {
   "cell_type": "code",
   "execution_count": 41,
   "id": "0560de09",
   "metadata": {},
   "outputs": [
    {
     "name": "stdout",
     "output_type": "stream",
     "text": [
      "0\n",
      "2\n",
      "6\n"
     ]
    }
   ],
   "source": [
    "print(20%5)\n",
    "print(20%6)\n",
    "print(20%7)"
   ]
  },
  {
   "cell_type": "code",
   "execution_count": 44,
   "id": "01783f32",
   "metadata": {},
   "outputs": [
    {
     "name": "stdout",
     "output_type": "stream",
     "text": [
      "Zahlen bitte\n"
     ]
    },
    {
     "ename": "ValueError",
     "evalue": "invalid literal for int() with base 10: '4.5'",
     "output_type": "error",
     "traceback": [
      "\u001b[31m---------------------------------------------------------------------------\u001b[39m",
      "\u001b[31mValueError\u001b[39m                                Traceback (most recent call last)",
      "\u001b[36mCell\u001b[39m\u001b[36m \u001b[39m\u001b[32mIn[44]\u001b[39m\u001b[32m, line 8\u001b[39m\n\u001b[32m      6\u001b[39m         \u001b[38;5;28;01mbreak\u001b[39;00m\n\u001b[32m      7\u001b[39m     \u001b[38;5;28;01melse\u001b[39;00m:\n\u001b[32m----> \u001b[39m\u001b[32m8\u001b[39m         zahl = \u001b[38;5;28;43mint\u001b[39;49m\u001b[43m(\u001b[49m\u001b[43meingabe\u001b[49m\u001b[43m)\u001b[49m\n\u001b[32m      9\u001b[39m         liste.append(zahl)\n\u001b[32m     10\u001b[39m \u001b[38;5;28mprint\u001b[39m(liste)\n",
      "\u001b[31mValueError\u001b[39m: invalid literal for int() with base 10: '4.5'"
     ]
    }
   ],
   "source": [
    "liste = []\n",
    "print(\"Zahlen bitte\")\n",
    "while True:\n",
    "    eingabe = input()\n",
    "    if eingabe ==  \"ok\":\n",
    "        break\n",
    "    else:\n",
    "        zahl = int(eingabe)\n",
    "        liste.append(zahl)\n",
    "print(liste)"
   ]
  },
  {
   "cell_type": "markdown",
   "id": "b32b3842",
   "metadata": {},
   "source": [
    "#### Überschrift 1\n",
    "### Überschrift 2\n",
    "## Überschrift 3\n",
    "# Überschrift 4\n",
    "Text text text $\\Sigma \\sigma \\alpha \\beta \\Gamma \\gamma$\n"
   ]
  }
 ],
 "metadata": {
  "kernelspec": {
   "display_name": ".venv",
   "language": "python",
   "name": "python3"
  },
  "language_info": {
   "codemirror_mode": {
    "name": "ipython",
    "version": 3
   },
   "file_extension": ".py",
   "mimetype": "text/x-python",
   "name": "python",
   "nbconvert_exporter": "python",
   "pygments_lexer": "ipython3",
   "version": "3.13.3"
  }
 },
 "nbformat": 4,
 "nbformat_minor": 5
}
