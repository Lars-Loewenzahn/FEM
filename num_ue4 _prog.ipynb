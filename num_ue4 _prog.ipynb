{
 "cells": [
  {
   "cell_type": "markdown",
   "metadata": {},
   "source": [
    "Lösung zum Übungsblatt 4\n",
    "\n",
    "%%%%%%%%%%%%%%%%%%%%%%%%%%%%%%%\n",
    "\n",
    "% Namen der Gruppenmitglieder:\n",
    "\n",
    "% 1. Lars Dickmann\n",
    "\n",
    "% 2. ...\n",
    "\n",
    "% 3. ...\n",
    "\n",
    "%%%%%%%%%%%%%%%%%%%%%%%%%%%%%%%\n",
    "\n",
    "\n",
    "Python                   3.13.0\n",
    "\n",
    "sympy                    1.13.3\n",
    "\n",
    "scipy                    1.14.1\n",
    "\n",
    "numpy                    2.1.3\n"
   ]
  },
  {
   "cell_type": "code",
   "execution_count": 1,
   "metadata": {},
   "outputs": [],
   "source": [
    "import sympy as sp\n",
    "import scipy as scp\n",
    "import numpy as np"
   ]
  },
  {
   "cell_type": "markdown",
   "metadata": {},
   "source": [
    "**Programmieraufgabe 1 (4 Punkte):**\n",
    "\n",
    "\n",
    " Die Lösung der quadratischen Gleichung $x^2+2 p x+q=0$ für gegebenes $p$ und $q$ kann auf folgende Weisen bestimmt werden\n",
    "a) $x_1=-p-\\sqrt{p^2-q}, x_2=-p+\\sqrt{p^2-q}$\n",
    "(p-q Formel)\n",
    "b) $x_1=-p-\\sqrt{p^2-q}, x_2=\\frac{q}{x_1}$\n",
    "(Vieta'scher Wurzelsatz)\n",
    "Implementieren Sie MATLAB oder Python Funktionen pq und vieta mit Eingabeparametern p, q welche die jeweilige Methode zur Berechnung der Lösungen x1, x2 der quatratischen Gleichung nutzt und diese ausgeben. Dabei sollen alle elementaren Rechenoperationen, sowie das Wurzelziehen Schritt für Schritt mit einfacher Genauigkeit, d.h. bit 32 bits statt 64 bits, ausgeführt werden. Nutzen Sie dazu die MATLAB-Funktion single(.) oder die NumPyFunktion np.float32(.).\n",
    "Vergleichen Sie die numerischen Lösungen beider Methoden angewandt auf die quadratische Gleichung $x^2+0.2 x+10^{-8}=0$. Welche Methode würden Sie bevorzugen? Begründen Sie Ihre Entscheidung."
   ]
  },
  {
   "cell_type": "code",
   "execution_count": 2,
   "metadata": {},
   "outputs": [],
   "source": [
    "def get_x1(p, q):\n",
    "    x1 = np.float32(-p/2 + np.sqrt((p/2)**2 - q))\n",
    "    return x1"
   ]
  },
  {
   "cell_type": "code",
   "execution_count": 3,
   "metadata": {},
   "outputs": [],
   "source": [
    "def p_q_formel(p, q):\n",
    "    x1 = get_x1(p, q)\n",
    "    x2 = np.float32(-p/2 - np.sqrt((p/2)**2 - q))\n",
    "    return x1, x2"
   ]
  },
  {
   "cell_type": "code",
   "execution_count": 4,
   "metadata": {},
   "outputs": [],
   "source": [
    "def vieta(p, q):\n",
    "    x1 = get_x1(p, q)\n",
    "    x2 = np.float32(q/x1)\n",
    "    return x1, x2"
   ]
  },
  {
   "cell_type": "code",
   "execution_count": 5,
   "metadata": {},
   "outputs": [
    {
     "name": "stdout",
     "output_type": "stream",
     "text": [
      "(np.float32(-5.000001e-08), np.float32(-0.19999994))\n",
      "(np.float32(-5.000001e-08), np.float32(-0.19999996))\n",
      "[-1.99999950e-01 -5.00000125e-08]\n"
     ]
    }
   ],
   "source": [
    "p = 0.2\n",
    "q = 10**-8\n",
    "print(p_q_formel(p, q))\n",
    "print(vieta(p, q))\n",
    "print(np.roots([1,p,q]))"
   ]
  },
  {
   "cell_type": "markdown",
   "metadata": {},
   "source": [
    "Zwar zeigen beide Methoden eine Abweichung von der erwarteten Lösung, dennoch würde ich immer die PQ-Formel vorziehen, da der Satz von Vieta zu Fehlerfortpflanzung einlädt. "
   ]
  }
 ],
 "metadata": {
  "kernelspec": {
   "display_name": "Python 3",
   "language": "python",
   "name": "python3"
  },
  "language_info": {
   "codemirror_mode": {
    "name": "ipython",
    "version": 3
   },
   "file_extension": ".py",
   "mimetype": "text/x-python",
   "name": "python",
   "nbconvert_exporter": "python",
   "pygments_lexer": "ipython3",
   "version": "3.13.0"
  }
 },
 "nbformat": 4,
 "nbformat_minor": 2
}
