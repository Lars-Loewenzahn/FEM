{
 "cells": [
  {
   "cell_type": "code",
   "execution_count": null,
   "id": "fd540125",
   "metadata": {},
   "outputs": [],
   "source": [
    "def testformel(a):\n",
    "    return a + 1"
   ]
  }
 ],
 "metadata": {
  "language_info": {
   "name": "python"
  }
 },
 "nbformat": 4,
 "nbformat_minor": 5
}
