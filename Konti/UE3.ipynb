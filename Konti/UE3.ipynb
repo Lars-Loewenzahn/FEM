{
 "cells": [
  {
   "cell_type": "markdown",
   "id": "e0b0db8f",
   "metadata": {},
   "source": [
    "Numerische Lösung zu UE3 Aufg. 1"
   ]
  },
  {
   "cell_type": "code",
   "execution_count": 1,
   "id": "83730b72",
   "metadata": {},
   "outputs": [],
   "source": [
    "import numpy as np"
   ]
  },
  {
   "cell_type": "code",
   "execution_count": null,
   "id": "56c355f6",
   "metadata": {},
   "outputs": [],
   "source": []
  },
  {
   "cell_type": "code",
   "execution_count": null,
   "id": "9381aba7",
   "metadata": {},
   "outputs": [
    {
     "name": "stdout",
     "output_type": "stream",
     "text": [
      "[0, pi]\n"
     ]
    }
   ],
   "source": [
    "import sympy as sp\n",
    "x = sp.symbols(\"x\")\n",
    "# f = sp.tanh(x) - sp.tan(x)\n",
    "# f = sp.sin(x)\n",
    "x_i = sp.solve(f,x)\n",
    "print(x_i)"
   ]
  },
  {
   "cell_type": "code",
   "execution_count": 17,
   "id": "789be2dd",
   "metadata": {},
   "outputs": [
    {
     "name": "stdout",
     "output_type": "stream",
     "text": [
      "-10.2102\n",
      "-7.0686\n",
      "-3.9266\n",
      "0.0\n",
      "3.9266\n",
      "7.0686\n",
      "10.2102\n"
     ]
    }
   ],
   "source": [
    "def f(x):\n",
    "    # return np.sin(x)\n",
    "    return (np.exp(x) - np.exp(-x)) / (np.exp(x) + np.exp(-x)) - np.tan(x)\n",
    "\n",
    "def newton_step(f, x):\n",
    "    h = 10**-8\n",
    "    df = (f(x + h) - f(x - h)) / (2 * h)\n",
    "    return x - f(x) / df\n",
    "\n",
    "def newton(f, x):\n",
    "    x_n = x\n",
    "    for i in range(100):\n",
    "        x_np1 = newton_step(f, x_n)\n",
    "        if abs(x_n - x_np1) < 10**-10:\n",
    "            return x_np1\n",
    "        x_n = x_np1\n",
    "    return None\n",
    "    \n",
    "#  print(newton(f, 2))\n",
    "x_i = []\n",
    "for x in range(-10, 10):\n",
    "   sol = newton(f,x)\n",
    "   if sol not in x_i and sol != None:\n",
    "    x_i.append(sol)\n",
    "\n",
    "for x in x_i:\n",
    "    print(round(float(x), 4))"
   ]
  },
  {
   "cell_type": "code",
   "execution_count": 23,
   "id": "f2bac631",
   "metadata": {},
   "outputs": [
    {
     "name": "stdout",
     "output_type": "stream",
     "text": [
      "-10.9956\n",
      "-7.8532\n",
      "-4.73\n",
      "23.5619\n",
      "-23.5619\n",
      "4.73\n",
      "7.8532\n"
     ]
    }
   ],
   "source": [
    "def f(x):\n",
    "    # return np.sin(x)\n",
    "    # return (np.exp(x) - np.exp(-x)) / (np.exp(x) + np.exp(-x)) - np.tan(x)\n",
    "    # return (np.cos(x) + np.cosh(x))**2 - np.sin(x)**2  + np.sinh(x)**2 \n",
    "    # return x**2 + 1\n",
    "    return np.cos(x) - 1/(np.cosh(x))\n",
    "\n",
    "def newton(f, x):\n",
    "    x_n = x\n",
    "    for i in range(100):\n",
    "        h = 10**-8\n",
    "        df = (f(x_n + h) - f(x_n - h)) / (2 * h)\n",
    "        if df == 0:\n",
    "            return None\n",
    "        x_np1 = x_n - f(x_n) / df\n",
    "        if abs(x_n - x_np1) < 10**-10:\n",
    "            return x_np1\n",
    "        x_n = x_np1\n",
    "    return None\n",
    "    \n",
    "#  print(newton(f, 2))\n",
    "x_i = []\n",
    "for x in range(-10, 10):\n",
    "   sol = newton(f,x)\n",
    "   if sol not in x_i and sol != None:\n",
    "    x_i.append(sol)\n",
    "\n",
    "for x in x_i:\n",
    "    print(round(float(x), 4))"
   ]
  },
  {
   "cell_type": "code",
   "execution_count": 25,
   "id": "bb4fd838",
   "metadata": {},
   "outputs": [
    {
     "name": "stdout",
     "output_type": "stream",
     "text": [
      "-8.6394\n",
      "-8.6394\n",
      "-5.4978\n",
      "-2.365\n",
      "0.0\n",
      "2.365\n",
      "5.4978\n",
      "8.6394\n",
      "-2.75\n",
      "-2.75\n",
      "-1.75\n",
      "-0.7528\n",
      "0.0\n",
      "0.7528\n",
      "1.75\n",
      "2.75\n"
     ]
    }
   ],
   "source": [
    "def f(x):\n",
    "    return np.tan(x)*np.cosh(x) + np.sinh(x)\n",
    "\n",
    "def newton(f, x):\n",
    "    x_n = x\n",
    "    for i in range(100):\n",
    "        h = 10**-8\n",
    "        df = (f(x_n + h) - f(x_n - h)) / (2 * h)\n",
    "        if df == 0:\n",
    "            return None\n",
    "        x_np1 = x_n - f(x_n) / df\n",
    "        if abs(x_n - x_np1) < 10**-10:\n",
    "            return x_np1\n",
    "        x_n = x_np1\n",
    "    return None\n",
    "    \n",
    "#  print(newton(f, 2))\n",
    "x_i = []\n",
    "for x in range(-10, 10):\n",
    "   sol = newton(f,x)\n",
    "   if sol not in x_i and sol != None:\n",
    "    x_i.append(sol)\n",
    "\n",
    "for x in x_i:\n",
    "    print(round(float(x), 4))\n",
    "    \n",
    "for x in x_i:\n",
    "    print(round(float(x/np.pi), 4))"
   ]
  }
 ],
 "metadata": {
  "kernelspec": {
   "display_name": ".venv",
   "language": "python",
   "name": "python3"
  },
  "language_info": {
   "codemirror_mode": {
    "name": "ipython",
    "version": 3
   },
   "file_extension": ".py",
   "mimetype": "text/x-python",
   "name": "python",
   "nbconvert_exporter": "python",
   "pygments_lexer": "ipython3",
   "version": "3.13.5"
  }
 },
 "nbformat": 4,
 "nbformat_minor": 5
}
