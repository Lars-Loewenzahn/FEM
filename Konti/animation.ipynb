{
 "cells": [
  {
   "cell_type": "code",
   "execution_count": 2,
   "id": "fb295cfb",
   "metadata": {},
   "outputs": [
    {
     "name": "stderr",
     "output_type": "stream",
     "text": [
      "c:\\Users\\Lars\\Documents\\GitHub\\FEM\\.venv\\Lib\\site-packages\\matplotlib\\animation.py:908: UserWarning: Animation was deleted without rendering anything. This is most likely not intended. To prevent deletion, assign the Animation to a variable, e.g. `anim`, that exists until you output the Animation using `plt.show()` or `anim.save()`.\n",
      "  warnings.warn(\n"
     ]
    },
    {
     "data": {
      "image/png": "[encoded data removed]",
      "text/plain": [
       "<Figure size 640x480 with 1 Axes>"
      ]
     },
     "metadata": {},
     "output_type": "display_data"
    }
   ],
   "source": [
    "import numpy as np\n",
    "import matplotlib.pyplot as plt\n",
    "import matplotlib.animation as animation\n",
    "\n",
    "# Parameter\n",
    "L = 7          # Balkenlänge\n",
    "N = 700        # Diskretisierungspunkte\n",
    "x = np.linspace(0, L, N)\n",
    "dx = x[1] - x[0]\n",
    "c0 = 1.0       # Grundgeschwindigkeit\n",
    "a = 1.0        # Periodenlänge\n",
    "h = 0.5        # Sprungfaktor (Impedanz)\n",
    "\n",
    "# Wellengeschwindigkeit mit periodischer Modulation\n",
    "c = np.ones_like(x) * c0\n",
    "for i in range(N):\n",
    "    if int(x[i] // a) % 2 == 1:\n",
    "        c[i] *= 1 - h  # \"Stufen\" mit reduzierter Ausbreitungsgeschwindigkeit\n",
    "\n",
    "# Anfangsauslenkung: Rechteckimpuls\n",
    "u = np.zeros_like(x)\n",
    "u[(x > 0.5) & (x < 1.5)] = 1.0\n",
    "u_old = u.copy()\n",
    "u_next = np.zeros_like(u)\n",
    "\n",
    "# Zeitschritte\n",
    "dt = 0.001\n",
    "steps = 400\n",
    "frames = 100\n",
    "plot_every = steps // frames\n",
    "results = []\n",
    "\n",
    "# FDTD-Zeitintegration\n",
    "for step in range(steps):\n",
    "    for i in range(1, N - 1):\n",
    "        u_next[i] = (2 * u[i] - u_old[i] +\n",
    "                     (dt**2 / dx**2) * c[i]**2 * (u[i + 1] - 2 * u[i] + u[i - 1]))\n",
    "    u_old, u = u, u_next.copy()\n",
    "    if step % plot_every == 0:\n",
    "        results.append(u.copy())\n",
    "\n",
    "# Animation\n",
    "fig, ax = plt.subplots()\n",
    "line, = ax.plot(x, results[0])\n",
    "ax.set_ylim(-1.2, 1.2)\n",
    "ax.set_title(\"Wellenausbreitung in periodischer Struktur\")\n",
    "\n",
    "def animate(i):\n",
    "    line.set_ydata(results[i])\n",
    "    return line,\n",
    "\n",
    "ani = animation.FuncAnimation(fig, animate, frames=len(results), interval=50)\n",
    "plt.show()\n"
   ]
  },
  {
   "cell_type": "code",
   "execution_count": null,
   "id": "f827034f",
   "metadata": {},
   "outputs": [
    {
     "name": "stdout",
     "output_type": "stream",
     "text": [
      "GIF gespeichert als wellenreflexion.gif\n"
     ]
    },
    {
     "ename": "",
     "evalue": "",
     "output_type": "error",
     "traceback": [
      "\u001b[1;31mThe Kernel crashed while executing code in the current cell or a previous cell. \n",
      "\u001b[1;31mPlease review the code in the cell(s) to identify a possible cause of the failure. \n",
      "\u001b[1;31mClick <a href='https://aka.ms/vscodeJupyterKernelCrash'>here</a> for more info. \n",
      "\u001b[1;31mView Jupyter <a href='command:jupyter.viewOutput'>log</a> for further details."
     ]
    }
   ],
   "source": [
    "import numpy as np\n",
    "import matplotlib.pyplot as plt\n",
    "import os\n",
    "import imageio.v2 as imageio\n",
    "\n",
    "# --- Parameter ---\n",
    "L = 7.0\n",
    "N = 1400\n",
    "x = np.linspace(0, L, N)\n",
    "dx = x[1] - x[0]\n",
    "dt = 0.001\n",
    "steps = 24000\n",
    "frames = 600\n",
    "plot_every = steps // frames\n",
    "\n",
    "# --- Wellengeschwindigkeit ---\n",
    "c0 = 1.0\n",
    "a = 1.0\n",
    "h = 0.5\n",
    "c = np.ones_like(x) * c0\n",
    "for i in range(N):\n",
    "    if int(x[i] // a) % 2 == 1:\n",
    "        c[i] *= 1 - h\n",
    "\n",
    "# --- Initialisierung ---\n",
    "h1 = 1.0\n",
    "h2 = 0.5\n",
    "u = np.zeros_like(x)\n",
    "u[(x > 2.5) & (x <= 3.5)] = h1\n",
    "u[(x > 3.5) & (x <= 4.5)] = h2\n",
    "u_old = u.copy()\n",
    "u_next = np.zeros_like(u)\n",
    "results = []\n",
    "\n",
    "\n",
    "# --- Zeitintegration ---\n",
    "for step in range(steps):\n",
    "    for i in range(1, N - 1):\n",
    "        u_next[i] = (2 * u[i] - u_old[i] +\n",
    "                     (dt**2 / dx**2) * c[i]**2 * (u[i+1] - 2*u[i] + u[i-1]))\n",
    "    u_next[0] = u_next[1]\n",
    "    u_next[-1] = 0\n",
    "    u_old, u = u, u_next.copy()\n",
    "    if step % plot_every == 0:\n",
    "        results.append(u.copy())\n",
    "\n",
    "# --- GIF erstellen ---\n",
    "gif_path = \"wellenreflexion.gif\"\n",
    "with imageio.get_writer(gif_path, mode='I', duration=0.05) as writer:\n",
    "    for u_frame in results:\n",
    "        fig, ax = plt.subplots()\n",
    "        ax.plot(x, u_frame)\n",
    "        ax.set_ylim(-1.2, 1.2)\n",
    "        ax.set_title(\"Wellenreflexion: links frei, rechts fest\")\n",
    "        fig.canvas.draw() \n",
    "        image = np.frombuffer(fig.canvas.tostring_argb(), dtype='uint8')\n",
    "        w, h = fig.canvas.get_width_height()\n",
    "        image = image.reshape((h, w, 4))\n",
    "        image = image[:, :, [1, 2, 3]]\n",
    "        writer.append_data(image)\n",
    "        plt.close(fig)\n",
    "\n",
    "print(f\"GIF gespeichert als {gif_path}\")\n"
   ]
  }
 ],
 "metadata": {
  "kernelspec": {
   "display_name": ".venv",
   "language": "python",
   "name": "python3"
  },
  "language_info": {
   "codemirror_mode": {
    "name": "ipython",
    "version": 3
   },
   "file_extension": ".py",
   "mimetype": "text/x-python",
   "name": "python",
   "nbconvert_exporter": "python",
   "pygments_lexer": "ipython3",
   "version": "3.13.5"
  }
 },
 "nbformat": 4,
 "nbformat_minor": 5
}
