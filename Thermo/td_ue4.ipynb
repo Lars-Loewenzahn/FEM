{
 "cells": [
  {
   "cell_type": "markdown",
   "metadata": {},
   "source": [
    "## Aufgabe 4.1\n",
    "\n",
    "Benennen Sie verschiedene (idealisierte) Zustandsänderungen und geben Sie eine Anschauung, welche Prozesse in der Realität (näherungsweise) dieser Idealisierung entsprechen. Erkären Sie das Konzept der Polytropen Zustandsänderung."
   ]
  },
  {
   "cell_type": "markdown",
   "metadata": {},
   "source": [
    "isochor\n",
    "isobar\n",
    "isotherm\n"
   ]
  },
  {
   "cell_type": "code",
   "execution_count": null,
   "metadata": {
    "vscode": {
     "languageId": "plaintext"
    }
   },
   "outputs": [],
   "source": []
  },
  {
   "cell_type": "code",
   "execution_count": null,
   "metadata": {
    "vscode": {
     "languageId": "plaintext"
    }
   },
   "outputs": [],
   "source": []
  }
 ],
 "metadata": {
  "language_info": {
   "name": "python"
  }
 },
 "nbformat": 4,
 "nbformat_minor": 2
}
