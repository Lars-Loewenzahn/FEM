{
 "cells": [
  {
   "cell_type": "code",
   "execution_count": 125,
   "metadata": {},
   "outputs": [],
   "source": [
    "import sympy as smp\n",
    "from IPython.display import Math\n",
    "import toolbox as tb"
   ]
  },
  {
   "cell_type": "code",
   "execution_count": 126,
   "metadata": {},
   "outputs": [],
   "source": [
    "def display_smp_formula(formula, description = r\"f\"):\n",
    "    l = r\"$ \" + description + \" = \" + smp.latex(formula)\n",
    "    display(Math(l))"
   ]
  },
  {
   "cell_type": "markdown",
   "metadata": {},
   "source": [
    "## Aufgabe 1.1<br>\n",
    "a) Definieren Sie den Begriff Zustandsgröße. Geben Sie zwei Beispiele. <br>\n",
    "b) Die Zustandsgleichung des idealen Gases lautet $p=\\frac{R T}{v}$. Zeigen Sie, dass bei der Bildung der gemischten Ableitungen von $p$ (nach dem spezifischen Volumen $v$ und der Temperatur $T$ ) die Reihenfolge der Ableitung egal ist (Satz von Schwarz).<br>\n",
    "c) Definieren Sie den Begriff Prozessgröße. Geben Sie zwei Beispiele. <br>\n",
    "\n",
    "### a) Zustandsgröße: <br>\n",
    "-   ist unabhängig von der Art wie der Zustand erreicht wurde. \n",
    "-   Beschreibt einen Zustand vollständig \n",
    "-   Beispiele: \n",
    "    - Temperatur \n",
    "    - Druck \n",
    "    - Volumen \n",
    "    - Innere Energie\n",
    "    - Enthalpie \n",
    "    - Entropie \n",
    "\n",
    "### b) <br>\n",
    "$p=\\frac{R T}{v}$\n"
   ]
  },
  {
   "cell_type": "code",
   "execution_count": 127,
   "metadata": {},
   "outputs": [
    {
     "data": {
      "text/latex": [
       "$\\displaystyle \\frac{\\partial p}{\\partial v \\partial T}  = - \\frac{R}{v^{2}}$"
      ],
      "text/plain": [
       "<IPython.core.display.Math object>"
      ]
     },
     "metadata": {},
     "output_type": "display_data"
    },
    {
     "data": {
      "text/latex": [
       "$\\displaystyle \\frac{\\partial p}{\\partial T \\partial v}  = - \\frac{R}{v^{2}}$"
      ],
      "text/plain": [
       "<IPython.core.display.Math object>"
      ]
     },
     "metadata": {},
     "output_type": "display_data"
    }
   ],
   "source": [
    "\n",
    "R, T, v = smp.symbols('R T v')\n",
    "p = smp.symbols('p', cls=smp.Function)\n",
    "p = (R*T)/v \n",
    "l1 = r\"$\\frac{\\partial p}{\\partial v \\partial T}  = \" + smp.latex(smp.diff(smp.diff(p, v), T))\n",
    "l2 = r\"$\\frac{\\partial p}{\\partial T \\partial v}  = \" +smp.latex(smp.diff(smp.diff(p, T), v))\n",
    "display(Math(l1))\n",
    "display(Math(l2))"
   ]
  },
  {
   "cell_type": "markdown",
   "metadata": {},
   "source": [
    "Damit ist der Satz von Schwarz erfüllt. "
   ]
  },
  {
   "cell_type": "markdown",
   "metadata": {},
   "source": [
    "### c) <br>\n",
    "Eine Prozessgröße beschreibt einen Energieaustausch und hängt vom Verlauf des Prozesses ab. <br>\n",
    "Beispiele:\n",
    "- Arbeit\n",
    "- Wärme\n",
    "\n",
    "Prozessbeispiel: <br>\n",
    "- Arbeit beim Aufpumpen eines Balls\n",
    "\n",
    "$ \\Delta U = Q + W $\n",
    "\n",
    "\n",
    "Hier ist $\\Delta U$ eine Zustandsgröße und $Q$ und $W$ sind Prozessgrößen."
   ]
  },
  {
   "cell_type": "markdown",
   "metadata": {},
   "source": [
    "## Aufgabe 1.2\n",
    "Definieren Sie folgende Begriffe: <br>\n",
    "a) intensive Größe<br>\n",
    "b) extensive Größe<br>\n",
    "c) bezogene Größe<br>\n",
    "<br>\n",
    "Geben Sie jeweils zwei Beispiele."
   ]
  },
  {
   "cell_type": "markdown",
   "metadata": {},
   "source": [
    "### a) <br>\n",
    "**Intensive Größen** sind unabhängig von der Ausdehnung oder Maße eins Systems und beschreiben intrinsische Eigenschaften. <br>\n",
    "Beispiele:\n",
    "- Temperatur\n",
    "- Druck\n",
    "- Dichte\n",
    "- Konzentration\n",
    "\n",
    "\n",
    "### b)\n",
    "**Extensive Größen** sind Systemabhängig und stellen das Volumen, die Masse und die Energiemenge dar. \n",
    "\n",
    "### c)\n",
    "Eine **bezogene Größe** ist eine extenvie Größe in relation zu einer anderen Größe. <br>\n",
    "Beispiele:\n",
    "- innere Energie\n",
    "- Spezifischen Volumen\n",
    "- Molare Masse\n",
    "- Molare Enthalpie\n",
    " "
   ]
  },
  {
   "cell_type": "markdown",
   "metadata": {},
   "source": [
    "## Aufgabe 1.3 <br>\n",
    "Ein Behälter (A) mit dem Volumen $V=4 \\mathrm{dm}^3$ ist gefüllt mit 0.5 g Helium (Molmasse $4 \\mathrm{~g} / \\mathrm{mol}$ ). Ein weiterer Behälter (B) mit dem selben Volumen ist gefüllt mit 3.62 g Luft (Molmasse $28.96 \\mathrm{~g} / \\mathrm{mol}$ ). <br>\n",
    "a) Berechnen Sie die Dichte $\\rho_{\\mathrm{He}}$ des Heliums und die Dichte $\\rho_{\\mathrm{L}}$ der Luft. <br>\n",
    "b) Berechnen Sie die molare Dichte $\\rho_{\\mathrm{m}, \\mathrm{He}}$ des Heliums und die molare Dichte $\\rho_{\\mathrm{m}, \\mathrm{L}}$ der Luft. Was fällt Ihnen auf?"
   ]
  },
  {
   "cell_type": "markdown",
   "metadata": {},
   "source": [
    "### a) <br>"
   ]
  },
  {
   "cell_type": "code",
   "execution_count": 128,
   "metadata": {},
   "outputs": [
    {
     "data": {
      "text/latex": [
       "$\\displaystyle  \\rho_{helium} = \\frac{0.125 gramm}{dm^{3}}$"
      ],
      "text/plain": [
       "<IPython.core.display.Math object>"
      ]
     },
     "metadata": {},
     "output_type": "display_data"
    },
    {
     "data": {
      "text/latex": [
       "$\\displaystyle  \\rho_{luft} = \\frac{0.905 gramm}{dm^{3}}$"
      ],
      "text/plain": [
       "<IPython.core.display.Math object>"
      ]
     },
     "metadata": {},
     "output_type": "display_data"
    }
   ],
   "source": [
    "rho, m, V, n = smp.symbols('rho m V n')\n",
    "rho = m/V\n",
    "g, dm3 = smp.symbols('gramm dm^3')\n",
    "rho_helium =  r\"$ \\rho_{helium} = \"+  smp.latex(rho.subs([(m, 0.5*g), (V, 4*dm3)]))\n",
    "display(Math(rho_helium))\n",
    "rho_luft = r\"$ \\rho_{luft} = \"+  smp.latex(rho.subs([(m, 3.62*g), (V, 4*dm3)]))\n",
    "display(Math(rho_luft))"
   ]
  },
  {
   "cell_type": "markdown",
   "metadata": {},
   "source": [
    "### b)"
   ]
  },
  {
   "cell_type": "code",
   "execution_count": 129,
   "metadata": {},
   "outputs": [
    {
     "data": {
      "text/latex": [
       "$\\displaystyle  n = \\frac{m}{M}$"
      ],
      "text/plain": [
       "<IPython.core.display.Math object>"
      ]
     },
     "metadata": {},
     "output_type": "display_data"
    },
    {
     "data": {
      "text/latex": [
       "$\\displaystyle  n_{helium} = 0.124918802778194 mol$"
      ],
      "text/plain": [
       "<IPython.core.display.Math object>"
      ]
     },
     "metadata": {},
     "output_type": "display_data"
    },
    {
     "data": {
      "text/latex": [
       "$\\displaystyle  n_{luft} = 0.124956851915775 mol$"
      ],
      "text/plain": [
       "<IPython.core.display.Math object>"
      ]
     },
     "metadata": {},
     "output_type": "display_data"
    },
    {
     "data": {
      "text/latex": [
       "$\\displaystyle  \\rho_m = \\frac{m}{M V}$"
      ],
      "text/plain": [
       "<IPython.core.display.Math object>"
      ]
     },
     "metadata": {},
     "output_type": "display_data"
    },
    {
     "data": {
      "text/latex": [
       "$\\displaystyle  \\rho_{m,He} = \\frac{0.0312297006945485 mol}{dm^{3}}$"
      ],
      "text/plain": [
       "<IPython.core.display.Math object>"
      ]
     },
     "metadata": {},
     "output_type": "display_data"
    },
    {
     "data": {
      "text/latex": [
       "$\\displaystyle  \\rho_{m,Luft} = \\frac{0.0312392129789437 mol}{dm^{3}}$"
      ],
      "text/plain": [
       "<IPython.core.display.Math object>"
      ]
     },
     "metadata": {},
     "output_type": "display_data"
    }
   ],
   "source": [
    "import toolbox as tb\n",
    "M, mol = smp.symbols('M mol')\n",
    "gpm = smp.symbols('g/mol')\n",
    "n = m/M\n",
    "display_smp_formula(n, r\"n\")\n",
    "n_h = n.subs([(m, 0.5*mol), (M, 4.0026)])\n",
    "n_l = n.subs([(m, 3.62*mol), (M, 28.97)])\n",
    "\n",
    "display_smp_formula(n_h, r\"n_{helium}\")\n",
    "display_smp_formula(n_l, r\"n_{luft}\")\n",
    "\n",
    "rho_m = smp.symbols('rho_m')\n",
    "rho_m = n/V\n",
    "display_smp_formula(rho_m, r\"\\rho_m\")\n",
    "rho_m_h = rho_m.subs([(n, n_h), (V, 4*dm3)])\n",
    "rho_m_l = rho_m.subs([(n, n_l), (V, 4*dm3)])\n",
    "display_smp_formula(rho_m_h, r\"\\rho_{m,He}\")\n",
    "display_smp_formula(rho_m_l, r\"\\rho_{m,Luft}\")"
   ]
  },
  {
   "cell_type": "markdown",
   "metadata": {},
   "source": [
    "Es fällt auf, dass bei den gleichen Zahlenwert haben. "
   ]
  },
  {
   "cell_type": "markdown",
   "metadata": {},
   "source": [
    "## Aufgabe 1.4 <br>\n",
    "Geben Sie jeweils ein Beispiel für ein offenes, geschlossenes und abgeschlossenes System und skizzieren dies. Zeichnen Sie zudem eine sinnvolle Systemgrenze und die Masse- und Energieflüsse über die Systemgrenze in die jeweiligen Skizzen ein."
   ]
  },
  {
   "cell_type": "markdown",
   "metadata": {},
   "source": [
    "- Ein **offenes** System erlaub sowohl den Austausch von Material als auch den Austasuch von Energie mit der Umgebung. \n",
    "\n",
    "- Ein **geschlossenes** System erlaubt den Austausch von Energie, aber nicht Material. \n",
    "\n",
    "- Ein **abgeschlossenes** System erlaubt werder den Autausch von Energie, noch Material. "
   ]
  },
  {
   "cell_type": "markdown",
   "metadata": {},
   "source": [
    "## Aufgabe 1.5 <br>\n",
    "Während Ihres Thermodynamik-Praktikums bricht im Versuchslabor ein Feuer aus. Nachdem Sie sich vor dem Inferno in Sicherheit gebracht haben, treffen die ersten Einsatzkräfte ein. Die Besatzung des Tanklöschfahrzeuges ( $V_T=2500 \\ell$ ) beginnt umgehend mit den Löscharbeiten. Das eingesetzte Strahlrohr fördert einen Volumenstrom von $\\dot{V}_1=$ $120 \\ell / m i n$.\n",
    "\n",
    "\n",
    "a) Skizzieren Sie das zu bilanzierende System mit allen auftretenden Strömen.\n",
    "\n",
    "b) Stellen Sie eine Massenbilanz für das System auf. Handelt es sich um ein stationäres oder ein instationäres System?\n",
    "\n",
    "c) Wie lange kann das eingesetzte Strahlrohr mit dem im Tank befindlichen Wasser versorgt werden?\n",
    "\n",
    "\n",
    "\n",
    "Nach 10 Minuten hat sich das Feuer auf ein angrenzendes Büro ausgebreitet. Zur Brandbekämpfung soll deshalb ein zweites Strahlrohr mit einem Durchfluss von $\\dot{V}_2=400 \\ell / \\mathrm{min}$ eingesetzt werden, welches ebenfalls an den Tank des Löschfahrzeugs angeschlossen wird. Gleichzeitig wird dem Wassertank über eine Versorgungsleitung Löschwasser zugeführt.\n",
    "\n",
    "\n",
    "d) Erweitern Sie die Systemskizze um die neu auftretenden Ströme.\n",
    "\n",
    "e) Wie groß muss der Volumenstrom des zugeführten Löschwassers sein, damit die Wassermasse im Tank konstant bleibt?\n",
    "\n",
    "\n",
    "Um die Löschwirkung zu erhöhen, wird dem Löschwasser des größeren Strahlrohrs ( $\\dot{V}_2=$ $400 \\ell / \\mathrm{min})$ über eine Mischapparatur ein Schaummittel $\\left(\\rho_{\\text {Zusatz }}=1200 \\mathrm{~kg} / \\mathrm{m}^3\\right) \\mathrm{im}$ Volumenverhältnis 3 zu 100 zugesetzt. Das Gemisch wird im Strahlrohr mit Luft aufgeschäumt. Der so gebildete Schaum besitzt eine Dichte von $\\rho_{\\mathrm{S}}=250 \\mathrm{~kg} / \\mathrm{m}^3$.\n",
    "\n",
    "\n",
    "f) Welches Schaum-Volumen lässt sich durch die Zugabe von 20 Litern Schaummittel bilden?\n",
    "\n",
    "\n",
    "\n",
    "Hinweise:\n",
    "- Sämtliche Massenströme sind zeitlich konstant.\n",
    "- Die Masse der eingeschäumten Luft kann vernachlässigt werden.\n",
    "- Die Dichte von Wasser beträgt: $\\rho_{\\mathrm{W}}=997 \\mathrm{~kg} / \\mathrm{m}^3$"
   ]
  },
  {
   "cell_type": "markdown",
   "metadata": {},
   "source": [
    "### a) Skizze:\n"
   ]
  },
  {
   "attachments": {
    "image.png": {
     "image/png": "[encoded data removed]"
    }
   },
   "cell_type": "markdown",
   "metadata": {},
   "source": [
    "![image.png](attachment:image.png)"
   ]
  },
  {
   "cell_type": "markdown",
   "metadata": {},
   "source": [
    "In der Skizze sehen wir einen Tank, dessen Füllstand mit einer Linie gezeigt wird. Die Pfeilspite gibt an, ob der Füllstand zunimmt oder abnimmt. Der Tank ist mit der Beschriftung für dasd Volumen und die Dichte ausgestattet. Unterhalb des Tankes ist ein Pfeil eingezeichnet der den Fluß darstellt. Dieser ist mit $\\dot{V}_1$ beschriftet. "
   ]
  },
  {
   "cell_type": "markdown",
   "metadata": {},
   "source": [
    "### b) Massenbilanz"
   ]
  },
  {
   "cell_type": "code",
   "execution_count": 130,
   "metadata": {},
   "outputs": [
    {
     "data": {
      "text/latex": [
       "$\\displaystyle  \\frac{dm}{dt} = - \\dot{m}_{aus} + \\dot{m}_{ein}$"
      ],
      "text/plain": [
       "<IPython.core.display.Math object>"
      ]
     },
     "metadata": {},
     "output_type": "display_data"
    },
    {
     "data": {
      "text/latex": [
       "$\\displaystyle  \\dot{m}_{ein} = 0$"
      ],
      "text/plain": [
       "<IPython.core.display.Math object>"
      ]
     },
     "metadata": {},
     "output_type": "display_data"
    },
    {
     "data": {
      "text/latex": [
       "$\\displaystyle  \\dot{m}_{aus} = \\rho_{w} \\left(- \\dot{V}_{aus} + \\dot{V}_{ein}\\right)$"
      ],
      "text/plain": [
       "<IPython.core.display.Math object>"
      ]
     },
     "metadata": {},
     "output_type": "display_data"
    },
    {
     "name": "stdout",
     "output_type": "stream",
     "text": [
      "Daraus folgt:\n"
     ]
    },
    {
     "data": {
      "text/latex": [
       "$\\displaystyle \\Sigma \\dot{m} = \\dot{m}_{ein} - \\dot{m}_{aus} \\neq 0$"
      ],
      "text/plain": [
       "<IPython.core.display.Math object>"
      ]
     },
     "metadata": {},
     "output_type": "display_data"
    },
    {
     "name": "stdout",
     "output_type": "stream",
     "text": [
      "somit ist es ein instationäres System.\n"
     ]
    }
   ],
   "source": [
    "m_in, m_out, rho_w = smp.symbols(r'\\dot{m}_{ein} \\dot{m}_{aus} \\rho_w')\n",
    "dmdt = m_in - m_out\n",
    "display_smp_formula(dmdt, r\"\\frac{dm}{dt}\")\n",
    "m_in = 0\n",
    "display_smp_formula(m_in, r\"\\dot{m}_{ein}\")\n",
    "m_out = smp.Function('m_{aus}')(t)\n",
    "m_out = dVdt*rho_w\n",
    "display_smp_formula(m_out, r\"\\dot{m}_{aus}\")\n",
    "print(\"Daraus folgt:\")\n",
    "display(Math(r\"\\Sigma \\dot{m} = \\dot{m}_{ein} - \\dot{m}_{aus} \\neq 0\"))\n",
    "print('somit ist es ein instationäres System.')"
   ]
  },
  {
   "cell_type": "markdown",
   "metadata": {},
   "source": [
    "### c) Strahlrohr"
   ]
  },
  {
   "cell_type": "code",
   "execution_count": 131,
   "metadata": {},
   "outputs": [
    {
     "data": {
      "text/latex": [
       "$\\displaystyle  V(t) = V_{t} - \\dot{V}_1 t$"
      ],
      "text/plain": [
       "<IPython.core.display.Math object>"
      ]
     },
     "metadata": {},
     "output_type": "display_data"
    },
    {
     "data": {
      "text/latex": [
       "$\\displaystyle  V(t) = 2500 l - \\frac{120 l t}{min}$"
      ],
      "text/plain": [
       "<IPython.core.display.Math object>"
      ]
     },
     "metadata": {},
     "output_type": "display_data"
    },
    {
     "data": {
      "text/latex": [
       "$\\displaystyle  t_{leer} = 20.8333333333333 min$"
      ],
      "text/plain": [
       "<IPython.core.display.Math object>"
      ]
     },
     "metadata": {},
     "output_type": "display_data"
    }
   ],
   "source": [
    "t, V_t, dVdt = smp.symbols(r't  V_t \\dot{V}_1 ')\n",
    "t = smp.Symbol('t')\n",
    "l = smp.Symbol('l')\n",
    "min = smp.Symbol('min')\n",
    "V = V_t - dVdt*t\n",
    "display_smp_formula(V, r\"V(t)\")\n",
    "V = V.subs([(V_t, 2500*l), (dVdt, 120*l/min)])\n",
    "display_smp_formula(V, r\"V(t)\")\n",
    "t_empty = smp.solve(V, t)[0].evalf()\n",
    "display_smp_formula( t_empty, r\"t_{leer}\")"
   ]
  },
  {
   "attachments": {
    "image.png": {
     "image/png": "[encoded data removed]"
    }
   },
   "cell_type": "markdown",
   "metadata": {},
   "source": [
    "### d) \n",
    "\n",
    "![image.png](attachment:image.png)"
   ]
  },
  {
   "cell_type": "markdown",
   "metadata": {},
   "source": [
    "### e)  Neue Massenbilanz und Volumenbilanz"
   ]
  },
  {
   "cell_type": "code",
   "execution_count": 132,
   "metadata": {},
   "outputs": [
    {
     "data": {
      "text/latex": [
       "$\\displaystyle  \\frac{dV}{dt} = 0 = - \\dot{V}_{aus} + \\dot{V}_{ein}$"
      ],
      "text/plain": [
       "<IPython.core.display.Math object>"
      ]
     },
     "metadata": {},
     "output_type": "display_data"
    },
    {
     "data": {
      "text/latex": [
       "$\\displaystyle  \\dot{V}_{aus} = \\dot{V}_1 + \\dot{V}_2$"
      ],
      "text/plain": [
       "<IPython.core.display.Math object>"
      ]
     },
     "metadata": {},
     "output_type": "display_data"
    },
    {
     "data": {
      "text/latex": [
       "$\\displaystyle  \\dot{V}_{aus} = \\frac{520 l}{min}$"
      ],
      "text/plain": [
       "<IPython.core.display.Math object>"
      ]
     },
     "metadata": {},
     "output_type": "display_data"
    },
    {
     "data": {
      "text/latex": [
       "$\\displaystyle  \\dot{V}_{ein} = \\frac{520 l}{min}$"
      ],
      "text/plain": [
       "<IPython.core.display.Math object>"
      ]
     },
     "metadata": {},
     "output_type": "display_data"
    }
   ],
   "source": [
    "m_in, m_out, rho_w = smp.symbols(r'\\dot{m}_{ein} \\dot{m}_{aus} \\rho_w')\n",
    "V_in, V_out = smp.symbols(r'\\dot{V}_{ein} \\dot{V}_{aus}')\n",
    "dV1dt = smp.symbols(r'\\dot{V}_1')\n",
    "dV2dt = smp.symbols(r'\\dot{V}_2')\n",
    "l = smp.Symbol('l')\n",
    "min = smp.Symbol('min')\n",
    "kg = smp.Symbol('kg')\n",
    "m3 = smp.Symbol('m^3')\n",
    "dVdt = V_in - V_out\n",
    "display_smp_formula(dVdt, r\"\\frac{dV}{dt} = 0\")\n",
    "V_out = dV1dt + dV2dt\n",
    "display_smp_formula(V_out, r\"\\dot{V}_{aus}\")\n",
    "V_out = V_in =  V_out.subs([(dV1dt, 120*l/min), (dV2dt, 400*l/min)])\n",
    "display_smp_formula(V_out, r\"\\dot{V}_{aus}\")\n",
    "display_smp_formula(V_in, r\"\\dot{V}_{ein}\")\n"
   ]
  },
  {
   "cell_type": "markdown",
   "metadata": {},
   "source": [
    "\n",
    "### f) Schaumvolumen\n"
   ]
  },
  {
   "cell_type": "code",
   "execution_count": 136,
   "metadata": {},
   "outputs": [
    {
     "name": "stdout",
     "output_type": "stream",
     "text": [
      "V_Schaum =  2754.6666666666665\n"
     ]
    }
   ],
   "source": [
    "V_Schaumittel = 20\n",
    "rho_Schaumittel = 1200\n",
    "m_Schaumittel = V_Schaumittel * rho_Schaumittel\n",
    "V_wasser = V_Schaumittel*100/3\n",
    "rho_wasser = 997\n",
    "m_wasser = V_wasser * rho_wasser\n",
    "m_ges = m_Schaumittel + m_wasser\n",
    "rho_Schaum = 250\n",
    "m_Schaum = m_ges\n",
    "V_Schaum = m_Schaum/rho_Schaum\n",
    "print(\"V_Schaum = \", V_Schaum)"
   ]
  }
 ],
 "metadata": {
  "kernelspec": {
   "display_name": "Python 3",
   "language": "python",
   "name": "python3"
  },
  "language_info": {
   "codemirror_mode": {
    "name": "ipython",
    "version": 3
   },
   "file_extension": ".py",
   "mimetype": "text/x-python",
   "name": "python",
   "nbconvert_exporter": "python",
   "pygments_lexer": "ipython3",
   "version": "3.12.2"
  }
 },
 "nbformat": 4,
 "nbformat_minor": 2
}
