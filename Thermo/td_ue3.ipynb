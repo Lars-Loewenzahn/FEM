{
 "cells": [
  {
   "cell_type": "markdown",
   "metadata": {},
   "source": [
    "## Aufgabe 3.1\n",
    "\n",
    "Diese Aufgabe beschäftigt sich mit dem 1.HS (erster Hauptsatz der Thermodynamik) für geschlossene Systeme. Lösen Sie jede Teilaufgabe ausgehend vom 1.HS.\n",
    "\n",
    "\n",
    "a) Auf welche Temperatur erwärmt sich ein Beutel Wasser mit einer Masse $m=1 \\mathrm{~kg}$, der aus einer Höhe von $z_1=450 \\mathrm{~m}$ abgeworfen wird? Der Luftwiderstand sei vernachlässigbar. Nehmen Sie an, dass das Volumen des Wassers konstant bleibt, und sich das Wasser am Ende wieder in Ruhe befindet.\n"
   ]
  },
  {
   "cell_type": "code",
   "execution_count": 3,
   "metadata": {},
   "outputs": [
    {
     "name": "stdout",
     "output_type": "stream",
     "text": [
      "1.0561004784688994 K\n"
     ]
    }
   ],
   "source": [
    "# Kinetische Energie wird in innere Energie umgesetzt\n",
    "# \\Delta U = Q - W\n",
    "# Die Druckveränderung wird nicht berücksichtigt \n",
    "# isobar                 \n",
    "# Ich denke zu kompliziert. Ich mache das jetzt einfch über die Wärmekapazität\n",
    "h = 450 #m\n",
    "g = 9.81 #m/s²\n",
    "m= 1 #kg\n",
    "E_pot = m*g*h \n",
    "# U = m*c_v*dT\n",
    "U = E_pot\n",
    "c_v = 4180 #J/kg/K\n",
    "dT = U / (m*c_v)\n",
    "print(dT , \"K\")         "
   ]
  },
  {
   "cell_type": "markdown",
   "metadata": {},
   "source": [
    "b) Ein Kochtopf aus Stahl ( $m_{\\mathrm{T}}=0.5 \\mathrm{~kg}$ ) enthält Wasser ( $m_{\\mathrm{W}}=2 \\mathrm{~kg}$ ). Wie viel Wärme ist erforderlich, um den Topf mit dem Wasser von $T_1=20^{\\circ} \\mathrm{C}$ auf $T_2=90^{\\circ} \\mathrm{C}$ zu erwärmen? Wie lange muss man auf einem Ergometer strampeln, um bei einer Dauerleistung von 100 W diese Energie zu erbringen?"
   ]
  },
  {
   "cell_type": "code",
   "execution_count": 6,
   "metadata": {},
   "outputs": [
    {
     "name": "stdout",
     "output_type": "stream",
     "text": [
      "6009.5 s\n",
      "100.15833333333333 min\n"
     ]
    }
   ],
   "source": [
    "m = 2 #kg\n",
    "c_v = 4180 #J/kg/K\n",
    "dT = 90 - 20\n",
    "E_1 = m*c_v*dT\n",
    "\n",
    "m = 0.5\n",
    "c_v = 450 #J/kg/K\n",
    "dT = 90 - 20\n",
    "E_2 = m*c_v*dT\n",
    "\n",
    "E = E_1 + E_2\n",
    "\n",
    "P = 100 # W\n",
    "t = E/P\n",
    "print(t, \"s\")\n",
    "print(t/60, \"min\")"
   ]
  },
  {
   "cell_type": "markdown",
   "metadata": {},
   "source": [
    "c) Ein isolierter Behälter ist mit 5 kg Wasser von $20^{\\circ} \\mathrm{C}$ gefüllt. Im Behälter befindet sich ein Rührwerk, das durch Schwerkraft angetrieben wird. Dabei fällt ein 500 kg schwerer Körper langsam 10 m nach unten. Unter der Annahme, dass die vom Gewicht geleistete Arbeit vollständig zur Aufheizung des Wassers dient, ist zu bestimmen:\n",
    "\n",
    "i) Die Größe der Arbeit, die am Wasser geleistet wird\n",
    "\n",
    "ii) Die Änderung der inneren Energie des Wassers\n",
    "\n",
    "iii) Die Endtemperatur des Wassers\n",
    "\n",
    "iv) Die Wärmemenge, die dem Wasser entnommen werden muss, um zu $T=20^{\\circ} \\mathrm{C}$ zurückzukehren.\n",
    "Angaben/Nebenbedingungen:\n",
    "\n",
    "\n",
    "$$\n",
    "\\begin{array}{lll}\n",
    "\\hline \\text { Erdbeschleunigung: } & g=9.81 \\mathrm{~m} / \\mathrm{s}^2 \\\\\n",
    "\\text { spezifische Wärmekapazität: } & \\text { Stahl: } & c_{v, \\text { Stahl }}=0.45 \\mathrm{~kJ} /(\\mathrm{kg} \\mathrm{~K}) \\\\\n",
    "& \\text { Wasser: } & \\left.c_{v, \\text { Wasser }}=4.18 \\mathrm{~kJ} /(\\mathrm{kg} \\mathrm{~K})\\right)\n",
    "\\end{array}\n",
    "$$"
   ]
  },
  {
   "cell_type": "code",
   "execution_count": 7,
   "metadata": {},
   "outputs": [
    {
     "name": "stdout",
     "output_type": "stream",
     "text": [
      "1) W =  49050.0 J\n"
     ]
    }
   ],
   "source": [
    "m = 500 #kg\n",
    "g = 9.81 #m/s²\n",
    "h = 10 #m\n",
    "E_pot = m*g*h\n",
    "print(\"1) W = \", E_pot, \"J\" )"
   ]
  },
  {
   "cell_type": "code",
   "execution_count": 8,
   "metadata": {},
   "outputs": [
    {
     "name": "stdout",
     "output_type": "stream",
     "text": [
      "2) U =  49050.0 J\n"
     ]
    }
   ],
   "source": [
    "print(\"2) U = \", E_pot, \"J\" )"
   ]
  },
  {
   "cell_type": "code",
   "execution_count": 9,
   "metadata": {},
   "outputs": [
    {
     "name": "stdout",
     "output_type": "stream",
     "text": [
      "3) T =  22.34688995215311 °C\n"
     ]
    }
   ],
   "source": [
    "m = 5 #kg\n",
    "c_v = 4180 #J/kg/K\n",
    "dT = E_pot / (m*c_v)\n",
    "print(\"3) T = \", (20+dT), \"°C\" )"
   ]
  },
  {
   "cell_type": "code",
   "execution_count": 10,
   "metadata": {},
   "outputs": [
    {
     "name": "stdout",
     "output_type": "stream",
     "text": [
      "4) Q =  49050.0 J\n"
     ]
    }
   ],
   "source": [
    "print(\"4) Q = \", E_pot, \"J\" )"
   ]
  }
 ],
 "metadata": {
  "kernelspec": {
   "display_name": "Python 3",
   "language": "python",
   "name": "python3"
  },
  "language_info": {
   "codemirror_mode": {
    "name": "ipython",
    "version": 3
   },
   "file_extension": ".py",
   "mimetype": "text/x-python",
   "name": "python",
   "nbconvert_exporter": "python",
   "pygments_lexer": "ipython3",
   "version": "3.13.2"
  }
 },
 "nbformat": 4,
 "nbformat_minor": 2
}
