{
 "cells": [
  {
   "cell_type": "markdown",
   "metadata": {},
   "source": [
    "## Aufgabe 5.1\n",
    "\n",
    "Bei Umgebungszustand ( $p_{\\mathrm{a}}=1$ bar; $T_{\\mathrm{a}}=300 \\mathrm{~K}$ ) wird 1 kg Luft von $V_1$ auf $V_2=\\frac{1}{2} V_1$ reversibel komprimiert.\n",
    "\n",
    "a) Wie viel Arbeit $W_{12}$ muss dabei zugeführt werden, wenn\n",
    "\n",
    "i) die Kompression isotherm ist?\n",
    "\n",
    "ii) der Zustandsverlauf bei der Kompression durch die Beziehung pv $v^n=$ const. mit $n=1.4$ beschrieben wird.\n"
   ]
  },
  {
   "cell_type": "code",
   "execution_count": 29,
   "metadata": {},
   "outputs": [
    {
     "name": "stdout",
     "output_type": "stream",
     "text": [
      "Isotherme -> W =  59.68 kJ\n",
      "Isentrop  -> W =  68.77 kJ\n"
     ]
    }
   ],
   "source": [
    "# i)\n",
    "import math\n",
    "\n",
    "\n",
    "T = 300 # K\n",
    "R = 0.287 # kJ / (kg K)\n",
    "m = 1 # kg\n",
    "p_a = 100 # kPa\n",
    "\n",
    "# W = \\int p dV = m*R*T*ln(V2/V1)\n",
    "W = - m*R*T*math.log(0.5)\n",
    "print(\"Isotherme -> W = \",round(W,2), \"kJ\") # W, \"kJ\")\n",
    "\n",
    "\n",
    "# ii)\n",
    "\n",
    "# p*v**n = const\n",
    "n = 1.4\n",
    "v_a = R*T/p_a\n",
    "V_a = v_a**m\n",
    "v_b = 0.5*v_a\n",
    "V_b = v_b**m\n",
    "const = p_a*v_a**n\n",
    "p_b = const/v_b**n\n",
    "# p = const/v**n\n",
    "# v = R*T/p\n",
    "# p = const/(R*T/p)**n\n",
    "# p = const*p**n/(R*T)**n\n",
    "# p/p**n = const/(R*T)**n\n",
    "# p**(1-n) = const/(R*T)**n\n",
    "# p = (const/((R*T)**n))**(1/(1-n)) Falsch!\n",
    "# W = \\int p dV\n",
    "W = - (p_a*V_a - p_b*V_b)/(n -1)\n",
    "print(\"Isentrop  -> W = \", round(W, 2), \"kJ\") # round(W, \"kJ\")\n",
    "\n"
   ]
  },
  {
   "cell_type": "markdown",
   "metadata": {},
   "source": [
    "b) Wie hoch ist der Enddruck $p_2$ nach der Kompression in beiden Fällen?"
   ]
  },
  {
   "cell_type": "code",
   "execution_count": 30,
   "metadata": {},
   "outputs": [
    {
     "name": "stdout",
     "output_type": "stream",
     "text": [
      "Isotherme -> p =  200.0 kPa\n",
      "Isentrop  -> p =  263.9 kPa\n"
     ]
    }
   ],
   "source": [
    "# i)\n",
    "import math\n",
    "\n",
    "\n",
    "T = 300 # K\n",
    "R = 0.287 # kJ / (kg K)\n",
    "m = 1 # kg\n",
    "p_a = 100 # kPa\n",
    "\n",
    "# W = \\int p dV = m*R*T*ln(V2/V1)\n",
    "W = m*R*T*math.log(0.5)\n",
    "v_a = R*T/p_a\n",
    "\n",
    "v_b = 0.5*v_a\n",
    "p_b = p_a*v_a/v_b\n",
    "print(\"Isotherme -> p = \",round(p_b,2), \"kPa\") # W, \"kJ\")\n",
    "\n",
    "\n",
    "# ii)\n",
    "\n",
    "# p*v**n = const\n",
    "n = 1.4\n",
    "v_a = R*T/p_a\n",
    "V_a = v_a**m\n",
    "v_b = 0.5*v_a\n",
    "V_b = v_b**m\n",
    "const = p_a*v_a**n\n",
    "p_b = const/v_b**n\n",
    "# p = const/v**n\n",
    "# v = R*T/p\n",
    "# p = const/(R*T/p)**n\n",
    "# p = const*p**n/(R*T)**n\n",
    "# p/p**n = const/(R*T)**n\n",
    "# p**(1-n) = const/(R*T)**n\n",
    "# p = (const/((R*T)**n))**(1/(1-n)) Falsch!\n",
    "# W = \\int p dV\n",
    "W = (p_a*V_a - p_b*V_b)/(n -1)\n",
    "print(\"Isentrop  -> p = \", round(p_b, 2), \"kPa\") # round(W, \"kJ\")"
   ]
  },
  {
   "cell_type": "markdown",
   "metadata": {},
   "source": [
    "c) Wie viel Wärme wird im isothermen Fall übertragen?\n",
    "\n",
    "Hinweis: Die Luft soll als ideales Gas mit $R=0.287 \\mathrm{~kJ} /(\\mathrm{kg} \\mathrm{K})$ betrachtet werden."
   ]
  },
  {
   "cell_type": "code",
   "execution_count": 31,
   "metadata": {},
   "outputs": [
    {
     "name": "stdout",
     "output_type": "stream",
     "text": [
      "Q =  -59.68 kJ\n"
     ]
    }
   ],
   "source": [
    "# \\delta U = Q + W\n",
    "# \\delta U = 0  da isotherm\n",
    "T_2 = T*(V_a/V_b)**n-1\n",
    "dT = T_2 - T\n",
    "c_v = R/(n-1)\n",
    "dU = m*c_v*dT\n",
    "# bis hier ist alles falsch\n",
    "dU = 0 # weil Isotherme\n",
    "Q = dU - W\n",
    "W = - m*R*T*math.log(0.5)\n",
    "Q = - W\n",
    "\n",
    "\n",
    "print(\"Q = \", round(Q, 2), \"kJ\") # round(W, \"kJ\")"
   ]
  },
  {
   "cell_type": "markdown",
   "metadata": {},
   "source": [
    "## Aufgabe 5.2\n",
    "\n",
    "Wir betrachten einen Stoßdämpfer, der mit einem idealen Gas ( $R=0.2872 \\mathrm{~kJ} /(\\mathrm{kg} \\mathrm{K})$ ) gefüllt ist. Der Stoßdämpfer hat die Form eines Zylinders (Duchmesser 10 cm und Höhe 50 cm ) und steht anfangs unter einem Druck von $p_1=6$ bar.\n",
    "Nun wird der Stoßdämpfer mit einer zusätzlichen Kraft von $F=1 \\mathrm{kN}$ belastet, durch die das Volumen sehr schnell verkleinert wird.\n",
    "Die Kompression verläuft reversibel adiabat, und folgt der Gleichung $p v^\\kappa=$ const., mit $\\kappa=1.3$. Die Umgebungstemperatur beträgt $T_{\\mathrm{u}}=290 \\mathrm{~K}$.\n",
    "\n",
    "a) Welche Form der Zustandsänderung nehmen wir häufig näherungsweise an, wenn ein Prozess sehr schnell passiert?"
   ]
  },
  {
   "cell_type": "code",
   "execution_count": 33,
   "metadata": {},
   "outputs": [
    {
     "name": "stdout",
     "output_type": "stream",
     "text": [
      "Bei sehr schneller Veränderung liegt eine adiabate Zustandsveränderung statt.\n"
     ]
    }
   ],
   "source": [
    "print(\"Bei sehr schneller Veränderung liegt eine adiabate Zustandsveränderung statt.\")\n"
   ]
  },
  {
   "cell_type": "markdown",
   "metadata": {},
   "source": [
    "b) Um welchen Anteil wird das Volumen dadurch verringert?"
   ]
  },
  {
   "cell_type": "code",
   "execution_count": 34,
   "metadata": {},
   "outputs": [],
   "source": [
    "import math\n",
    "V_1 = 0.05**2*math.pi*0.5\n",
    "A = 0.05**2*math.pi\n",
    "# print(\"V = \", round(V_1, 2), \"m²\")\n",
    "p_1  = 600 # kPa\n",
    "F = 1 #kN\n",
    "p_2 = F / A\n",
    "T_1 = T_u = 290 # K"
   ]
  },
  {
   "attachments": {
    "image.png": {
     "image/png": "[encoded data removed]"
    }
   },
   "cell_type": "markdown",
   "metadata": {},
   "source": [
    "![image.png](attachment:image.png)"
   ]
  },
  {
   "cell_type": "markdown",
   "metadata": {},
   "source": [
    "c) Welche Temperatur stellt sich sofort nach der Belastung ein? (Hinw.: $T_1=T_{\\mathrm{u}}$ )"
   ]
  },
  {
   "cell_type": "code",
   "execution_count": 38,
   "metadata": {},
   "outputs": [
    {
     "name": "stdout",
     "output_type": "stream",
     "text": [
      "Temp T_2: 303.169  K\n"
     ]
    }
   ],
   "source": [
    "import math\n",
    "V_1 = 0.05**2*math.pi*0.5\n",
    "A = 0.05**2*math.pi\n",
    "# print(\"V = \", round(V_1, 2), \"m²\")\n",
    "p_1  = 600 # kPa\n",
    "F = 1 #kN\n",
    "p_2 = F/A + p_1\n",
    "T_1 = T_u = 290 # K\n",
    "V_2 = V_1*(p_1/p_2)**(1/1.3)\n",
    "# p*V/T = p*v/T\n",
    "# p_1*V_1/T_1 = p_2*V_2/T_2\n",
    "T_2 = p_2*V_2*T_1/(p_1*V_1)\n",
    "print(\"Temp T_2:\", round(T_2, 3), \" K\")\n"
   ]
  },
  {
   "cell_type": "markdown",
   "metadata": {},
   "source": [
    "d) Wie weit verringert sich das Volumen relativ, wenn die Luft anschließend isobar auf Umgebungstemperatur abkühlt?"
   ]
  },
  {
   "cell_type": "code",
   "execution_count": 42,
   "metadata": {},
   "outputs": [
    {
     "name": "stdout",
     "output_type": "stream",
     "text": [
      "Volumenabnahme:  4.344 %\n"
     ]
    }
   ],
   "source": [
    "# Ich kann auch von einer Isotermen ZÄ von Anfang an\n",
    "# p_1*V_1 = p_3*V_3\n",
    "p_3 = p_2\n",
    "V_3 = (V_1*p_1)/p_3\n",
    "rel = (1 - V_3/V_2)*100\n",
    "print(\"Volumenabnahme: \", round(rel, 3), \"%\")"
   ]
  },
  {
   "cell_type": "markdown",
   "metadata": {},
   "source": [
    "e) Wie weit gibt der Stoßdämpfer dem erhöhten Druck bei c) und d) nach?"
   ]
  },
  {
   "cell_type": "code",
   "execution_count": 43,
   "metadata": {},
   "outputs": [
    {
     "name": "stdout",
     "output_type": "stream",
     "text": [
      "Distanz 1: 6.865 cm\n",
      "Distanz 2: 1.874 cm\n"
     ]
    }
   ],
   "source": [
    "print(\"Distanz 1: 6.865 cm\")\n",
    "print(\"Distanz 2:\", round((50-6.865)*0.04344, 3), \"cm\")"
   ]
  }
 ],
 "metadata": {
  "kernelspec": {
   "display_name": "Python 3",
   "language": "python",
   "name": "python3"
  },
  "language_info": {
   "codemirror_mode": {
    "name": "ipython",
    "version": 3
   },
   "file_extension": ".py",
   "mimetype": "text/x-python",
   "name": "python",
   "nbconvert_exporter": "python",
   "pygments_lexer": "ipython3",
   "version": "3.13.2"
  }
 },
 "nbformat": 4,
 "nbformat_minor": 2
}
