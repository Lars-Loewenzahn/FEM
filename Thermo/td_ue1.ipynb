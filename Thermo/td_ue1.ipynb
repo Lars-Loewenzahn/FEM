{
 "cells": [
  {
   "cell_type": "markdown",
   "metadata": {},
   "source": [
    "## Aufgabe 1.1\n",
    "\n",
    "a) Definieren Sie den Begriff Zustandsgröße. Geben Sie zwei Beispiele.\n",
    "\n",
    "b) Die Zustandsgleichung des idealen Gases lautet $p=\\frac{R T}{v}$. Zeigen Sie, dass bei der Bildung der gemischten Ableitungen von $p$ (nach dem spezifischen Volumen $v$ und der Temperatur $T$ ) die Reihenfolge der Ableitung egal ist (Satz von Schwarz).\n",
    "\n",
    "c) Definieren Sie den Begriff Prozessgröße. Geben Sie zwei Beispiele."
   ]
  },
  {
   "cell_type": "markdown",
   "metadata": {},
   "source": [
    "Eine Zustandgröße ist wegunabhängig. "
   ]
  }
 ],
 "metadata": {
  "language_info": {
   "name": "python"
  }
 },
 "nbformat": 4,
 "nbformat_minor": 2
}
