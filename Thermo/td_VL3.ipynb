{
 "cells": [
  {
   "cell_type": "markdown",
   "metadata": {},
   "source": [
    "## Aufgabe 3.1 Warm Up\n",
    "a) Welchen Annahmen unterliegt ein ideales Gas? Wie lautet das ideale Gasgesetz und in welchen Einheiten werden die darin enthaltenen Größen angegeben?\n",
    "\n",
    "b) Zeichnen Sie jeweils eine beliebige isotherme, isobare und isochore Zustandsänderung in ein p, v-Diagramm ein.\n",
    "\n",
    "c) Was besagt der erste Hauptsatz der Thermodynamik und welche Energiebilanz lässt sich daraus herleiten (geschlossenes System)? Was besagen die einzelnen Terme in dieser Energiebilanz?"
   ]
  },
  {
   "cell_type": "markdown",
   "metadata": {},
   "source": [
    "### Aufabe 3.1.a) \n",
    "\n",
    "Das ideale Gasgesetz ist: $pV=nRT$ mit $n$ der Molekulareanzahl, $R$ der Gaskonstante und $T$ die Temperatur. Die Größen $p$ und $V$ werden in Pascal und Liter angegeben."
   ]
  },
  {
   "cell_type": "markdown",
   "metadata": {},
   "source": []
  }
 ],
 "metadata": {
  "language_info": {
   "name": "python"
  }
 },
 "nbformat": 4,
 "nbformat_minor": 2
}
