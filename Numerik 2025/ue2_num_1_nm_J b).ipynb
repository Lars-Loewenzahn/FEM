{
 "cells": [
  {
   "cell_type": "markdown",
   "id": "d1881161",
   "metadata": {},
   "source": [
    "#### b)"
   ]
  },
  {
   "cell_type": "code",
   "execution_count": 2,
   "id": "90589a7e",
   "metadata": {},
   "outputs": [],
   "source": [
    "import numpy as np"
   ]
  },
  {
   "cell_type": "code",
   "execution_count": null,
   "id": "0cabc5e1",
   "metadata": {},
   "outputs": [
    {
     "name": "stdout",
     "output_type": "stream",
     "text": [
      "n: 3    u: [3. 5. 6.]\n",
      "n: 4    u: [ 4.  7.  9. 10.]\n",
      "n: 5    u: [ 5.  9. 12. 14. 15.]\n"
     ]
    },
    {
     "ename": "",
     "evalue": "",
     "output_type": "error",
     "traceback": [
      "\u001b[1;31mThe Kernel crashed while executing code in the current cell or a previous cell. \n",
      "\u001b[1;31mPlease review the code in the cell(s) to identify a possible cause of the failure. \n",
      "\u001b[1;31mClick <a href='https://aka.ms/vscodeJupyterKernelCrash'>here</a> for more info. \n",
      "\u001b[1;31mView Jupyter <a href='command:jupyter.viewOutput'>log</a> for further details."
     ]
    }
   ],
   "source": [
    "def tridiagoinales(a,b,f):\n",
    "    c,d = [],[]\n",
    "    for i, a_i in enumerate(a):\n",
    "        if i - 1 >= 0:\n",
    "            c_i = np.sqrt(a_i - d[i-1]**2)\n",
    "        else:\n",
    "            c_i = np.sqrt(a_i)\n",
    "        c.append(c_i)\n",
    "        if i < len(b):\n",
    "            d_i = b[i]/c_i\n",
    "            d.append(d_i)\n",
    "\n",
    "    y = []\n",
    "    y.append(f[0]/c[0])\n",
    "    for i in range(1, len(f)):\n",
    "        y.append((f[i] - d[i-1]*y[i-1])/c[i])\n",
    "\n",
    "    n = len(y)\n",
    "    u = np.zeros(n)\n",
    "    u[-1] = (y[-1]/c[-1])\n",
    "\n",
    "    for i in range(-2, -n-1, -1):\n",
    "        u[i] = ((y[i] - d[i+1]*u[i+1])/c[i])        \n",
    "    return u\n",
    "\n",
    "for n in range(2,5):\n",
    "    s, f = np.ones(n), np.ones(n)\n",
    "    a = s*2\n",
    "    a = np.append(a, 1)\n",
    "    b = s*(-1)\n",
    "    s = np.append(s, 1)\n",
    "    f = np.append(f, 1)\n",
    "    u = tridiagoinales(a,b,f)\n",
    "    print(\"n:\", n + 1,\"   u:\", u)"
   ]
  },
  {
   "cell_type": "markdown",
   "id": "d32bfb5f",
   "metadata": {},
   "source": [
    "Der Zusammenhang zwischen n und u_i stellt sich als u_i = ((2*n +1)*i - i**2)/2 dar. \n",
    "Allerding konnte ich diesen Zusammenhang nicht selbst ermitteln sondern musste ihn aus externen Quellen beziehen. "
   ]
  }
 ],
 "metadata": {
  "kernelspec": {
   "display_name": ".venv",
   "language": "python",
   "name": "python3"
  },
  "language_info": {
   "codemirror_mode": {
    "name": "ipython",
    "version": 3
   },
   "file_extension": ".py",
   "mimetype": "text/x-python",
   "name": "python",
   "nbconvert_exporter": "python",
   "pygments_lexer": "ipython3",
   "version": "3.13.3"
  }
 },
 "nbformat": 4,
 "nbformat_minor": 5
}
