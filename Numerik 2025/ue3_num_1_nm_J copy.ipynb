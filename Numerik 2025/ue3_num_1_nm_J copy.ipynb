{
 "cells": [
  {
   "cell_type": "code",
   "execution_count": 7,
   "id": "9e962761",
   "metadata": {},
   "outputs": [],
   "source": [
    "import numpy as np\n",
    "import sympy as sp\n",
    "sp.init_printing(use_unicode=True)"
   ]
  },
  {
   "cell_type": "code",
   "execution_count": 8,
   "id": "ab3485e9",
   "metadata": {},
   "outputs": [
    {
     "data": {
      "image/png": "[encoded data removed]",
      "text/latex": [
       "$\\displaystyle 2 x^{2} + 3 x - 5$"
      ],
      "text/plain": [
       "   2          \n",
       "2⋅x  + 3⋅x - 5"
      ]
     },
     "execution_count": 8,
     "metadata": {},
     "output_type": "execute_result"
    }
   ],
   "source": [
    "x  = sp.symbols('x')\n",
    "f_sym = 2*x**2 + 3*x -5\n",
    "f_num = sp.lambdify(x, f_sym, 'numpy')\n",
    "f_sym"
   ]
  },
  {
   "cell_type": "code",
   "execution_count": 14,
   "id": "18bfc78f",
   "metadata": {},
   "outputs": [],
   "source": [
    "def get_tanget_at(f, x, x_sym):\n",
    "    y = sp.lambdify(x_sym, f, 'numpy')(x)\n",
    "    df = sp.lambdify(x_sym, sp.diff(f,x_sym), 'numpy')\n",
    "    m = df(x)\n",
    "    # y = m*x + t\n",
    "    t = y - m*x\n",
    "    tangend = m*x_sym + t\n",
    "    return tangend"
   ]
  },
  {
   "cell_type": "code",
   "execution_count": 15,
   "id": "e0faa2d8",
   "metadata": {},
   "outputs": [
    {
     "data": {
      "image/png": "[encoded data removed]",
      "text/latex": [
       "$\\displaystyle 15 x - 23$"
      ],
      "text/plain": [
       "15⋅x - 23"
      ]
     },
     "execution_count": 15,
     "metadata": {},
     "output_type": "execute_result"
    }
   ],
   "source": [
    "t_1 = get_tanget_at(f_sym, 3,x)\n",
    "t_1"
   ]
  },
  {
   "cell_type": "code",
   "execution_count": 34,
   "id": "1bf5c4de",
   "metadata": {},
   "outputs": [],
   "source": [
    "def newtonverfahren(f_sym, x_sym, x_start):\n",
    "    limit = 10**-6\n",
    "    #print(limit)\n",
    "    for _ in range(100):\n",
    "        t = get_tanget_at(f_sym, x_start, x_sym)\n",
    "        #sp.pprint(t)\n",
    "        x_new = sp.solve(t, x_sym)[0]\n",
    "        #print(x_new)\n",
    "        #diff = x_new - x_start\n",
    "        #print(diff)\n",
    "        if abs(x_new - x_start) <= limit:\n",
    "            return x_new\n",
    "        x_start = x_new\n",
    "    else: \n",
    "        raise (\"Es konnte keine Nullstelle gefunden werden\")"
   ]
  },
  {
   "cell_type": "code",
   "execution_count": 33,
   "id": "81fad4c9",
   "metadata": {},
   "outputs": [
    {
     "name": "stdout",
     "output_type": "stream",
     "text": [
      "1.00000000000000\n"
     ]
    }
   ],
   "source": [
    "x_null = newtonverfahren(f_sym, x, 2)\n",
    "print(round(x_null, 5))"
   ]
  },
  {
   "cell_type": "code",
   "execution_count": 35,
   "id": "09a2b357",
   "metadata": {},
   "outputs": [],
   "source": [
    "def sekantenverfahren(f_sym, x_sym, x_nm1, x_n):\n",
    "    limit = 10**-6\n",
    "    f = sp.lambdify(x_sym, f_sym, 'numpy')\n",
    "    for _ in range(100):\n",
    "        x_np1 = x_n - f(x_n)*(x_n-x_nm1)/(f(x_n) - f(x_nm1))\n",
    "        if abs(x_np1 - x_n) <= limit:\n",
    "            return x_np1\n",
    "        x_n, x_nm1 = x_np1, x_n\n",
    "    else:\n",
    "        raise (\"Es konnte keine Nullstelle gefunden werden\")"
   ]
  },
  {
   "cell_type": "code",
   "execution_count": 37,
   "id": "4ceb6cde",
   "metadata": {},
   "outputs": [
    {
     "name": "stdout",
     "output_type": "stream",
     "text": [
      "-2.5\n"
     ]
    }
   ],
   "source": [
    "x_null = sekantenverfahren(f_sym, x, -3,-4)\n",
    "print(round(x_null, 5))"
   ]
  },
  {
   "cell_type": "code",
   "execution_count": 38,
   "id": "df0c1695",
   "metadata": {},
   "outputs": [],
   "source": [
    "def sign(x):\n",
    "    if x > 0:\n",
    "        return  1\n",
    "    elif x < 0:\n",
    "        return -1\n",
    "    else:\n",
    "        return  0"
   ]
  },
  {
   "cell_type": "code",
   "execution_count": 39,
   "id": "46b0c062",
   "metadata": {},
   "outputs": [],
   "source": [
    "def regular_falsi_verfahren(f_sym, x_sym, a, b):\n",
    "    limit = 10**-6\n",
    "    f = sp.lambdify(x_sym, f_sym, 'numpy')\n",
    "    for _ in range(100):\n",
    "        c = b - f(b)*(b-a)/(f(b) - f(a))\n",
    "        if abs(c - b) <= limit:\n",
    "            return c\n",
    "        if  sign (f(a))== sign(f(c)):\n",
    "            a = c\n",
    "        else:\n",
    "            b = c\n",
    "    else:\n",
    "        raise (\"Es konnte keine Nullstelle gefunden werden\")"
   ]
  },
  {
   "cell_type": "code",
   "execution_count": 40,
   "id": "70657e4a",
   "metadata": {},
   "outputs": [
    {
     "name": "stdout",
     "output_type": "stream",
     "text": [
      "-2.5\n"
     ]
    }
   ],
   "source": [
    "x_null = regular_falsi_verfahren(f_sym, x, -2,-3)\n",
    "print(round(x_null, 5))"
   ]
  },
  {
   "cell_type": "markdown",
   "id": "3008de39",
   "metadata": {},
   "source": [
    "# Erste Programmieraufgabe:"
   ]
  },
  {
   "cell_type": "code",
   "execution_count": 41,
   "id": "120715cb",
   "metadata": {},
   "outputs": [],
   "source": [
    "def regularfalsi(f, a, b, tol):\n",
    "    for _ in range(100):\n",
    "        c = b - f(b)*(b-a)/(f(b) - f(a))\n",
    "        if abs(c - b) <= tol:\n",
    "            return c\n",
    "        if  sign (f(a))== sign(f(c)):\n",
    "            a = c\n",
    "        else:\n",
    "            b = c\n",
    "    else:\n",
    "        raise (\"Es konnte keine Nullstelle gefunden werden\")"
   ]
  },
  {
   "cell_type": "code",
   "execution_count": 42,
   "id": "7e4d98da",
   "metadata": {},
   "outputs": [],
   "source": [
    "def f(x):\n",
    "    return 1 + np.cos(x)*np.cosh(x)"
   ]
  },
  {
   "cell_type": "code",
   "execution_count": 48,
   "id": "a4ee7e8f",
   "metadata": {},
   "outputs": [
    {
     "data": {
      "image/png": "[encoded data removed]",
      "text/plain": [
       "<Figure size 640x480 with 1 Axes>"
      ]
     },
     "metadata": {},
     "output_type": "display_data"
    }
   ],
   "source": [
    "import matplotlib as mpl   \n",
    "import matplotlib.pyplot as plt\n",
    "\n",
    "plt.figure()\n",
    "x = np.linspace(-4.8, 4.8, 1000)\n",
    "plt.plot(x, f(x))\n",
    "plt.show()"
   ]
  },
  {
   "cell_type": "markdown",
   "id": "afcb877b",
   "metadata": {},
   "source": [
    "## Lösung:"
   ]
  },
  {
   "cell_type": "code",
   "execution_count": 52,
   "id": "ac996078",
   "metadata": {},
   "outputs": [
    {
     "data": {
      "image/png": "[encoded data removed]",
      "text/latex": [
       "$\\displaystyle 4.69409113294691$"
      ],
      "text/plain": [
       "np.float64(4.6940911329469115)"
      ]
     },
     "execution_count": 52,
     "metadata": {},
     "output_type": "execute_result"
    }
   ],
   "source": [
    "x1 = regularfalsi(f, 5, 4, 10**-10)\n",
    "x1"
   ]
  },
  {
   "cell_type": "markdown",
   "id": "0576e770",
   "metadata": {},
   "source": [
    "# Übungsaufgabe 2"
   ]
  },
  {
   "cell_type": "code",
   "execution_count": null,
   "id": "73531cb0",
   "metadata": {},
   "outputs": [],
   "source": [
    "def f(x):\n",
    "    return -2*np.log(x)"
   ]
  },
  {
   "cell_type": "code",
   "execution_count": 69,
   "id": "d426c070",
   "metadata": {},
   "outputs": [
    {
     "name": "stdout",
     "output_type": "stream",
     "text": [
      "0.567143290409784\n"
     ]
    }
   ],
   "source": [
    "a = 0.6\n",
    "b = 0.8\n",
    "tol = 10**-10\n",
    "for _ in range(1000):\n",
    "    # c = b - f(b)*(b-a)/(f(b) - f(a))\n",
    "    m = (f(b) - f(a))/(b-a)\n",
    "    t = f(b) - m*b\n",
    "    c = t/(1-m)\n",
    "    if abs(c - b) <= tol:\n",
    "        print(c)\n",
    "        break\n",
    "    a = b\n",
    "    b = c\n",
    "else:\n",
    "    raise RuntimeError(\"Es konnte keine Nullstelle gefunden werden\")"
   ]
  },
  {
   "cell_type": "code",
   "execution_count": 64,
   "id": "306800c6",
   "metadata": {},
   "outputs": [
    {
     "name": "stderr",
     "output_type": "stream",
     "text": [
      "C:\\Users\\Lars\\AppData\\Local\\Temp\\ipykernel_15972\\4137097716.py:2: RuntimeWarning: divide by zero encountered in log\n",
      "  return -2*np.log(x) - x\n"
     ]
    },
    {
     "data": {
      "image/png": "[encoded data removed]",
      "text/plain": [
       "<Figure size 640x480 with 1 Axes>"
      ]
     },
     "metadata": {},
     "output_type": "display_data"
    }
   ],
   "source": [
    "plt.figure()\n",
    "x = np.linspace(0, 1, 1000)\n",
    "plt.plot(x, f(x))\n",
    "plt.plot(x , x  )\n",
    "plt.show()"
   ]
  },
  {
   "cell_type": "markdown",
   "id": "4ad02cf3",
   "metadata": {},
   "source": [
    "# Zweite Programmieraufgabe"
   ]
  },
  {
   "cell_type": "code",
   "execution_count": null,
   "id": "0a46845b",
   "metadata": {},
   "outputs": [],
   "source": [
    "class Spring:\n",
    "    def __init__(self, fixpunkt, laenge, steifigkeit):\n",
    "        self.a = fixpunkt\n",
    "        self.l = laenge\n",
    "        self.s = steifigkeit\n",
    "\n",
    "    def kraft_funktion(self, x,y):\n",
    "        # x,y = sp.symbols('x y')\n",
    "        norm2 = np.linalg.norm(np.array([x-self.a[0], y-self.a[1]]), 2)\n",
    "        factor  = self.s*(self.l/norm2 - 1)\n",
    "        f = np.array([\n",
    "            factor*(x-self.a[0]),\n",
    "            factor*(y-self.a[1])\n",
    "        ])\n",
    "        return f\n",
    "\n",
    "    def jacobi(self,x,y):\n",
    "        # x,y = sp.symbols('x y')\n",
    "        norm2 = np.linalg.norm(np.array([x-self.a[0], y-self.a[1]]), 2)\n",
    "        factor  = self.s*(self.l/norm2 - 1)\n",
    "        I = np.array([[1, 0], [0, 1]])\n",
    "        # transformed_x_a  = np.array([x-self.a[0]],[y-self.a[1]])*np.array([x-self.a[0] , y-self.a[1]])\n",
    "        x_minus_a = np.array([x - self.a[0], y - self.a[1]])\n",
    "        jac_f = factor*I - (self.s*self.l /norm2**3 )* (np.outer(x_minus_a, x_minus_a))\n",
    "        return jac_f\n",
    "    \n",
    "    "
   ]
  },
  {
   "cell_type": "code",
   "execution_count": 81,
   "id": "ce7a51d2",
   "metadata": {},
   "outputs": [],
   "source": [
    "class Weight:\n",
    "    def __init__(self, masse):\n",
    "        self.m = masse\n",
    "\n",
    "    def kraft_funktion(self, x, y):\n",
    "        g = -9.81 # m/s**2\n",
    "        f = np.array([\n",
    "            0,\n",
    "            g*self.m\n",
    "        ])\n",
    "        return f\n",
    "\n",
    "    def jacobi(self,x,y):\n",
    "        jac_f = np.zeros((2,2))\n",
    "        return jac_f"
   ]
  },
  {
   "cell_type": "code",
   "execution_count": 95,
   "id": "002362b9",
   "metadata": {},
   "outputs": [
    {
     "data": {
      "text/plain": [
       "array([-0.03564338, -6.11198496])"
      ]
     },
     "execution_count": 95,
     "metadata": {},
     "output_type": "execute_result"
    }
   ],
   "source": [
    "s1 = Spring( (0,0), 2, 10)\n",
    "s2 = Spring( (1,1), 2, 10)\n",
    "m = Weight(1)\n",
    "# sum_f = s1.kraft_funktion(0, -4) + s2.kraft_funktion(0, -4) + m.kraft_funktion(0, -4)\n",
    "sum_jac = s1.jacobi(0, -4) + s2.jacobi(0, -4) + m.jacobi(0, -4)\n",
    "\n",
    "def sum_f(x,y):\n",
    "    return s1.kraft_funktion(x, y) + s2.kraft_funktion(x, y) + m.kraft_funktion(x, y)\n",
    "\n",
    "def sum_jac(x,y):\n",
    "    return  s1.jacobi(x, y) + s2.jacobi(x, y) + m.jacobi(x, y)\n",
    "\n",
    "x_vec = np.array([0, -4]) - np.linalg.inv(sum_jac(0,4)) @ sum_f(0,4)\n",
    "x_vec"
   ]
  },
  {
   "cell_type": "code",
   "execution_count": 99,
   "id": "12f6449c",
   "metadata": {},
   "outputs": [],
   "source": [
    "def newton(x_vec):\n",
    "    for _ in range(100):\n",
    "        x_new = x_vec - np.linalg.inv(sum_jac(x_vec[0], x_vec[1])) @ sum_f(x_vec[0], x_vec[1])\n",
    "        if np.linalg.norm(x_vec - x_new) <= 10**-5:\n",
    "            return x_vec\n",
    "        x_vec = x_new\n",
    "    else:\n",
    "        print(\"Nicht Stabil\")\n"
   ]
  },
  {
   "cell_type": "code",
   "execution_count": 100,
   "id": "6f419535",
   "metadata": {},
   "outputs": [
    {
     "data": {
      "text/plain": [
       "array([ 0.87769918, -1.89719208])"
      ]
     },
     "execution_count": 100,
     "metadata": {},
     "output_type": "execute_result"
    }
   ],
   "source": [
    "x_vec = np.array([0, -4])\n",
    "x_sol = newton(x_vec)\n",
    "x_sol"
   ]
  },
  {
   "cell_type": "code",
   "execution_count": 103,
   "id": "c02c291e",
   "metadata": {},
   "outputs": [
    {
     "data": {
      "text/plain": [
       "array([1.06051569, 1.87787206])"
      ]
     },
     "execution_count": 103,
     "metadata": {},
     "output_type": "execute_result"
    }
   ],
   "source": [
    "x_vec = np.array([0, 4])\n",
    "x_sol = newton(x_vec)\n",
    "x_sol"
   ]
  },
  {
   "cell_type": "markdown",
   "id": "24d86043",
   "metadata": {},
   "source": [
    "Es gibt ein Stabilitätskriterium von oben, wenn die Federn komprimiert werden, und ein weiteres, wenn die Federn auf Zug belasstet werden. "
   ]
  }
 ],
 "metadata": {
  "kernelspec": {
   "display_name": ".venv",
   "language": "python",
   "name": "python3"
  },
  "language_info": {
   "codemirror_mode": {
    "name": "ipython",
    "version": 3
   },
   "file_extension": ".py",
   "mimetype": "text/x-python",
   "name": "python",
   "nbconvert_exporter": "python",
   "pygments_lexer": "ipython3",
   "version": "3.13.3"
  }
 },
 "nbformat": 4,
 "nbformat_minor": 5
}
