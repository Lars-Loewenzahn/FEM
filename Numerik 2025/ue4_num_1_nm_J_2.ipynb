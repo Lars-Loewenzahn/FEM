{
 "cells": [
  {
   "cell_type": "code",
   "execution_count": 10,
   "id": "8c0799bf",
   "metadata": {},
   "outputs": [],
   "source": [
    "import random \n",
    "import numpy as np"
   ]
  },
  {
   "cell_type": "code",
   "execution_count": null,
   "id": "785c20c7",
   "metadata": {},
   "outputs": [],
   "source": [
    "def substep1(a, x_k, z_known):\n",
    "    dp = np.polyval(np.polyder(a), x_k)\n",
    "    p = np.polyval(a, x_k)\n",
    "    s = dp / p\n",
    "    for z_i in z_known:\n",
    "        s -= 1 / (x_k - z_i)\n",
    "    return x_k - 1 / s\n",
    "\n",
    "def substep2(a, x0, z_known, tol=1e-8, max_iter=100):\n",
    "    x_k = x0\n",
    "    for _ in range(max_iter):\n",
    "        x_kp1 = substep1(a, x_k, z_known)\n",
    "        if abs(np.polyval(a, x_kp1)) < tol:\n",
    "            break\n",
    "        x_k = x_kp1\n",
    "    return x_k\n",
    "\n",
    "def polyzeros(a):\n",
    "    n = len(a) - 1\n",
    "    roots = []\n",
    "    for _ in range(n):\n",
    "        x0 = np.random.rand() + 1j * np.random.rand()\n",
    "        z = substep2(a, x0, roots)\n",
    "        roots.append(z)\n",
    "    return np.array(roots)\n"
   ]
  },
  {
   "cell_type": "code",
   "execution_count": 15,
   "id": "9da39887",
   "metadata": {},
   "outputs": [
    {
     "data": {
      "text/plain": [
       "array([-0.21749792+0.47463041j,  0.89076525-0.74195715j])"
      ]
     },
     "execution_count": 15,
     "metadata": {},
     "output_type": "execute_result"
    }
   ],
   "source": [
    "a = []\n",
    "for i in range(random.randint(1, 5)):\n",
    "    z = complex(random.randint(-10, 10), random.randint(-10, 10))\n",
    "    a.append(z)\n",
    "x = polyzeros(a)\n",
    "x"
   ]
  },
  {
   "cell_type": "code",
   "execution_count": 16,
   "id": "94fba003",
   "metadata": {},
   "outputs": [
    {
     "name": "stdout",
     "output_type": "stream",
     "text": [
      "[ 2.42987558e-06+9.99975778e-01j  1.00001557e+00-2.28373011e-05j\n",
      "  1.00887199e-05-9.99995632e-01j -1.00051084e+00-6.49158951e-04j]\n",
      "[-1.00000000e+00+0.j  8.32667268e-17+1.j  8.32667268e-17-1.j\n",
      "  1.00000000e+00+0.j]\n"
     ]
    }
   ],
   "source": [
    "a = [1, 0, 0, 0, -1]  # p(x) = x^4 - 1\n",
    "z = polyzeros(a)\n",
    "print(z)\n",
    "\n",
    "# Vergleich:\n",
    "print(np.roots(a))"
   ]
  }
 ],
 "metadata": {
  "kernelspec": {
   "display_name": ".venv",
   "language": "python",
   "name": "python3"
  },
  "language_info": {
   "codemirror_mode": {
    "name": "ipython",
    "version": 3
   },
   "file_extension": ".py",
   "mimetype": "text/x-python",
   "name": "python",
   "nbconvert_exporter": "python",
   "pygments_lexer": "ipython3",
   "version": "3.13.3"
  }
 },
 "nbformat": 4,
 "nbformat_minor": 5
}
