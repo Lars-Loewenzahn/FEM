{
 "cells": [
  {
   "cell_type": "code",
   "execution_count": 2,
   "id": "ab3aa15c",
   "metadata": {},
   "outputs": [],
   "source": [
    "import numpy as np"
   ]
  },
  {
   "cell_type": "code",
   "execution_count": 3,
   "id": "2c5b267a",
   "metadata": {},
   "outputs": [],
   "source": [
    "def hilbert(n):\n",
    "    return 1.0 /(np.add.outer(np.arange(n), np.arange(n)) + 1)"
   ]
  },
  {
   "cell_type": "code",
   "execution_count": 4,
   "id": "a27da1a0",
   "metadata": {},
   "outputs": [],
   "source": [
    "n = 3\n",
    "H = hilbert(n)"
   ]
  },
  {
   "cell_type": "code",
   "execution_count": 5,
   "id": "1a338564",
   "metadata": {},
   "outputs": [
    {
     "data": {
      "text/plain": [
       "array([1.33333333, 0.75      , 0.53333333])"
      ]
     },
     "execution_count": 5,
     "metadata": {},
     "output_type": "execute_result"
    }
   ],
   "source": [
    "H[:,0] + H[:, n-1]"
   ]
  },
  {
   "cell_type": "code",
   "execution_count": 6,
   "id": "3d2985b3",
   "metadata": {},
   "outputs": [],
   "source": [
    "def x_vector(n):\n",
    "    x = np.zeros(n, dtype=int)\n",
    "    x[0] = x[-1] = 1   \n",
    "    x = x.reshape(n,1)\n",
    "    return x"
   ]
  },
  {
   "cell_type": "code",
   "execution_count": 7,
   "id": "f0e3daa4",
   "metadata": {},
   "outputs": [
    {
     "data": {
      "text/plain": [
       "[[2, 3, 4, 5, 6, 7, 8, 9, 10, 11, 12, 13]]"
      ]
     },
     "execution_count": 7,
     "metadata": {},
     "output_type": "execute_result"
    }
   ],
   "source": [
    "col = list(range(2,14))\n",
    "cols = [col]\n",
    "cols"
   ]
  },
  {
   "cell_type": "code",
   "execution_count": 8,
   "id": "8bf67ddc",
   "metadata": {},
   "outputs": [],
   "source": [
    "def cond_inf(A):\n",
    "    col_sums= []\n",
    "    for col in A.T:\n",
    "        col_sums.append(sum(col))\n",
    "    return max(col_sums)"
   ]
  },
  {
   "cell_type": "code",
   "execution_count": null,
   "id": "5b1870dd",
   "metadata": {},
   "outputs": [],
   "source": [
    "def lu(matrix: np.ndarray) -> tuple[np.ndarray, np.ndarray]:\n",
    "    A = matrix.astype(float).copy()\n",
    "    n = A.shape[0]\n",
    "    L = np.eye(n, dtype=float)\n",
    "\n",
    "    for i in range(n-1):\n",
    "        for j in range(i+1, n):\n",
    "            div = A[j, i] / A[i, i]\n",
    "            A[j, :] -= div * A[i, :]   # ersetzt vector_add + vector_multiply\n",
    "            L[j, i] = div\n",
    "\n",
    "    return L, A\n",
    "\n",
    "def solve_with_lower(b: np.ndarray, L: np.ndarray) -> np.ndarray:\n",
    "\n",
    "    n = L.shape[0]\n",
    "    y = np.zeros_like(b, dtype=float)\n",
    "\n",
    "    for i in range(n):\n",
    "        # y[i] = (b[i] - sum(L[i,j]*y[j] für j<i)) / L[i,i]\n",
    "        y[i] = (b[i] - L[i, :i] @ y[:i]) / L[i, i]\n",
    "\n",
    "    return y\n",
    "\n",
    "def solve_with_upper(y: np.ndarray, U: np.ndarray) -> np.ndarray:\n",
    "    n = U.shape[0]\n",
    "    x = np.zeros_like(y, dtype=float)\n",
    "\n",
    "    for i in range(n-1, -1, -1):\n",
    "        # x[i] = (y[i] - sum(U[i,j]*x[j] für j>i)) / U[i,i]\n",
    "        x[i] = (y[i] - U[i, i+1:] @ x[i+1:]) / U[i, i]\n",
    "\n",
    "    return x\n",
    "\n",
    "def lu_solve(A: np.ndarray, b: np.ndarray) -> np.ndarray:\n",
    "    L, U = lu(A)\n",
    "    y = solve_with_lower(b, L)\n",
    "    x = solve_with_upper(y, U)\n",
    "    return x"
   ]
  },
  {
   "cell_type": "markdown",
   "id": "f564470c",
   "metadata": {},
   "source": [
    "#### a)"
   ]
  },
  {
   "cell_type": "code",
   "execution_count": 10,
   "id": "72eb8e5b",
   "metadata": {},
   "outputs": [],
   "source": [
    "from sympy.simplify.simplify import collect_abs\n",
    "\n",
    "\n",
    "def create_table(n_i):\n",
    "    cols = []\n",
    "    for i in range(6):\n",
    "        col = []\n",
    "        cols.append(col)\n",
    "\n",
    "    for n in range(2,n_i+1):\n",
    "        # Spalte 1\n",
    "        cols[0].append(n)\n",
    "\n",
    "        # Spalte 2\n",
    "        A = hilbert(n)\n",
    "        cols[1].append(float(cond_inf(A)))\n",
    "\n",
    "\n",
    "        # Spalte 3\n",
    "        x = x_vector(n)\n",
    "        x_bs = np.linalg.solve(A, x)\n",
    "        rel_mistake = cond_inf(x-x_bs) / cond_inf(x)\n",
    "        cols[2].append(float(rel_mistake))\n",
    "\n",
    "        # Spalte 4\n",
    "        x_lr = lu_solve(A, x)\n",
    "        rel_mistake = cond_inf(x-x_lr) / cond_inf(x)\n",
    "        cols[3].append(float(rel_mistake))\n",
    "\n",
    "        # Spalte 5\n",
    "        R = np.linalg.cholesky(A).T\n",
    "        V = R.T\n",
    "        y = solve_with_lower(x, V)\n",
    "        x_chol = solve_with_upper(y, R)\n",
    "        rel_mistake = cond_inf(x-x_chol) / cond_inf(x)\n",
    "        cols[4].append(float(rel_mistake))\n",
    "\n",
    "        # Spalte 6\n",
    "        diff = A*x_chol - A*x\n",
    "        rel_mistake = cond_inf(diff)\n",
    "        cols[5].append(float(rel_mistake))\n",
    "    return cols"
   ]
  },
  {
   "cell_type": "code",
   "execution_count": 11,
   "id": "716e25b2",
   "metadata": {},
   "outputs": [],
   "source": [
    "def display_table(cols):\n",
    "    index = \"Index\"\n",
    "    c1 = \"Kondi.Z. inf-Norm A\"\n",
    "    c2 = \"Kondi.Z. inf-Norm bs\"\n",
    "    c3 = \"Kondi.Z. inf-Norm lr\"\n",
    "    c4 = \"Kondi.Z. inf-Norm ch\"\n",
    "    c5 = \"Kondi.Z. inf-Norm rev\"\n",
    "    print(f\"{index:<6}|{c1:<23}|{c2:<23}|{c3:<23}|{c4:<23}|{c5:<23}|\")\n",
    "    for i in range(len(cols[0])):\n",
    "        print(f\"{cols[0][i]:6.0f}\", end=\"|\")\n",
    "        for j in range(1, len(cols)):\n",
    "            print(f\"{cols[j][i]:23.4f}\", end=\"|\")\n",
    "        print(\" \")\n"
   ]
  },
  {
   "cell_type": "code",
   "execution_count": 12,
   "id": "4fe4ef0a",
   "metadata": {},
   "outputs": [
    {
     "name": "stdout",
     "output_type": "stream",
     "text": [
      "Index |Kondi.Z. inf-Norm A    |Kondi.Z. inf-Norm bs   |Kondi.Z. inf-Norm lr   |Kondi.Z. inf-Norm ch   |Kondi.Z. inf-Norm rev  |\n",
      "     2|                 1.5000|                -1.0000|                -1.0000|                -1.0000|                 0.1667| \n",
      "     3|                 1.8333|               -15.5000|               -15.5000|               -15.5000|                 0.4667| \n",
      "     4|                 2.0833|               -67.0000|               -67.0000|               -67.0000|                 0.6071| \n",
      "     5|                 2.2833|              -316.5000|              -316.5000|              -316.5000|                 0.6889| \n",
      "     6|                 2.4500|             -1382.0000|             -1382.0000|             -1382.0000|                 0.7424| \n",
      "     7|                 2.5929|             -6008.5000|             -6008.5000|             -6008.5000|                 0.7802| \n",
      "     8|                 2.7179|            -25735.0005|            -25734.9999|            -25735.0002|                 0.8083| \n",
      "     9|                 2.8290|           -109398.2768|           -109398.1363|           -109398.3103|                 0.8301| \n",
      "    10|                 2.9290|           -461877.7845|           -461830.7335|           -461800.4055|                 0.8474| \n",
      "    11|                 3.0199|          -1940917.7835|          -1934808.0276|          -1937337.7120|                 0.8615| \n",
      "    12|                 3.1032|          -8337132.1416|          -7649863.3438|          -8033957.1230|                 0.8720| \n",
      "    13|                 3.1801|         -22864386.3750|         -18772065.6172|         -29387780.6250|                 0.9082| \n",
      "\n",
      " \n",
      " \n",
      "\n"
     ]
    },
    {
     "ename": "LinAlgError",
     "evalue": "Matrix is not positive definite",
     "output_type": "error",
     "traceback": [
      "\u001b[31m---------------------------------------------------------------------------\u001b[39m",
      "\u001b[31mLinAlgError\u001b[39m                               Traceback (most recent call last)",
      "\u001b[36mCell\u001b[39m\u001b[36m \u001b[39m\u001b[32mIn[12]\u001b[39m\u001b[32m, line 3\u001b[39m\n\u001b[32m      1\u001b[39m display_table(create_table(\u001b[32m13\u001b[39m))\n\u001b[32m      2\u001b[39m \u001b[38;5;28mprint\u001b[39m(\u001b[33m\"\u001b[39m\u001b[38;5;130;01m\\n\u001b[39;00m\u001b[33m \u001b[39m\u001b[38;5;130;01m\\n\u001b[39;00m\u001b[33m \u001b[39m\u001b[38;5;130;01m\\n\u001b[39;00m\u001b[33m\"\u001b[39m)\n\u001b[32m----> \u001b[39m\u001b[32m3\u001b[39m display_table(\u001b[43mcreate_table\u001b[49m\u001b[43m(\u001b[49m\u001b[32;43m14\u001b[39;49m\u001b[43m)\u001b[49m)\n\u001b[32m      4\u001b[39m \u001b[38;5;28mprint\u001b[39m(\u001b[33m\"\u001b[39m\u001b[38;5;130;01m\\n\u001b[39;00m\u001b[33m \u001b[39m\u001b[38;5;130;01m\\n\u001b[39;00m\u001b[33m \u001b[39m\u001b[38;5;130;01m\\n\u001b[39;00m\u001b[33m\"\u001b[39m)\n\u001b[32m      5\u001b[39m display_table(create_table(\u001b[32m15\u001b[39m))\n",
      "\u001b[36mCell\u001b[39m\u001b[36m \u001b[39m\u001b[32mIn[10]\u001b[39m\u001b[32m, line 31\u001b[39m, in \u001b[36mcreate_table\u001b[39m\u001b[34m(n_i)\u001b[39m\n\u001b[32m     28\u001b[39m cols[\u001b[32m3\u001b[39m].append(\u001b[38;5;28mfloat\u001b[39m(rel_mistake))\n\u001b[32m     30\u001b[39m \u001b[38;5;66;03m# Spalte 5\u001b[39;00m\n\u001b[32m---> \u001b[39m\u001b[32m31\u001b[39m R = \u001b[43mnp\u001b[49m\u001b[43m.\u001b[49m\u001b[43mlinalg\u001b[49m\u001b[43m.\u001b[49m\u001b[43mcholesky\u001b[49m\u001b[43m(\u001b[49m\u001b[43mA\u001b[49m\u001b[43m)\u001b[49m.T\n\u001b[32m     32\u001b[39m V = R.T\n\u001b[32m     33\u001b[39m y = solve_with_lower(x, V)\n",
      "\u001b[36mFile \u001b[39m\u001b[32mc:\\Users\\Lars\\Documents\\GitHub\\FEM\\.venv\\Lib\\site-packages\\numpy\\linalg\\_linalg.py:839\u001b[39m, in \u001b[36mcholesky\u001b[39m\u001b[34m(a, upper)\u001b[39m\n\u001b[32m    836\u001b[39m signature = \u001b[33m'\u001b[39m\u001b[33mD->D\u001b[39m\u001b[33m'\u001b[39m \u001b[38;5;28;01mif\u001b[39;00m isComplexType(t) \u001b[38;5;28;01melse\u001b[39;00m \u001b[33m'\u001b[39m\u001b[33md->d\u001b[39m\u001b[33m'\u001b[39m\n\u001b[32m    837\u001b[39m \u001b[38;5;28;01mwith\u001b[39;00m errstate(call=_raise_linalgerror_nonposdef, invalid=\u001b[33m'\u001b[39m\u001b[33mcall\u001b[39m\u001b[33m'\u001b[39m,\n\u001b[32m    838\u001b[39m               over=\u001b[33m'\u001b[39m\u001b[33mignore\u001b[39m\u001b[33m'\u001b[39m, divide=\u001b[33m'\u001b[39m\u001b[33mignore\u001b[39m\u001b[33m'\u001b[39m, under=\u001b[33m'\u001b[39m\u001b[33mignore\u001b[39m\u001b[33m'\u001b[39m):\n\u001b[32m--> \u001b[39m\u001b[32m839\u001b[39m     r = \u001b[43mgufunc\u001b[49m\u001b[43m(\u001b[49m\u001b[43ma\u001b[49m\u001b[43m,\u001b[49m\u001b[43m \u001b[49m\u001b[43msignature\u001b[49m\u001b[43m=\u001b[49m\u001b[43msignature\u001b[49m\u001b[43m)\u001b[49m\n\u001b[32m    840\u001b[39m \u001b[38;5;28;01mreturn\u001b[39;00m wrap(r.astype(result_t, copy=\u001b[38;5;28;01mFalse\u001b[39;00m))\n",
      "\u001b[36mFile \u001b[39m\u001b[32mc:\\Users\\Lars\\Documents\\GitHub\\FEM\\.venv\\Lib\\site-packages\\numpy\\linalg\\_linalg.py:107\u001b[39m, in \u001b[36m_raise_linalgerror_nonposdef\u001b[39m\u001b[34m(err, flag)\u001b[39m\n\u001b[32m    106\u001b[39m \u001b[38;5;28;01mdef\u001b[39;00m\u001b[38;5;250m \u001b[39m\u001b[34m_raise_linalgerror_nonposdef\u001b[39m(err, flag):\n\u001b[32m--> \u001b[39m\u001b[32m107\u001b[39m     \u001b[38;5;28;01mraise\u001b[39;00m LinAlgError(\u001b[33m\"\u001b[39m\u001b[33mMatrix is not positive definite\u001b[39m\u001b[33m\"\u001b[39m)\n",
      "\u001b[31mLinAlgError\u001b[39m: Matrix is not positive definite"
     ]
    }
   ],
   "source": [
    "display_table(create_table(13))\n",
    "print(\"\\n \\n \\n\")\n",
    "display_table(create_table(14))\n",
    "print(\"\\n \\n \\n\")\n",
    "display_table(create_table(15))"
   ]
  },
  {
   "cell_type": "code",
   "execution_count": null,
   "id": "36f149a3",
   "metadata": {},
   "outputs": [],
   "source": [
    "# Bis n = 8 lässt sich kein Unterschied im Fehler zwischen den Lösungmethoden sehen. \n",
    "# Ab 8 kann man sehen, dass die LR Methode einen kleineren Fehler liefert. \n",
    "# Ab n = 14 ist die Hilbert Matrix nicht mehr positiv definit und ich erhalte einen Error. "
   ]
  }
 ],
 "metadata": {
  "kernelspec": {
   "display_name": ".venv",
   "language": "python",
   "name": "python3"
  },
  "language_info": {
   "codemirror_mode": {
    "name": "ipython",
    "version": 3
   },
   "file_extension": ".py",
   "mimetype": "text/x-python",
   "name": "python",
   "nbconvert_exporter": "python",
   "pygments_lexer": "ipython3",
   "version": "3.13.3"
  }
 },
 "nbformat": 4,
 "nbformat_minor": 5
}
