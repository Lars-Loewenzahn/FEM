{
 "cells": [
  {
   "cell_type": "code",
   "execution_count": 10,
   "id": "8c0799bf",
   "metadata": {},
   "outputs": [],
   "source": [
    "import random \n",
    "import numpy as np"
   ]
  },
  {
   "cell_type": "code",
   "execution_count": null,
   "id": "d221ac95",
   "metadata": {},
   "outputs": [],
   "source": [
    "def substep1(a, x_k, z):\n",
    "    dp = np.polyval(np.polyder(a), x)\n",
    "    p = np.polyval(a, x)\n",
    "    s = dp/p\n",
    "    for z_i in z:\n",
    "        s -= 1/(x_k - z_i)\n",
    "    return x_k - 1/s\n",
    "\n",
    "def substep2(a, x_k, z):\n",
    "    x_kp1 = substep1(a, x_k, z)\n",
    "    while abs(x_kp1 - x_k) > 1e-5:\n",
    "        x_k = x_kp1\n",
    "        x_kp1 = substep1(a, x_k, z)\n",
    "    return x_kp1\n",
    "    \n",
    "\n",
    "def polyzeros(a):\n",
    "    z = []\n",
    "    for i in range(len(a)-1):\n",
    "        z.append(substep2(a, i, z))\n",
    "    return z"
   ]
  },
  {
   "cell_type": "code",
   "execution_count": 9,
   "id": "9da39887",
   "metadata": {},
   "outputs": [
    {
     "data": {
      "text/plain": [
       "0"
      ]
     },
     "execution_count": 9,
     "metadata": {},
     "output_type": "execute_result"
    }
   ],
   "source": [
    "a = []\n",
    "for i in range(random.randint(1, 5)):\n",
    "    z = complex(random.randint(-10, 10), random.randint(-10, 10))\n",
    "    a.append(z)\n",
    "x = polyzeros(a)\n",
    "x"
   ]
  }
 ],
 "metadata": {
  "kernelspec": {
   "display_name": ".venv",
   "language": "python",
   "name": "python3"
  },
  "language_info": {
   "codemirror_mode": {
    "name": "ipython",
    "version": 3
   },
   "file_extension": ".py",
   "mimetype": "text/x-python",
   "name": "python",
   "nbconvert_exporter": "python",
   "pygments_lexer": "ipython3",
   "version": "3.13.3"
  }
 },
 "nbformat": 4,
 "nbformat_minor": 5
}
