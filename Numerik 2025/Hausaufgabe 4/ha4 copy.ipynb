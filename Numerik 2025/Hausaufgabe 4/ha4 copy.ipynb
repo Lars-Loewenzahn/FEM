{
 "cells": [
  {
   "cell_type": "markdown",
   "id": "d1336c0b",
   "metadata": {},
   "source": [
    "# Projekt Wärmeleitfähigkeit"
   ]
  },
  {
   "cell_type": "markdown",
   "id": "3c895949",
   "metadata": {},
   "source": [
    "## Problemstellung:"
   ]
  },
  {
   "cell_type": "markdown",
   "id": "857adc6e",
   "metadata": {},
   "source": [
    "<div style=\"display:flex; align-items:flex-start; gap:12px;\">\n",
    "  <img src=\"img/image.png\" style=\"width:400px;\">\n",
    "  <div style=\"text-align:justify;\">\n",
    "    In dieser Arbeit wird untersucht, inwieweit die im Stall gehaltenen Nutztiere, insbesondere Schweine, in Bauernhäusern des Mittelalters zur Erwärmung des Wohnraums beigetragen haben. Historische Berichte und archäologische Funde deuten darauf hin, dass Wohn- und Stallbereiche häufig in einem Gebäude untergebracht waren, wobei der Stall entweder im Erdgeschoss oder im Keller lag. Die Körperwärme der Tiere könnte dabei als passive Wärmequelle gewirkt haben, wodurch der Heizbedarf des Wohnbereichs verringert wurde.\n",
    "    <br><br>\n",
    "    Das Ziel der Untersuchung ist es, diesen Effekt unter idealisierten Bedingungen physikalisch zu modellieren und zu quantifizieren. Hierzu wird ein vereinfachtes 2D-Modell eines kleinen Gebäudes betrachtet, in dem die Temperaturentwicklung über einen bestimmten Zeitraum simuliert wird. Das Modell berücksichtigt unterschiedliche Materialien der Gebäudehülle sowie die Wärmeleitfähigkeit, Wärmespeicherung und Wärmeübergänge zwischen Stall, Wohnraum und Außenluft.\n",
    "  </div>\n",
    "</div>\n"
   ]
  },
  {
   "cell_type": "markdown",
   "id": "e61476b0",
   "metadata": {},
   "source": [
    "## Annahmen:"
   ]
  },
  {
   "cell_type": "markdown",
   "id": "a5320a9c",
   "metadata": {},
   "source": [
    "Die erste Annahme dient der Begrenzung des Modells, da die verfügbare Rechenleistung begrenzt ist. Das kleinste betrachtete Gebäude soll daher in einen Raum von 3 m × 3 m passen. Aufgrund der quadratischen Grundfläche lassen sich viele Berechnungsschritte aus den vorangegangenen Hausaufgaben ohne großen Anpassungsaufwand übernehmen. Das Rechengebiet wird in ein 60 × 60 Punkte umfassendes Gitter unterteilt, um den Rechenaufwand in einem vertretbaren Rahmen zu halten. Jede Zelle besitzt somit eine Kantenlänge von 5 cm."
   ]
  },
  {
   "cell_type": "code",
   "execution_count": 193,
   "id": "abf26467",
   "metadata": {},
   "outputs": [],
   "source": [
    "n = 60\n",
    "delta_x = 3/n # m  3m breiter Abschnitt wird geteilt.\n",
    "delta_y = 3/n # m  3m hoher Abschnitt wird geteilt."
   ]
  },
  {
   "cell_type": "markdown",
   "id": "bcd12064",
   "metadata": {},
   "source": [
    "Die nächste Annahme betrifft die Beobachtungsdauer. Da von einem kalten Gebäude ausgegangen wird, muss der betrachtete Zeitraum mindestens 24 Stunden umfassen. Um die Rechenzeit überschaubar zu halten, wird ein Zeitschritt von 60 Sekunden gewählt. Die Animation der Simulation soll einen Zeitraum von 3 Minuten darstellen, was bei 10 FPS zu insgesamt 1 800 Einzelbildern führt."
   ]
  },
  {
   "cell_type": "code",
   "execution_count": 343,
   "id": "6d30c5aa",
   "metadata": {},
   "outputs": [],
   "source": [
    "delta_t = 60 # s Zeitschritt\n",
    "t = 86400 # s Beobachtungszeit 24 Stunden\n",
    "frames = 1800 # Anzahl des Frames um ein 3 min Video zu erzeugen"
   ]
  },
  {
   "cell_type": "markdown",
   "id": "fd590d2e",
   "metadata": {},
   "source": [
    "Die nächste Annahme betrifft die Temperaturen zu Beginn der Simulation. Es wird angenommen, dass das Gebäude an einem milden Wintertag vollständig ausgekühlt ist. Das bedeutet, dass sowohl die Außentemperatur als auch die Temperaturen aller Baumaterialien und der Innenluft zu Beginn bei 0 °C liegen."
   ]
  },
  {
   "cell_type": "code",
   "execution_count": 195,
   "id": "8ed68121",
   "metadata": {},
   "outputs": [],
   "source": [
    "T_u = 273.15 # K, Aussentemperatur und Starttemperatur des Gebäudes"
   ]
  },
  {
   "cell_type": "markdown",
   "id": "6e57222a",
   "metadata": {},
   "source": [
    "Die Temperatur der Tiere wird mit 25 °C angenommen, was der Oberflächentemperatur ihrer Haut entspricht. Eine isolierende Fellschicht wird nicht berücksichtigt, was bei Schweinen eine realistische Vereinfachung darstellt."
   ]
  },
  {
   "cell_type": "code",
   "execution_count": 196,
   "id": "aee82f06",
   "metadata": {},
   "outputs": [],
   "source": [
    "T_h = 298.15 # Temperatur der Schweine"
   ]
  },
  {
   "cell_type": "markdown",
   "id": "21f40a1c",
   "metadata": {},
   "source": [
    "Der Parameter $\\gamma$ steuert im verwendeten $\\theta$-Verfahren das Verhältnis zwischen expliziter und impliziter Zeitdiskretisierung:\n",
    "- $\\gamma=0 \\rightarrow$ explizites Eulerverfahren (vollständig vorwärtsgerichtet, bedingt stabil)\n",
    "- $\\gamma=1 \\rightarrow$ implizites Eulerverfahren (vollständig rückwärtsgerichtet, unbedingte Stabilität, aber numerische Dämpfung)\n",
    "- $0<\\gamma<1 \\rightarrow$ Crank-Nicolson- bzw. allgemeine Mischform\n",
    "\n",
    "Für die vorliegende Simulation wird $\\gamma=0.5$ gewählt, was dem Crank-Nicolson-Verfahren entspricht. Dieses Verfahren kombiniert die Vorteile beider Ansätze:\n",
    "- Numerisch stabil für alle Zeitschritte\n",
    "- Zweiter Ordnung genau in der Zeit\n",
    "- Geringe numerische Dämpfung, wodurch zeitliche Temperaturverläufe realistischer abgebildet werden\n",
    "\n",
    "Damit eignet sich $\\gamma=0.5$ besonders gut, um sowohl Genauigkeit als auch Stabilität bei vertretbarem Rechenaufwand zu gewährleisten."
   ]
  },
  {
   "cell_type": "code",
   "execution_count": 197,
   "id": "9494056b",
   "metadata": {},
   "outputs": [],
   "source": [
    "gamma = 0.5 #  0 < gamma < 1"
   ]
  },
  {
   "cell_type": "markdown",
   "id": "7e50ef37",
   "metadata": {},
   "source": [
    "Einige der Annahmen, die Einfluss auf jede Zelle nehmen, werden nun in einer Klasse Settings zusammengefasst."
   ]
  },
  {
   "cell_type": "code",
   "execution_count": 198,
   "id": "ed5adba9",
   "metadata": {},
   "outputs": [],
   "source": [
    "class Settings:\n",
    "    def __init__(self, n, delta_t, gamma, delta_x, delta_y):\n",
    "        self.n = n\n",
    "        self.delta_t = delta_t\n",
    "        self.gamma = gamma\n",
    "        self.delta_x = delta_x\n",
    "        self.delta_y = delta_y\n",
    "\n",
    "set = Settings(n, delta_t, gamma, delta_x, delta_y)"
   ]
  },
  {
   "cell_type": "markdown",
   "id": "69fabfac",
   "metadata": {},
   "source": [
    "Nun zu den Annahmen der Materialien:"
   ]
  },
  {
   "cell_type": "markdown",
   "id": "5dea225d",
   "metadata": {},
   "source": [
    "Da die Schweine aus Fleisch bestehen, wird von nun an Fleisch referenziert.\n",
    "\n",
    "Fleisch wird mit einer Wärmeleitfähigkeit von $\\lambda=0,50 \\mathrm{~W/ (m \\cdot K)}$, einer Dichte von $\\rho=1050 \\mathrm{~kg} / \\mathrm{m}^3$ und einer spezifischen Wärmekapazität von $c_p=$ $3500 \\mathrm{~J} /(\\mathrm{kg}\\mathrm{K})$ modelliert."
   ]
  },
  {
   "cell_type": "code",
   "execution_count": 199,
   "id": "ff2bdefb",
   "metadata": {},
   "outputs": [],
   "source": [
    "lambda_fleisch = 0.5\n",
    "rho_fleisch = 1050\n",
    "c_fleisch = 3500"
   ]
  },
  {
   "cell_type": "markdown",
   "id": "8469f95d",
   "metadata": {},
   "source": [
    "Holz erhält eine Wärmeleitfähigkeit von $\\lambda=0,15 \\mathrm{~W/ (m \\cdot K)}$\n",
    "K), eine Dichte von $\\rho=600 \\mathrm{~kg} / \\mathrm{m}^3$ und eine Wärmekapazität von\n",
    "$c_p=1700 \\mathrm{~J} /(\\mathrm{kg \\cdot K})$."
   ]
  },
  {
   "cell_type": "code",
   "execution_count": 200,
   "id": "4f4bb544",
   "metadata": {},
   "outputs": [],
   "source": [
    "lambda_holz = 0.15\n",
    "rho_holz = 600\n",
    "c_holz = 1700"
   ]
  },
  {
   "cell_type": "markdown",
   "id": "681f5b13",
   "metadata": {},
   "source": [
    "Luft erhält eine Wärmeleitfähigkeit von $\\lambda=0,025 \\mathrm{~W/ (m \\cdot K)}$\n",
    "K), eine Dichte von $\\rho=1.2 \\mathrm{~kg} / \\mathrm{m}^3$ und eine Wärmekapazität von\n",
    "$c_p=1005 \\mathrm{~J} /(\\mathrm{kg \\cdot K})$.\n",
    "\n",
    "Eine Betrachtung der Konvektion findet später nur vereinfacht statt."
   ]
  },
  {
   "cell_type": "code",
   "execution_count": 201,
   "id": "a82d0e46",
   "metadata": {},
   "outputs": [],
   "source": [
    "lambda_luft = 0.025\n",
    "rho_luft = 1.2\n",
    "c_luft = 1005"
   ]
  },
  {
   "cell_type": "markdown",
   "id": "22ae8fc9",
   "metadata": {},
   "source": [
    "Stroh erhält eine Wärmeleitfähigkeit von $\\lambda=0,05 \\mathrm{~W/ (m \\cdot K)}$\n",
    "K), eine Dichte von $\\rho=90 \\mathrm{~kg} / \\mathrm{m}^3$ und eine Wärmekapazität von\n",
    "$c_p=1400 \\mathrm{~J} /(\\mathrm{kg \\cdot K})$."
   ]
  },
  {
   "cell_type": "code",
   "execution_count": 202,
   "id": "96d440c2",
   "metadata": {},
   "outputs": [],
   "source": [
    "lambda_stroh = 0.05\n",
    "rho_stroh = 90\n",
    "c_stroh = 1400"
   ]
  },
  {
   "cell_type": "markdown",
   "id": "686b99ea",
   "metadata": {},
   "source": [
    "Um die Weiterverarbeitung der Materialdaten zu vereinfachen, wird nun eine Materialklasse definiert und initialisiert."
   ]
  },
  {
   "cell_type": "code",
   "execution_count": 203,
   "id": "6b8a5824",
   "metadata": {},
   "outputs": [],
   "source": [
    "class Material:\n",
    "    def __init__(self, rho, lambd, c):\n",
    "        self.rho = rho\n",
    "        self.lambd = lambd\n",
    "        self.c = c\n",
    "\n",
    "Fleisch = Material(rho_fleisch, lambda_fleisch, c_fleisch)\n",
    "Holz = Material(rho_holz, lambda_holz, c_holz)\n",
    "Luft = Material(rho_luft, lambda_luft, c_luft)\n",
    "Aussenluft = Material(rho_luft, lambda_luft, c_luft)\n",
    "Stroh = Material(rho_stroh, lambda_stroh, c_stroh)"
   ]
  },
  {
   "cell_type": "markdown",
   "id": "723de38d",
   "metadata": {},
   "source": [
    "## Umsetzung"
   ]
  },
  {
   "cell_type": "markdown",
   "id": "59158b11",
   "metadata": {},
   "source": [
    "Jede Zelle hat Eigenschaften, die sie definieren (Position, Temperatur, Material).\n",
    "\n",
    "Die Parameter seien\n",
    "$$\n",
    "f=\\frac{\\Delta t\\,\\gamma}{\\rho_P c_P\\,\\Delta x\\,\\Delta y},\n",
    "\\qquad\n",
    "g=\\frac{\\Delta t\\,(1-\\gamma)}{\\rho_P c_P\\,\\Delta x\\,\\Delta y}.\n",
    "$$\n",
    "\n",
    "Diese Parameter werden benötigt um die Gleichung aus dem Skript:\n",
    "$$\n",
    "\\begin{aligned}\n",
    "T_P^1(\\gamma)=T_P^0 & +\\frac{\\Delta t \\cdot \\gamma}{\\rho_p c_P \\Delta x \\Delta y}\\left[-a_P T_P^1+a_W T_W^1+a_N T_N^1+a_E T_E^1+a_S T_S^1+\\tilde{S}_P\\right] \\\\\n",
    "& +\\frac{\\Delta t \\cdot(1-\\gamma)}{\\rho_p c_P \\Delta x \\Delta y}\\left[-a_P T_P^0+a_W T_W^0+a_N T_N^0+a_E T_E^0+a_S T_S^0+\\tilde{S}_P\\right]\n",
    "\\end{aligned}\n",
    "$$\n",
    "\n",
    "zu vereinfach zu: \n",
    "\n",
    "$$\n",
    "\\begin{aligned}\n",
    "T_P^1(\\gamma)=T_P^0 & +f \\cdot \\left[-a_P T_P^1+a_W T_W^1+a_N T_N^1+a_E T_E^1+a_S T_S^1+\\tilde{S}_P\\right] \\\\\n",
    "& +g \\cdot \\left[-a_P T_P^0+a_W T_W^0+a_N T_N^0+a_E T_E^0+a_S T_S^0+\\tilde{S}_P\\right]\n",
    "\\end{aligned}\n",
    "$$\n",
    "\n",
    "Da diese von Material und Größe abhängen, werden diese bei der Definition der Zelle bereits errechnet. \n",
    "\n",
    "Die Liste temps speichert alles Temperaturen, die nach den Zeitschritten in dieser Zelle erreicht worden sind. "
   ]
  },
  {
   "cell_type": "code",
   "execution_count": 204,
   "id": "f6ae702c",
   "metadata": {},
   "outputs": [],
   "source": [
    "class Tile:\n",
    "    def __init__(self, x, y, mat, set):\n",
    "        self.x = x\n",
    "        self.y = y\n",
    "        self.temps = []\n",
    "        self.mat = mat\n",
    "        self.f  = set.delta_t*set.gamma / (mat.rho*mat.c*set.delta_x*set.delta_y)\n",
    "        self.g = set.delta_t *( 1-set.gamma) / (mat.rho*mat.c*set.delta_x*set.delta_y)"
   ]
  },
  {
   "cell_type": "markdown",
   "id": "176aa130",
   "metadata": {},
   "source": [
    "Nun werden abgeleitete Klassen durch Vererbung erstellt. An dieser Stelle möchte ich mich für die wilde Mischung aus englischer und deutscher Sprach im Code entschuldigen. "
   ]
  },
  {
   "cell_type": "markdown",
   "id": "29ff3615",
   "metadata": {},
   "source": [
    "### Schwein oder Fleisch:"
   ]
  },
  {
   "cell_type": "code",
   "execution_count": 205,
   "id": "28fd9879",
   "metadata": {},
   "outputs": [],
   "source": [
    "class FleischTile(Tile):\n",
    "    def __init__(self, x, y):\n",
    "        super().__init__(x, y, Fleisch, set)\n",
    "        self.temps.append(T_h)"
   ]
  },
  {
   "cell_type": "markdown",
   "id": "5ae0ad64",
   "metadata": {},
   "source": [
    "### Aussenluft:"
   ]
  },
  {
   "cell_type": "code",
   "execution_count": 206,
   "id": "60778d23",
   "metadata": {},
   "outputs": [],
   "source": [
    "class AussenluftTile(Tile):\n",
    "    def __init__(self, x, y):\n",
    "        super().__init__(x, y, Aussenluft, set)\n",
    "        self.temps.append(273.15 + 0)"
   ]
  },
  {
   "cell_type": "markdown",
   "id": "0a8244f7",
   "metadata": {},
   "source": [
    "### Innenluft:"
   ]
  },
  {
   "cell_type": "code",
   "execution_count": 207,
   "id": "a6c7af98",
   "metadata": {},
   "outputs": [],
   "source": [
    "class LuftTile(Tile):\n",
    "    def __init__(self, x, y):\n",
    "        super().__init__(x, y, Luft, set)\n",
    "        self.temps.append(273.15 + 0)  "
   ]
  },
  {
   "cell_type": "markdown",
   "id": "ee0f7dbe",
   "metadata": {},
   "source": [
    "### Holz:"
   ]
  },
  {
   "cell_type": "code",
   "execution_count": 208,
   "id": "a070eb0b",
   "metadata": {},
   "outputs": [],
   "source": [
    "class HolzTile(Tile):\n",
    "    def __init__(self, x, y):\n",
    "        super().__init__(x, y, Holz, set)\n",
    "        self.temps.append(273.15 + 0) "
   ]
  },
  {
   "cell_type": "markdown",
   "id": "adfc68f0",
   "metadata": {},
   "source": [
    "### Stroh:"
   ]
  },
  {
   "cell_type": "code",
   "execution_count": 209,
   "id": "7146e841",
   "metadata": {},
   "outputs": [],
   "source": [
    "class StrohTile(Tile):\n",
    "    def __init__(self, x, y):\n",
    "        super().__init__(x, y, Stroh, set)\n",
    "        self.temps.append(273.15 + 0)  "
   ]
  },
  {
   "cell_type": "markdown",
   "id": "69de9412",
   "metadata": {},
   "source": [
    "## Diskreditierung:"
   ]
  },
  {
   "cell_type": "markdown",
   "id": "3b809a90",
   "metadata": {},
   "source": [
    "Um die Zellen in den Matrizen nutzen zu können, werden diese nun sowohl in einer flachen Liste als auch in einem 2 Dimensionalen Array gespeichert. Grade die 2 Dimensionale Liste wird als Hilfmittel genutzt um die Materialien an den passenden Stellen festlegen zu können."
   ]
  },
  {
   "cell_type": "code",
   "execution_count": 210,
   "id": "bbfaa79f",
   "metadata": {},
   "outputs": [],
   "source": [
    "tiles = []  # flache Liste\n",
    "tile_matrix = [[None for j in range(n)] for i in range(n)]  # 2D-Liste"
   ]
  },
  {
   "cell_type": "markdown",
   "id": "11bfc11a",
   "metadata": {},
   "source": [
    "Damit das Gebäude in den Bereich von 3 m x 3 m passt, um von einer Kachel Aussenluft von 5 cm umgeben werden kann, muss das Gebäude 2,95 m hoch, 2,9 m breit sein. Dabei wird zur Vereinfachung ein flaches Dach angenommen. Die äusserste Schicht des Gebäudes besteht aus 25 cm Stroh. Der Stallboden ist fast vollständig mit Schweinen bedeckt. Da diese eine Dirichlet-Randbedingung darstellen ist ,wie bei der Aussenluft, eine Tiefe ausdehnung nicht notwendig. Somit nehmen die Schweine eine Höhe von nur 5 cm ein. Bereits 15 cm über dne Tieren liegt ein 5 cm dicker Holz-Zwischenboden zum Wohnraum.\n",
    "Der Wohnraum kommt somit auf eine Höhe von 2,4 m."
   ]
  },
  {
   "cell_type": "code",
   "execution_count": 211,
   "id": "390f85b7",
   "metadata": {},
   "outputs": [],
   "source": [
    "for i in range(n):  # x-Richtung (horizontal)\n",
    "    pos_x = i * delta_x + delta_x / 2\n",
    "    for j in range(n):  # y-Richtung (vertikal)\n",
    "        pos_y = j * delta_y + delta_y / 2\n",
    "\n",
    "        # Standardmaterial: Luft im Kern\n",
    "        tile_class = LuftTile\n",
    "\n",
    "        # --- Randbedingungen ---\n",
    "        # Außenluft oben\n",
    "        if j == n - 1:\n",
    "            tile_class = AussenluftTile\n",
    "        # Stroh außen (oben)\n",
    "        elif n - 6 < j < n - 1:\n",
    "            tile_class = StrohTile\n",
    "        # Holzwand und Zwischendecke\n",
    "        elif (j == n - 6 and i <= n - 6) or (j == 4 and i <= n - 6) or (j <= n - 6 and i == n - 6) or (j <= n - 6 and i == 5):\n",
    "            tile_class = HolzTile\n",
    "        # unterste Schicht = Fleisch\n",
    "        elif j == 0 and  7 <= i <= n - 8:\n",
    "            tile_class = FleischTile\n",
    "\n",
    "        # Aussenluft\n",
    "        if i == 0 or i == n - 1:\n",
    "            tile_class = AussenluftTile\n",
    "        elif 1 <= i < 5 and  j < n - 1:\n",
    "            tile_class = StrohTile\n",
    "        # Stroh rechts\n",
    "        elif n > i > n - 6 and  j < n - 1:\n",
    "            tile_class = StrohTile\n",
    "\n",
    "        # Tile erzeugen\n",
    "        tile = tile_class(pos_x, pos_y)\n",
    "        tiles.append(tile)\n",
    "        tile_matrix[i][j] = tile"
   ]
  },
  {
   "cell_type": "markdown",
   "id": "3d2cc884",
   "metadata": {},
   "source": [
    "## Verfeinerte Diskreditierung:"
   ]
  },
  {
   "cell_type": "markdown",
   "id": "4785f768",
   "metadata": {},
   "source": [
    "Da die verfeinerten Diskretisierungen erst später verwendet werden, wird diese nun als Funktion gestalltet."
   ]
  },
  {
   "cell_type": "code",
   "execution_count": 212,
   "id": "fa59a841",
   "metadata": {},
   "outputs": [],
   "source": [
    "def refined_grid(n, delta_x, delta_y, refine_exponent):\n",
    "    rf = 2 ** refine_exponent          # Refinement-Faktor\n",
    "    fn = n * rf                        # verfeinertes n\n",
    "    dx = delta_x / rf                  # verfeinerte Schrittweiten\n",
    "    dy = delta_y / rf\n",
    "\n",
    "    tiles = []\n",
    "    tile_matrix = [[None for _ in range(fn)] for _ in range(fn)]\n",
    "\n",
    "    for i in range(fn):  # x-Richtung (horizontal)\n",
    "        pos_x = (i + 0.5) * dx\n",
    "        ci = i // rf     # coarse i\n",
    "        for j in range(fn):  # y-Richtung (vertikal)\n",
    "            pos_y = (j + 0.5) * dy\n",
    "            cj = j // rf   # coarse j\n",
    "\n",
    "            # Standardmaterial: Luft im Kern\n",
    "            tile_class = LuftTile\n",
    "\n",
    "            # --- Randbedingungen / Schichten (in COARSE-Indizes!) ---\n",
    "            # Außenluft oben\n",
    "            if cj == n - 1:\n",
    "                tile_class = AussenluftTile\n",
    "            # Stroh außen (oben): n-6 < j < n-1\n",
    "            elif n - 6 < cj < n - 1:\n",
    "                tile_class = StrohTile\n",
    "            # Holzwand und Zwischendecke\n",
    "            elif (cj == n - 6 and ci <= n - 6) or \\\n",
    "                 (cj == 4       and ci <= n - 6) or \\\n",
    "                 (cj <= n - 6   and ci == n - 6) or \\\n",
    "                 (cj <= n - 6   and ci == 5):\n",
    "                tile_class = HolzTile\n",
    "            # unterste Schicht = Fleisch: j == 0 und 7 <= i <= n-8\n",
    "            elif cj == 0 and 7 <= ci <= n - 8:\n",
    "                tile_class = FleischTile\n",
    "\n",
    "            # Außenluft links/rechts\n",
    "            if ci == 0 or ci == n - 1:\n",
    "                tile_class = AussenluftTile\n",
    "            # Stroh links (1 <= i < 5, j < n-1)\n",
    "            elif 1 <= ci < 5 and cj < n - 1:\n",
    "                tile_class = StrohTile\n",
    "            # Stroh rechts (n-6 < i < n, j < n-1)\n",
    "            elif n > ci > n - 6 and cj < n - 1:\n",
    "                tile_class = StrohTile\n",
    "\n",
    "            # Tile erzeugen\n",
    "            tile = tile_class(pos_x, pos_y)\n",
    "            tiles.append(tile)\n",
    "            tile_matrix[i][j] = tile\n",
    "\n",
    "    return tiles, tile_matrix\n"
   ]
  },
  {
   "cell_type": "markdown",
   "id": "e11e940f",
   "metadata": {},
   "source": [
    "Der folgende Codeabschnitt erfüllt nur die Funktion, den Aufbau in einer Grafik darzustellen und wird daher nicht weiter erleutert."
   ]
  },
  {
   "cell_type": "code",
   "execution_count": 213,
   "id": "177894e0",
   "metadata": {},
   "outputs": [
    {
     "data": {
      "image/png": "[encoded data removed]",
      "text/plain": [
       "<Figure size 600x600 with 1 Axes>"
      ]
     },
     "metadata": {},
     "output_type": "display_data"
    }
   ],
   "source": [
    "\n",
    "import numpy as np\n",
    "import matplotlib.pyplot as plt\n",
    "from matplotlib.colors import ListedColormap\n",
    "import matplotlib.patches as mpatches\n",
    "\n",
    "def get_material_matrix(tile_matrix):\n",
    "    n = len(tile_matrix)\n",
    "    mat_array = np.zeros((n, n), dtype=int)\n",
    "\n",
    "    for i in range(n):       # x-Achse (Spalten)\n",
    "        for j in range(n):   # y-Achse (Zeilen)\n",
    "            tile = tile_matrix[i][j]\n",
    "            if tile.mat is Fleisch:\n",
    "                mat_array[j, i] = 1\n",
    "            elif tile.mat is Luft:\n",
    "                mat_array[j, i] = 2\n",
    "            elif tile.mat is Holz:\n",
    "                mat_array[j, i] = 3\n",
    "            elif tile.mat is Stroh:\n",
    "                mat_array[j, i] = 4\n",
    "            elif tile.mat is Aussenluft:\n",
    "                mat_array[j, i] = 5\n",
    "            else:\n",
    "                mat_array[j, i] = 0\n",
    "    return mat_array\n",
    "\n",
    "\n",
    "# 2. Farben definieren\n",
    "colors = ['red', 'blue', 'saddlebrown', 'gold', 'lightblue']  # für IDs 0-5\n",
    "cmap = ListedColormap(colors)\n",
    "\n",
    "# 3. Map erzeugen\n",
    "material_map = get_material_matrix(tile_matrix)\n",
    "\n",
    "plt.figure(figsize=(6, 6))\n",
    "plt.imshow(material_map, cmap=cmap, origin='lower',\n",
    "           extent=[0, n*delta_x, 0, n*delta_y])\n",
    "plt.title(\"Materialverteilung\")\n",
    "plt.xlabel(\"x [m]\")\n",
    "plt.ylabel(\"y [m]\")\n",
    "plt.grid(True, color='gray', alpha=0.3)\n",
    "\n",
    "# 4. Legende manuell erstellen\n",
    "legende = [\n",
    "    mpatches.Patch(color='red', label='Fleisch'),\n",
    "    mpatches.Patch(color='blue', label='Luft'),\n",
    "    mpatches.Patch(color='saddlebrown', label='Holz'),\n",
    "    mpatches.Patch(color='gold', label='Stroh'),\n",
    "    mpatches.Patch(color='lightblue', label='Außenluft'),\n",
    "]\n",
    "\n",
    "plt.legend(handles=legende, loc='upper right')\n",
    "plt.tight_layout()\n",
    "plt.show()"
   ]
  },
  {
   "cell_type": "markdown",
   "id": "9f8a90c2",
   "metadata": {},
   "source": [
    "Nochmal mit verfeinertem Gitter: "
   ]
  },
  {
   "cell_type": "code",
   "execution_count": 214,
   "id": "f5346acd",
   "metadata": {},
   "outputs": [
    {
     "data": {
      "image/png": "[encoded data removed]",
      "text/plain": [
       "<Figure size 600x600 with 1 Axes>"
      ]
     },
     "metadata": {},
     "output_type": "display_data"
    }
   ],
   "source": [
    "material_map = get_material_matrix(refined_grid(n, delta_x, delta_y, 3)[1])\n",
    "\n",
    "plt.figure(figsize=(6, 6))\n",
    "plt.imshow(material_map, cmap=cmap, origin='lower',\n",
    "           extent=[0, n*delta_x, 0, n*delta_y])\n",
    "plt.title(\"Materialverteilung\")\n",
    "plt.xlabel(\"x [m]\")\n",
    "plt.ylabel(\"y [m]\")\n",
    "plt.grid(True, color='gray', alpha=0.3)\n",
    "\n",
    "legende = [\n",
    "    mpatches.Patch(color='red', label='Fleisch'),\n",
    "    mpatches.Patch(color='blue', label='Luft'),\n",
    "    mpatches.Patch(color='saddlebrown', label='Holz'),\n",
    "    mpatches.Patch(color='gold', label='Stroh'),\n",
    "    mpatches.Patch(color='lightblue', label='Außenluft'),\n",
    "]\n",
    "\n",
    "plt.legend(handles=legende, loc='upper right')\n",
    "plt.tight_layout()\n",
    "plt.show()"
   ]
  },
  {
   "cell_type": "markdown",
   "id": "eb9c2188",
   "metadata": {},
   "source": [
    "### Einwand zu Konvektion:\n",
    "\n",
    "Eine Konvektion wird in dieser Berechng nicht berücksichtigt. Allerdings würde dies zu stark von der Realität abweichenden Ergebnissen führen, daher wird hier die eine Anpassung der Leitfähigkeit vorgenommen. Sobalb zwei Zellen, die nur Luft enthalten, nebeneinander liegen, wird eine erhöhte Leitfähigkeit eingesetzt."
   ]
  },
  {
   "cell_type": "code",
   "execution_count": 215,
   "id": "79eda3d2",
   "metadata": {},
   "outputs": [],
   "source": [
    "# Hilfsfunktion: effektive Leitfähigkeit\n",
    "def edge_cond(mat_p, mat_q):\n",
    "    # \"Konvektion light\": Luft-Luft-Kontakt stark koppeln\n",
    "    if mat_p == Luft and mat_q == Luft:\n",
    "        return 5.0  # W/(m·K) – bewusst modellierter Ersatz für Konvektion\n",
    "    # sonst wie bisher: arithmetisches Mittel\n",
    "    return (mat_p.lambd + mat_q.lambd) / 2.0"
   ]
  },
  {
   "cell_type": "markdown",
   "id": "20d727b1",
   "metadata": {},
   "source": [
    "## Der Stationäre Fall:"
   ]
  },
  {
   "attachments": {
    "image.png": {
     "image/png": "[encoded data removed]"
    }
   },
   "cell_type": "markdown",
   "id": "de6ea25f",
   "metadata": {},
   "source": [
    "![image.png](attachment:image.png)"
   ]
  },
  {
   "cell_type": "markdown",
   "id": "2a6c5367",
   "metadata": {},
   "source": [
    "### Herleitung der Systemmatrix $A$ für den stationären Fall\n",
    "\n",
    "Ausgangspunkt ist die stationäre Wärmeleitungs­gleichung im Finite-Volume-Ansatz (Kontrollvolumenmethode) für ein zweidimensionales, kartesisches Gitter. Für ein Kontrollvolumen $P$ mit den Nachbarzellen $W, E, N, S$ gilt im stationären Zustand:\n",
    "\n",
    "$$\n",
    "a_W \\,(T_W - T_P) + a_E \\,(T_E - T_P) + a_N \\,(T_N - T_P) + a_S \\,(T_S - T_P) = Q_P\n",
    "$$\n",
    "\n",
    "wobei:\n",
    "- $T_P$ = Temperatur im Volumenmittelpunkt $P$\n",
    "- $T_W, T_E, T_N, T_S$ = Temperaturen in den benachbarten Volumina\n",
    "- $a_Q$ = effektive Leitfähigkeit in Richtung $Q$ (W/m$^2$K)\n",
    "- $Q_P$ = Wärmequellen­term bzw. Randbeitrag (kommt später in den rechten Vektor $\\vec{S}$)\n",
    "\n",
    "\n",
    "#### Effektive Leitfähigkeit zwischen zwei Zellen\n",
    "Die Wärmeleitfähigkeit $a_Q$ zwischen Zelle $P$ und Nachbar $Q$ wird in der Funktion `edge_cond` berechnet.  \n",
    "Standardmäßig wird das arithmetische Mittel der beiden Materialleitfähigkeiten verwendet, mit einer Sonderregel:\n",
    "- Wenn beide Zellen Luft enthalten, wird $a_Q = 5.0$ W/(m·K) gesetzt, um konvektive Kopplung zu modellieren.\n",
    "\n",
    "\n",
    "#### Aufstellen der Gleichung in Matrixform\n",
    "Die obige Bilanzgleichung kann umgestellt werden zu:\n",
    "\n",
    "$$\n",
    "a_W T_W + a_E T_E + a_N T_N + a_S T_S - (a_W + a_E + a_N + a_S) T_P = Q_P\n",
    "$$\n",
    "\n",
    "Bringt man alle Terme mit $T$ auf die linke Seite, ergibt sich:\n",
    "- **Diagonale:** $A_{pp} = a_P = a_W + a_E + a_N + a_S$ (positiv)\n",
    "- **Nebendiagonalen:** $A_{p,q} = -a_Q$ für jeden existierenden Nachbarn $q$\n",
    "\n",
    "\n",
    "\n",
    "#### Randbehandlungen im Code\n",
    "1. **Dirichlet-Randbedingung (feste Temperatur)**  \n",
    "   Für Materialien wie `Fleisch` oder `Aussenluft` wird die Zeile in $A$ als Einheitszeile gesetzt ($A_{pp} = 1$, alle anderen Null).  \n",
    "   Der zugehörige Wert geht in den rechten Vektor $\\vec{S}$.\n",
    "\n",
    "2. **Innere Nachbarn**  \n",
    "   Wenn in einer Richtung ein Nachbar existiert, wird der Off-Diagonal-Eintrag auf $-a_Q$ gesetzt und $a_Q$ zur Diagonalsumme $a_P$ addiert.\n",
    "\n",
    "3. **Rand ohne Nachbar (Robin-Bedingung)**  \n",
    "   Wenn in einer Richtung kein Nachbar existiert, wird der Wärmeübergang zur Umgebung modelliert:  \n",
    "   Der Wert $\\lambda_P$ wird zur Diagonalsumme addiert, und der zugehörige Beitrag $\\lambda_P T_\\infty$ kommt in $\\vec{S}$ (in dieser Matrixfunktion nicht enthalten, sondern in der Vektor-Erstellung).\n",
    "\n",
    "\n",
    "#### Diagonaleintrag\n",
    "Nachdem alle Nachbarn und eventuelle Randbeiträge verarbeitet wurden, wird der Diagonaleintrag der Zeile auf die Summe $a_P$ gesetzt:\n",
    "\n",
    "$$\n",
    "A_{pp} = a_W + a_E + a_N + a_S\n",
    "$$\n",
    "\n",
    "Dies stellt sicher, dass die Bilanzgleichung für das Volumen korrekt in Matrixform abgebildet ist.\n",
    "\n",
    "\n",
    "#### Ergebnis\n",
    "Die so konstruierte Matrix $A$ ist eine **M-Matrix**:\n",
    "- Diagonalelemente positiv\n",
    "- Off-Diagonalelemente nicht-positiv\n",
    "- Diagonal­dominanz in jeder Zeile  \n",
    "\n",
    "Das garantiert Stabilität und eindeutige Lösbarkeit für den stationären Wärmeleitungsfall.\n"
   ]
  },
  {
   "cell_type": "code",
   "execution_count": 216,
   "id": "13efe4de",
   "metadata": {},
   "outputs": [],
   "source": [
    "def create_matrix_A(tiles, tile_matrix):\n",
    "    n = len(tile_matrix)\n",
    "    N = len(tiles)\n",
    "    A = np.zeros((N, N), dtype=np.float32)\n",
    "    for p, tile_p in enumerate(tiles):\n",
    "        i = p // n \n",
    "        j = p % n \n",
    "        a_p = 0\n",
    "\n",
    "        if tile_p.mat == Fleisch:\n",
    "            A[p, p] = 1\n",
    "            continue\n",
    "\n",
    "        if tile_p.mat == Aussenluft:\n",
    "            A[p, p] = 1\n",
    "            continue\n",
    "\n",
    "        # WEST (i, j-1)\n",
    "        if j - 1 >= 0:\n",
    "            tile_w = tile_matrix[i][j - 1]\n",
    "            a_w = edge_cond(tile_p.mat, tile_w.mat)\n",
    "            q = i * n + (j - 1)\n",
    "            A[p, q] = -a_w\n",
    "            a_p += a_w\n",
    "        else:\n",
    "            a_p += tile_p.mat.lambd\n",
    "\n",
    "        # EAST (i, j+1)\n",
    "        if j + 1 < n:\n",
    "            tile_e = tile_matrix[i][j + 1]\n",
    "            a_e = edge_cond(tile_p.mat, tile_e.mat)\n",
    "            q = i * n + (j + 1)\n",
    "            A[p, q] = -a_e\n",
    "            a_p += a_e\n",
    "        else:\n",
    "            a_p += tile_p.mat.lambd\n",
    "\n",
    "        # NORTH (i-1, j)\n",
    "        if i - 1 >= 0:\n",
    "            tile_n = tile_matrix[i - 1][j]\n",
    "            a_n = edge_cond(tile_p.mat, tile_n.mat)\n",
    "            q = (i - 1) * n + j\n",
    "            A[p, q] = -a_n\n",
    "            a_p += a_n\n",
    "        else:\n",
    "            a_p += tile_p.mat.lambd\n",
    "\n",
    "        # SOUTH (i+1, j)\n",
    "        if i + 1 < n:\n",
    "            tile_s = tile_matrix[i + 1][j]\n",
    "            a_s = edge_cond(tile_p.mat, tile_s.mat)\n",
    "            q = (i + 1) * n + j\n",
    "            A[p, q] = -a_s\n",
    "            a_p += a_s\n",
    "        else:\n",
    "            a_p += tile_p.mat.lambd\n",
    "\n",
    "        # Diagonaleintrag\n",
    "        A[p, p] = a_p\n",
    "    return A\n",
    "        "
   ]
  },
  {
   "cell_type": "markdown",
   "id": "fd6741b3",
   "metadata": {},
   "source": [
    "Im weiteren Verlauf, vorallem durch die Verfeinerung, kamm es zu Problemen mit der Rechenleistung. Deshalb gibt es hier nochmal Matrix A erstellt mit Hilfe von scipy.sparse. Dabei werden die Elemente die 0 sind, nicht gespeichert und somit die Rechenleistung reduziert. "
   ]
  },
  {
   "cell_type": "code",
   "execution_count": 244,
   "id": "8550f706",
   "metadata": {},
   "outputs": [],
   "source": [
    "import numpy as np\n",
    "import scipy.sparse as sp\n",
    "\n",
    "def create_matrix_A_sparse(tiles, tile_matrix):\n",
    "    n = len(tile_matrix)\n",
    "    N = len(tiles)\n",
    "\n",
    "    rows = []\n",
    "    cols = []\n",
    "    data = []\n",
    "\n",
    "    def add(r, c, v):\n",
    "        rows.append(r); cols.append(c); data.append(np.float32(v))\n",
    "\n",
    "    for p, tile_p in enumerate(tiles):\n",
    "        i = p // n\n",
    "        j = p % n\n",
    "\n",
    "        # Dirichlet: Einheitszeile\n",
    "        if tile_p.mat in (Fleisch, Aussenluft):\n",
    "            add(p, p, 1.0)\n",
    "            continue\n",
    "\n",
    "        a_p = 0.0\n",
    "\n",
    "        # WEST (i, j-1)\n",
    "        if j - 1 >= 0:\n",
    "            tile_w = tile_matrix[i][j - 1]\n",
    "            a_w = edge_cond(tile_p.mat, tile_w.mat)\n",
    "            add(p, i * n + (j - 1), -a_w)\n",
    "            a_p += a_w\n",
    "        else:\n",
    "            a_p += tile_p.mat.lambd  # Rand (z.B. Robin/Neumann)\n",
    "\n",
    "        # EAST (i, j+1)\n",
    "        if j + 1 < n:\n",
    "            tile_e = tile_matrix[i][j + 1]\n",
    "            a_e = edge_cond(tile_p.mat, tile_e.mat)\n",
    "            add(p, i * n + (j + 1), -a_e)\n",
    "            a_p += a_e\n",
    "        else:\n",
    "            a_p += tile_p.mat.lambd\n",
    "\n",
    "        # NORTH (i-1, j)\n",
    "        if i - 1 >= 0:\n",
    "            tile_n = tile_matrix[i - 1][j]\n",
    "            a_n = edge_cond(tile_p.mat, tile_n.mat)\n",
    "            add(p, (i - 1) * n + j, -a_n)\n",
    "            a_p += a_n\n",
    "        else:\n",
    "            a_p += tile_p.mat.lambd\n",
    "\n",
    "        # SOUTH (i+1, j)\n",
    "        if i + 1 < n:\n",
    "            tile_s = tile_matrix[i + 1][j]\n",
    "            a_s = edge_cond(tile_p.mat, tile_s.mat)\n",
    "            add(p, (i + 1) * n + j, -a_s)\n",
    "            a_p += a_s\n",
    "        else:\n",
    "            a_p += tile_p.mat.lambd\n",
    "\n",
    "        # Diagonale\n",
    "        add(p, p, a_p)\n",
    "\n",
    "    # COO → CSR (duplikate Einträge werden automatisch summiert)\n",
    "    A = sp.coo_matrix((np.array(data, dtype=np.float32),\n",
    "                       (np.array(rows), np.array(cols))),\n",
    "                      shape=(N, N), dtype=np.float32).tocsr()\n",
    "    return A\n"
   ]
  },
  {
   "cell_type": "markdown",
   "id": "2f46737c",
   "metadata": {},
   "source": [
    "### Herleitung des rechten Vektors $\\vec{S}$ für den stationären Fall\n",
    "\n",
    "Der Vektor $\\vec{S}$ enthält alle Terme der stationären Wärmebilanz, die **nicht** von den Unbekannten $T_P$ abhängen.  \n",
    "Er repräsentiert in diesem Modell die Beiträge aus festen Temperaturen (Dirichlet-Bedingungen) und die Randkopplung zur Umgebungsluft (Robin-Bedingungen).\n",
    "    \n",
    "\n",
    "#### 1. Dirichlet-Randbedingungen\n",
    "Befindet sich eine Zelle $P$ an einer Stelle mit fest vorgegebener Temperatur $T_\\text{fix}$, so gilt:\n",
    "$$\n",
    "S_p = T_\\text{fix}\n",
    "$$\n",
    "und die Zeile $p$ in der Matrix $A$ ist eine Einheitszeile ($A_{pp} = 1$, alle anderen Einträge Null).  \n",
    "In deinem Code wird `tile_p.temps[0]` als fester Temperaturwert genutzt.\n",
    "\n",
    "\n",
    "#### 2. Robin-Randbedingungen (konvektiver Wärmeübergang)\n",
    "Befindet sich eine Zelle $P$ am Rand ohne direkten Nachbarn in einer Richtung, wird der Wärmefluss zur Umgebung gemäß:\n",
    "$$\n",
    "- \\lambda_P \\frac{\\partial T}{\\partial n} = h \\,(T_P - T_\\infty)\n",
    "$$\n",
    "in einer stark vereinfachten Form berücksichtigt, wobei hier $h$ in $\\lambda_P$ enthalten ist.\n",
    "\n",
    "Numerisch wird der Beitrag zum rechten Vektor als:\n",
    "$$\n",
    "S_p \\; \\mathrel{+}= \\; \\lambda_P \\, T_\\infty\n",
    "$$\n",
    "addiert, wenn ein Nachbar in der betrachteten Richtung fehlt.\n",
    "\n",
    "\n",
    "#### 3. Implementierungsdetails\n",
    "Im Code wird dies folgendermaßen umgesetzt:\n",
    "- **West-Rand**: Falls $j - 1 < 0$ → $S_p \\mathrel{+}= \\lambda_P T_u$\n",
    "- **Ost-Rand**: Falls $j + 1 \\ge n$ → $S_p \\mathrel{+}= \\lambda_P T_u$\n",
    "- **Nord-Rand**: Falls $i - 1 < 0$ → $S_p \\mathrel{+}= \\lambda_P T_u$\n",
    "- **Süd-Rand**: Falls $i + 1 \\ge n$ → $S_p \\mathrel{+}= \\lambda_P T_u$\n",
    "\n",
    "Hierbei bezeichnet $T_u$ die Umgebungstemperatur $T_\\infty$.\n",
    "\n",
    "\n",
    "#### 4. Ergebnis\n",
    "Der Vektor $\\vec{S}$ enthält somit:\n",
    "- Feste Temperaturwerte für Dirichlet-Zellen\n",
    "- Summierte Robin-Beiträge für äußere Ränder ohne direkten Nachbarn\n",
    "- Keine expliziten Quellen innerhalb des Gebiets (könnten bei Bedarf analog ergänzt werden)\n",
    "\n",
    "Dieser Vektor geht direkt in das stationäre Gleichungssystem ein:\n",
    "$$\n",
    "A \\, \\vec{T} = \\vec{S}\n",
    "$$\n",
    "wobei $A$ die aus der Diskretisierung erhaltene Systemmatrix ist.\n"
   ]
  },
  {
   "cell_type": "code",
   "execution_count": 217,
   "id": "20f22651",
   "metadata": {},
   "outputs": [],
   "source": [
    "def create_vector_S(tiles, tile_matrix, T_u):\n",
    "    n = len(tile_matrix)\n",
    "    N = len(tiles)\n",
    "    S = np.zeros(N, dtype=np.float32)\n",
    "\n",
    "    for p, tile_p in enumerate(tiles):\n",
    "        i = p // n \n",
    "        j = p % n \n",
    "\n",
    "        # Dirichlet\n",
    "        if tile_p.mat in (Fleisch, Aussenluft):\n",
    "            S[p] = tile_p.temps[0]\n",
    "            continue\n",
    "\n",
    "        # Robin-Beiträge: fehlender Nachbar -> + lambda_P * T_u\n",
    "        lam = tile_p.mat.lambd\n",
    "        if j - 1 < 0: S[p] += lam * T_u  # West\n",
    "        if j + 1 >= n: S[p] += lam * T_u # East\n",
    "        if i - 1 < 0: S[p] += lam * T_u  # North\n",
    "        if i + 1 >= n: S[p] += lam * T_u # South\n",
    "\n",
    "    return S"
   ]
  },
  {
   "cell_type": "markdown",
   "id": "ba3bb57f",
   "metadata": {},
   "source": [
    "Nun wird die Matrize und der Vektor erstellt un gelöst."
   ]
  },
  {
   "cell_type": "code",
   "execution_count": 218,
   "id": "500cb4ee",
   "metadata": {},
   "outputs": [],
   "source": [
    "A = create_matrix_A(tiles, tile_matrix)\n",
    "S = create_vector_S(tiles, tile_matrix, T_u)\n",
    "T = np.linalg.solve(A, S)"
   ]
  },
  {
   "cell_type": "markdown",
   "id": "0cfd6997",
   "metadata": {},
   "source": [
    "Ein kleiner Test der Formgebung: "
   ]
  },
  {
   "cell_type": "code",
   "execution_count": 219,
   "id": "ccbcd6db",
   "metadata": {},
   "outputs": [
    {
     "data": {
      "text/plain": [
       "array([273.15, 273.15, 273.15, ..., 273.15, 273.15, 273.15],\n",
       "      shape=(3600,), dtype=float32)"
      ]
     },
     "execution_count": 219,
     "metadata": {},
     "output_type": "execute_result"
    }
   ],
   "source": [
    "T"
   ]
  },
  {
   "cell_type": "code",
   "execution_count": 220,
   "id": "ee605b04",
   "metadata": {},
   "outputs": [
    {
     "data": {
      "image/png": "[encoded data removed]",
      "text/plain": [
       "<Figure size 640x480 with 2 Axes>"
      ]
     },
     "metadata": {},
     "output_type": "display_data"
    }
   ],
   "source": [
    "\n",
    "T_grid = T.reshape(n, n).T  # 2D-Form herstellen\n",
    "\n",
    "plt.imshow(T_grid, cmap='coolwarm', origin='lower',\n",
    "           extent=[0, delta_x * n, 0, delta_y * n],\n",
    "           vmin=273.15, vmax=298.15)\n",
    "plt.title(\"Stationäre Temperaturverteilung\", loc='left')\n",
    "plt.colorbar(label='Temperatur [K]')\n",
    "plt.grid(True, color='gray', alpha=0.3)\n",
    "\n",
    "plt.savefig(\"stationaer.png\", dpi=300, bbox_inches='tight')\n",
    "plt.show()\n"
   ]
  },
  {
   "cell_type": "markdown",
   "id": "911633b1",
   "metadata": {},
   "source": [
    "### Vorstellung des Ergebnisses:\n",
    "\n",
    "Abbildung~\\ref{fig:stationaer} zeigt die berechnete stationäre Temperaturverteilung im untersuchten Gebäudemodell. \n",
    "Der Temperaturbereich reicht von etwa 273,15 K (0°C) im Bereich der Außenluft \n",
    "bis zu knapp 296 K (ca. 23°C) im Bereich oberhalb der Tierkörper.\n",
    "\n",
    "Wie erwartet, ist im unteren Bereich des Modells, an der Position der Tiere, eine deutlich erhöhte Temperatur zu erkennen. \n",
    "Diese Wärme breitet sich über die Holzbalken und den Zwischenboden in den darüberliegenden Wohnbereich aus. \n",
    "Durch Wärmeleitung und die gewählte Randmodellierung fällt die Temperatur jedoch zum Dach hin deutlich ab.\n",
    "\n",
    "Der Temperaturverlauf ist symmetrisch, was der gewählten Geometrie und der gleichmäßigen Wärmequelle im unteren Bereich entspricht. \n",
    "Die stärksten Gradienten treten an den Außenwänden sowie an der Grenze zwischen beheiztem Stallbereich und kühlerer Luft auf. \n",
    "Im zentralen Innenbereich des Wohnraums stellt sich ein nahezu homogenes Temperaturniveau ein, das allerdings merklich \n",
    "unter der Temperatur im Stallbereich liegt.\n",
    "\n",
    "Diese Ergebnisse stimmen qualitativ mit der physikalischen Erwartung überein:\n",
    "\n",
    "- Wärmequelle im Stall $\\rightarrow$ Temperaturmaximum im unteren Innenbereich\n",
    "- Wärmeverluste an den Außenflächen $\\rightarrow$ Abnahme der Temperatur in Wandnähe und nach oben\n",
    "- Symmetrie aufgrund gleichmäßiger Geometrie und Randbedingungen\n",
    "\n"
   ]
  },
  {
   "cell_type": "markdown",
   "id": "24bbced5",
   "metadata": {},
   "source": [
    "## Gitteranalyse:"
   ]
  },
  {
   "cell_type": "markdown",
   "id": "3fad6b39",
   "metadata": {},
   "source": [
    "### Festlegung der Gitterpunkte"
   ]
  },
  {
   "cell_type": "markdown",
   "id": "898efb92",
   "metadata": {},
   "source": [
    "Für die Gitteranalyse werden nun die folgenden Zellen gewählt. "
   ]
  },
  {
   "cell_type": "markdown",
   "id": "aa93329a",
   "metadata": {},
   "source": [
    "Zelle 1770: Diese liegt mittig im Gitter und stellt auch die Mitte des Wohnraums dar. Somit ist eine gute Referenz für die Raumtemperatur. "
   ]
  },
  {
   "cell_type": "code",
   "execution_count": 221,
   "id": "51022b8c",
   "metadata": {},
   "outputs": [
    {
     "name": "stdout",
     "output_type": "stream",
     "text": [
      "x: 1.475    y: 1.525\n"
     ]
    }
   ],
   "source": [
    "print(\"x:\",tiles[1770].x, \"   y:\", tiles[1770].y)"
   ]
  },
  {
   "cell_type": "markdown",
   "id": "462c2139",
   "metadata": {},
   "source": [
    "Zelle 1743: Diese liegt in der Strohdämmung, wo der Gradient besonders hoch ist. "
   ]
  },
  {
   "cell_type": "code",
   "execution_count": 222,
   "id": "1a550861",
   "metadata": {},
   "outputs": [
    {
     "name": "stdout",
     "output_type": "stream",
     "text": [
      "x: 1.475    y: 0.17500000000000002\n"
     ]
    }
   ],
   "source": [
    "print(\"x:\",tiles[1743].x, \"   y:\", tiles[1743].y)"
   ]
  },
  {
   "cell_type": "markdown",
   "id": "a1a442a1",
   "metadata": {},
   "source": [
    "Zelle 1745: Diese liegt in der Holzwand und ist von zwei verscheiden Materialien umgeben."
   ]
  },
  {
   "cell_type": "code",
   "execution_count": 223,
   "id": "b78d41dd",
   "metadata": {},
   "outputs": [
    {
     "name": "stdout",
     "output_type": "stream",
     "text": [
      "x: 1.475    y: 0.275\n"
     ]
    }
   ],
   "source": [
    "print(\"x:\",tiles[1745].x, \"   y:\", tiles[1745].y)"
   ]
  },
  {
   "cell_type": "markdown",
   "id": "1d958dde",
   "metadata": {},
   "source": [
    "Zelle 367: Diese liegt in der unteren Ecke des Raumes. Diese Zelle ist interessant, da sie zwar vollständig von Luft umgeben ist, aber einen geringen Abstand zu Wärmequelle als auch zur Wärmesenke hat. "
   ]
  },
  {
   "cell_type": "code",
   "execution_count": 224,
   "id": "fc069bc8",
   "metadata": {},
   "outputs": [
    {
     "name": "stdout",
     "output_type": "stream",
     "text": [
      "x: 0.32500000000000007    y: 0.37500000000000006\n"
     ]
    }
   ],
   "source": [
    "print(\"x:\",tiles[367].x, \"   y:\", tiles[367].y)"
   ]
  },
  {
   "cell_type": "markdown",
   "id": "73b66727",
   "metadata": {},
   "source": [
    "Zelle 270: Diese liegt in der Mitte des Holzbodens und stelle die Stelle des größten Wärmeübergangs zwischen unterem und oberen Raum dar."
   ]
  },
  {
   "cell_type": "code",
   "execution_count": 225,
   "id": "31fefabb",
   "metadata": {},
   "outputs": [
    {
     "name": "stdout",
     "output_type": "stream",
     "text": [
      "x: 0.225    y: 1.525\n"
     ]
    }
   ],
   "source": [
    "print(\"x:\",tiles[270].x, \"   y:\", tiles[270].y)"
   ]
  },
  {
   "cell_type": "markdown",
   "id": "a4745a64",
   "metadata": {},
   "source": [
    "Zelle 90: Diese liegt direkt über den Tieren."
   ]
  },
  {
   "cell_type": "code",
   "execution_count": 226,
   "id": "e45700e3",
   "metadata": {},
   "outputs": [
    {
     "name": "stdout",
     "output_type": "stream",
     "text": [
      "x: 0.07500000000000001    y: 1.525\n"
     ]
    }
   ],
   "source": [
    "print(\"x:\",tiles[90].x, \"   y:\", tiles[90].y)"
   ]
  },
  {
   "cell_type": "markdown",
   "id": "8793bcfc",
   "metadata": {},
   "source": [
    "Hier erstelle ich eine Liste mit den betrachteten Punkten um einfach auf diese Zugreifen zu können. "
   ]
  },
  {
   "cell_type": "code",
   "execution_count": 227,
   "id": "cdb3ff58",
   "metadata": {},
   "outputs": [],
   "source": [
    "target_list = [1770, 1743, 1745, 367,  270, 90]"
   ]
  },
  {
   "cell_type": "markdown",
   "id": "f5cd6563",
   "metadata": {},
   "source": [
    "Durch die Funktion edit_material_map() kann die vorher verwendete Funktion get_material_matrix weiter verwendet werden um die Punkte grafisch darzustellen. "
   ]
  },
  {
   "cell_type": "code",
   "execution_count": 263,
   "id": "a029e53c",
   "metadata": {},
   "outputs": [],
   "source": [
    "def edit_material_map(material_map, target_list, refine_exponent):\n",
    "    refine_factor = 2 ** refine_exponent\n",
    "    for target in target_list:\n",
    "        i = target // (n*refine_factor)\n",
    "        j = target % (n*refine_factor)\n",
    "        material_map[i,j] = 6\n",
    "    return material_map"
   ]
  },
  {
   "cell_type": "markdown",
   "id": "26dde038",
   "metadata": {},
   "source": [
    "Da dieser Code wieder keine Mathematische Funktion hat, werde ich ihn nicht erklären. "
   ]
  },
  {
   "cell_type": "code",
   "execution_count": 229,
   "id": "8a1394d3",
   "metadata": {},
   "outputs": [
    {
     "data": {
      "image/png": "[encoded data removed]",
      "text/plain": [
       "<Figure size 600x600 with 1 Axes>"
      ]
     },
     "metadata": {},
     "output_type": "display_data"
    }
   ],
   "source": [
    "material_map = get_material_matrix(tile_matrix)\n",
    "#refined_grid(n, delta_x, delta_y, 3)[1]\n",
    "material_map = edit_material_map(material_map, target_list, 1)\n",
    "\n",
    "colors = ['red', 'blue', 'saddlebrown', 'gold', 'lightblue', 'black']  # für IDs 0-6\n",
    "cmap = ListedColormap(colors)\n",
    "plt.figure(figsize=(6, 6))\n",
    "plt.imshow(material_map, cmap=cmap, origin='lower',\n",
    "           extent=[0, n*delta_x, 0, n*delta_y])\n",
    "plt.title(\"Untersuche Zelle im Gitter\")\n",
    "plt.xlabel(\"x [m]\")\n",
    "plt.ylabel(\"y [m]\")\n",
    "plt.grid(True, color='gray', alpha=0.3)\n",
    "\n",
    "legende = [\n",
    "    mpatches.Patch(color='red', label='Fleisch'),\n",
    "    mpatches.Patch(color='blue', label='Luft'),\n",
    "    mpatches.Patch(color='saddlebrown', label='Holz'),\n",
    "    mpatches.Patch(color='gold', label='Stroh'),\n",
    "    mpatches.Patch(color='lightblue', label='Außenluft'),\n",
    "    mpatches.Patch(color='black', label='Untersuchte Zelle')\n",
    "]\n",
    "\n",
    "plt.legend(handles=legende, loc='right')\n",
    "plt.tight_layout()\n",
    "plt.show()"
   ]
  },
  {
   "cell_type": "markdown",
   "id": "97204951",
   "metadata": {},
   "source": [
    "### Rechnung ohne Verfeinerung:"
   ]
  },
  {
   "cell_type": "markdown",
   "id": "87d60cfd",
   "metadata": {},
   "source": [
    "Nun wird das System nochmal mit einer Sparse matrix gelöst."
   ]
  },
  {
   "cell_type": "code",
   "execution_count": 247,
   "id": "a8cc82bb",
   "metadata": {},
   "outputs": [],
   "source": [
    "A = create_matrix_A_sparse(tiles, tile_matrix)\n",
    "S = create_vector_S(tiles, tile_matrix, T_u)\n",
    "\n",
    "from scipy.sparse.linalg import spsolve\n",
    "T = spsolve(A, S)"
   ]
  },
  {
   "cell_type": "markdown",
   "id": "c890f9ec",
   "metadata": {},
   "source": [
    "### Rechnung mit Verfeinerung 1:"
   ]
  },
  {
   "cell_type": "code",
   "execution_count": 248,
   "id": "600acef2",
   "metadata": {},
   "outputs": [
    {
     "data": {
      "image/png": "[encoded data removed]",
      "text/plain": [
       "<Figure size 640x480 with 2 Axes>"
      ]
     },
     "metadata": {},
     "output_type": "display_data"
    }
   ],
   "source": [
    "\n",
    "r1_tiles, r1_tile_matrix = refined_grid(n, delta_x, delta_y,1)\n",
    "A_r1 = create_matrix_A_sparse(r1_tiles, r1_tile_matrix)\n",
    "S_r1 = create_vector_S(r1_tiles, r1_tile_matrix, T_u)\n",
    "T_r1 = spsolve(A_r1, S_r1)\n",
    "\n",
    "T_grid_r1 = T_r1.reshape(n*2, n*2).T  # 2D-Form herstellen\n",
    "\n",
    "plt.imshow(T_grid_r1, cmap='coolwarm', origin='lower',\n",
    "           extent=[0, delta_x * n, 0, delta_y * n],\n",
    "           vmin=273.15, vmax=298.15)\n",
    "plt.title(\"Stationäre Temperaturverteilung\", loc='left')\n",
    "plt.colorbar(label='Temperatur [K]')\n",
    "plt.grid(True, color='gray', alpha=0.3)\n",
    "\n",
    "plt.savefig(\"stationaer_1.png\", dpi=300, bbox_inches='tight')\n",
    "plt.show()"
   ]
  },
  {
   "cell_type": "code",
   "execution_count": 231,
   "id": "b02cf86c",
   "metadata": {},
   "outputs": [
    {
     "data": {
      "text/plain": [
       "60"
      ]
     },
     "execution_count": 231,
     "metadata": {},
     "output_type": "execute_result"
    }
   ],
   "source": [
    "n"
   ]
  },
  {
   "cell_type": "code",
   "execution_count": 249,
   "id": "06176b72",
   "metadata": {},
   "outputs": [
    {
     "data": {
      "image/png": "[encoded data removed]",
      "text/plain": [
       "<Figure size 640x480 with 2 Axes>"
      ]
     },
     "metadata": {},
     "output_type": "display_data"
    }
   ],
   "source": [
    "r2_tiles, r2_tile_matrix = refined_grid(n, delta_x, delta_y,2)\n",
    "A_r2 = create_matrix_A_sparse(r2_tiles, r2_tile_matrix)\n",
    "S_r2 = create_vector_S(r2_tiles, r2_tile_matrix, T_u)\n",
    "T_r2 = spsolve(A_r2, S_r2)\n",
    "\n",
    "T_grid_r2 = T_r2.reshape(n*4, n*4).T  # 2D-Form herstellen\n",
    "\n",
    "plt.imshow(T_grid_r2, cmap='coolwarm', origin='lower',\n",
    "           extent=[0, delta_x * n, 0, delta_y * n],\n",
    "           vmin=273.15, vmax=298.15)\n",
    "plt.title(\"Stationäre Temperaturverteilung\", loc='left')\n",
    "plt.colorbar(label='Temperatur [K]')\n",
    "plt.grid(True, color='gray', alpha=0.3)\n",
    "\n",
    "plt.savefig(\"stationaer_2.png\", dpi=300, bbox_inches='tight')\n",
    "plt.show()"
   ]
  },
  {
   "cell_type": "code",
   "execution_count": 250,
   "id": "10ff6a7d",
   "metadata": {},
   "outputs": [
    {
     "data": {
      "image/png": "[encoded data removed]",
      "text/plain": [
       "<Figure size 640x480 with 2 Axes>"
      ]
     },
     "metadata": {},
     "output_type": "display_data"
    }
   ],
   "source": [
    "r3_tiles, r3_tile_matrix = refined_grid(n, delta_x, delta_y,3)\n",
    "A_r3 = create_matrix_A_sparse(r3_tiles, r3_tile_matrix)\n",
    "S_r3 = create_vector_S(r3_tiles, r3_tile_matrix, T_u)\n",
    "T_r3 = spsolve(A_r3, S_r3)\n",
    "\n",
    "T_grid_r3 = T_r3.reshape(n*8, n*8).T  # 2D-Form herstellen\n",
    "\n",
    "plt.imshow(T_grid_r3, cmap='coolwarm', origin='lower',\n",
    "           extent=[0, delta_x * n, 0, delta_y * n],\n",
    "           vmin=273.15, vmax=298.15)\n",
    "plt.title(\"Stationäre Temperaturverteilung\", loc='left')\n",
    "plt.colorbar(label='Temperatur [K]')\n",
    "plt.grid(True, color='gray', alpha=0.3)\n",
    "\n",
    "plt.savefig(\"stationaer_3.png\", dpi=300, bbox_inches='tight')\n",
    "plt.show()"
   ]
  },
  {
   "cell_type": "markdown",
   "id": "267f3b3d",
   "metadata": {},
   "source": [
    "Nun wird untersucht, ob nach der Verfeinerung auch weiterhin die richtigen Zellen genommen werden. "
   ]
  },
  {
   "cell_type": "code",
   "execution_count": 273,
   "id": "f464713a",
   "metadata": {},
   "outputs": [],
   "source": [
    "def refined_target_list(n, target_list, refine_exponent):\n",
    "    re = refine_exponent\n",
    "    r_target_list = []\n",
    "    for target in target_list:\n",
    "        r_target_list.append(target * 2**re )# + 2**(re-1) - 1)\n",
    "        #r_target_list.append(target * 2**re + 2**(re-1))\n",
    "        #r_target_list.append(target * 2**re + 2**(re-1) - 1 + 2**re*n)\n",
    "        #r_target_list.append(target * 2**re + 2**(re-1) + 2**re*n)\n",
    "    return r_target_list\n",
    "    "
   ]
  },
  {
   "cell_type": "code",
   "execution_count": 275,
   "id": "e08ca135",
   "metadata": {},
   "outputs": [],
   "source": [
    "def refined_target_list_2x2(n, target_list, refine_exponent):\n",
    "    scale = 2 ** refine_exponent\n",
    "    n_fine = n * scale\n",
    "    off = scale // 2 - 1\n",
    "    out = []\n",
    "    for p in target_list:\n",
    "        row = p // n\n",
    "        col = p - row * n\n",
    "        i0 = row * scale + off\n",
    "        j0 = col * scale + off\n",
    "        base = i0 * n_fine + j0\n",
    "        out += [base, base + 1, base + n_fine, base + n_fine + 1]\n",
    "    return out"
   ]
  },
  {
   "cell_type": "code",
   "execution_count": 258,
   "id": "57840a17",
   "metadata": {},
   "outputs": [],
   "source": [
    "def refined_target_list_center2x2(n, target_list, refine_exponent):\n",
    "    \"\"\"\n",
    "    n: Breite/Höhe des Grobrasters (n x n)\n",
    "    target_list: flache Indizes im Grobraster (row-major)\n",
    "    refine_exponent: Verfeinerung um Faktor s = 2**refine_exponent\n",
    "    Rückgabe: flache Indizes im feinen Raster (n*s x n*s) für den 2x2-Mittelblock.\n",
    "    \"\"\"\n",
    "    s = 1 << refine_exponent            # s = 2**refine_exponent\n",
    "    if s < 2:\n",
    "        return target_list[:]           # keine Verfeinerung\n",
    "\n",
    "    n_fine = n * s\n",
    "    out = []\n",
    "    for p in target_list:\n",
    "        i_c, j_c = divmod(p, n)         # Grob-Indizes\n",
    "        i0, j0 = i_c * s, j_c * s       # Start des feinen Elternblocks\n",
    "        ci, cj = i0 + (s//2 - 1), j0 + (s//2 - 1)  # zentrierter 2x2-Start\n",
    "\n",
    "        # vier feine Zellen (row-major)\n",
    "        base = ci * n_fine + cj\n",
    "        out.extend([base, base + 1, base + n_fine, base + n_fine + 1])\n",
    "    return out"
   ]
  },
  {
   "cell_type": "code",
   "execution_count": 276,
   "id": "44d432cd",
   "metadata": {},
   "outputs": [
    {
     "data": {
      "image/png": "[encoded data removed]",
      "text/plain": [
       "<Figure size 600x600 with 1 Axes>"
      ]
     },
     "metadata": {},
     "output_type": "display_data"
    }
   ],
   "source": [
    "material_map = get_material_matrix(refined_grid(n, delta_x, delta_y, 1)[1])\n",
    "r_target_list = refined_target_list_2x2(n, target_list, 1)\n",
    "material_map = edit_material_map(material_map, r_target_list, 1)\n",
    "\n",
    "colors = ['red', 'blue', 'saddlebrown', 'gold', 'lightblue', 'black']  # für IDs 0-6\n",
    "cmap = ListedColormap(colors)\n",
    "plt.figure(figsize=(6, 6))\n",
    "plt.imshow(material_map, cmap=cmap, origin='lower',\n",
    "           extent=[0, n*delta_x, 0, n*delta_y])\n",
    "plt.title(\"Untersuche Zelle im verfeinerten Gitter\")\n",
    "plt.xlabel(\"x [m]\")\n",
    "plt.ylabel(\"y [m]\")\n",
    "plt.grid(True, color='gray', alpha=0.3)\n",
    "\n",
    "legende = [\n",
    "    mpatches.Patch(color='red', label='Fleisch'),\n",
    "    mpatches.Patch(color='blue', label='Luft'),\n",
    "    mpatches.Patch(color='saddlebrown', label='Holz'),\n",
    "    mpatches.Patch(color='gold', label='Stroh'),\n",
    "    mpatches.Patch(color='lightblue', label='Außenluft'),\n",
    "    mpatches.Patch(color='black', label='Untersuchte Zelle')\n",
    "]\n",
    "\n",
    "plt.legend(handles=legende, loc='right')\n",
    "plt.tight_layout()\n",
    "plt.show()"
   ]
  },
  {
   "cell_type": "code",
   "execution_count": 277,
   "id": "1a572927",
   "metadata": {},
   "outputs": [
    {
     "data": {
      "image/png": "[encoded data removed]",
      "text/plain": [
       "<Figure size 600x600 with 1 Axes>"
      ]
     },
     "metadata": {},
     "output_type": "display_data"
    }
   ],
   "source": [
    "material_map = get_material_matrix(refined_grid(n, delta_x, delta_y, 2)[1])\n",
    "r_target_list = refined_target_list_2x2(n, target_list, 2)\n",
    "material_map = edit_material_map(material_map, r_target_list, 2)\n",
    "\n",
    "colors = ['red', 'blue', 'saddlebrown', 'gold', 'lightblue', 'black']  # für IDs 0-6\n",
    "cmap = ListedColormap(colors)\n",
    "plt.figure(figsize=(6, 6))\n",
    "plt.imshow(material_map, cmap=cmap, origin='lower',\n",
    "           extent=[0, n*delta_x, 0, n*delta_y])\n",
    "plt.title(\"Untersuche Zelle im verfeinerten Gitter\")\n",
    "plt.xlabel(\"x [m]\")\n",
    "plt.ylabel(\"y [m]\")\n",
    "plt.grid(True, color='gray', alpha=0.3)\n",
    "\n",
    "legende = [\n",
    "    mpatches.Patch(color='red', label='Fleisch'),\n",
    "    mpatches.Patch(color='blue', label='Luft'),\n",
    "    mpatches.Patch(color='saddlebrown', label='Holz'),\n",
    "    mpatches.Patch(color='gold', label='Stroh'),\n",
    "    mpatches.Patch(color='lightblue', label='Außenluft'),\n",
    "    mpatches.Patch(color='black', label='Untersuchte Zelle')\n",
    "]\n",
    "\n",
    "plt.legend(handles=legende, loc='right')\n",
    "plt.tight_layout()\n",
    "plt.show()"
   ]
  },
  {
   "cell_type": "code",
   "execution_count": 278,
   "id": "24252e4b",
   "metadata": {},
   "outputs": [
    {
     "data": {
      "image/png": "[encoded data removed]",
      "text/plain": [
       "<Figure size 600x600 with 1 Axes>"
      ]
     },
     "metadata": {},
     "output_type": "display_data"
    }
   ],
   "source": [
    "material_map = get_material_matrix(refined_grid(n, delta_x, delta_y, 3)[1])\n",
    "r_target_list = refined_target_list_2x2(n, target_list, 3)\n",
    "material_map = edit_material_map(material_map, r_target_list, 3)\n",
    "\n",
    "colors = ['red', 'blue', 'saddlebrown', 'gold', 'lightblue', 'black']  # für IDs 0-6\n",
    "cmap = ListedColormap(colors)\n",
    "plt.figure(figsize=(6, 6))\n",
    "plt.imshow(material_map, cmap=cmap, origin='lower',\n",
    "           extent=[0, n*delta_x, 0, n*delta_y])\n",
    "plt.title(\"Untersuche Zelle im verfeinerten Gitter\")\n",
    "plt.xlabel(\"x [m]\")\n",
    "plt.ylabel(\"y [m]\")\n",
    "plt.grid(True, color='gray', alpha=0.3)\n",
    "\n",
    "legende = [\n",
    "    mpatches.Patch(color='red', label='Fleisch'),\n",
    "    mpatches.Patch(color='blue', label='Luft'),\n",
    "    mpatches.Patch(color='saddlebrown', label='Holz'),\n",
    "    mpatches.Patch(color='gold', label='Stroh'),\n",
    "    mpatches.Patch(color='lightblue', label='Außenluft'),\n",
    "    mpatches.Patch(color='black', label='Untersuchte Zelle')\n",
    "]\n",
    "\n",
    "plt.legend(handles=legende, loc='right')\n",
    "plt.tight_layout()\n",
    "plt.show()"
   ]
  },
  {
   "cell_type": "markdown",
   "id": "186116ee",
   "metadata": {},
   "source": [
    "### Relative Temperaturen"
   ]
  },
  {
   "cell_type": "code",
   "execution_count": 288,
   "id": "102a0d6f",
   "metadata": {},
   "outputs": [
    {
     "data": {
      "text/plain": [
       "[np.float32(288.58835),\n",
       " np.float32(297.48517),\n",
       " np.float32(291.40167),\n",
       " np.float32(290.6242),\n",
       " np.float32(285.24304),\n",
       " np.float32(275.1763)]"
      ]
     },
     "execution_count": 288,
     "metadata": {},
     "output_type": "execute_result"
    }
   ],
   "source": [
    "T_base = [] # \n",
    "r3_target_list = refined_target_list_2x2(n, target_list, 3)\n",
    "i = 0\n",
    "value = 0\n",
    "for t in r3_target_list:\n",
    "    value += T_r3[t]/4\n",
    "    i += 1\n",
    "    if i == 4:\n",
    "        i = 0\n",
    "        T_base.append(value)\n",
    "        value = 0\n",
    "T_base"
   ]
  },
  {
   "cell_type": "code",
   "execution_count": 289,
   "id": "babac893",
   "metadata": {},
   "outputs": [
    {
     "data": {
      "text/plain": [
       "[np.float32(288.80078),\n",
       " np.float32(297.32285),\n",
       " np.float32(291.11447),\n",
       " np.float32(290.4331),\n",
       " np.float32(285.43274),\n",
       " np.float32(275.49634)]"
      ]
     },
     "execution_count": 289,
     "metadata": {},
     "output_type": "execute_result"
    }
   ],
   "source": [
    "T_2 = [] # \n",
    "r2_target_list = refined_target_list_2x2(n, target_list, 2)\n",
    "i = 0\n",
    "value = 0\n",
    "for t in r2_target_list:\n",
    "    value += T_r2[t]/4\n",
    "    i += 1\n",
    "    if i == 4:\n",
    "        i = 0\n",
    "        T_2.append(value)\n",
    "        value = 0\n",
    "T_2"
   ]
  },
  {
   "cell_type": "code",
   "execution_count": 290,
   "id": "21b5d34e",
   "metadata": {},
   "outputs": [
    {
     "data": {
      "text/plain": [
       "[np.float32(287.91656),\n",
       " np.float32(296.9759),\n",
       " np.float32(289.85446),\n",
       " np.float32(289.2732),\n",
       " np.float32(284.74362),\n",
       " np.float32(275.86398)]"
      ]
     },
     "execution_count": 290,
     "metadata": {},
     "output_type": "execute_result"
    }
   ],
   "source": [
    "T_1 = [] # \n",
    "r1_target_list = refined_target_list_2x2(n, target_list, 1)\n",
    "i = 0\n",
    "value = 0\n",
    "for t in r1_target_list:\n",
    "    value += T_r1[t]/4\n",
    "    i += 1\n",
    "    if i == 4:\n",
    "        i = 0\n",
    "        T_1.append(value)\n",
    "        value = 0\n",
    "T_1"
   ]
  },
  {
   "cell_type": "code",
   "execution_count": null,
   "id": "d118b4ea",
   "metadata": {},
   "outputs": [
    {
     "data": {
      "text/plain": [
       "[np.float32(286.2214),\n",
       " np.float32(296.41898),\n",
       " np.float32(287.75363),\n",
       " np.float32(287.2987),\n",
       " np.float32(283.4094),\n",
       " np.float32(276.3074)]"
      ]
     },
     "execution_count": 292,
     "metadata": {},
     "output_type": "execute_result"
    }
   ],
   "source": [
    "T_0 = [] \n",
    "target_list\n",
    "i = 0\n",
    "value = 0\n",
    "for t in target_list:\n",
    "    value += T[t]\n",
    "    T_0.append(value)\n",
    "    value = 0\n",
    "T_0"
   ]
  },
  {
   "cell_type": "code",
   "execution_count": 319,
   "id": "952618bc",
   "metadata": {},
   "outputs": [],
   "source": [
    "d_list = []"
   ]
  },
  {
   "cell_type": "code",
   "execution_count": 320,
   "id": "198f917d",
   "metadata": {},
   "outputs": [
    {
     "data": {
      "text/plain": [
       "array([-2.3669434, -1.0661926, -3.6480408, -3.3255005, -1.8336487,\n",
       "        1.1311035], dtype=float32)"
      ]
     },
     "execution_count": 320,
     "metadata": {},
     "output_type": "execute_result"
    }
   ],
   "source": [
    "d_0 =  np.array(T_0) -  np.array(T_base)\n",
    "d_list.append(d_0)\n",
    "d_0"
   ]
  },
  {
   "cell_type": "code",
   "execution_count": 321,
   "id": "96256f93",
   "metadata": {},
   "outputs": [
    {
     "data": {
      "text/plain": [
       "array([-0.67178345, -0.50927734, -1.5472107 , -1.3510132 , -0.49942017,\n",
       "        0.6876831 ], dtype=float32)"
      ]
     },
     "execution_count": 321,
     "metadata": {},
     "output_type": "execute_result"
    }
   ],
   "source": [
    "d_1 =  np.array(T_1) -  np.array(T_base)\n",
    "d_list.append(d_1)\n",
    "d_1"
   ]
  },
  {
   "cell_type": "code",
   "execution_count": 322,
   "id": "68936047",
   "metadata": {},
   "outputs": [
    {
     "data": {
      "text/plain": [
       "array([ 0.21243286, -0.162323  , -0.28720093, -0.19110107,  0.18969727,\n",
       "        0.32003784], dtype=float32)"
      ]
     },
     "execution_count": 322,
     "metadata": {},
     "output_type": "execute_result"
    }
   ],
   "source": [
    "d_2 =  np.array(T_2) -  np.array(T_base)\n",
    "d_list.append(d_2)\n",
    "d_2"
   ]
  },
  {
   "cell_type": "code",
   "execution_count": 323,
   "id": "4ba6e76c",
   "metadata": {},
   "outputs": [],
   "source": [
    "d_3 = [0,0,0,0,0,0]\n",
    "d_list.append(d_3)"
   ]
  },
  {
   "cell_type": "markdown",
   "id": "600d1907",
   "metadata": {},
   "source": [
    "### Rechenzeiten:"
   ]
  },
  {
   "cell_type": "code",
   "execution_count": 311,
   "id": "b8b335ac",
   "metadata": {},
   "outputs": [],
   "source": [
    "import time"
   ]
  },
  {
   "cell_type": "code",
   "execution_count": 313,
   "id": "68fe99b2",
   "metadata": {},
   "outputs": [],
   "source": [
    "times_to_calc = []"
   ]
  },
  {
   "cell_type": "code",
   "execution_count": 307,
   "id": "53da0b40",
   "metadata": {},
   "outputs": [],
   "source": [
    "def run_timed(func, /, *args, **kwargs):\n",
    "    t0 = time.perf_counter()\n",
    "    try:\n",
    "        result = func(*args, **kwargs)\n",
    "        return result, time.perf_counter() - t0\n",
    "    except Exception:\n",
    "        elapsed = time.perf_counter() - t0\n",
    "        # elapsed bei Bedarf loggen oder an Exception anhängen\n",
    "        raise"
   ]
  },
  {
   "cell_type": "code",
   "execution_count": null,
   "id": "0670949a",
   "metadata": {},
   "outputs": [],
   "source": [
    "def average_over_five(func, /, *args, **kwargs):\n",
    "    t = 0.0\n",
    "    for _ in range(5):\n",
    "        _, dt = run_timed(func, *args, **kwargs) \n",
    "        t += dt\n",
    "    return t / 5"
   ]
  },
  {
   "cell_type": "code",
   "execution_count": 314,
   "id": "65c59403",
   "metadata": {},
   "outputs": [],
   "source": [
    "times_to_calc.append(average_over_five(spsolve, A, S))"
   ]
  },
  {
   "cell_type": "code",
   "execution_count": 315,
   "id": "1d5e4c15",
   "metadata": {},
   "outputs": [],
   "source": [
    "times_to_calc.append(average_over_five(spsolve, A_r1, S_r1))"
   ]
  },
  {
   "cell_type": "code",
   "execution_count": 316,
   "id": "d6c535e8",
   "metadata": {},
   "outputs": [],
   "source": [
    "times_to_calc.append(average_over_five(spsolve, A_r2, S_r2))"
   ]
  },
  {
   "cell_type": "code",
   "execution_count": 317,
   "id": "4d909b30",
   "metadata": {},
   "outputs": [],
   "source": [
    "times_to_calc.append(average_over_five(spsolve, A_r3, S_r3))"
   ]
  },
  {
   "cell_type": "code",
   "execution_count": 318,
   "id": "c7b02e1b",
   "metadata": {},
   "outputs": [
    {
     "data": {
      "text/plain": [
       "[0.005568199999106582,\n",
       " 0.0291222599989851,\n",
       " 0.17045098000089637,\n",
       " 1.904589200000919]"
      ]
     },
     "execution_count": 318,
     "metadata": {},
     "output_type": "execute_result"
    }
   ],
   "source": [
    "times_to_calc"
   ]
  },
  {
   "cell_type": "code",
   "execution_count": 334,
   "id": "bb8316da",
   "metadata": {},
   "outputs": [],
   "source": [
    "def plot_refinement_error_times(d_list, times_to_calc, n_list=None, use_abs=True,\n",
    "                                savepath=None, drop_last_errors=True):\n",
    "    S = len(d_list)\n",
    "    if len(times_to_calc) != S:\n",
    "        raise ValueError(\"times_to_calc muss gleich lang wie d_list sein.\")\n",
    "\n",
    "    E = np.stack([np.asarray(d, dtype=float) for d in d_list], axis=0)\n",
    "    if use_abs:\n",
    "        E = np.abs(E)\n",
    "    avg = np.nanmean(E, axis=1)\n",
    "\n",
    "    # x-Achse\n",
    "    s_full = np.log2(np.asarray(n_list, dtype=float)) if n_list is not None else np.arange(S, dtype=float)\n",
    "\n",
    "    # Fehlerkurven ohne letzten Punkt\n",
    "    if drop_last_errors and S > 1:\n",
    "        s_err = s_full[:-1]\n",
    "        E_err = E[:-1, :]\n",
    "        avg_err = avg[:-1]\n",
    "    else:\n",
    "        s_err = s_full\n",
    "        E_err = E\n",
    "        avg_err = avg\n",
    "\n",
    "    fig, ax1 = plt.subplots(figsize=(7.5, 4.2))\n",
    "    M = E_err.shape[1]\n",
    "\n",
    "    # Zellen\n",
    "    for j in range(M):\n",
    "        ax1.loglog(s_err, E_err[:, j], marker='o', linewidth=1, alpha=0.65, label=f\"Zelle {j+1}\")\n",
    "\n",
    "    # Durchschnitt\n",
    "    ax1.loglog(s_err, avg_err, marker='s', linewidth=2, label=\"Durchschnitt\")\n",
    "\n",
    "    ax1.set_xlabel(r\"Verfeinerung $s$\" + (\"\" if n_list is None else r\" = $\\log_2(n)$\"))\n",
    "    ax1.set_ylabel(\"Abweichung (|ΔT|)\" if use_abs else \"Abweichung (ΔT)\")\n",
    "    ax1.grid(True, which='both')\n",
    "\n",
    "    # Rechenzeiten (vollständig)\n",
    "    ax2 = ax1.twinx()\n",
    "    t = np.asarray(times_to_calc, dtype=float)\n",
    "    ax2.loglog(s_full, t, marker='^', linestyle='-', label=\"Rechenzeit\")\n",
    "    ax2.set_ylabel(\"Rechenzeit [s]\")\n",
    "\n",
    "    # Legende rechts außen\n",
    "    lines = ax1.get_lines() + ax2.get_lines()\n",
    "    labels = [ln.get_label() for ln in lines]\n",
    "    ax1.legend(lines, labels, loc='center left', bbox_to_anchor=(1.1, 0.5), borderaxespad=0.0)\n",
    "\n",
    "    # Platz für Legende schaffen\n",
    "    fig.subplots_adjust(right=0.72)\n",
    "\n",
    "    if savepath:\n",
    "        fig.savefig(savepath, dpi=300, bbox_inches=\"tight\")\n",
    "    plt.show()\n",
    "    #return fig, (ax1, ax2)"
   ]
  },
  {
   "cell_type": "code",
   "execution_count": 335,
   "id": "d535359e",
   "metadata": {},
   "outputs": [
    {
     "data": {
      "image/png": "[encoded data removed]",
      "text/plain": [
       "<Figure size 750x420 with 2 Axes>"
      ]
     },
     "metadata": {},
     "output_type": "display_data"
    }
   ],
   "source": [
    "plot_refinement_error_times(d_list, times_to_calc, n_list=[n, 2*n, 4*n, 8*n])"
   ]
  },
  {
   "cell_type": "markdown",
   "id": "20269568",
   "metadata": {},
   "source": [
    "## Der Instationäre Fall:"
   ]
  },
  {
   "cell_type": "markdown",
   "id": "4eea9f27",
   "metadata": {},
   "source": [
    "### Aufbau und Bedeutung der Iterationsmatrix $B$:\n",
    "\n",
    "Die Funktion `create_matrix_B` konstruiert für das instationäre $\\theta$-Verfahren (mit $\\gamma$ und \n",
    "$ f = \\frac{\\Delta t\\,\\gamma}{\\rho_P c_P \\,\\Delta x\\,\\Delta y} $) die **Iterationsmatrix $B$** des linearen Gleichungssystems\n",
    "\n",
    "$$\n",
    "B\\,\\mathbf{T}^{\\,1}=\\mathbf{F},\n",
    "$$\n",
    "\n",
    "das pro Zeitschritt gelöst wird. Jeder Gitterzelle (Kontrollvolumen) wird dabei ein Index $p$ zugeordnet; \n",
    "die Temperatur am neuen Zeitschrittniveau $t^{n+1}$ heißt $T_p^{\\,1}$.\n",
    "\n",
    "**Indexierung und Gitterlogik.**  \n",
    "Das Rechengebiet ist als äquidistentes $n\\times n$-Gitter organisiert. Der lineare Zellindex \n",
    "$p\\in\\{0,\\dots,N-1\\}$ (mit $N=n^2$) wird in 2D-Koordinaten abgebildet:\n",
    "\n",
    "$$\n",
    "i=\\left\\lfloor \\frac{p}{n}\\right\\rfloor \\quad\\text{(Zeile, Nord–Süd)},\\qquad\n",
    "j=p\\bmod n \\quad\\text{(Spalte, West–Ost)}.\n",
    "$$\n",
    "\n",
    "So lassen sich die **Nachbarn** einer Zelle $(i,j)$ systematisch adressieren: West $(i,j-1)$, Ost $(i,j+1)$, Nord $(i-1,j)$, Süd $(i+1,j)$, jeweils nur, sofern sie im Gitter liegen.\n",
    "\n",
    "**Dirichlet-Zellen (feste Temperatur).**  \n",
    "Zellen, deren Material als **Fleisch** oder **Außenluft** gekennzeichnet ist, werden als **Dirichlet-Rand/Innenbedingungen** behandelt. \n",
    "Für diese Zellen wird die Temperatur fest vorgegeben; numerisch entspricht das dem **Setzen eines Einheitsgleichers**:\n",
    "\n",
    "$$\n",
    "B_{pp}=1,\\quad B_{pq}=0\\ \\ (q\\neq p).\n",
    "$$\n",
    "\n",
    "Damit entkoppeln sich diese Zellen vom restlichen System auf der linken Seite; ihr Wert geht später ausschließlich in $\\mathbf{F}$ (rechte Seite) ein.\n",
    "\n",
    "**Kopplung zu den Nachbarn.**  \n",
    "Für **freie (nicht-Dirichlet-)Zellen** werden die diffusen Wärmeflüsse zu den vier Nachbarn diskretisiert. \n",
    "Zu jedem vorhandenen Nachbarn $Q\\in\\{W,E,N,S\\}$ wird ein Leitfähigkeitskoeffizient\n",
    "\n",
    "$$\n",
    "a_Q=\\frac{\\lambda_P+\\lambda_Q}{2}\n",
    "$$\n",
    "\n",
    "eingesetzt (arithmetisches Mittel der Materialleitfähigkeiten der beiden angrenzenden Zellen). \n",
    "Der Beitrag dieser Kopplung erscheint als **negative** Nebendiagonale in $B$:\n",
    "\n",
    "$$\n",
    "B_{p,q}=-\\,f\\,a_Q,\n",
    "$$\n",
    "\n",
    "wobei $q$ der lineare Index des jeweiligen Nachbarn ist.\n",
    "\n",
    "**Diagonaleintrag (Zellbilanz).**  \n",
    "Die Summe aller Kantenleitfähigkeiten der Zelle\n",
    "\n",
    "$$\n",
    "a_P=\\sum_{Q\\in\\{W,E,N,S\\}} a_Q\n",
    "$$\n",
    "\n",
    "bestimmt den Diagonaleintrag\n",
    "\n",
    "$$\n",
    "B_{p,p}=1+f\\,a_P.\n",
    "$$\n",
    "\n",
    "Die „$1$“ stammt aus dem Zeitableitungs-Term (Speicherung), der Anteil $f\\,a_P$ aus den implizit behandelten Diffusionstermen des $\\theta$-Verfahrens mit Gewicht $\\gamma$.\n",
    "\n",
    "**Randsensitivität.**  \n",
    "An äußeren Rändern fehlen Nachbarn; in diesen Richtungen entfällt der entsprechende Nebendiagonaleintrag automatisch, und $a_P$ summiert nur die existierenden Kanten. \n",
    "Dirichlet-Zellen werden bereits oben gesondert behandelt.\n",
    "\n",
    "**Rolle des Faktors $f$.**  \n",
    "Der dimensionslose Faktor\n",
    "\n",
    "$$\n",
    "f=\\frac{\\Delta t\\,\\gamma}{\\rho_P c_P\\,\\Delta x\\,\\Delta y}\n",
    "$$\n",
    "\n",
    "skaliert die impliziten Diffusionsanteile. \n",
    "Größere $\\Delta t$ oder kleinere $\\rho c_P$ verstärken die Kopplung pro Zeitschritt; \n",
    "$\\gamma=0{,}5$ (Crank–Nicolson) balanciert Stabilität und Zeitgenauigkeit zweiter Ordnung.\n",
    "\n",
    "**Sparsame Struktur.**  \n",
    "Die Matrix $B$ ist **dünn besetzt** (maximal fünf Nichtnullen pro Zeile: Zentrum plus bis zu vier Nachbarn). \n",
    "Für große Gitter ist eine Sparse-Repräsentation wesentlich effizienter als ein dichtes `np.zeros`.\n"
   ]
  },
  {
   "cell_type": "code",
   "execution_count": 336,
   "id": "1f8f9870",
   "metadata": {},
   "outputs": [],
   "source": [
    "import numpy as np\n",
    "\n",
    "def create_matrix_B(tiles, tile_matrix):\n",
    "    n = len(tile_matrix)\n",
    "    N = len(tiles)\n",
    "    B = np.zeros((N, N), dtype=np.float32)\n",
    "\n",
    "    for p, tile_p in enumerate(tiles):\n",
    "        i = p // n  # Zeile (x-Richtung)\n",
    "        j = p % n   # Spalte (y-Richtung)\n",
    "\n",
    "\n",
    "        if tile_p.mat == Fleisch:\n",
    "            # Dirichlet-Bedingung: Fixe Temperatur\n",
    "            B[p, p] = 1\n",
    "            continue\n",
    "\n",
    "        if tile_p.mat == Aussenluft:\n",
    "            # Dirichlet-Bedingung: Fixe Temperatur\n",
    "            B[p, p] = 1\n",
    "            continue\n",
    "\n",
    "        a_p = 0  # Summe aller a_Q\n",
    "\n",
    "        # WEST (i, j-1)\n",
    "        if j - 1 >= 0:\n",
    "            tile_w = tile_matrix[i][j - 1]\n",
    "            a_w = edge_cond(tile_p.mat, tile_w.mat)\n",
    "            q = i * n + (j - 1)\n",
    "            B[p, q] = -tile_p.f * a_w\n",
    "            a_p += a_w\n",
    "\n",
    "        # EAST (i, j+1)\n",
    "        if j + 1 < n:\n",
    "            tile_e = tile_matrix[i][j + 1]\n",
    "            a_e = edge_cond(tile_p.mat, tile_e.mat)\n",
    "            q = i * n + (j + 1)\n",
    "            B[p, q] = -tile_p.f * a_e\n",
    "            a_p += a_e\n",
    "\n",
    "        # NORTH (i-1, j)\n",
    "        if i - 1 >= 0:\n",
    "            tile_n = tile_matrix[i - 1][j]\n",
    "            a_n = edge_cond(tile_p.mat, tile_n.mat)\n",
    "            q = (i - 1) * n + j\n",
    "            B[p, q] = -tile_p.f * a_n\n",
    "            a_p += a_n\n",
    "\n",
    "        # SOUTH (i+1, j)\n",
    "        if i + 1 < n:\n",
    "            tile_s = tile_matrix[i + 1][j]\n",
    "            a_s = edge_cond(tile_p.mat, tile_s.mat)\n",
    "            q = (i + 1) * n + j\n",
    "            B[p, q] = -tile_p.f * a_s\n",
    "            a_p += a_s\n",
    "\n",
    "        # Diagonaleintrag (1 + f * a_P)\n",
    "        B[p, p] = 1 + tile_p.f * a_p\n",
    "\n",
    "    return B"
   ]
  },
  {
   "cell_type": "markdown",
   "id": "bf7dee99",
   "metadata": {},
   "source": [
    "### Aufbau und Bedeutung des Vektors $\\mathbf{F}$\n",
    "\n",
    "Die Funktion `create_vector_F` berechnet die rechte Seite $\\mathbf{F}$ des instationären $\\theta$-Verfahrens\n",
    "\n",
    "$$\n",
    "B\\,\\mathbf{T}^{\\,1} = \\mathbf{F},\n",
    "$$\n",
    "\n",
    "wobei $\\mathbf{F}$ alle Terme enthält, die nicht vom neuen Zeitschrittniveau $t^{n+1}$ abhängen.  \n",
    "Dazu zählen die expliziten Anteile der Diffusion, Quellen- bzw. Randterme sowie die Werte aus dem vorherigen Zeitschritt $t^n$.\n",
    "\n",
    "**Indexierung und Ausgangswerte.**  \n",
    "Analog zur Matrixkonstruktion wird das $n\\times n$-Gitter in einen Vektor der Länge $N=n^2$ überführt:\n",
    "\n",
    "$$\n",
    "i = \\left\\lfloor \\frac{p}{n} \\right\\rfloor, \\quad j = p \\bmod n.\n",
    "$$\n",
    "\n",
    "Für jede Zelle $p$ wird die Temperatur des letzten Zeitschritts $T_p^0 = \\texttt{tile\\_p.temps[-1]}$ gelesen.  \n",
    "Der Faktor\n",
    "\n",
    "$$\n",
    "g = \\frac{\\Delta t\\,(1-\\gamma)}{\\rho_P c_P\\,\\Delta x\\,\\Delta y}\n",
    "$$\n",
    "\n",
    "skaliert die expliziten Beiträge.\n",
    "\n",
    "**Dirichlet-Zellen (feste Temperatur).**  \n",
    "Befindet sich in der Zelle ein Material mit fest vorgegebener Temperatur (hier: **Fleisch** oder **Außenluft**),  \n",
    "so gilt direkt\n",
    "\n",
    "$$\n",
    "F_p = T_p^0,\n",
    "$$\n",
    "\n",
    "und die Zelle wird nicht mit den Nachbarn gekoppelt.\n",
    "\n",
    "**Berechnung für freie Zellen.**  \n",
    "Für alle übrigen Zellen werden die Leitfähigkeiten zu den Nachbarn addiert:\n",
    "\n",
    "- **Innere Nachbarn**: Leitfähigkeit $a_Q = \\frac{\\lambda_P+\\lambda_Q}{2}$ (arithmetisches Mittel)  \n",
    "  geht in die Summe $a_P$ und in den gewichteten Nachbarsummenbeitrag $a_Q T_Q^0$ ein.\n",
    "- **Äußere Ränder**: Wenn kein Nachbar vorhanden ist, wird eine **Robin-Randbedingung** zur Umgebung mit Temperatur $T_u$ angenommen.  \n",
    "  Hier gilt $a_Q = \\lambda_P$ und der Term $a_Q T_u$ geht in die Quellenbilanz ein.\n",
    "\n",
    "**Zusammenbau von $F_p$.**  \n",
    "Die rechte Seite für eine freie Zelle lautet\n",
    "\n",
    "$$\n",
    "F_p = T_p^0 + g\\left(-a_P\\,T_p^0 + \\sum_{Q} a_Q T_Q^0 + \\text{source}\\right),\n",
    "$$\n",
    "\n",
    "wobei\n",
    "- $a_P = \\sum_{Q \\in \\{W,E,N,S\\}} a_Q$ die Summe aller Kantenleitfähigkeiten ist,\n",
    "- $\\sum_{Q} a_Q T_Q^0$ die gewichtete Summe der Nachbartemperaturen beschreibt,\n",
    "- $\\text{source}$ die Beiträge der Randtemperaturen $T_u$ aus Robin-Bedingungen enthält.\n",
    "\n",
    "**Physikalische Bedeutung.**  \n",
    "Die Terme in $\\mathbf{F}$ repräsentieren die explizit behandelten Anteile der Diffusion und alle bekannten Werte aus $t^n$.  \n",
    "Dirichlet-Zellen übernehmen ihren Temperaturwert unverändert,  \n",
    "Randzellen mit Robin-Bedingungen koppeln sich zusätzlich an eine feste Umgebungstemperatur.\n",
    "\n",
    "Damit enthält $\\mathbf{F}$ alle Informationen, um zusammen mit der Iterationsmatrix $B$ die Temperaturen im nächsten Zeitschritt $t^{n+1}$ zu berechnen.\n"
   ]
  },
  {
   "cell_type": "code",
   "execution_count": 337,
   "id": "b94567d8",
   "metadata": {},
   "outputs": [],
   "source": [
    "def create_vector_F(tiles, tile_matrix, T_u):\n",
    "    import numpy as np\n",
    "    n = len(tile_matrix)\n",
    "    N = len(tiles)\n",
    "    F = np.zeros(N, dtype=np.float32)\n",
    "\n",
    "    for p, tile_p in enumerate(tiles):\n",
    "        i = p // n  # Zeile (x-Richtung)\n",
    "        j = p % n   # Spalte (y-Richtung)\n",
    "\n",
    "\n",
    "        T_p0 = tile_p.temps[-1]\n",
    "        # f = tile_p.f\n",
    "        g = tile_p.g\n",
    "\n",
    "        if tile_p.mat is Fleisch:\n",
    "            # Dirichlet: Temperatur bleibt fest\n",
    "            F[p] = T_p0\n",
    "            continue\n",
    "        \n",
    "        if tile_p.mat is Aussenluft:\n",
    "            # Dirichlet: Temperatur bleibt fest\n",
    "            F[p] = T_p0\n",
    "            continue\n",
    "\n",
    "        a_p = 0\n",
    "        sum_neighbors = 0\n",
    "        source = 0  # Ersatz für Randterm oder Quellen\n",
    "\n",
    "        # WEST (i, j-1)\n",
    "        if j - 1 >= 0:\n",
    "            tile_w = tile_matrix[i][j - 1]\n",
    "            a_w = edge_cond(tile_p.mat, tile_w.mat)\n",
    "            a_p += a_w\n",
    "            sum_neighbors += a_w * tile_w.temps[-1]\n",
    "        else:\n",
    "            # Robin-Randbedingung gegen Umgebung\n",
    "            a_w = tile_p.mat.lambd\n",
    "            a_p += a_w\n",
    "            source += a_w * T_u\n",
    "\n",
    "        # EAST (i, j+1)\n",
    "        if j + 1 < n:\n",
    "            tile_e = tile_matrix[i][j + 1]\n",
    "            a_e = edge_cond(tile_p.mat, tile_e.mat)\n",
    "            a_p += a_e\n",
    "            sum_neighbors += a_e * tile_e.temps[-1]\n",
    "        else:\n",
    "            a_e = tile_p.mat.lambd\n",
    "            a_p += a_e\n",
    "            source += a_e * T_u\n",
    "\n",
    "        # NORTH (i-1, j)\n",
    "        if i - 1 >= 0:\n",
    "            tile_n = tile_matrix[i - 1][j]\n",
    "            a_n = edge_cond(tile_p.mat, tile_n.mat)\n",
    "            a_p += a_n\n",
    "            sum_neighbors += a_n * tile_n.temps[-1]\n",
    "        else:\n",
    "            a_n = tile_p.mat.lambd\n",
    "            a_p += a_n\n",
    "            source += a_n * T_u\n",
    "\n",
    "        # SOUTH (i+1, j)\n",
    "        if i + 1 < n:\n",
    "            tile_s = tile_matrix[i + 1][j]\n",
    "            a_s = edge_cond(tile_p.mat, tile_s.mat)\n",
    "            a_p += a_s\n",
    "            sum_neighbors += a_s * tile_s.temps[-1]\n",
    "        else:\n",
    "            a_s = tile_p.mat.lambd\n",
    "            a_p += a_s\n",
    "            source += a_s * T_u\n",
    "\n",
    "        F_p = T_p0 + g * (-a_p * T_p0 + sum_neighbors + source)\n",
    "        F[p] = F_p\n",
    "\n",
    "    return F\n"
   ]
  },
  {
   "cell_type": "markdown",
   "id": "465263ef",
   "metadata": {},
   "source": [
    "Nun wird sowohl die Matrix erschaffen, als auch der Vektor und dieser Ausgegeben um die Form zu untersuchen. "
   ]
  },
  {
   "cell_type": "code",
   "execution_count": 338,
   "id": "73bb6c7c",
   "metadata": {},
   "outputs": [
    {
     "data": {
      "text/plain": [
       "array([273.15, 273.15, 273.15, ..., 273.15, 273.15, 273.15],\n",
       "      shape=(3600,), dtype=float32)"
      ]
     },
     "execution_count": 338,
     "metadata": {},
     "output_type": "execute_result"
    }
   ],
   "source": [
    "F = create_vector_F(tiles, tile_matrix, T_u)\n",
    "B = create_matrix_B(tiles, tile_matrix)\n",
    "F"
   ]
  },
  {
   "cell_type": "code",
   "execution_count": 339,
   "id": "c93d161f",
   "metadata": {},
   "outputs": [
    {
     "data": {
      "text/plain": [
       "array([[1., 0., 0., ..., 0., 0., 0.],\n",
       "       [0., 1., 0., ..., 0., 0., 0.],\n",
       "       [0., 0., 1., ..., 0., 0., 0.],\n",
       "       ...,\n",
       "       [0., 0., 0., ..., 1., 0., 0.],\n",
       "       [0., 0., 0., ..., 0., 1., 0.],\n",
       "       [0., 0., 0., ..., 0., 0., 1.]], shape=(3600, 3600), dtype=float32)"
      ]
     },
     "execution_count": 339,
     "metadata": {},
     "output_type": "execute_result"
    }
   ],
   "source": [
    "B"
   ]
  },
  {
   "cell_type": "markdown",
   "id": "89f3cd7b",
   "metadata": {},
   "source": [
    "Hier findet eine Probeweise lösung für den ersten Zeitschriit statt."
   ]
  },
  {
   "cell_type": "code",
   "execution_count": 340,
   "id": "a8e13e57",
   "metadata": {},
   "outputs": [
    {
     "data": {
      "text/plain": [
       "array([273.15, 273.15, 273.15, ..., 273.15, 273.15, 273.15],\n",
       "      shape=(3600,), dtype=float32)"
      ]
     },
     "execution_count": 340,
     "metadata": {},
     "output_type": "execute_result"
    }
   ],
   "source": [
    "import time\n",
    "start_time = time.time()\n",
    "T1 = np.linalg.solve(B, F)\n",
    "end_time = time.time()\n",
    "T1"
   ]
  },
  {
   "cell_type": "code",
   "execution_count": 344,
   "id": "deb2de77",
   "metadata": {},
   "outputs": [
    {
     "data": {
      "text/plain": [
       "1440"
      ]
     },
     "execution_count": 344,
     "metadata": {},
     "output_type": "execute_result"
    }
   ],
   "source": [
    "steps = int(t//delta_t)\n",
    "steps"
   ]
  },
  {
   "cell_type": "code",
   "execution_count": 345,
   "id": "a414066f",
   "metadata": {},
   "outputs": [
    {
     "data": {
      "text/plain": [
       "17.710681915283203"
      ]
     },
     "execution_count": 345,
     "metadata": {},
     "output_type": "execute_result"
    }
   ],
   "source": [
    "(end_time - start_time)*steps/60"
   ]
  },
  {
   "cell_type": "code",
   "execution_count": 347,
   "id": "56a55c90",
   "metadata": {},
   "outputs": [
    {
     "data": {
      "text/plain": [
       "[298.15,\n",
       " np.float32(298.15),\n",
       " np.float32(298.15),\n",
       " np.float32(298.15),\n",
       " np.float32(298.15),\n",
       " np.float32(298.15),\n",
       " np.float32(298.15),\n",
       " np.float32(298.15),\n",
       " np.float32(298.15),\n",
       " np.float32(298.15),\n",
       " np.float32(298.15),\n",
       " np.float32(298.15),\n",
       " np.float32(298.15),\n",
       " np.float32(298.15),\n",
       " np.float32(298.15),\n",
       " np.float32(298.15),\n",
       " np.float32(298.15),\n",
       " np.float32(298.15),\n",
       " np.float32(298.15),\n",
       " np.float32(298.15),\n",
       " np.float32(298.15),\n",
       " np.float32(298.15),\n",
       " np.float32(298.15),\n",
       " np.float32(298.15),\n",
       " np.float32(298.15),\n",
       " np.float32(298.15),\n",
       " np.float32(298.15),\n",
       " np.float32(298.15),\n",
       " np.float32(298.15),\n",
       " np.float32(298.15),\n",
       " np.float32(298.15),\n",
       " np.float32(298.15),\n",
       " np.float32(298.15),\n",
       " np.float32(298.15),\n",
       " np.float32(298.15),\n",
       " np.float32(298.15),\n",
       " np.float32(298.15),\n",
       " np.float32(298.15),\n",
       " np.float32(298.15),\n",
       " np.float32(298.15),\n",
       " np.float32(298.15),\n",
       " np.float32(298.15),\n",
       " np.float32(298.15),\n",
       " np.float32(298.15),\n",
       " np.float32(298.15),\n",
       " np.float32(298.15),\n",
       " np.float32(298.15),\n",
       " np.float32(298.15),\n",
       " np.float32(298.15),\n",
       " np.float32(298.15),\n",
       " np.float32(298.15),\n",
       " np.float32(298.15),\n",
       " np.float32(298.15),\n",
       " np.float32(298.15),\n",
       " np.float32(298.15),\n",
       " np.float32(298.15),\n",
       " np.float32(298.15),\n",
       " np.float32(298.15),\n",
       " np.float32(298.15),\n",
       " np.float32(298.15),\n",
       " np.float32(298.15),\n",
       " np.float32(298.15),\n",
       " np.float32(298.15),\n",
       " np.float32(298.15),\n",
       " np.float32(298.15),\n",
       " np.float32(298.15),\n",
       " np.float32(298.15),\n",
       " np.float32(298.15),\n",
       " np.float32(298.15),\n",
       " np.float32(298.15),\n",
       " np.float32(298.15),\n",
       " np.float32(298.15),\n",
       " np.float32(298.15),\n",
       " np.float32(298.15),\n",
       " np.float32(298.15),\n",
       " np.float32(298.15),\n",
       " np.float32(298.15),\n",
       " np.float32(298.15),\n",
       " np.float32(298.15),\n",
       " np.float32(298.15),\n",
       " np.float32(298.15),\n",
       " np.float32(298.15),\n",
       " np.float32(298.15),\n",
       " np.float32(298.15),\n",
       " np.float32(298.15),\n",
       " np.float32(298.15),\n",
       " np.float32(298.15),\n",
       " np.float32(298.15),\n",
       " np.float32(298.15),\n",
       " np.float32(298.15),\n",
       " np.float32(298.15),\n",
       " np.float32(298.15),\n",
       " np.float32(298.15),\n",
       " np.float32(298.15),\n",
       " np.float32(298.15),\n",
       " np.float32(298.15),\n",
       " np.float32(298.15),\n",
       " np.float32(298.15),\n",
       " np.float32(298.15),\n",
       " np.float32(298.15),\n",
       " np.float32(298.15),\n",
       " np.float32(298.15),\n",
       " np.float32(298.15),\n",
       " np.float32(298.15),\n",
       " np.float32(298.15),\n",
       " np.float32(298.15),\n",
       " np.float32(298.15),\n",
       " np.float32(298.15),\n",
       " np.float32(298.15),\n",
       " np.float32(298.15),\n",
       " np.float32(298.15),\n",
       " np.float32(298.15),\n",
       " np.float32(298.15),\n",
       " np.float32(298.15),\n",
       " np.float32(298.15),\n",
       " np.float32(298.15),\n",
       " np.float32(298.15),\n",
       " np.float32(298.15),\n",
       " np.float32(298.15),\n",
       " np.float32(298.15),\n",
       " np.float32(298.15),\n",
       " np.float32(298.15),\n",
       " np.float32(298.15),\n",
       " np.float32(298.15),\n",
       " np.float32(298.15),\n",
       " np.float32(298.15),\n",
       " np.float32(298.15),\n",
       " np.float32(298.15),\n",
       " np.float32(298.15),\n",
       " np.float32(298.15),\n",
       " np.float32(298.15),\n",
       " np.float32(298.15),\n",
       " np.float32(298.15),\n",
       " np.float32(298.15),\n",
       " np.float32(298.15),\n",
       " np.float32(298.15),\n",
       " np.float32(298.15),\n",
       " np.float32(298.15),\n",
       " np.float32(298.15),\n",
       " np.float32(298.15),\n",
       " np.float32(298.15),\n",
       " np.float32(298.15),\n",
       " np.float32(298.15),\n",
       " np.float32(298.15),\n",
       " np.float32(298.15),\n",
       " np.float32(298.15),\n",
       " np.float32(298.15),\n",
       " np.float32(298.15),\n",
       " np.float32(298.15),\n",
       " np.float32(298.15),\n",
       " np.float32(298.15),\n",
       " np.float32(298.15),\n",
       " np.float32(298.15),\n",
       " np.float32(298.15),\n",
       " np.float32(298.15),\n",
       " np.float32(298.15),\n",
       " np.float32(298.15),\n",
       " np.float32(298.15),\n",
       " np.float32(298.15),\n",
       " np.float32(298.15),\n",
       " np.float32(298.15),\n",
       " np.float32(298.15),\n",
       " np.float32(298.15),\n",
       " np.float32(298.15),\n",
       " np.float32(298.15),\n",
       " np.float32(298.15),\n",
       " np.float32(298.15),\n",
       " np.float32(298.15),\n",
       " np.float32(298.15),\n",
       " np.float32(298.15),\n",
       " np.float32(298.15),\n",
       " np.float32(298.15),\n",
       " np.float32(298.15),\n",
       " np.float32(298.15),\n",
       " np.float32(298.15),\n",
       " np.float32(298.15),\n",
       " np.float32(298.15),\n",
       " np.float32(298.15),\n",
       " np.float32(298.15),\n",
       " np.float32(298.15),\n",
       " np.float32(298.15),\n",
       " np.float32(298.15),\n",
       " np.float32(298.15),\n",
       " np.float32(298.15),\n",
       " np.float32(298.15),\n",
       " np.float32(298.15),\n",
       " np.float32(298.15),\n",
       " np.float32(298.15),\n",
       " np.float32(298.15),\n",
       " np.float32(298.15),\n",
       " np.float32(298.15),\n",
       " np.float32(298.15),\n",
       " np.float32(298.15),\n",
       " np.float32(298.15),\n",
       " np.float32(298.15),\n",
       " np.float32(298.15),\n",
       " np.float32(298.15),\n",
       " np.float32(298.15),\n",
       " np.float32(298.15),\n",
       " np.float32(298.15),\n",
       " np.float32(298.15),\n",
       " np.float32(298.15),\n",
       " np.float32(298.15),\n",
       " np.float32(298.15),\n",
       " np.float32(298.15),\n",
       " np.float32(298.15),\n",
       " np.float32(298.15),\n",
       " np.float32(298.15),\n",
       " np.float32(298.15),\n",
       " np.float32(298.15),\n",
       " np.float32(298.15),\n",
       " np.float32(298.15),\n",
       " np.float32(298.15),\n",
       " np.float32(298.15),\n",
       " np.float32(298.15),\n",
       " np.float32(298.15),\n",
       " np.float32(298.15),\n",
       " np.float32(298.15),\n",
       " np.float32(298.15),\n",
       " np.float32(298.15),\n",
       " np.float32(298.15),\n",
       " np.float32(298.15),\n",
       " np.float32(298.15),\n",
       " np.float32(298.15),\n",
       " np.float32(298.15),\n",
       " np.float32(298.15),\n",
       " np.float32(298.15),\n",
       " np.float32(298.15),\n",
       " np.float32(298.15),\n",
       " np.float32(298.15),\n",
       " np.float32(298.15),\n",
       " np.float32(298.15),\n",
       " np.float32(298.15),\n",
       " np.float32(298.15),\n",
       " np.float32(298.15),\n",
       " np.float32(298.15),\n",
       " np.float32(298.15),\n",
       " np.float32(298.15),\n",
       " np.float32(298.15),\n",
       " np.float32(298.15),\n",
       " np.float32(298.15),\n",
       " np.float32(298.15),\n",
       " np.float32(298.15),\n",
       " np.float32(298.15),\n",
       " np.float32(298.15),\n",
       " np.float32(298.15),\n",
       " np.float32(298.15),\n",
       " np.float32(298.15),\n",
       " np.float32(298.15),\n",
       " np.float32(298.15),\n",
       " np.float32(298.15),\n",
       " np.float32(298.15),\n",
       " np.float32(298.15),\n",
       " np.float32(298.15),\n",
       " np.float32(298.15),\n",
       " np.float32(298.15),\n",
       " np.float32(298.15),\n",
       " np.float32(298.15),\n",
       " np.float32(298.15),\n",
       " np.float32(298.15),\n",
       " np.float32(298.15),\n",
       " np.float32(298.15),\n",
       " np.float32(298.15),\n",
       " np.float32(298.15),\n",
       " np.float32(298.15),\n",
       " np.float32(298.15),\n",
       " np.float32(298.15),\n",
       " np.float32(298.15),\n",
       " np.float32(298.15),\n",
       " np.float32(298.15),\n",
       " np.float32(298.15),\n",
       " np.float32(298.15),\n",
       " np.float32(298.15),\n",
       " np.float32(298.15),\n",
       " np.float32(298.15),\n",
       " np.float32(298.15),\n",
       " np.float32(298.15),\n",
       " np.float32(298.15),\n",
       " np.float32(298.15),\n",
       " np.float32(298.15),\n",
       " np.float32(298.15),\n",
       " np.float32(298.15),\n",
       " np.float32(298.15),\n",
       " np.float32(298.15),\n",
       " np.float32(298.15),\n",
       " np.float32(298.15),\n",
       " np.float32(298.15),\n",
       " np.float32(298.15),\n",
       " np.float32(298.15),\n",
       " np.float32(298.15),\n",
       " np.float32(298.15),\n",
       " np.float32(298.15),\n",
       " np.float32(298.15),\n",
       " np.float32(298.15),\n",
       " np.float32(298.15),\n",
       " np.float32(298.15),\n",
       " np.float32(298.15),\n",
       " np.float32(298.15),\n",
       " np.float32(298.15),\n",
       " np.float32(298.15),\n",
       " np.float32(298.15),\n",
       " np.float32(298.15),\n",
       " np.float32(298.15),\n",
       " np.float32(298.15),\n",
       " np.float32(298.15),\n",
       " np.float32(298.15),\n",
       " np.float32(298.15),\n",
       " np.float32(298.15),\n",
       " np.float32(298.15),\n",
       " np.float32(298.15),\n",
       " np.float32(298.15),\n",
       " np.float32(298.15),\n",
       " np.float32(298.15),\n",
       " np.float32(298.15),\n",
       " np.float32(298.15),\n",
       " np.float32(298.15),\n",
       " np.float32(298.15),\n",
       " np.float32(298.15),\n",
       " np.float32(298.15),\n",
       " np.float32(298.15),\n",
       " np.float32(298.15),\n",
       " np.float32(298.15),\n",
       " np.float32(298.15),\n",
       " np.float32(298.15),\n",
       " np.float32(298.15),\n",
       " np.float32(298.15),\n",
       " np.float32(298.15),\n",
       " np.float32(298.15),\n",
       " np.float32(298.15),\n",
       " np.float32(298.15),\n",
       " np.float32(298.15),\n",
       " np.float32(298.15),\n",
       " np.float32(298.15),\n",
       " np.float32(298.15),\n",
       " np.float32(298.15),\n",
       " np.float32(298.15),\n",
       " np.float32(298.15),\n",
       " np.float32(298.15),\n",
       " np.float32(298.15),\n",
       " np.float32(298.15),\n",
       " np.float32(298.15),\n",
       " np.float32(298.15),\n",
       " np.float32(298.15),\n",
       " np.float32(298.15),\n",
       " np.float32(298.15),\n",
       " np.float32(298.15),\n",
       " np.float32(298.15),\n",
       " np.float32(298.15),\n",
       " np.float32(298.15),\n",
       " np.float32(298.15),\n",
       " np.float32(298.15),\n",
       " np.float32(298.15),\n",
       " np.float32(298.15),\n",
       " np.float32(298.15),\n",
       " np.float32(298.15),\n",
       " np.float32(298.15),\n",
       " np.float32(298.15),\n",
       " np.float32(298.15),\n",
       " np.float32(298.15),\n",
       " np.float32(298.15),\n",
       " np.float32(298.15),\n",
       " np.float32(298.15),\n",
       " np.float32(298.15),\n",
       " np.float32(298.15),\n",
       " np.float32(298.15),\n",
       " np.float32(298.15),\n",
       " np.float32(298.15),\n",
       " np.float32(298.15),\n",
       " np.float32(298.15),\n",
       " np.float32(298.15),\n",
       " np.float32(298.15),\n",
       " np.float32(298.15),\n",
       " np.float32(298.15),\n",
       " np.float32(298.15),\n",
       " np.float32(298.15),\n",
       " np.float32(298.15),\n",
       " np.float32(298.15),\n",
       " np.float32(298.15),\n",
       " np.float32(298.15),\n",
       " np.float32(298.15),\n",
       " np.float32(298.15),\n",
       " np.float32(298.15),\n",
       " np.float32(298.15),\n",
       " np.float32(298.15),\n",
       " np.float32(298.15),\n",
       " np.float32(298.15),\n",
       " np.float32(298.15),\n",
       " np.float32(298.15),\n",
       " np.float32(298.15),\n",
       " np.float32(298.15),\n",
       " np.float32(298.15),\n",
       " np.float32(298.15),\n",
       " np.float32(298.15),\n",
       " np.float32(298.15),\n",
       " np.float32(298.15),\n",
       " np.float32(298.15),\n",
       " np.float32(298.15),\n",
       " np.float32(298.15),\n",
       " np.float32(298.15),\n",
       " np.float32(298.15),\n",
       " np.float32(298.15),\n",
       " np.float32(298.15),\n",
       " np.float32(298.15),\n",
       " np.float32(298.15),\n",
       " np.float32(298.15),\n",
       " np.float32(298.15),\n",
       " np.float32(298.15),\n",
       " np.float32(298.15),\n",
       " np.float32(298.15),\n",
       " np.float32(298.15),\n",
       " np.float32(298.15),\n",
       " np.float32(298.15),\n",
       " np.float32(298.15),\n",
       " np.float32(298.15),\n",
       " np.float32(298.15),\n",
       " np.float32(298.15),\n",
       " np.float32(298.15),\n",
       " np.float32(298.15),\n",
       " np.float32(298.15),\n",
       " np.float32(298.15),\n",
       " np.float32(298.15),\n",
       " np.float32(298.15),\n",
       " np.float32(298.15),\n",
       " np.float32(298.15),\n",
       " np.float32(298.15),\n",
       " np.float32(298.15),\n",
       " np.float32(298.15),\n",
       " np.float32(298.15),\n",
       " np.float32(298.15),\n",
       " np.float32(298.15),\n",
       " np.float32(298.15),\n",
       " np.float32(298.15),\n",
       " np.float32(298.15),\n",
       " np.float32(298.15),\n",
       " np.float32(298.15),\n",
       " np.float32(298.15),\n",
       " np.float32(298.15),\n",
       " np.float32(298.15),\n",
       " np.float32(298.15),\n",
       " np.float32(298.15),\n",
       " np.float32(298.15),\n",
       " np.float32(298.15),\n",
       " np.float32(298.15),\n",
       " np.float32(298.15),\n",
       " np.float32(298.15),\n",
       " np.float32(298.15),\n",
       " np.float32(298.15),\n",
       " np.float32(298.15),\n",
       " np.float32(298.15),\n",
       " np.float32(298.15),\n",
       " np.float32(298.15),\n",
       " np.float32(298.15),\n",
       " np.float32(298.15),\n",
       " np.float32(298.15),\n",
       " np.float32(298.15),\n",
       " np.float32(298.15),\n",
       " np.float32(298.15),\n",
       " np.float32(298.15),\n",
       " np.float32(298.15),\n",
       " np.float32(298.15),\n",
       " np.float32(298.15),\n",
       " np.float32(298.15),\n",
       " np.float32(298.15),\n",
       " np.float32(298.15),\n",
       " np.float32(298.15),\n",
       " np.float32(298.15),\n",
       " np.float32(298.15),\n",
       " np.float32(298.15),\n",
       " np.float32(298.15),\n",
       " np.float32(298.15),\n",
       " np.float32(298.15),\n",
       " np.float32(298.15),\n",
       " np.float32(298.15),\n",
       " np.float32(298.15),\n",
       " np.float32(298.15),\n",
       " np.float32(298.15),\n",
       " np.float32(298.15),\n",
       " np.float32(298.15),\n",
       " np.float32(298.15),\n",
       " np.float32(298.15),\n",
       " np.float32(298.15),\n",
       " np.float32(298.15),\n",
       " np.float32(298.15),\n",
       " np.float32(298.15),\n",
       " np.float32(298.15),\n",
       " np.float32(298.15),\n",
       " np.float32(298.15),\n",
       " np.float32(298.15),\n",
       " np.float32(298.15),\n",
       " np.float32(298.15),\n",
       " np.float32(298.15),\n",
       " np.float32(298.15),\n",
       " np.float32(298.15),\n",
       " np.float32(298.15),\n",
       " np.float32(298.15),\n",
       " np.float32(298.15),\n",
       " np.float32(298.15),\n",
       " np.float32(298.15),\n",
       " np.float32(298.15),\n",
       " np.float32(298.15),\n",
       " np.float32(298.15),\n",
       " np.float32(298.15),\n",
       " np.float32(298.15),\n",
       " np.float32(298.15),\n",
       " np.float32(298.15),\n",
       " np.float32(298.15),\n",
       " np.float32(298.15),\n",
       " np.float32(298.15),\n",
       " np.float32(298.15),\n",
       " np.float32(298.15),\n",
       " np.float32(298.15),\n",
       " np.float32(298.15),\n",
       " np.float32(298.15),\n",
       " np.float32(298.15),\n",
       " np.float32(298.15),\n",
       " np.float32(298.15),\n",
       " np.float32(298.15),\n",
       " np.float32(298.15),\n",
       " np.float32(298.15),\n",
       " np.float32(298.15),\n",
       " np.float32(298.15),\n",
       " np.float32(298.15),\n",
       " np.float32(298.15),\n",
       " np.float32(298.15),\n",
       " np.float32(298.15),\n",
       " np.float32(298.15),\n",
       " np.float32(298.15),\n",
       " np.float32(298.15),\n",
       " np.float32(298.15),\n",
       " np.float32(298.15),\n",
       " np.float32(298.15),\n",
       " np.float32(298.15),\n",
       " np.float32(298.15),\n",
       " np.float32(298.15),\n",
       " np.float32(298.15),\n",
       " np.float32(298.15),\n",
       " np.float32(298.15),\n",
       " np.float32(298.15),\n",
       " np.float32(298.15),\n",
       " np.float32(298.15),\n",
       " np.float32(298.15),\n",
       " np.float32(298.15),\n",
       " np.float32(298.15),\n",
       " np.float32(298.15),\n",
       " np.float32(298.15),\n",
       " np.float32(298.15),\n",
       " np.float32(298.15),\n",
       " np.float32(298.15),\n",
       " np.float32(298.15),\n",
       " np.float32(298.15),\n",
       " np.float32(298.15),\n",
       " np.float32(298.15),\n",
       " np.float32(298.15),\n",
       " np.float32(298.15),\n",
       " np.float32(298.15),\n",
       " np.float32(298.15),\n",
       " np.float32(298.15),\n",
       " np.float32(298.15),\n",
       " np.float32(298.15),\n",
       " np.float32(298.15),\n",
       " np.float32(298.15),\n",
       " np.float32(298.15),\n",
       " np.float32(298.15),\n",
       " np.float32(298.15),\n",
       " np.float32(298.15),\n",
       " np.float32(298.15),\n",
       " np.float32(298.15),\n",
       " np.float32(298.15),\n",
       " np.float32(298.15),\n",
       " np.float32(298.15),\n",
       " np.float32(298.15),\n",
       " np.float32(298.15),\n",
       " np.float32(298.15),\n",
       " np.float32(298.15),\n",
       " np.float32(298.15),\n",
       " np.float32(298.15),\n",
       " np.float32(298.15),\n",
       " np.float32(298.15),\n",
       " np.float32(298.15),\n",
       " np.float32(298.15),\n",
       " np.float32(298.15),\n",
       " np.float32(298.15),\n",
       " np.float32(298.15),\n",
       " np.float32(298.15),\n",
       " np.float32(298.15),\n",
       " np.float32(298.15),\n",
       " np.float32(298.15),\n",
       " np.float32(298.15),\n",
       " np.float32(298.15),\n",
       " np.float32(298.15),\n",
       " np.float32(298.15),\n",
       " np.float32(298.15),\n",
       " np.float32(298.15),\n",
       " np.float32(298.15),\n",
       " np.float32(298.15),\n",
       " np.float32(298.15),\n",
       " np.float32(298.15),\n",
       " np.float32(298.15),\n",
       " np.float32(298.15),\n",
       " np.float32(298.15),\n",
       " np.float32(298.15),\n",
       " np.float32(298.15),\n",
       " np.float32(298.15),\n",
       " np.float32(298.15),\n",
       " np.float32(298.15),\n",
       " np.float32(298.15),\n",
       " np.float32(298.15),\n",
       " np.float32(298.15),\n",
       " np.float32(298.15),\n",
       " np.float32(298.15),\n",
       " np.float32(298.15),\n",
       " np.float32(298.15),\n",
       " np.float32(298.15),\n",
       " np.float32(298.15),\n",
       " np.float32(298.15),\n",
       " np.float32(298.15),\n",
       " np.float32(298.15),\n",
       " np.float32(298.15),\n",
       " np.float32(298.15),\n",
       " np.float32(298.15),\n",
       " np.float32(298.15),\n",
       " np.float32(298.15),\n",
       " np.float32(298.15),\n",
       " np.float32(298.15),\n",
       " np.float32(298.15),\n",
       " np.float32(298.15),\n",
       " np.float32(298.15),\n",
       " np.float32(298.15),\n",
       " np.float32(298.15),\n",
       " np.float32(298.15),\n",
       " np.float32(298.15),\n",
       " np.float32(298.15),\n",
       " np.float32(298.15),\n",
       " np.float32(298.15),\n",
       " np.float32(298.15),\n",
       " np.float32(298.15),\n",
       " np.float32(298.15),\n",
       " np.float32(298.15),\n",
       " np.float32(298.15),\n",
       " np.float32(298.15),\n",
       " np.float32(298.15),\n",
       " np.float32(298.15),\n",
       " np.float32(298.15),\n",
       " np.float32(298.15),\n",
       " np.float32(298.15),\n",
       " np.float32(298.15),\n",
       " np.float32(298.15),\n",
       " np.float32(298.15),\n",
       " np.float32(298.15),\n",
       " np.float32(298.15),\n",
       " np.float32(298.15),\n",
       " np.float32(298.15),\n",
       " np.float32(298.15),\n",
       " np.float32(298.15),\n",
       " np.float32(298.15),\n",
       " np.float32(298.15),\n",
       " np.float32(298.15),\n",
       " np.float32(298.15),\n",
       " np.float32(298.15),\n",
       " np.float32(298.15),\n",
       " np.float32(298.15),\n",
       " np.float32(298.15),\n",
       " np.float32(298.15),\n",
       " np.float32(298.15),\n",
       " np.float32(298.15),\n",
       " np.float32(298.15),\n",
       " np.float32(298.15),\n",
       " np.float32(298.15),\n",
       " np.float32(298.15),\n",
       " np.float32(298.15),\n",
       " np.float32(298.15),\n",
       " np.float32(298.15),\n",
       " np.float32(298.15),\n",
       " np.float32(298.15),\n",
       " np.float32(298.15),\n",
       " np.float32(298.15),\n",
       " np.float32(298.15),\n",
       " np.float32(298.15),\n",
       " np.float32(298.15),\n",
       " np.float32(298.15),\n",
       " np.float32(298.15),\n",
       " np.float32(298.15),\n",
       " np.float32(298.15),\n",
       " np.float32(298.15),\n",
       " np.float32(298.15),\n",
       " np.float32(298.15),\n",
       " np.float32(298.15),\n",
       " np.float32(298.15),\n",
       " np.float32(298.15),\n",
       " np.float32(298.15),\n",
       " np.float32(298.15),\n",
       " np.float32(298.15),\n",
       " np.float32(298.15),\n",
       " np.float32(298.15),\n",
       " np.float32(298.15),\n",
       " np.float32(298.15),\n",
       " np.float32(298.15),\n",
       " np.float32(298.15),\n",
       " np.float32(298.15),\n",
       " np.float32(298.15),\n",
       " np.float32(298.15),\n",
       " np.float32(298.15),\n",
       " np.float32(298.15),\n",
       " np.float32(298.15),\n",
       " np.float32(298.15),\n",
       " np.float32(298.15),\n",
       " np.float32(298.15),\n",
       " np.float32(298.15),\n",
       " np.float32(298.15),\n",
       " np.float32(298.15),\n",
       " np.float32(298.15),\n",
       " np.float32(298.15),\n",
       " np.float32(298.15),\n",
       " np.float32(298.15),\n",
       " np.float32(298.15),\n",
       " np.float32(298.15),\n",
       " np.float32(298.15),\n",
       " np.float32(298.15),\n",
       " np.float32(298.15),\n",
       " np.float32(298.15),\n",
       " np.float32(298.15),\n",
       " np.float32(298.15),\n",
       " np.float32(298.15),\n",
       " np.float32(298.15),\n",
       " np.float32(298.15),\n",
       " np.float32(298.15),\n",
       " np.float32(298.15),\n",
       " np.float32(298.15),\n",
       " np.float32(298.15),\n",
       " np.float32(298.15),\n",
       " np.float32(298.15),\n",
       " np.float32(298.15),\n",
       " np.float32(298.15),\n",
       " np.float32(298.15),\n",
       " np.float32(298.15),\n",
       " np.float32(298.15),\n",
       " np.float32(298.15),\n",
       " np.float32(298.15),\n",
       " np.float32(298.15),\n",
       " np.float32(298.15),\n",
       " np.float32(298.15),\n",
       " np.float32(298.15),\n",
       " np.float32(298.15),\n",
       " np.float32(298.15),\n",
       " np.float32(298.15),\n",
       " np.float32(298.15),\n",
       " np.float32(298.15),\n",
       " np.float32(298.15),\n",
       " np.float32(298.15),\n",
       " np.float32(298.15),\n",
       " np.float32(298.15),\n",
       " np.float32(298.15),\n",
       " np.float32(298.15),\n",
       " np.float32(298.15),\n",
       " np.float32(298.15),\n",
       " np.float32(298.15),\n",
       " np.float32(298.15),\n",
       " np.float32(298.15),\n",
       " np.float32(298.15),\n",
       " np.float32(298.15),\n",
       " np.float32(298.15),\n",
       " np.float32(298.15),\n",
       " np.float32(298.15),\n",
       " np.float32(298.15),\n",
       " np.float32(298.15),\n",
       " np.float32(298.15),\n",
       " np.float32(298.15),\n",
       " np.float32(298.15),\n",
       " np.float32(298.15),\n",
       " np.float32(298.15),\n",
       " np.float32(298.15),\n",
       " np.float32(298.15),\n",
       " np.float32(298.15),\n",
       " np.float32(298.15),\n",
       " np.float32(298.15),\n",
       " np.float32(298.15),\n",
       " np.float32(298.15),\n",
       " np.float32(298.15),\n",
       " np.float32(298.15),\n",
       " np.float32(298.15),\n",
       " np.float32(298.15),\n",
       " np.float32(298.15),\n",
       " np.float32(298.15),\n",
       " np.float32(298.15),\n",
       " np.float32(298.15),\n",
       " np.float32(298.15),\n",
       " np.float32(298.15),\n",
       " np.float32(298.15),\n",
       " np.float32(298.15),\n",
       " np.float32(298.15),\n",
       " np.float32(298.15),\n",
       " np.float32(298.15),\n",
       " np.float32(298.15),\n",
       " np.float32(298.15),\n",
       " np.float32(298.15),\n",
       " np.float32(298.15),\n",
       " np.float32(298.15),\n",
       " np.float32(298.15),\n",
       " np.float32(298.15),\n",
       " np.float32(298.15),\n",
       " np.float32(298.15),\n",
       " np.float32(298.15),\n",
       " np.float32(298.15),\n",
       " np.float32(298.15),\n",
       " np.float32(298.15),\n",
       " np.float32(298.15),\n",
       " np.float32(298.15),\n",
       " np.float32(298.15),\n",
       " np.float32(298.15),\n",
       " np.float32(298.15),\n",
       " np.float32(298.15),\n",
       " np.float32(298.15),\n",
       " np.float32(298.15),\n",
       " np.float32(298.15),\n",
       " np.float32(298.15),\n",
       " np.float32(298.15),\n",
       " np.float32(298.15),\n",
       " np.float32(298.15),\n",
       " np.float32(298.15),\n",
       " np.float32(298.15),\n",
       " np.float32(298.15),\n",
       " np.float32(298.15),\n",
       " np.float32(298.15),\n",
       " np.float32(298.15),\n",
       " np.float32(298.15),\n",
       " np.float32(298.15),\n",
       " np.float32(298.15),\n",
       " np.float32(298.15),\n",
       " np.float32(298.15),\n",
       " np.float32(298.15),\n",
       " np.float32(298.15),\n",
       " np.float32(298.15),\n",
       " np.float32(298.15),\n",
       " np.float32(298.15),\n",
       " np.float32(298.15),\n",
       " np.float32(298.15),\n",
       " np.float32(298.15),\n",
       " np.float32(298.15),\n",
       " np.float32(298.15),\n",
       " np.float32(298.15),\n",
       " np.float32(298.15),\n",
       " np.float32(298.15),\n",
       " np.float32(298.15),\n",
       " np.float32(298.15),\n",
       " np.float32(298.15),\n",
       " np.float32(298.15),\n",
       " np.float32(298.15),\n",
       " np.float32(298.15),\n",
       " np.float32(298.15),\n",
       " np.float32(298.15),\n",
       " np.float32(298.15),\n",
       " np.float32(298.15),\n",
       " np.float32(298.15),\n",
       " np.float32(298.15),\n",
       " np.float32(298.15),\n",
       " np.float32(298.15),\n",
       " np.float32(298.15),\n",
       " np.float32(298.15),\n",
       " np.float32(298.15),\n",
       " np.float32(298.15),\n",
       " np.float32(298.15),\n",
       " np.float32(298.15),\n",
       " np.float32(298.15),\n",
       " np.float32(298.15),\n",
       " np.float32(298.15),\n",
       " np.float32(298.15),\n",
       " np.float32(298.15),\n",
       " np.float32(298.15),\n",
       " np.float32(298.15),\n",
       " np.float32(298.15),\n",
       " np.float32(298.15),\n",
       " np.float32(298.15),\n",
       " np.float32(298.15),\n",
       " np.float32(298.15),\n",
       " np.float32(298.15),\n",
       " np.float32(298.15),\n",
       " np.float32(298.15),\n",
       " np.float32(298.15),\n",
       " np.float32(298.15),\n",
       " np.float32(298.15),\n",
       " np.float32(298.15),\n",
       " np.float32(298.15),\n",
       " np.float32(298.15),\n",
       " np.float32(298.15),\n",
       " np.float32(298.15),\n",
       " np.float32(298.15),\n",
       " np.float32(298.15),\n",
       " np.float32(298.15),\n",
       " np.float32(298.15),\n",
       " np.float32(298.15),\n",
       " np.float32(298.15),\n",
       " np.float32(298.15),\n",
       " np.float32(298.15),\n",
       " np.float32(298.15),\n",
       " np.float32(298.15),\n",
       " np.float32(298.15),\n",
       " np.float32(298.15),\n",
       " np.float32(298.15),\n",
       " np.float32(298.15),\n",
       " np.float32(298.15),\n",
       " np.float32(298.15),\n",
       " np.float32(298.15),\n",
       " np.float32(298.15),\n",
       " np.float32(298.15),\n",
       " np.float32(298.15),\n",
       " np.float32(298.15),\n",
       " np.float32(298.15),\n",
       " np.float32(298.15),\n",
       " np.float32(298.15),\n",
       " np.float32(298.15),\n",
       " np.float32(298.15),\n",
       " np.float32(298.15),\n",
       " np.float32(298.15),\n",
       " np.float32(298.15),\n",
       " np.float32(298.15),\n",
       " np.float32(298.15),\n",
       " np.float32(298.15),\n",
       " np.float32(298.15),\n",
       " np.float32(298.15),\n",
       " np.float32(298.15),\n",
       " np.float32(298.15),\n",
       " np.float32(298.15),\n",
       " np.float32(298.15),\n",
       " np.float32(298.15),\n",
       " np.float32(298.15),\n",
       " np.float32(298.15),\n",
       " np.float32(298.15),\n",
       " np.float32(298.15),\n",
       " np.float32(298.15),\n",
       " np.float32(298.15),\n",
       " np.float32(298.15),\n",
       " np.float32(298.15),\n",
       " np.float32(298.15),\n",
       " np.float32(298.15),\n",
       " np.float32(298.15),\n",
       " np.float32(298.15),\n",
       " np.float32(298.15),\n",
       " np.float32(298.15),\n",
       " np.float32(298.15),\n",
       " np.float32(298.15),\n",
       " np.float32(298.15),\n",
       " np.float32(298.15),\n",
       " np.float32(298.15),\n",
       " np.float32(298.15),\n",
       " np.float32(298.15),\n",
       " np.float32(298.15),\n",
       " np.float32(298.15),\n",
       " np.float32(298.15),\n",
       " np.float32(298.15),\n",
       " np.float32(298.15),\n",
       " np.float32(298.15),\n",
       " np.float32(298.15),\n",
       " np.float32(298.15),\n",
       " np.float32(298.15),\n",
       " np.float32(298.15),\n",
       " np.float32(298.15),\n",
       " np.float32(298.15),\n",
       " np.float32(298.15),\n",
       " np.float32(298.15),\n",
       " np.float32(298.15),\n",
       " np.float32(298.15),\n",
       " np.float32(298.15),\n",
       " np.float32(298.15),\n",
       " np.float32(298.15),\n",
       " np.float32(298.15),\n",
       " np.float32(298.15),\n",
       " np.float32(298.15),\n",
       " np.float32(298.15),\n",
       " np.float32(298.15),\n",
       " np.float32(298.15),\n",
       " np.float32(298.15),\n",
       " np.float32(298.15),\n",
       " np.float32(298.15),\n",
       " np.float32(298.15),\n",
       " np.float32(298.15),\n",
       " np.float32(298.15),\n",
       " np.float32(298.15),\n",
       " np.float32(298.15),\n",
       " np.float32(298.15),\n",
       " np.float32(298.15),\n",
       " np.float32(298.15),\n",
       " np.float32(298.15),\n",
       " np.float32(298.15),\n",
       " np.float32(298.15),\n",
       " np.float32(298.15),\n",
       " np.float32(298.15),\n",
       " np.float32(298.15),\n",
       " np.float32(298.15),\n",
       " np.float32(298.15),\n",
       " np.float32(298.15),\n",
       " np.float32(298.15),\n",
       " np.float32(298.15),\n",
       " np.float32(298.15),\n",
       " np.float32(298.15),\n",
       " np.float32(298.15),\n",
       " np.float32(298.15),\n",
       " np.float32(298.15),\n",
       " np.float32(298.15),\n",
       " np.float32(298.15),\n",
       " np.float32(298.15),\n",
       " ...]"
      ]
     },
     "execution_count": 347,
     "metadata": {},
     "output_type": "execute_result"
    }
   ],
   "source": [
    "steps = int(t//delta_t)\n",
    "for i in range(steps):\n",
    "    F = create_vector_F(tiles, tile_matrix, T_u)\n",
    "    T_n = np.linalg.solve(B, F)\n",
    "    for temp,  tile in zip(T_n, tiles):\n",
    "        tile.temps.append(temp)\n",
    "tiles[1800].temps"
   ]
  },
  {
   "cell_type": "code",
   "execution_count": 349,
   "id": "7d6c76a8",
   "metadata": {},
   "outputs": [
    {
     "data": {
      "text/plain": [
       "1800"
      ]
     },
     "execution_count": 349,
     "metadata": {},
     "output_type": "execute_result"
    }
   ],
   "source": [
    "frames"
   ]
  },
  {
   "cell_type": "code",
   "execution_count": 350,
   "id": "d9fde829",
   "metadata": {},
   "outputs": [
    {
     "data": {
      "text/plain": [
       "48"
      ]
     },
     "execution_count": 350,
     "metadata": {},
     "output_type": "execute_result"
    }
   ],
   "source": [
    "int(t//frames)\n"
   ]
  },
  {
   "cell_type": "code",
   "execution_count": 351,
   "id": "2fdb67c1",
   "metadata": {},
   "outputs": [
    {
     "data": {
      "text/plain": [
       "1461"
      ]
     },
     "execution_count": 351,
     "metadata": {},
     "output_type": "execute_result"
    }
   ],
   "source": [
    "len(tiles[0].temps)"
   ]
  },
  {
   "cell_type": "code",
   "execution_count": 352,
   "id": "bbb49bc7",
   "metadata": {},
   "outputs": [],
   "source": [
    "def get_temp_matrix(tile_matrix, k):\n",
    "    n = len(tile_matrix)\n",
    "    temp_array = np.zeros((n, n), dtype=np.float32)\n",
    "\n",
    "    for i in range(n):\n",
    "        for j in range(n):\n",
    "            temp_array[j, i] = tile_matrix[i][j].temps[k]\n",
    "\n",
    "    return temp_array\n",
    "\n",
    "import matplotlib.pyplot as plt\n",
    "\n",
    "for k in range(len(tiles[0].temps)):\n",
    "    ## k = 0  # Zeitpunkt\n",
    "    #if k % int(t//frames)  != 0:\n",
    "    #    continue\n",
    "    temp_map = get_temp_matrix(tile_matrix, k)\n",
    "\n",
    "    plt.imshow(temp_map, cmap='coolwarm', origin='lower', extent=[0, delta_x * n, 0, delta_y * n],\n",
    "           vmin=273.15, vmax=298.15)\n",
    "    plt.title(f\"Temperaturverteilung zu t = {round(k*delta_t, 3)} s\", loc='left')\n",
    "    plt.colorbar(label='Temperatur [K]')\n",
    "    plt.grid(True, color='gray', alpha=0.3)\n",
    "\n",
    "    plt.savefig(f\"frames/temperatur_t{(k*delta_t):.2f}s.png\", dpi=300, bbox_inches='tight')\n",
    "    plt.close()"
   ]
  },
  {
   "cell_type": "code",
   "execution_count": 355,
   "id": "cc2f1a88",
   "metadata": {},
   "outputs": [
    {
     "name": "stderr",
     "output_type": "stream",
     "text": [
      "IMAGEIO FFMPEG_WRITER WARNING: input image is not divisible by macro_block_size=16, resizing from (1561, 1302) to (1568, 1312) to ensure video compatibility with most codecs and players. To prevent resizing, make your input image divisible by the macro_block_size or set the macro_block_size to 1 (risking incompatibility).\n"
     ]
    },
    {
     "name": "stdout",
     "output_type": "stream",
     "text": [
      "Video gespeichert als schweineheizung_schnell_video.mp4\n"
     ]
    }
   ],
   "source": [
    "import imageio.v2 as imageio\n",
    "import os\n",
    "from natsort import natsorted\n",
    "\n",
    "# Verzeichnis mit Frames\n",
    "frame_dir = \"frames\"\n",
    "filenames = natsorted([\n",
    "    os.path.join(frame_dir, f) for f in os.listdir(frame_dir)\n",
    "    if f.endswith(\".png\")\n",
    "])\n",
    "\n",
    "# Ausgabe-Datei\n",
    "output_path = \"schweineheizung_schnell_video.mp4\"\n",
    "\n",
    "# Video erstellen\n",
    "with imageio.get_writer(output_path, fps=40) as writer:\n",
    "    for filename in filenames:\n",
    "        image = imageio.imread(filename)\n",
    "        writer.append_data(image)\n",
    "\n",
    "print(f\"Video gespeichert als {output_path}\")\n"
   ]
  },
  {
   "cell_type": "markdown",
   "id": "53ab1289",
   "metadata": {},
   "source": [
    "In der Animation lässt sich nun sehen, dass sich in weiten Teilen des Wohnraumes eine Temperatur von 8°C eingestellt hat. Zwar wurde in den Annahmen ein unrealistisch dicht bepackter Stall angenommen und das Haus ist erstaunlich gut isoliert, aber ich bin dennoch davon überrascht, wie stark der Einfluss der Schweine ist. "
   ]
  },
  {
   "cell_type": "markdown",
   "id": "d798c059",
   "metadata": {},
   "source": []
  }
 ],
 "metadata": {
  "kernelspec": {
   "display_name": ".venv",
   "language": "python",
   "name": "python3"
  },
  "language_info": {
   "codemirror_mode": {
    "name": "ipython",
    "version": 3
   },
   "file_extension": ".py",
   "mimetype": "text/x-python",
   "name": "python",
   "nbconvert_exporter": "python",
   "pygments_lexer": "ipython3",
   "version": "3.13.6"
  }
 },
 "nbformat": 4,
 "nbformat_minor": 5
}
