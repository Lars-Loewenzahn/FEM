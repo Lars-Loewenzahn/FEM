{
 "cells": [
  {
   "cell_type": "code",
   "execution_count": 14,
   "id": "57c07196",
   "metadata": {},
   "outputs": [],
   "source": [
    "import numpy as np\n",
    "import matplotlib.pyplot as plt\n",
    "from matplotlib.animation import FuncAnimation\n",
    "from matplotlib.patches import Circle\n",
    "import os"
   ]
  },
  {
   "cell_type": "code",
   "execution_count": 2,
   "id": "947130bc",
   "metadata": {},
   "outputs": [],
   "source": [
    "def ruku_schritt(f, y, h):\n",
    "    k1 = f(y)\n",
    "    k2 = f(y + 0.5 * h * k1)\n",
    "    k3 = f(y + 0.5 * h * k2)\n",
    "    k4 = f(y + h * k3)\n",
    "    return y + (h / 6) * (k1 + 2 * k2 + 2 * k3 + k4)"
   ]
  },
  {
   "cell_type": "code",
   "execution_count": null,
   "id": "fabf805a",
   "metadata": {},
   "outputs": [],
   "source": [
    "# Die Eingangsgröße für y sollte folgende Form haben: \n",
    "# y = [x1_x, x1_y, x2_x, x2_y, v1_x, v1_y, v2_x, v2_y]\n",
    "# m1 und m2 sind natürlich skalar\n",
    "def rechte_seite(y, m1, m2):\n",
    "    x1 = y[0:2]\n",
    "    x2 = y[2:4]\n",
    "    v1 = y[4:6]\n",
    "    v2 = y[6:8]\n",
    "\n",
    "    r = x2 - x1\n",
    "    r_norm = np.linalg.norm(r)\n",
    "    #if r_norm == 0:\n",
    "    #    F1 = np.zeros(2)\n",
    "    #else:\n",
    "\n",
    "    F1 = (m1 * m2 / r_norm**3) * r\n",
    "    F2 = -F1\n",
    "\n",
    "    return np.concatenate([v1, v2, F1 / m1, F2 / m2])"
   ]
  },
  {
   "cell_type": "code",
   "execution_count": 20,
   "id": "1fcc27e2",
   "metadata": {},
   "outputs": [],
   "source": [
    "def erzeuge_frame(x_1, x_2, r1, r2, name):\n",
    "    fig, ax = plt.subplots()\n",
    "    ax.add_patch(Circle(x_1, r1, fill=True, color='blue'))\n",
    "    ax.add_patch(Circle(x_2, r2, fill=True, color='red'))\n",
    "    ax.set_aspect('equal')\n",
    "    ax.set_xlim(-5, 5)\n",
    "    ax.set_ylim(-5, 5)\n",
    "    ax.axis('off') \n",
    "\n",
    "    os.makedirs(os.path.dirname(name), exist_ok=True)\n",
    "\n",
    "    plt.savefig(name, dpi=300, bbox_inches='tight')\n",
    "    plt.close()"
   ]
  },
  {
   "cell_type": "code",
   "execution_count": null,
   "id": "88bec2d7",
   "metadata": {},
   "outputs": [],
   "source": [
    "# teste erzeuge frame\n",
    "name = \"testframe/test.jpg\"\n",
    "x_1 = (2,0)\n",
    "x_2 = (0, 2)\n",
    "erzeuge_frame(x_1, x_2, 0.5, 0.1, name)"
   ]
  },
  {
   "cell_type": "code",
   "execution_count": 28,
   "id": "8062827c",
   "metadata": {},
   "outputs": [
    {
     "name": "stdout",
     "output_type": "stream",
     "text": [
      "Collecting imageio\n",
      "  Downloading imageio-2.37.0-py3-none-any.whl.metadata (5.2 kB)\n",
      "Requirement already satisfied: numpy in c:\\users\\lars\\documents\\github\\fem\\.venv\\lib\\site-packages (from imageio) (2.2.3)\n",
      "Requirement already satisfied: pillow>=8.3.2 in c:\\users\\lars\\documents\\github\\fem\\.venv\\lib\\site-packages (from imageio) (11.1.0)\n",
      "Downloading imageio-2.37.0-py3-none-any.whl (315 kB)\n",
      "Installing collected packages: imageio\n",
      "Successfully installed imageio-2.37.0\n",
      "Note: you may need to restart the kernel to use updated packages.\n"
     ]
    },
    {
     "name": "stderr",
     "output_type": "stream",
     "text": [
      "\n",
      "[notice] A new release of pip is available: 25.0.1 -> 25.1.1\n",
      "[notice] To update, run: python.exe -m pip install --upgrade pip\n"
     ]
    }
   ],
   "source": [
    "pip install imageio"
   ]
  },
  {
   "cell_type": "code",
   "execution_count": 29,
   "id": "c731502f",
   "metadata": {},
   "outputs": [],
   "source": [
    "import imageio.v2 as imageio\n",
    "\n",
    "def erstelle_gif(frame_ordner, ausgabepfad, delay_ms=100):\n",
    "    bilder = []\n",
    "    dateien = sorted(os.listdir(frame_ordner))\n",
    "    for datei in dateien:\n",
    "        pfad = os.path.join(frame_ordner, datei)\n",
    "        bilder.append(imageio.imread(pfad))\n",
    "    imageio.mimsave(ausgabepfad, bilder, duration=delay_ms / 1000)"
   ]
  },
  {
   "cell_type": "code",
   "execution_count": 34,
   "id": "3659da03",
   "metadata": {},
   "outputs": [],
   "source": [
    "def doppelstern(m1, m2, x1_init, x2_init, p, h):\n",
    "    y = np.array([\n",
    "        x1_init, 0.0,  # x1\n",
    "        x2_init, 0.0,  # x2\n",
    "        0.0, p / m1,   # v1\n",
    "        0.0, -p / m2   # v2\n",
    "    ])\n",
    "    \n",
    "    f = lambda y: rechte_seite(y, m1, m2)\n",
    "    for i in range(1000):\n",
    "        name = f\"frames/frame_{i+1}\"\n",
    "        x1 = y[0:2]\n",
    "        x2 = y[2:4]\n",
    "        r1 = m1**(2/3)*0.05 # Hier ist es der Planetenradius\n",
    "        r2 = m2**(2/3)*0.05\n",
    "        erzeuge_frame(x1, x2, r1, r2, name)\n",
    "        y = ruku_schritt(f, y, h)\n",
    "\n",
    "    erstelle_gif(\"frames\", \"doppelstern.gif\", 10)\n"
   ]
  },
  {
   "cell_type": "code",
   "execution_count": 35,
   "id": "75e681e3",
   "metadata": {},
   "outputs": [],
   "source": [
    "doppelstern(1, 5, -1, 1, 1, 0.01)"
   ]
  }
 ],
 "metadata": {
  "kernelspec": {
   "display_name": ".venv",
   "language": "python",
   "name": "python3"
  },
  "language_info": {
   "codemirror_mode": {
    "name": "ipython",
    "version": 3
   },
   "file_extension": ".py",
   "mimetype": "text/x-python",
   "name": "python",
   "nbconvert_exporter": "python",
   "pygments_lexer": "ipython3",
   "version": "3.13.5"
  }
 },
 "nbformat": 4,
 "nbformat_minor": 5
}
