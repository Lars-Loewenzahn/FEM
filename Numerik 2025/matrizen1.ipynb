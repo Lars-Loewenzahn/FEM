{
 "cells": [
  {
   "cell_type": "code",
   "execution_count": 2,
   "metadata": {},
   "outputs": [],
   "source": [
    "import random as rn\n",
    "def create_random_matrix(n):\n",
    "    matrix = []\n",
    "    for i in range(n):\n",
    "        row = []\n",
    "        for j in range(n):\n",
    "            row.append(rn.randint(-99, 99))\n",
    "        matrix.append(row)\n",
    "    return matrix"
   ]
  },
  {
   "cell_type": "code",
   "execution_count": 5,
   "metadata": {},
   "outputs": [],
   "source": [
    "def create_identity_matrix(n):\n",
    "    matrix = []\n",
    "    for i in range(n):\n",
    "        row = []\n",
    "        for j in range(n):\n",
    "            if i == j:\n",
    "                row.append(1)\n",
    "            else:\n",
    "                row.append(0)\n",
    "        matrix.append(row)\n",
    "    return matrix\n",
    "    "
   ]
  },
  {
   "cell_type": "code",
   "execution_count": 15,
   "metadata": {},
   "outputs": [],
   "source": [
    "def vector_multiply(vector, factor):\n",
    "    new_vec = []\n",
    "    for num in vector:\n",
    "        new_vec.append(num*factor)\n",
    "    return new_vec"
   ]
  },
  {
   "cell_type": "code",
   "execution_count": 19,
   "metadata": {},
   "outputs": [],
   "source": [
    "def vector_add(v1, v2):\n",
    "    new_vec =[]\n",
    "    for i in range(len(v1)):\n",
    "        new_vec.append(v1[i]+v2[i])\n",
    "    return new_vec"
   ]
  },
  {
   "cell_type": "code",
   "execution_count": 29,
   "metadata": {},
   "outputs": [
    {
     "name": "stdout",
     "output_type": "stream",
     "text": [
      "     3     5     1 \n",
      "     6     8     6 \n",
      "    12    26    -7 \n"
     ]
    }
   ],
   "source": [
    "def print_matrix(m):\n",
    "    for row in m:\n",
    "        for digit in row:\n",
    "            print(str(digit).rjust(6), end=\"\")\n",
    "        print(\" \")\n",
    "m = [[3,5,1], [6,8,6], [12, 26, -7]]\n",
    "print_matrix(m)"
   ]
  },
  {
   "cell_type": "code",
   "execution_count": 31,
   "metadata": {},
   "outputs": [
    {
     "name": "stdout",
     "output_type": "stream",
     "text": [
      "L:  \n",
      "     1     0     0 \n",
      "   2.0     1     0 \n",
      "   4.0  -3.0     1 \n",
      "\n",
      "\n",
      "R:   \n",
      "     3     5     1 \n",
      "   0.0  -2.0   4.0 \n",
      "   0.0   0.0   1.0 \n"
     ]
    }
   ],
   "source": [
    "def lr_split(matrix):\n",
    "    n = len(matrix)\n",
    "    L = create_identity_matrix(n)\n",
    "    R = matrix\n",
    "    for i in range(0,n-1): # i Spalte\n",
    "        for j in range(i+1, n):  # j Zeile\n",
    "            div = R[j][i]/R[i][i]\n",
    "            R[j] = vector_add(R[j],vector_multiply(R[i], -div))\n",
    "            L[j][i] = div\n",
    "    return L,R\n",
    "L, R = lr_split([[3,5,1], [6,8,6], [12, 26, -7]])\n",
    "print(\"L:  \")\n",
    "print_matrix(L)\n",
    "print(\"\\n\\nR:   \")\n",
    "print_matrix(R)\n"
   ]
  }
 ],
 "metadata": {
  "kernelspec": {
   "display_name": "venv",
   "language": "python",
   "name": "python3"
  },
  "language_info": {
   "codemirror_mode": {
    "name": "ipython",
    "version": 3
   },
   "file_extension": ".py",
   "mimetype": "text/x-python",
   "name": "python",
   "nbconvert_exporter": "python",
   "pygments_lexer": "ipython3",
   "version": "3.13.3"
  }
 },
 "nbformat": 4,
 "nbformat_minor": 2
}
