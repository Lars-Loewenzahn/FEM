{
 "cells": [
  {
   "cell_type": "code",
   "execution_count": 19,
   "metadata": {},
   "outputs": [],
   "source": [
    "import random as rn\n",
    "def create_random_square_matrix(n):\n",
    "    matrix = []\n",
    "    for i in range(n):\n",
    "        row = []\n",
    "        for j in range(n):\n",
    "            row.append(rn.randint(-99, 99))\n",
    "        matrix.append(row)\n",
    "    return matrix"
   ]
  },
  {
   "cell_type": "code",
   "execution_count": 9,
   "metadata": {},
   "outputs": [],
   "source": [
    "def create_random_vector(n):\n",
    "    vector = []\n",
    "    for _ in range(n):\n",
    "        vector.append(rn.randint(-99,99))\n",
    "    return vector"
   ]
  },
  {
   "cell_type": "code",
   "execution_count": 2,
   "metadata": {},
   "outputs": [],
   "source": [
    "def create_identity_matrix(n):\n",
    "    matrix = []\n",
    "    for i in range(n):\n",
    "        row = []\n",
    "        for j in range(n):\n",
    "            if i == j:\n",
    "                row.append(1)\n",
    "            else:\n",
    "                row.append(0)\n",
    "        matrix.append(row)\n",
    "    return matrix\n",
    "    "
   ]
  },
  {
   "cell_type": "code",
   "execution_count": 3,
   "metadata": {},
   "outputs": [],
   "source": [
    "def vector_multiply(vector, factor):\n",
    "    new_vec = []\n",
    "    for num in vector:\n",
    "        new_vec.append(num*factor)\n",
    "    return new_vec"
   ]
  },
  {
   "cell_type": "code",
   "execution_count": 4,
   "metadata": {},
   "outputs": [],
   "source": [
    "def vector_add(v1, v2):\n",
    "    new_vec =[]\n",
    "    for i in range(len(v1)):\n",
    "        new_vec.append(v1[i]+v2[i])\n",
    "    return new_vec"
   ]
  },
  {
   "cell_type": "code",
   "execution_count": 5,
   "metadata": {},
   "outputs": [
    {
     "name": "stdout",
     "output_type": "stream",
     "text": [
      "     3     5     1 \n",
      "     6     8     6 \n",
      "    12    26    -7 \n"
     ]
    }
   ],
   "source": [
    "def print_matrix(m):\n",
    "    for row in m:\n",
    "        for digit in row:\n",
    "            print(str(digit).rjust(6), end=\"\")\n",
    "        print(\" \")\n",
    "m = [[3,5,1], [6,8,6], [12, 26, -7]]\n",
    "print_matrix(m)"
   ]
  },
  {
   "cell_type": "code",
   "execution_count": 6,
   "metadata": {},
   "outputs": [
    {
     "name": "stdout",
     "output_type": "stream",
     "text": [
      "L:  \n",
      "     1     0     0 \n",
      "   2.0     1     0 \n",
      "   4.0  -3.0     1 \n",
      "\n",
      "\n",
      "R:   \n",
      "     3     5     1 \n",
      "   0.0  -2.0   4.0 \n",
      "   0.0   0.0   1.0 \n"
     ]
    }
   ],
   "source": [
    "def lr_split(matrix):\n",
    "    n = len(matrix)\n",
    "    L = create_identity_matrix(n)\n",
    "    R = matrix\n",
    "    for i in range(0,n-1): # i Spalte\n",
    "        for j in range(i+1, n):  # j Zeile\n",
    "            div = R[j][i]/R[i][i]\n",
    "            R[j] = vector_add(R[j],vector_multiply(R[i], -div))\n",
    "            L[j][i] = div\n",
    "    return L,R\n",
    "L, R = lr_split([[3,5,1], [6,8,6], [12, 26, -7]])\n",
    "print(\"L:  \")\n",
    "print_matrix(L)\n",
    "print(\"\\n\\nR:   \")\n",
    "print_matrix(R)\n"
   ]
  },
  {
   "cell_type": "code",
   "execution_count": 7,
   "metadata": {},
   "outputs": [],
   "source": [
    "for i in range(1, 1):\n",
    "    print(i)\n",
    "    "
   ]
  },
  {
   "cell_type": "code",
   "execution_count": null,
   "metadata": {},
   "outputs": [],
   "source": [
    "def solve_with_upper(vektor, matrix):\n",
    "    n = len(matrix)\n",
    "    x = [0]*n\n",
    "    for i in range(n-1, -1, -1):\n",
    "        x[i] = vektor[i]\n",
    "        for j in range(i+1,n):\n",
    "            x[i] -= matrix[i][j]*x[j]\n",
    "        x[i] /= matrix[i][i]\n",
    "    return x"
   ]
  },
  {
   "cell_type": "code",
   "execution_count": 15,
   "metadata": {},
   "outputs": [],
   "source": [
    "def solve_with_lower(vector, matrix):\n",
    "    n = len(matrix)\n",
    "    x = [0]*n\n",
    "    for i in range(n):\n",
    "        x[i] = vector[i]\n",
    "        for j in range(i):\n",
    "            x[i] -= matrix[i][j]*x[j]\n",
    "        x[i] /= matrix[i][i]\n",
    "    return x"
   ]
  },
  {
   "cell_type": "code",
   "execution_count": 17,
   "metadata": {},
   "outputs": [],
   "source": [
    "def solve_matrix_vector(matrix, vector):\n",
    "    l,r = lr_split(matrix)\n",
    "    y = solve_with_lower(vector, l)\n",
    "    x = solve_with_upper(y, r)\n",
    "    return x"
   ]
  },
  {
   "cell_type": "code",
   "execution_count": 12,
   "metadata": {},
   "outputs": [
    {
     "name": "stdout",
     "output_type": "stream",
     "text": [
      "[50, 99, 0]\n",
      "[99.16666666666667, -49.5, 0.0]\n"
     ]
    }
   ],
   "source": [
    "vec = create_random_vector(3)\n",
    "print(vec)\n",
    "print(solve_with_upper(vec, R))"
   ]
  },
  {
   "cell_type": "code",
   "execution_count": 16,
   "metadata": {},
   "outputs": [
    {
     "name": "stdout",
     "output_type": "stream",
     "text": [
      "[-82, 78, 97]\n",
      "[-82.0, 242.0, 1151.0]\n"
     ]
    }
   ],
   "source": [
    "vec = create_random_vector(3)\n",
    "print(vec)\n",
    "print(solve_with_lower(vec, L))"
   ]
  },
  {
   "cell_type": "code",
   "execution_count": 20,
   "metadata": {},
   "outputs": [
    {
     "name": "stdout",
     "output_type": "stream",
     "text": [
      "    54    47   -54    96 \n",
      "    45   -57    38    -4 \n",
      "    99    65    83    39 \n",
      "   -96    83   -19    88 \n",
      "b: [-5, 38, 90, 50]\n",
      "x: [-0.1890904176538031, -0.14726423650538872, 1.0802942624659604, 0.7340436650231301]\n",
      "   -85    21    91     0 \n",
      "   -58    95     1    47 \n",
      "   -67   -26    26   -58 \n",
      "    84   -76    91   -19 \n",
      "b: [-78, 34, 10, -51]\n",
      "x: [1.3740120721544777, 2.716341937616493, -0.20057312699797517, -3.0672172502470025]\n",
      "   -92   -64   -17   -72 \n",
      "    76    51   -20   -48 \n",
      "    21    -8    86   -10 \n",
      "   -11   -50    15   -89 \n",
      "b: [73, 1, -97, 11]\n",
      "x: [-0.38688696128214123, -0.040114277423256295, -1.0642130770837388, -0.23260365967404228]\n",
      "   -85   -43   -92     0 \n",
      "     8    80    -4   -52 \n",
      "   -25    54    40   -12 \n",
      "    46    41    77    94 \n",
      "b: [-16, 18, 91, 5]\n",
      "x: [-1.1989461370368995, 0.1347000771963852, 1.2186773731379552, -0.4171206233295423]\n",
      "   -40    79   -74   -43 \n",
      "   -22     3    54   -71 \n",
      "    81    46   -30    52 \n",
      "   -55   -92   -38   -12 \n",
      "b: [65, 49, 69, -49]\n",
      "x: [1.684620407919791, 0.05008296807924462, -0.7159736519965448, -1.7545630602508606]\n",
      "   -93   -13    55   -55 \n",
      "   -58    78     6    83 \n",
      "   -55   -45   -16    27 \n",
      "     2   -43   -93    80 \n",
      "b: [-46, -77, -40, 87]\n",
      "x: [-0.42235459770069644, 1.3079598735720461, -3.4443974382751255, -2.2030247250073405]\n",
      "   -60   -69    77    95 \n",
      "    82   -29   -60    55 \n",
      "   -16    97   -79    93 \n",
      "   -31   -75   -20     8 \n",
      "b: [98, 97, -3, -73]\n",
      "x: [1.4215870793007916, 0.1742045714637316, 1.220087917842784, 1.0670375843700064]\n",
      "    86    61   -30    54 \n",
      "   -15   -13    26    45 \n",
      "    10   -11    30   -14 \n",
      "   -13   -97     1   -62 \n",
      "b: [44, 79, -39, -26]\n",
      "x: [-0.2537220806162356, -0.8661901499842103, -0.6852493770078272, 1.8166706809592272]\n",
      "    96    26    66    36 \n",
      "   -75   -21    44    26 \n",
      "   -50    84     1   -96 \n",
      "    44    -2    24     3 \n",
      "b: [-97, -93, 78, 38]\n",
      "x: [0.8686160844186922, -2.594886698383024, 0.21627710185579666, -3.533177185242178]\n",
      "    87   -91    19   -62 \n",
      "    -5   -50    82   -84 \n",
      "     6    -9    71   -94 \n",
      "     6   -47    98    71 \n",
      "b: [85, -14, 45, 80]\n",
      "x: [2.229547595309218, 1.1925301532660286, 1.0200219508671986, 0.3198518372769378]\n"
     ]
    }
   ],
   "source": [
    "n = 4\n",
    "for i in range(10):\n",
    "    m = create_random_square_matrix(n)\n",
    "    print_matrix(m)\n",
    "    b = create_random_vector(n)\n",
    "    print(\"b:\",b)\n",
    "    x = solve_matrix_vector(m,b)\n",
    "    print(\"x:\",x)\n"
   ]
  },
  {
   "cell_type": "code",
   "execution_count": null,
   "metadata": {},
   "outputs": [
    {
     "name": "stdout",
     "output_type": "stream",
     "text": [
      "[1.0, 2.0, 3.0]\n"
     ]
    }
   ],
   "source": [
    "# Programmieraufgabe 1 a)\n",
    "L = [[1,0,0],[-2,1,0],[4,5,1]]\n",
    "R = [[2,-1,6],[0,3,9],[0,0,-2]]\n",
    "b = [18,-3, 231]\n",
    "\n",
    "def vorrueck(L,R,b):\n",
    "    n = len(L)\n",
    "    y = [0]*n\n",
    "    for i in range(n):\n",
    "        y[i] = b[i]\n",
    "        for j in range(i):\n",
    "            y[i] -= L[i][j]*y[j]\n",
    "        y[i] /= L[i][i]\n",
    "\n",
    "    x = [0]*n\n",
    "    for i in range(n-1, -1, -1):\n",
    "        x[i] = y[i]\n",
    "        for j in range(i+1,n):\n",
    "            x[i] -= R[i][j]*x[j]\n",
    "        x[i] /= R[i][i]\n",
    "    return x\n",
    "\n",
    "x = vorrueck(L,R,b)\n",
    "print(x)"
   ]
  },
  {
   "cell_type": "code",
   "execution_count": 26,
   "metadata": {},
   "outputs": [
    {
     "name": "stdout",
     "output_type": "stream",
     "text": [
      "[[2, -1, 6], [-4, 5, -3], [8, 11, 67]]\n",
      "[[1, 0, 0], [-2.0, 1, 0], [4.0, 5.0, 1]]\n",
      "[[2, -1, 6], [0.0, 3.0, 9.0], [0.0, 0.0, -2.0]]\n",
      "[[2.0, -1.0, 6.0], [-4.0, 5.0, -3.0], [8.0, 11.0, 67.0]]\n"
     ]
    }
   ],
   "source": [
    "# Programmieraufgabe 1 b)\n",
    "from numpy import exceptions\n",
    "\n",
    "\n",
    "def lr(matrix):\n",
    "    n = len(matrix)\n",
    "    L = create_identity_matrix(n)\n",
    "    R = matrix\n",
    "    for i in range(0,n-1): # i Spalte\n",
    "        for j in range(i+1, n):  # j Zeile\n",
    "            div = R[j][i]/R[i][i]\n",
    "            R[j] = vector_add(R[j],vector_multiply(R[i], -div))\n",
    "            L[j][i] = div\n",
    "    return L,R\n",
    "\n",
    "def multiply(A,B):\n",
    "    C = []\n",
    "    try:\n",
    "        b_rows = len(B[0])\n",
    "    except:\n",
    "        b_rows = 1\n",
    "\n",
    "    for a_line in A:\n",
    "        c_line = []\n",
    "        for j in range(b_rows):\n",
    "            c_i = 0\n",
    "            for k, a in enumerate(a_line):\n",
    "                c_i += a*B[k][j]\n",
    "            c_line.append(c_i)\n",
    "        C.append(c_line)\n",
    "    return C\n",
    "\n",
    "L = [[1,0,0],[-2,1,0],[4,5,1]]\n",
    "R = [[2,-1,6],[0,3,9],[0,0,-2]]\n",
    "C = multiply(L,R)\n",
    "print(C)\n",
    "L,R = lr(C)\n",
    "print(L)\n",
    "print(R)\n",
    "C = multiply(L,R)\n",
    "print(C)"
   ]
  },
  {
   "cell_type": "code",
   "execution_count": 86,
   "metadata": {},
   "outputs": [
    {
     "name": "stdout",
     "output_type": "stream",
     "text": [
      "\n"
     ]
    },
    {
     "data": {
      "image/png": "[encoded data removed]",
      "text/plain": [
       "<Figure size 700x570 with 2 Axes>"
      ]
     },
     "metadata": {},
     "output_type": "display_data"
    }
   ],
   "source": [
    "# Programmieraufgabe 1 c)\n",
    "print()\n",
    "import numpy as np\n",
    "import matplotlib as mpl\n",
    "import matplotlib.pyplot as plt\n",
    "\n",
    "mpl.rcParams['xtick.direction'] = 'in'\n",
    "mpl.rcParams['ytick.direction'] = 'in'\n",
    "mpl.rcParams['xtick.top']       = True\n",
    "mpl.rcParams['ytick.right']     = True\n",
    "\n",
    "# --- erstes Teilfenster: y = sin(5x) und y = cos(5x) --\n",
    "plt.figure(figsize=(7,5.7))\n",
    "plt.subplot(2, 1, 1)              # 2 Zeilen, 1 Spalte, Plot 1\n",
    "x1 = np.linspace(0, 1, 500)\n",
    "plt.plot(x1, np.sin(5*x1), 'black', lw=0.7)        # sin(5x)\n",
    "plt.plot(x1, np.cos(5*x1), 'black', lw=0.7)        # cos(5x)\n",
    "plt.title(r'y=sin(5x) und y=cos(5x)', fontsize=8)\n",
    "plt.xlabel('x')\n",
    "plt.xlim(0, 1)\n",
    "labels = (0,0.1,0.2,0.3,0.4,0.5,0.6,0.7,0.8,0.9,1)\n",
    "plt.xticks(tuple(x*0.1 for x in range(0,11)), labels)    # 0,0.1,0.2,…,1.0\n",
    "plt.ylabel('y')\n",
    "plt.yticks(tuple(x for x in range(-2,4)))       # -2,-1,0,1,2\n",
    "plt.grid(True, linestyle=':')        # gestricheltes Gitter\n",
    "plt.ylim(-2,2)\n",
    "\n",
    "\n",
    "# --- zweites Teilfenster: y = sin(exp(x)) ---\n",
    "plt.subplot(2, 1, 2)              # 2 Zeilen, 1 Spalte, Plot 2\n",
    "x2 = np.linspace(-3, 3, 1000)\n",
    "plt.plot(x2, np.sin(np.exp(x2)), 'black', lw=0.7)\n",
    "plt.title(r'y=sin(exp(x))', fontsize=8)\n",
    "plt.xlabel('x')\n",
    "plt.xlim(-3,3)\n",
    "plt.xticks(tuple(x for x in range(-3,4)))       \n",
    "plt.ylabel('y')\n",
    "plt.ylim(-1.5, 1.5)                   \n",
    "labels = (-1.5,-1,-0.5,0,0.5,1,1.5)\n",
    "plt.yticks(tuple(x*0.1 for x in range(-15,16,5)), labels)   # \n",
    "plt.grid(False)\n",
    "\n",
    "plt.tight_layout()  # Zwischenräume anpassen\n",
    "plt.show()\n"
   ]
  }
 ],
 "metadata": {
  "kernelspec": {
   "display_name": ".venv",
   "language": "python",
   "name": "python3"
  },
  "language_info": {
   "codemirror_mode": {
    "name": "ipython",
    "version": 3
   },
   "file_extension": ".py",
   "mimetype": "text/x-python",
   "name": "python",
   "nbconvert_exporter": "python",
   "pygments_lexer": "ipython3",
   "version": "3.13.5"
  }
 },
 "nbformat": 4,
 "nbformat_minor": 2
}
