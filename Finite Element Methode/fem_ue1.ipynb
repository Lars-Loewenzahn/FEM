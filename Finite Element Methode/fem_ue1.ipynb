{
 "cells": [
  {
   "cell_type": "markdown",
   "metadata": {},
   "source": [
    "Diesen Programm stellt ein FEM einen graden Stabes dar, der entlag seiner Ausdehnung belastet wird.\n",
    "Der Stab hat dabei überall den gleichen Querschnitt und das gleiche E-Modul."
   ]
  },
  {
   "cell_type": "markdown",
   "metadata": {},
   "source": [
    "Für die Verarbeitung der Matrizien nutze ich numpy. Numpy ist eine Python Bibliothek die zum großen Teil in C geschrieben ist und somit die Rechnenleistung effiziernter nutzt. \n",
    "Bitte den Block zur installertion des Paketes nur ausführen, wenn noch keine Installation vorliegt. "
   ]
  },
  {
   "cell_type": "code",
   "execution_count": 53,
   "metadata": {},
   "outputs": [
    {
     "name": "stdout",
     "output_type": "stream",
     "text": [
      "Requirement already satisfied: numpy in c:\\users\\lars-\\appdata\\local\\programs\\python\\python312\\lib\\site-packages (1.26.4)\n",
      "Note: you may need to restart the kernel to use updated packages.\n"
     ]
    },
    {
     "name": "stderr",
     "output_type": "stream",
     "text": [
      "\n",
      "[notice] A new release of pip is available: 24.0 -> 24.3.1\n",
      "[notice] To update, run: python.exe -m pip install --upgrade pip\n"
     ]
    }
   ],
   "source": [
    "# pip install numpy\n"
   ]
  },
  {
   "cell_type": "code",
   "execution_count": 54,
   "metadata": {},
   "outputs": [],
   "source": [
    "import numpy as np"
   ]
  },
  {
   "cell_type": "markdown",
   "metadata": {},
   "source": [
    "Im Folgenden definiere ich die Parameter für die Aufgabenstellung. \n",
    "\n",
    "L    < >  Länge des Stabes.\n",
    "\n",
    "A    < >  Querschnittsfläche des Stabes.\n",
    "\n",
    "E    < >  Elastitizitätsmodul.\n",
    "\n",
    "n_e  < >  Anzahl des Elemente des Stabes. "
   ]
  },
  {
   "cell_type": "code",
   "execution_count": 55,
   "metadata": {},
   "outputs": [],
   "source": [
    "L = 1.0       \n",
    "A = 2.0       \n",
    "E = 200.0     \n",
    "n_e = 4"
   ]
  },
  {
   "cell_type": "markdown",
   "metadata": {},
   "source": [
    "Zwei weitere Parameter ergeben sich direkt aus den gegebenen Größen.\n",
    "\n",
    "n_k < > Anzahl der Knoten\n",
    "\n",
    "k_cors < > Koordinaten der Knoten\n"
   ]
  },
  {
   "cell_type": "code",
   "execution_count": 56,
   "metadata": {},
   "outputs": [],
   "source": [
    "n_k = n_e + 1\n",
    "k_cors = np.linspace(0, L, n_k)"
   ]
  },
  {
   "cell_type": "markdown",
   "metadata": {},
   "source": [
    "Nun stellen wir die Steifigkeitsmatrix auf.  \n",
    "$$ \n",
    "K  = \\frac{A \\cdot E}{ \\frac{L}{n_e}} \\begin{bmatrix}\n",
    "1 & -1 \\\\\n",
    "-1 & 1\n",
    "\\end{bmatrix}\n",
    "\n",
    "$$"
   ]
  },
  {
   "cell_type": "code",
   "execution_count": 57,
   "metadata": {},
   "outputs": [],
   "source": [
    "k_local = (A*E/(L/n_e)) * np.array([[1, -1], [-1, 1]])"
   ]
  },
  {
   "cell_type": "markdown",
   "metadata": {},
   "source": [
    "Die globale Steifigkeitsmatrix setzt sich aus den Steifigekeitsmatrizen der Knoten zusammen. \n",
    "Der ausdruck i:i+2 und i:i+2 ist daafür verantwortlich, dass sich die jeweiligen Matrizen auf einer Diagonalen in der allgeimnen Matrix wiederfinden. "
   ]
  },
  {
   "cell_type": "code",
   "execution_count": 58,
   "metadata": {},
   "outputs": [],
   "source": [
    "K = np.zeros((n_k, n_k))\n",
    "for i in range(n_e):\n",
    "    K[i:i+2, i:i+2] += k_local"
   ]
  },
  {
   "cell_type": "markdown",
   "metadata": {},
   "source": [
    "Nun gestalte ich einen Lastvektor.np.zero gibt dabei einen Voktor voller Nullen zurück. \n"
   ]
  },
  {
   "cell_type": "code",
   "execution_count": 59,
   "metadata": {},
   "outputs": [],
   "source": [
    "F = np.zeros(n_k)\n",
    "F[-1] = 10.0"
   ]
  },
  {
   "cell_type": "markdown",
   "metadata": {},
   "source": [
    "Nun legen wir die Anfangsbedingungen fest. "
   ]
  },
  {
   "cell_type": "code",
   "execution_count": 60,
   "metadata": {},
   "outputs": [],
   "source": [
    "K[0,:] = 0  # Erste Zeile wird gleich null gesetzt\n",
    "K[:,0] = 0  # Erste Spalte wird gleich null gesetzt\n",
    "K[0,0] = 1  # Erstes Element wird gleich eins gesetzt, somit bleibt matrix invertiertbar\n",
    "F[0] = 0    # Keine Kraft wirkt am ersten Knoten"
   ]
  },
  {
   "cell_type": "markdown",
   "metadata": {},
   "source": [
    "Bevor ich das Gleichungssystem löse, lasse ich die Matrix und den Vektor ausgeben."
   ]
  },
  {
   "cell_type": "code",
   "execution_count": 61,
   "metadata": {},
   "outputs": [
    {
     "name": "stdout",
     "output_type": "stream",
     "text": [
      "Globale Steifigkeitsmatrix K:\n",
      "[[ 1.0e+00  0.0e+00  0.0e+00  0.0e+00  0.0e+00]\n",
      " [ 0.0e+00  3.2e+03 -1.6e+03  0.0e+00  0.0e+00]\n",
      " [ 0.0e+00 -1.6e+03  3.2e+03 -1.6e+03  0.0e+00]\n",
      " [ 0.0e+00  0.0e+00 -1.6e+03  3.2e+03 -1.6e+03]\n",
      " [ 0.0e+00  0.0e+00  0.0e+00 -1.6e+03  1.6e+03]]\n",
      "\n",
      "Lastvektor F:\n",
      "[ 0.  0.  0.  0. 10.]\n"
     ]
    }
   ],
   "source": [
    "print(\"Globale Steifigkeitsmatrix K:\")\n",
    "print(K)\n",
    "print(\"\\nLastvektor F:\")\n",
    "print(F)"
   ]
  },
  {
   "cell_type": "markdown",
   "metadata": {},
   "source": [
    "Nun Lösen wir das Gleichungssystem und geben die Lösung aus.    "
   ]
  },
  {
   "cell_type": "code",
   "execution_count": 62,
   "metadata": {},
   "outputs": [
    {
     "name": "stdout",
     "output_type": "stream",
     "text": [
      "[0.      0.00625 0.0125  0.01875 0.025  ]\n"
     ]
    }
   ],
   "source": [
    "dis  = np.linalg.solve(K, F)\n",
    "print(dis)"
   ]
  },
  {
   "cell_type": "code",
   "execution_count": null,
   "metadata": {},
   "outputs": [],
   "source": []
  }
 ],
 "metadata": {
  "kernelspec": {
   "display_name": "Python 3",
   "language": "python",
   "name": "python3"
  },
  "language_info": {
   "codemirror_mode": {
    "name": "ipython",
    "version": 3
   },
   "file_extension": ".py",
   "mimetype": "text/x-python",
   "name": "python",
   "nbconvert_exporter": "python",
   "pygments_lexer": "ipython3",
   "version": "3.12.2"
  }
 },
 "nbformat": 4,
 "nbformat_minor": 2
}
