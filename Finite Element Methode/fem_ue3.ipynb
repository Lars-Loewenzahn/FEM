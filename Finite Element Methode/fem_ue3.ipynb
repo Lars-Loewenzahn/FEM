{
 "cells": [
  {
   "cell_type": "markdown",
   "metadata": {},
   "source": [
    "Für dieses Script brauchen wir die Matplotlib und Numpy. Falls diese noch nicht installiert sind, hole dies nach."
   ]
  },
  {
   "cell_type": "code",
   "execution_count": 60,
   "metadata": {},
   "outputs": [],
   "source": [
    "# pip install numpy\n",
    "# pip install matplotlib"
   ]
  },
  {
   "cell_type": "code",
   "execution_count": 61,
   "metadata": {},
   "outputs": [],
   "source": [
    "import numpy as np\n",
    "import matplotlib.pyplot as plt"
   ]
  },
  {
   "cell_type": "markdown",
   "metadata": {},
   "source": [
    "In diesem Script wollen wir die Verformung eines Netzes in 2 Dimensionen mit homogenen Eigenschaften brechnen. Daher legen wir zunächst die Parameter fest.\n"
   ]
  },
  {
   "cell_type": "code",
   "execution_count": 62,
   "metadata": {},
   "outputs": [],
   "source": [
    "Lx = 1.0   # Länge in x-Richtung\n",
    "Ly = 1.0   # Länge in y-Richtung\n",
    "nx = 10     # Anzahl der Elemente in x-Richtung\n",
    "ny = 10    # Anzahl der Elemente in y-Richtung\n",
    "E = 100.0  # Elastizitätsmodul\n",
    "A = 1.0    # Querschnittsfläche\n"
   ]
  },
  {
   "cell_type": "markdown",
   "metadata": {},
   "source": [
    "Einige Parameter ergeben sich logisch aus den gegenbenen Parametern"
   ]
  },
  {
   "cell_type": "code",
   "execution_count": 63,
   "metadata": {},
   "outputs": [],
   "source": [
    "n_nodes_x = nx + 1\n",
    "n_nodes_y = ny + 1\n",
    "n_nodes = n_nodes_x * n_nodes_y\n",
    "\n",
    "x_coords = np.linspace(0, Lx, n_nodes_x)\n",
    "y_coords = np.linspace(0, Ly, n_nodes_y)"
   ]
  },
  {
   "cell_type": "markdown",
   "metadata": {},
   "source": [
    "So auf die Koordinaten der Knoten."
   ]
  },
  {
   "cell_type": "code",
   "execution_count": 64,
   "metadata": {},
   "outputs": [],
   "source": [
    "nodes = []\n",
    "for j in range(n_nodes_y):\n",
    "    for i in range(n_nodes_x):\n",
    "        nodes.append((x_coords[i], y_coords[j]))\n",
    "nodes = np.array(nodes)\n"
   ]
  },
  {
   "cell_type": "markdown",
   "metadata": {},
   "source": [
    "Nun erfolgt die Zuordnung der Elemente.\n",
    "Die Fläche wird hierbei in Quadratische Elemente unterteilt und deren Flächendehnung und Scherungbeanspruchung berechnent. "
   ]
  },
  {
   "cell_type": "code",
   "execution_count": 65,
   "metadata": {},
   "outputs": [],
   "source": [
    "elements = []\n",
    "for j in range(ny):\n",
    "    for i in range(nx):\n",
    "        n1 = j * n_nodes_x + i\n",
    "        n2 = n1 + 1\n",
    "        n3 = n1 + n_nodes_x\n",
    "        n4 = n3 + 1\n",
    "        elements.append([n1, n2, n4, n3])\n",
    "elements = np.array(elements)"
   ]
  },
  {
   "cell_type": "code",
   "execution_count": 66,
   "metadata": {},
   "outputs": [
    {
     "data": {
      "image/png": "[encoded data removed]",
      "text/plain": [
       "<Figure size 640x480 with 1 Axes>"
      ]
     },
     "metadata": {},
     "output_type": "display_data"
    }
   ],
   "source": [
    "# Plot der Netzstruktur zur Kontrolle\n",
    "fig, ax = plt.subplots()\n",
    "for element in elements:\n",
    "    x = [nodes[element[i]][0] for i in range(4)] + [nodes[element[0]][0]]\n",
    "    y = [nodes[element[i]][1] for i in range(4)] + [nodes[element[0]][1]]\n",
    "    ax.plot(x, y, 'b')\n",
    "\n",
    "ax.set_aspect('equal')\n",
    "plt.xlabel('x')\n",
    "plt.ylabel('y')\n",
    "plt.title('2D Finite Elemente Netz')\n",
    "plt.show()"
   ]
  }
 ],
 "metadata": {
  "kernelspec": {
   "display_name": "Python 3",
   "language": "python",
   "name": "python3"
  },
  "language_info": {
   "codemirror_mode": {
    "name": "ipython",
    "version": 3
   },
   "file_extension": ".py",
   "mimetype": "text/x-python",
   "name": "python",
   "nbconvert_exporter": "python",
   "pygments_lexer": "ipython3",
   "version": "3.12.2"
  }
 },
 "nbformat": 4,
 "nbformat_minor": 2
}
